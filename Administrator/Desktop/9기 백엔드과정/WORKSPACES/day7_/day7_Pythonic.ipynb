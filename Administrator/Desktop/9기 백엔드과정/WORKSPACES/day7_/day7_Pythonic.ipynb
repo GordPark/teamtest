{
 "cells": [
  {
   "attachments": {},
   "cell_type": "markdown",
   "metadata": {},
   "source": [
    "# import this를 실행하면 Zen of Python을 볼 수 있습니다. \n",
    "# 명확함이 애매함보다 낫다\n"
   ]
  },
  {
   "cell_type": "code",
   "execution_count": 1,
   "metadata": {},
   "outputs": [],
   "source": [
    "# 명확한 변수명 사용\n",
    "dt = 10\n",
    "days_to_complete = 10"
   ]
  },
  {
   "cell_type": "code",
   "execution_count": 2,
   "metadata": {},
   "outputs": [],
   "source": [
    "# 함수 이름으로 기능 명시\n",
    "def process(data):\n",
    "    pass\n",
    "\n",
    "def remove_duplicated_records(data):\n",
    "    pass"
   ]
  },
  {
   "cell_type": "code",
   "execution_count": 3,
   "metadata": {},
   "outputs": [],
   "source": [
    "# 조건문 간소화\n",
    "status = True\n",
    "if status == True:\n",
    "    pass\n",
    "\n",
    "if status:\n",
    "    pass"
   ]
  },
  {
   "attachments": {},
   "cell_type": "markdown",
   "metadata": {},
   "source": [
    "# 단순함이 복잡함보다 낫다"
   ]
  },
  {
   "cell_type": "code",
   "execution_count": 5,
   "metadata": {},
   "outputs": [],
   "source": [
    "# 리스트 컴프리헨션 사용\n",
    "result = []\n",
    "for i in range(10):\n",
    "    if i%2==0:\n",
    "        result.append(i*i)\n",
    "\n",
    "result = [i*i for i in range(10) if i%2==0]"
   ]
  },
  {
   "cell_type": "code",
   "execution_count": 8,
   "metadata": {},
   "outputs": [],
   "source": [
    "# 함수 분리\n",
    "def process_data(data):\n",
    "    # 데이터 전처리\n",
    "    # 데이터 처리\n",
    "    # 결과\n",
    "    pass\n",
    "\n",
    "# 데이터 전처리\n",
    "def preprocess_data(data):\n",
    "    pass\n",
    "# 데이터 처리\n",
    "def process_data(data):\n",
    "    pass"
   ]
  },
  {
   "cell_type": "code",
   "execution_count": 15,
   "metadata": {},
   "outputs": [],
   "source": [
    "# 내장 함수 사용 \n",
    "# case 1 보다 case 2가 훨씬 빠르다\n",
    "nums = [i for i in range(10000)]\n",
    "\n",
    "\n",
    "\n"
   ]
  },
  {
   "cell_type": "code",
   "execution_count": 16,
   "metadata": {},
   "outputs": [
    {
     "name": "stdout",
     "output_type": "stream",
     "text": [
      "CPU times: total: 0 ns\n",
      "Wall time: 0 ns\n"
     ]
    }
   ],
   "source": [
    "## case1\n",
    "%time\n",
    "total = 0\n",
    "for num in nums:\n",
    "    total += num\n",
    "average = total / len(nums)"
   ]
  },
  {
   "cell_type": "code",
   "execution_count": 17,
   "metadata": {},
   "outputs": [
    {
     "name": "stdout",
     "output_type": "stream",
     "text": [
      "CPU times: total: 0 ns\n",
      "Wall time: 0 ns\n"
     ]
    }
   ],
   "source": [
    "## case2\n",
    "%time\n",
    "average = sum(nums) / len(nums)"
   ]
  },
  {
   "cell_type": "code",
   "execution_count": 18,
   "metadata": {},
   "outputs": [],
   "source": [
    "# 조건문 간소화\n",
    "status = \"success\"\n",
    "\n",
    "if status == \"success\" or status == \"complete\" or status == \"finished\":\n",
    "    pass\n",
    "\n",
    "if status in [\"success\", \"complete\", \"finished\"]:\n",
    "    pass\n",
    "\n",
    "\n",
    "\n"
   ]
  },
  {
   "cell_type": "code",
   "execution_count": 19,
   "metadata": {},
   "outputs": [
    {
     "ename": "NameError",
     "evalue": "name 'some_function' is not defined",
     "output_type": "error",
     "traceback": [
      "\u001b[1;31m---------------------------------------------------------------------------\u001b[0m",
      "\u001b[1;31mNameError\u001b[0m                                 Traceback (most recent call last)",
      "Cell \u001b[1;32mIn[19], line 2\u001b[0m\n\u001b[0;32m      1\u001b[0m \u001b[39m# 적절한 줄바꿈과 들여쓰기\u001b[39;00m\n\u001b[1;32m----> 2\u001b[0m result \u001b[39m=\u001b[39m some_function(param1, param2, param3, param4, param5)\n\u001b[0;32m      4\u001b[0m result \u001b[39m=\u001b[39m some_function(\n\u001b[0;32m      5\u001b[0m     param1,\n\u001b[0;32m      6\u001b[0m     param2,\n\u001b[1;32m   (...)\u001b[0m\n\u001b[0;32m      9\u001b[0m     param5\n\u001b[0;32m     10\u001b[0m )\n",
      "\u001b[1;31mNameError\u001b[0m: name 'some_function' is not defined"
     ]
    }
   ],
   "source": [
    "# 적절한 줄바꿈과 들여쓰기\n",
    "result = some_function(param1, param2, param3, param4, param5)\n",
    "\n",
    "result = some_function(\n",
    "    param1,\n",
    "    param2,\n",
    "    param3,\n",
    "    param4,\n",
    "    param5\n",
    ")"
   ]
  },
  {
   "cell_type": "code",
   "execution_count": 20,
   "metadata": {},
   "outputs": [
    {
     "ename": "NameError",
     "evalue": "name 'current_time' is not defined",
     "output_type": "error",
     "traceback": [
      "\u001b[1;31m---------------------------------------------------------------------------\u001b[0m",
      "\u001b[1;31mNameError\u001b[0m                                 Traceback (most recent call last)",
      "Cell \u001b[1;32mIn[20], line 3\u001b[0m\n\u001b[0;32m      1\u001b[0m \u001b[39m# 의미 있는 주석 추가\u001b[39;00m\n\u001b[0;32m      2\u001b[0m \u001b[39m# 현재 시간에서 일주일을 더한다.\u001b[39;00m\n\u001b[1;32m----> 3\u001b[0m next_week \u001b[39m=\u001b[39m current_time \u001b[39m+\u001b[39m week_time\n",
      "\u001b[1;31mNameError\u001b[0m: name 'current_time' is not defined"
     ]
    }
   ],
   "source": [
    "# 의미 있는 주석 추가\n",
    "# 현재 시간에서 일주일을 더한다.\n",
    "next_week = current_time + week_time"
   ]
  },
  {
   "cell_type": "code",
   "execution_count": 21,
   "metadata": {},
   "outputs": [
    {
     "ename": "NameError",
     "evalue": "name 'data' is not defined",
     "output_type": "error",
     "traceback": [
      "\u001b[1;31m---------------------------------------------------------------------------\u001b[0m",
      "\u001b[1;31mNameError\u001b[0m                                 Traceback (most recent call last)",
      "Cell \u001b[1;32mIn[21], line 2\u001b[0m\n\u001b[0;32m      1\u001b[0m \u001b[39m# 함수와 변수의 적절한 분리\u001b[39;00m\n\u001b[1;32m----> 2\u001b[0m \u001b[39mprint\u001b[39m(\u001b[39m\"\u001b[39m\u001b[39mResult : \u001b[39m\u001b[39m\"\u001b[39m, process_data(data))\n\u001b[0;32m      4\u001b[0m result \u001b[39m=\u001b[39m process_data(data)\n\u001b[0;32m      5\u001b[0m \u001b[39mprint\u001b[39m(\u001b[39m\"\u001b[39m\u001b[39mResult: \u001b[39m\u001b[39m\"\u001b[39m, result)\n",
      "\u001b[1;31mNameError\u001b[0m: name 'data' is not defined"
     ]
    }
   ],
   "source": [
    "# 함수와 변수의 적절한 분리\n",
    "print(\"Result : \", process_data(data))\n",
    "\n",
    "result = process_data(data)\n",
    "print(\"Result: \", result)\n"
   ]
  },
  {
   "cell_type": "code",
   "execution_count": 22,
   "metadata": {},
   "outputs": [],
   "source": [
    "# 적절한 변수명 사용"
   ]
  },
  {
   "cell_type": "code",
   "execution_count": 25,
   "metadata": {},
   "outputs": [],
   "source": [
    "# 중첩 제한하기\n",
    "items = [(i, i*3) for i in range(10)]"
   ]
  },
  {
   "cell_type": "code",
   "execution_count": 27,
   "metadata": {},
   "outputs": [],
   "source": [
    "for item in items:\n",
    "    if item:\n",
    "        for value in item:\n",
    "            pass"
   ]
  },
  {
   "cell_type": "code",
   "execution_count": 28,
   "metadata": {},
   "outputs": [],
   "source": [
    "# 오류는 결코 조용히 지나가지 않아야 한다\n",
    "def process_data(data):\n",
    "    return int(data)"
   ]
  },
  {
   "cell_type": "code",
   "execution_count": 29,
   "metadata": {},
   "outputs": [
    {
     "name": "stdout",
     "output_type": "stream",
     "text": [
      "ValueError: invalid literal for int() with base 10: '일이삼'\n"
     ]
    }
   ],
   "source": [
    "data = \"일이삼\"\n",
    "try:\n",
    "    process_data(data)\n",
    "except ValueError as e:\n",
    "    print(f\"ValueError: {e}\")\n",
    "except Exception as e:\n",
    "    print(f\"Unexpected error : {e}\")\n",
    "    raise"
   ]
  },
  {
   "attachments": {},
   "cell_type": "markdown",
   "metadata": {},
   "source": [
    "# 명시적인 것이 암시적인 것보다 낫다"
   ]
  },
  {
   "cell_type": "code",
   "execution_count": 30,
   "metadata": {},
   "outputs": [
    {
     "name": "stdout",
     "output_type": "stream",
     "text": [
      "2.0\n"
     ]
    }
   ],
   "source": [
    "from math import *\n",
    "print(sqrt(4))"
   ]
  },
  {
   "cell_type": "code",
   "execution_count": 31,
   "metadata": {},
   "outputs": [
    {
     "name": "stdout",
     "output_type": "stream",
     "text": [
      "2.0\n"
     ]
    }
   ],
   "source": [
    "from math import sqrt\n",
    "print(sqrt(4))"
   ]
  },
  {
   "cell_type": "code",
   "execution_count": 32,
   "metadata": {},
   "outputs": [],
   "source": [
    "def make_request(url, timeout=5):\n",
    "    pass\n",
    "\n",
    "make_request(\"http://example.com\", 10)\n",
    "make_request(url = \"http://example.com\", timeout = 10)"
   ]
  },
  {
   "cell_type": "code",
   "execution_count": 33,
   "metadata": {},
   "outputs": [],
   "source": [
    "def get_position():\n",
    "    return 100, 200"
   ]
  },
  {
   "cell_type": "code",
   "execution_count": 34,
   "metadata": {},
   "outputs": [
    {
     "data": {
      "text/plain": [
       "(100, 200)"
      ]
     },
     "execution_count": 34,
     "metadata": {},
     "output_type": "execute_result"
    }
   ],
   "source": [
    "x, y = get_position()\n",
    "x, y"
   ]
  },
  {
   "cell_type": "code",
   "execution_count": 35,
   "metadata": {},
   "outputs": [
    {
     "data": {
      "text/plain": [
       "(100, 200)"
      ]
     },
     "execution_count": 35,
     "metadata": {},
     "output_type": "execute_result"
    }
   ],
   "source": [
    "position = get_position()\n",
    "x = position[0]\n",
    "y = position[1]\n",
    "x,y"
   ]
  },
  {
   "attachments": {},
   "cell_type": "markdown",
   "metadata": {},
   "source": [
    "# 실용성은 순수성보다 중요하다"
   ]
  },
  {
   "cell_type": "code",
   "execution_count": 38,
   "metadata": {},
   "outputs": [
    {
     "data": {
      "text/plain": [
       "[0, 4, 16, 36, 64]"
      ]
     },
     "execution_count": 38,
     "metadata": {},
     "output_type": "execute_result"
    }
   ],
   "source": [
    "result = list(map(lambda x : x**2, filter(lambda x : x%2==0, range(10))))\n",
    "result"
   ]
  },
  {
   "cell_type": "code",
   "execution_count": 39,
   "metadata": {},
   "outputs": [],
   "source": [
    "result = [x**2 for x in range(10) if x%2==0]"
   ]
  },
  {
   "cell_type": "code",
   "execution_count": 40,
   "metadata": {},
   "outputs": [],
   "source": [
    "# 성능을 위한 실용적 최적화\n",
    "# 소수문제  시간 case1 == 1.35  case2 30.5\n",
    "# case1\n",
    "def is_prime(n):\n",
    "    return n>1 and all(n%i for i in range(2,n))\n",
    "# case2\n",
    "def is_prime(n):\n",
    "    if n <= 1:\n",
    "        return False\n",
    "    for i in range(2, int(n**0.5)):\n",
    "        if n%i == 0:\n",
    "            return False\n",
    "    return True"
   ]
  },
  {
   "cell_type": "code",
   "execution_count": 41,
   "metadata": {},
   "outputs": [
    {
     "name": "stdout",
     "output_type": "stream",
     "text": [
      "CPU times: total: 0 ns\n",
      "Wall time: 0 ns\n"
     ]
    },
    {
     "data": {
      "text/plain": [
       "True"
      ]
     },
     "execution_count": 41,
     "metadata": {},
     "output_type": "execute_result"
    }
   ],
   "source": [
    "%%time\n",
    "is_prime(10007)"
   ]
  },
  {
   "cell_type": "code",
   "execution_count": 42,
   "metadata": {},
   "outputs": [],
   "source": [
    "# 유지보수를 위한 실용적 구곶\n",
    "class Animal:pass\n",
    "class Dog(Animal):pass\n",
    "\n",
    "def make_sound(animal_type):\n",
    "    sounds = {\"dog\":\"bark\", \"cat\":\"meow\"}\n",
    "    return sounds.get(animal_type, \"unknown\")"
   ]
  },
  {
   "attachments": {},
   "cell_type": "markdown",
   "metadata": {},
   "source": [
    "# 일관성은 중요하다"
   ]
  },
  {
   "cell_type": "code",
   "execution_count": 43,
   "metadata": {},
   "outputs": [],
   "source": [
    "# 네이밍 컨벤션 일관성\n",
    "class MyClass:\n",
    "    pass\n",
    "\n",
    "def my_function():\n",
    "    pass"
   ]
  },
  {
   "cell_type": "code",
   "execution_count": 44,
   "metadata": {},
   "outputs": [
    {
     "ename": "ModuleNotFoundError",
     "evalue": "No module named 'requests'",
     "output_type": "error",
     "traceback": [
      "\u001b[1;31m---------------------------------------------------------------------------\u001b[0m",
      "\u001b[1;31mModuleNotFoundError\u001b[0m                       Traceback (most recent call last)",
      "Cell \u001b[1;32mIn[44], line 1\u001b[0m\n\u001b[1;32m----> 1\u001b[0m \u001b[39mimport\u001b[39;00m \u001b[39mrequests\u001b[39;00m\n\u001b[0;32m      2\u001b[0m url \u001b[39m=\u001b[39m \u001b[39m'\u001b[39m\u001b[39mhttps://www.dhlottery.co.kr/common.do?method=getLottoNumber&drwNo=100\u001b[39m\u001b[39m'\u001b[39m\n",
      "\u001b[1;31mModuleNotFoundError\u001b[0m: No module named 'requests'"
     ]
    }
   ],
   "source": [
    "import requests\n",
    "url = 'https://www.dhlottery.co.kr/common.do?method=getLottoNumber&drwNo=100'"
   ]
  },
  {
   "cell_type": "code",
   "execution_count": 45,
   "metadata": {},
   "outputs": [
    {
     "ename": "NameError",
     "evalue": "name 'requests' is not defined",
     "output_type": "error",
     "traceback": [
      "\u001b[1;31m---------------------------------------------------------------------------\u001b[0m",
      "\u001b[1;31mNameError\u001b[0m                                 Traceback (most recent call last)",
      "Cell \u001b[1;32mIn[45], line 1\u001b[0m\n\u001b[1;32m----> 1\u001b[0m response \u001b[39m=\u001b[39m requests\u001b[39m.\u001b[39mget(url)\n\u001b[0;32m      2\u001b[0m response\n",
      "\u001b[1;31mNameError\u001b[0m: name 'requests' is not defined"
     ]
    }
   ],
   "source": [
    "response = requests.get(url)\n",
    "response"
   ]
  },
  {
   "cell_type": "code",
   "execution_count": 46,
   "metadata": {},
   "outputs": [
    {
     "ename": "NameError",
     "evalue": "name 'response' is not defined",
     "output_type": "error",
     "traceback": [
      "\u001b[1;31m---------------------------------------------------------------------------\u001b[0m",
      "\u001b[1;31mNameError\u001b[0m                                 Traceback (most recent call last)",
      "Cell \u001b[1;32mIn[46], line 1\u001b[0m\n\u001b[1;32m----> 1\u001b[0m output \u001b[39m=\u001b[39m response\u001b[39m.\u001b[39mjson()\n",
      "\u001b[1;31mNameError\u001b[0m: name 'response' is not defined"
     ]
    }
   ],
   "source": [
    "output = response.json()"
   ]
  },
  {
   "attachments": {},
   "cell_type": "markdown",
   "metadata": {},
   "source": [
    "- 특정 회차 정보를 가져오려면 어떻게 해야 되나? -> 함수\n",
    "- 그 회차의 당첨번호, 보너스 번호는 몇번인가? -> 함수\n",
    "- 파이써닉한 코드에 대해 고민해보기"
   ]
  },
  {
   "cell_type": "code",
   "execution_count": 47,
   "metadata": {},
   "outputs": [],
   "source": [
    "def get_lotto_draw_info(self):\n",
    "    pass\n",
    "def lotto_round_indo(self, val, bonus_val):\n",
    "    pass\n"
   ]
  },
  {
   "cell_type": "code",
   "execution_count": 48,
   "metadata": {},
   "outputs": [
    {
     "name": "stdout",
     "output_type": "stream",
     "text": [
      "Log: Processing some data\n"
     ]
    }
   ],
   "source": [
    "class LoggerMixin:\n",
    "    def log(self, message):\n",
    "        print(f\"Log: {message}\")\n",
    "\n",
    "class DataProcessor(LoggerMixin):\n",
    "    def process(self, data):\n",
    "        self.log(f\"Processing {data}\")\n",
    "\n",
    "processor = DataProcessor()\n",
    "processor.process(\"some data\")"
   ]
  },
  {
   "cell_type": "code",
   "execution_count": 49,
   "metadata": {},
   "outputs": [
    {
     "name": "stdout",
     "output_type": "stream",
     "text": [
      "Student(name='Alice', age='1', major='Computer Science')\n"
     ]
    }
   ],
   "source": [
    "from dataclasses import dataclass\n",
    "\n",
    "@dataclass\n",
    "class Student:\n",
    "    name: str\n",
    "    age: int\n",
    "    major: str\n",
    "\n",
    "student1 = Student(\"Alice\", \"1\", \"Computer Science\")\n",
    "print(student1)"
   ]
  },
  {
   "cell_type": "code",
   "execution_count": 50,
   "metadata": {},
   "outputs": [
    {
     "name": "stdout",
     "output_type": "stream",
     "text": [
      "StudentCourses(name='Bob', courses=['Math', 'Physics'])\n"
     ]
    }
   ],
   "source": [
    "from dataclasses import dataclass, field\n",
    "\n",
    "@dataclass\n",
    "class StudentCourses:\n",
    "    name: str\n",
    "    courses: list = field(default_factory=list)\n",
    "\n",
    "student2 = StudentCourses(\"Bob\")\n",
    "student2.courses.append(\"Math\")\n",
    "student2.courses.append(\"Physics\")\n",
    "print(student2)"
   ]
  },
  {
   "cell_type": "code",
   "execution_count": null,
   "metadata": {},
   "outputs": [],
   "source": []
  }
 ],
 "metadata": {
  "kernelspec": {
   "display_name": "Python 3",
   "language": "python",
   "name": "python3"
  },
  "language_info": {
   "codemirror_mode": {
    "name": "ipython",
    "version": 3
   },
   "file_extension": ".py",
   "mimetype": "text/x-python",
   "name": "python",
   "nbconvert_exporter": "python",
   "pygments_lexer": "ipython3",
   "version": "3.10.13"
  },
  "orig_nbformat": 4
 },
 "nbformat": 4,
 "nbformat_minor": 2
}
