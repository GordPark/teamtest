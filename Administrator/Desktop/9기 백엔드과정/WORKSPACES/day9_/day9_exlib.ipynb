{
 "cells": [
  {
   "attachments": {},
   "cell_type": "markdown",
   "metadata": {},
   "source": [
    "# collections"
   ]
  },
  {
   "cell_type": "code",
   "execution_count": 1,
   "metadata": {},
   "outputs": [],
   "source": [
    "# 문자열에서 각 문자의 등장 횟수를 세고, 가장 많이 등장하는 문자 3개와 그 횟수를 출력하세요. (Counter 사용)"
   ]
  },
  {
   "cell_type": "code",
   "execution_count": null,
   "metadata": {},
   "outputs": [],
   "source": [
    "# 주어진 단어 리스트에서 접두사에 따라 단어를 그룹화하고, 각 접두사별 단어 리스트를 출력하세요. (defaultdict 사용)"
   ]
  },
  {
   "attachments": {},
   "cell_type": "markdown",
   "metadata": {},
   "source": [
    "# process"
   ]
  },
  {
   "cell_type": "code",
   "execution_count": null,
   "metadata": {},
   "outputs": [],
   "source": [
    "# 숫자 리스트의 각 숫자에 대해 제곱을 계산하고 결과를 출력하는 프로그램을 multiprocessing을 사용하여 병렬화하세요."
   ]
  },
  {
   "attachments": {},
   "cell_type": "markdown",
   "metadata": {},
   "source": [
    "# pickle"
   ]
  },
  {
   "cell_type": "code",
   "execution_count": null,
   "metadata": {},
   "outputs": [],
   "source": [
    "# 사용자의 프로필 정보(이름, 나이, 이메일)를 담은 딕셔너리를 pickle을 사용하여 파일에 저장하고, \n",
    "# 다시 로드하는 프로그램을 작성하세요."
   ]
  },
  {
   "cell_type": "code",
   "execution_count": null,
   "metadata": {},
   "outputs": [],
   "source": [
    "# 여러 개의 사용자 정보를 담은 리스트를 pickle로 파일에 저장하고, 파일에서 로드한 후, \n",
    "# 특정 조건(예: 나이가 30 이상인 사용자)에 맞는 사용자만 필터링하는 프로그램을 작성하세요"
   ]
  },
  {
   "attachments": {},
   "cell_type": "markdown",
   "metadata": {},
   "source": []
  }
 ],
 "metadata": {
  "kernelspec": {
   "display_name": "Python 3",
   "language": "python",
   "name": "python3"
  },
  "language_info": {
   "codemirror_mode": {
    "name": "ipython",
    "version": 3
   },
   "file_extension": ".py",
   "mimetype": "text/x-python",
   "name": "python",
   "nbconvert_exporter": "python",
   "pygments_lexer": "ipython3",
   "version": "3.10.13"
  },
  "orig_nbformat": 4
 },
 "nbformat": 4,
 "nbformat_minor": 2
}
