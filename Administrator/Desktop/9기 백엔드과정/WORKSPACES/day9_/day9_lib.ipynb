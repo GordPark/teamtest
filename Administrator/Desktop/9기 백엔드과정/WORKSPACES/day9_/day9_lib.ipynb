{
 "cells": [
  {
   "cell_type": "code",
   "execution_count": 1,
   "metadata": {},
   "outputs": [
    {
     "name": "stdout",
     "output_type": "stream",
     "text": [
      "11 22\n"
     ]
    }
   ],
   "source": [
    "# namedtuple: 이름이 지정된 필드를 가진 튜플을 생성할 때 사용됩니다.\n",
    "from collections import namedtuple\n",
    "Point = namedtuple('Point', ['x', 'y'])\n",
    "p = Point(11, 22)\n",
    "print(p.x, p.y)"
   ]
  },
  {
   "cell_type": "code",
   "execution_count": 3,
   "metadata": {},
   "outputs": [
    {
     "name": "stdout",
     "output_type": "stream",
     "text": [
      "John Doe\n",
      "30\n",
      "Sales\n",
      "{'name': 'John Doe', 'age': 30, 'department': 'Sales'}\n"
     ]
    }
   ],
   "source": [
    "from collections import namedtuple\n",
    "\n",
    "# Employee namedtuple 생성\n",
    "Employee = namedtuple('Employee', ['name', 'age', 'department'])\n",
    "\n",
    "# Employee 객체 생성\n",
    "employee = Employee('John Doe', 30, 'Sales')\n",
    "\n",
    "# 속성 접근\n",
    "print(employee.name)  # John Doe 출력\n",
    "print(employee.age)  # 30 출력\n",
    "print(employee.department)  # Sales 출력\n",
    "\n",
    "# 딕셔너리처럼 사용\n",
    "print(employee._asdict())  # {'name': 'John Doe', 'age': 30, 'department': 'Sales'} 출력\n"
   ]
  },
  {
   "cell_type": "code",
   "execution_count": 4,
   "metadata": {},
   "outputs": [
    {
     "name": "stdout",
     "output_type": "stream",
     "text": [
      "The Hitchhiker's Guide to the Galaxy\n",
      "Book(title=\"The Hitchhiker's Guide to the Galaxy\", author='Douglas Adams', genre='Science Fiction')\n",
      "Book(title='The Lord of the Rings', author='J. R. R. Tolkien', genre='Fantasy')\n",
      "Book(title='Pride and Prejudice', author='Jane Austen', genre='Romance')\n"
     ]
    }
   ],
   "source": [
    "from collections import namedtuple\n",
    "\n",
    "# Book namedtuple 생성\n",
    "Book = namedtuple('Book', ['title', 'author', 'genre'])\n",
    "\n",
    "# Book 객체 리스트 생성\n",
    "books = [\n",
    "    Book('The Hitchhiker\\'s Guide to the Galaxy', 'Douglas Adams', 'Science Fiction'),\n",
    "    Book('The Lord of the Rings', 'J. R. R. Tolkien', 'Fantasy'),\n",
    "    Book('Pride and Prejudice', 'Jane Austen', 'Romance')\n",
    "]\n",
    "\n",
    "# 특정 장르의 책 찾기\n",
    "for book in books:\n",
    "    if book.genre == 'Science Fiction':\n",
    "        print(book.title)  # The Hitchhiker's Guide to the Galaxy 출력\n",
    "\n",
    "# 책 정렬\n",
    "sorted_books = sorted(books, key=lambda book: book.author)\n",
    "\n",
    "# 정렬된 책 출력\n",
    "for book in sorted_books:\n",
    "    print(book)\n"
   ]
  },
  {
   "cell_type": "code",
   "execution_count": 7,
   "metadata": {},
   "outputs": [
    {
     "name": "stdout",
     "output_type": "stream",
     "text": [
      "Handling task1\n"
     ]
    }
   ],
   "source": [
    "# deque: 양쪽 끝에서 빠르게 추가 및 제거가 가능한 리스트형 컨테이너입니다.\n",
    "from collections import deque\n",
    "d = deque([\"task1\", \"task2\", \"task3\"])\n",
    "d.append(\"task4\")\n",
    "print(\"Handling\", d.popleft())"
   ]
  },
  {
   "cell_type": "code",
   "execution_count": null,
   "metadata": {},
   "outputs": [],
   "source": []
  },
  {
   "cell_type": "code",
   "execution_count": 14,
   "metadata": {},
   "outputs": [
    {
     "name": "stdout",
     "output_type": "stream",
     "text": [
      "CPU times: total: 172 ms\n",
      "Wall time: 160 ms\n"
     ]
    }
   ],
   "source": [
    "%%time\n",
    "d = deque([i for i in range(1000000)])\n",
    "for _ in range(100000):\n",
    "    d.pop()"
   ]
  },
  {
   "cell_type": "code",
   "execution_count": 15,
   "metadata": {},
   "outputs": [
    {
     "name": "stdout",
     "output_type": "stream",
     "text": [
      "CPU times: total: 125 ms\n",
      "Wall time: 127 ms\n"
     ]
    }
   ],
   "source": [
    "%%time\n",
    "l = [i for i in range(1000000)]\n",
    "for _ in range(100000):\n",
    "    l.pop()"
   ]
  },
  {
   "cell_type": "code",
   "execution_count": null,
   "metadata": {},
   "outputs": [],
   "source": []
  },
  {
   "attachments": {},
   "cell_type": "markdown",
   "metadata": {},
   "source": [
    "# process"
   ]
  },
  {
   "cell_type": "code",
   "execution_count": 17,
   "metadata": {},
   "outputs": [
    {
     "name": "stderr",
     "output_type": "stream",
     "text": [
      "'scpu'��(��) ���� �Ǵ� �ܺ� ����, ������ �� �ִ� ���α׷�, �Ǵ�\n",
      "��ġ ������ �ƴմϴ�.\n"
     ]
    }
   ],
   "source": [
    "!scpu"
   ]
  },
  {
   "cell_type": "code",
   "execution_count": 20,
   "metadata": {},
   "outputs": [],
   "source": [
    "# 1. 기본 프로세스 생성 및 실행\n",
    "from multiprocessing import Process\n",
    "\n",
    "def process_function():\n",
    "    print(\"프로세스 실행 중\")\n",
    "\n",
    "if __name__ == '__main__':\n",
    "    process = Process(target=process_function)\n",
    "    process.start()\n",
    "    process.join()  # 프로세스가 종료될 때까지 기다림"
   ]
  },
  {
   "cell_type": "code",
   "execution_count": 22,
   "metadata": {},
   "outputs": [],
   "source": [
    "# 2. 여러 프로세스 사용\n",
    "from multiprocessing import Process\n",
    "\n",
    "def work(id):\n",
    "    print(f\"Process {id} working...\")\n",
    "\n",
    "if __name__ == '__main__':\n",
    "    processes = [Process(target=work, args=(i,)) for i in range(5)]\n",
    "\n",
    "    for p in processes:\n",
    "        p.start()\n",
    "\n",
    "    for p in processes:\n",
    "        p.join()"
   ]
  },
  {
   "cell_type": "code",
   "execution_count": 23,
   "metadata": {},
   "outputs": [
    {
     "name": "stdout",
     "output_type": "stream",
     "text": [
      "Number: 0\n",
      "Array: [0, 1, 2, 3, 4]\n"
     ]
    }
   ],
   "source": [
    "# 3. 데이터 공유 (Value, Array 사용)\n",
    "from multiprocessing import Process, Value, Array\n",
    "\n",
    "def add_one(number, array):\n",
    "    number.value += 1\n",
    "    for i in range(len(array)):\n",
    "        array[i] += 1\n",
    "\n",
    "if __name__ == '__main__':\n",
    "    number = Value('i', 0)\n",
    "    array = Array('i', range(5))\n",
    "\n",
    "    processes = [Process(target=add_one, args=(number, array)) for _ in range(10)]\n",
    "\n",
    "    for p in processes:\n",
    "        p.start()\n",
    "\n",
    "    for p in processes:\n",
    "        p.join()\n",
    "\n",
    "    print(f\"Number: {number.value}\")\n",
    "    print(f\"Array: {list(array)}\")"
   ]
  },
  {
   "cell_type": "code",
   "execution_count": 24,
   "metadata": {},
   "outputs": [],
   "source": [
    "# 4. Pool을 사용한 병렬 처리\n",
    "from multiprocessing import Pool\n",
    "\n",
    "def square(n):\n",
    "    return n * n\n",
    "\n",
    "if __name__ == '__main__':\n",
    "    with Pool(4) as p:\n",
    "        results = p.map(square, range(10))\n",
    "    print(results)"
   ]
  },
  {
   "attachments": {},
   "cell_type": "markdown",
   "metadata": {},
   "source": [
    "# pickle\n",
    "보통 .pickle 이나 .pkl파일로 저장\n",
    "json - 호환이 잘됨\n",
    "pickle - 자료형이 다 된다 / 호환이 잘안된다(버전이나 환경이 안맞으면 매칭이 안됨)\n"
   ]
  },
  {
   "cell_type": "code",
   "execution_count": 1,
   "metadata": {},
   "outputs": [],
   "source": [
    "# 객체 직렬화 (저장)\n",
    "import pickle\n",
    "\n",
    "data = {'a': [1, 2.0, 3, 4+6j],\n",
    "        'b': (\"character string\", b\"byte string\"),\n",
    "        'c': {None, True, False}}\n",
    "\n",
    "with open('data.pickle', 'wb') as f:\n",
    "    pickle.dump(data, f)    # data를 f 파일에 저장"
   ]
  },
  {
   "cell_type": "code",
   "execution_count": 3,
   "metadata": {},
   "outputs": [],
   "source": [
    "with open('data.pickle', 'rb') as f:\n",
    "    data1 = pickle.load(f)    # data를 f 파일에 저장"
   ]
  },
  {
   "cell_type": "code",
   "execution_count": 4,
   "metadata": {},
   "outputs": [
    {
     "data": {
      "text/plain": [
       "{'a': [1, 2.0, 3, (4+6j)],\n",
       " 'b': ('character string', b'byte string'),\n",
       " 'c': {False, None, True}}"
      ]
     },
     "execution_count": 4,
     "metadata": {},
     "output_type": "execute_result"
    }
   ],
   "source": [
    "data1"
   ]
  },
  {
   "cell_type": "code",
   "execution_count": 6,
   "metadata": {},
   "outputs": [],
   "source": [
    "class A:\n",
    "    name = 'good'\n",
    "a = A()"
   ]
  },
  {
   "cell_type": "code",
   "execution_count": 10,
   "metadata": {},
   "outputs": [],
   "source": [
    "with open('a.pickle', 'wb') as f:\n",
    "    pickle.dump(a, f)    # data를 f 파일에 저장"
   ]
  },
  {
   "cell_type": "code",
   "execution_count": 14,
   "metadata": {},
   "outputs": [],
   "source": [
    "with open('a.pickle', 'rb') as f:\n",
    "    data2 = pickle.load(f)    # data를 f 파일에 저장"
   ]
  },
  {
   "cell_type": "code",
   "execution_count": 16,
   "metadata": {},
   "outputs": [
    {
     "name": "stdout",
     "output_type": "stream",
     "text": [
      "<__main__.A object at 0x0000020B856755D0>\n"
     ]
    }
   ],
   "source": [
    "print(data2)"
   ]
  },
  {
   "cell_type": "code",
   "execution_count": null,
   "metadata": {},
   "outputs": [],
   "source": []
  }
 ],
 "metadata": {
  "kernelspec": {
   "display_name": "Python 3",
   "language": "python",
   "name": "python3"
  },
  "language_info": {
   "codemirror_mode": {
    "name": "ipython",
    "version": 3
   },
   "file_extension": ".py",
   "mimetype": "text/x-python",
   "name": "python",
   "nbconvert_exporter": "python",
   "pygments_lexer": "ipython3",
   "version": "3.10.13"
  },
  "orig_nbformat": 4
 },
 "nbformat": 4,
 "nbformat_minor": 2
}
