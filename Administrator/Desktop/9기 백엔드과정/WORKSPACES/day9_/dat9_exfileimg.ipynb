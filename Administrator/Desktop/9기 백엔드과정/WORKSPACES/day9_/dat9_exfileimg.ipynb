{
 "cells": [
  {
   "attachments": {},
   "cell_type": "markdown",
   "metadata": {},
   "source": [
    "# numpy"
   ]
  },
  {
   "cell_type": "code",
   "execution_count": null,
   "metadata": {},
   "outputs": [],
   "source": [
    "# 배열 슬라이싱: 1차원 배열을 생성하고, 배열의 첫 번째부터 세 번째 요소까지 슬라이싱하세요."
   ]
  },
  {
   "cell_type": "code",
   "execution_count": null,
   "metadata": {},
   "outputs": [],
   "source": [
    "# 배열 합계: 2차원 배열을 생성하고, 모든 요소의 합계를 계산하세요."
   ]
  },
  {
   "cell_type": "code",
   "execution_count": null,
   "metadata": {},
   "outputs": [],
   "source": [
    "# 조건부 선택: 주어진 배열에서 5보다 큰 요소만 선택하세요."
   ]
  },
  {
   "cell_type": "code",
   "execution_count": null,
   "metadata": {},
   "outputs": [],
   "source": [
    "# 배열 정렬: 1차원 배열을 생성하고, 오름차순으로 정렬하세요.\n"
   ]
  },
  {
   "cell_type": "code",
   "execution_count": null,
   "metadata": {},
   "outputs": [],
   "source": [
    "# 유니크 값 찾기: 배열 내의 모든 유니크(고유) 값과 해당 값의 출현 횟수를 찾으세요."
   ]
  },
  {
   "cell_type": "code",
   "execution_count": null,
   "metadata": {},
   "outputs": [],
   "source": [
    "# 배열 연결: 두 개의 1차원 배열을 수평으로 연결하세요."
   ]
  },
  {
   "attachments": {},
   "cell_type": "markdown",
   "metadata": {},
   "source": [
    "# pillow"
   ]
  },
  {
   "cell_type": "code",
   "execution_count": 1,
   "metadata": {},
   "outputs": [],
   "source": [
    "# 이미지 파일을 열고, 현재 사이즈를 출력한 다음, 사이즈를 반으로 줄인 후 저장하세요."
   ]
  },
  {
   "cell_type": "code",
   "execution_count": null,
   "metadata": {},
   "outputs": [],
   "source": [
    "# 주어진 이미지에 대하여 색상을 흑백으로 변환하고, 대비를 증가시킨 다음 저장하세요.\n",
    "# rgb 1채널일때 흑백 3채널일때 컬러"
   ]
  },
  {
   "cell_type": "code",
   "execution_count": 2,
   "metadata": {},
   "outputs": [],
   "source": [
    "# 디렉토리 내 모든 이미지에 대해 썸네일을 생성하고, 각 이미지의 이름 옆에 \"_thumbnail\"을 추가하여 저장하세요. \n",
    "# 썸네일의 최대 크기는 100x100 픽셀로 설정하세요."
   ]
  },
  {
   "attachments": {},
   "cell_type": "markdown",
   "metadata": {},
   "source": [
    "# OpenCv"
   ]
  },
  {
   "cell_type": "code",
   "execution_count": null,
   "metadata": {},
   "outputs": [],
   "source": [
    "# 이미지 그레이스케일 변환: 주어진 컬러 이미지를 그레이스케일로 변환하세요."
   ]
  },
  {
   "cell_type": "code",
   "execution_count": 3,
   "metadata": {},
   "outputs": [],
   "source": [
    "# 이미지 리사이즈: 주어진 이미지의 크기를 절반으로 줄이세요."
   ]
  },
  {
   "cell_type": "code",
   "execution_count": 4,
   "metadata": {},
   "outputs": [],
   "source": [
    "# 이미지 회전: 주어진 이미지를 90도 회전하세요."
   ]
  },
  {
   "cell_type": "code",
   "execution_count": 5,
   "metadata": {},
   "outputs": [],
   "source": [
    "# 가우시안 블러 적용: 이미지에 가우시안 블러를 적용하여 노이즈를 줄이세요"
   ]
  },
  {
   "cell_type": "code",
   "execution_count": 6,
   "metadata": {},
   "outputs": [],
   "source": [
    "# 경계 감지: Canny 알고리즘을 사용하여 이미지의 경계를 감지하세요."
   ]
  },
  {
   "cell_type": "code",
   "execution_count": 7,
   "metadata": {},
   "outputs": [],
   "source": [
    "# 색상 검출: 이미지에서 특정 색상(예: 빨간색)만 검출하세요."
   ]
  },
  {
   "cell_type": "code",
   "execution_count": null,
   "metadata": {},
   "outputs": [],
   "source": [
    "# 얼굴 인식: 이미지에서 얼굴을 인식하고, 감지된 각 얼굴 주위에 사각형을 그리세요."
   ]
  }
 ],
 "metadata": {
  "kernelspec": {
   "display_name": "Python 3",
   "language": "python",
   "name": "python3"
  },
  "language_info": {
   "codemirror_mode": {
    "name": "ipython",
    "version": 3
   },
   "file_extension": ".py",
   "mimetype": "text/x-python",
   "name": "python",
   "nbconvert_exporter": "python",
   "pygments_lexer": "ipython3",
   "version": "3.10.13"
  },
  "orig_nbformat": 4
 },
 "nbformat": 4,
 "nbformat_minor": 2
}
