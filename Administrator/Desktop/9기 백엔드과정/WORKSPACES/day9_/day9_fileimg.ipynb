{
 "cells": [
  {
   "cell_type": "code",
   "execution_count": 1,
   "metadata": {},
   "outputs": [
    {
     "name": "stdout",
     "output_type": "stream",
     "text": [
      "hello\n"
     ]
    }
   ],
   "source": [
    "print(\"hello\")"
   ]
  },
  {
   "attachments": {},
   "cell_type": "markdown",
   "metadata": {},
   "source": [
    "# numpy"
   ]
  },
  {
   "cell_type": "code",
   "execution_count": 2,
   "metadata": {},
   "outputs": [
    {
     "name": "stdout",
     "output_type": "stream",
     "text": [
      "1D Array: [1 2 3 4 5]\n",
      "2D Array:\n",
      " [[1 2 3]\n",
      " [4 5 6]]\n",
      "Reshaped Array:\n",
      " [[1 2]\n",
      " [3 4]\n",
      " [5 6]]\n"
     ]
    }
   ],
   "source": [
    "import numpy as np\n",
    "\n",
    "# 1차원 배열 생성\n",
    "arr1 = np.array([1, 2, 3, 4, 5])\n",
    "print(\"1D Array:\", arr1)\n",
    "\n",
    "# 2차원 배열 생성\n",
    "arr2 = np.array([[1, 2, 3],                \n",
    "                [4, 5, 6]])\n",
    "print(\"2D Array:\\n\", arr2)\n",
    "\n",
    "# 배열의 형태 변경\n",
    "# shape() 모양(행, 열)\n",
    "# arr_reshaped = arr2.reshape(3, 2)   # (3행, 2열)로 구조가 바뀜\n",
    "arr_reshaped = arr2.reshape(6, -1)   # (3행, 2열)로 구조가 바뀜\n",
    "\n",
    "print(\"Reshaped Array:\\n\", arr_reshaped)\n",
    "# 행과 열이 가능형태로 변환해야 함 ex reshape(3,4)는 에러\n",
    "# reshape(3, -1) -는 앞에 계산해서 자동으로 행열을 만듬\n",
    "# reshape(-1)은 한줄 1차원으로 바꿔줌 하지만 (-1,-1)은 에러\n",
    "# reshape(1,3,-2)는 3차원 "
   ]
  },
  {
   "cell_type": "code",
   "execution_count": 4,
   "metadata": {},
   "outputs": [
    {
     "name": "stdout",
     "output_type": "stream",
     "text": [
      "Array Addition: [5 7 9]\n",
      "Array Multiplication: [ 4 10 18]\n",
      "Mean: 3.0\n",
      "Standard Deviation: 1.4142135623730951\n"
     ]
    }
   ],
   "source": [
    "# 중급: 배열 연산 및 함수\n",
    "import numpy as np\n",
    "\n",
    "# 배열 덧셈\n",
    "arr1 = np.array([1, 2, 3])\n",
    "arr2 = np.array([4, 5, 6])\n",
    "print(\"Array Addition:\", arr1 + arr2)\n",
    "\n",
    "# 배열 곱셈\n",
    "print(\"Array Multiplication:\", arr1 * arr2)\n",
    "\n",
    "# 통계 함수 사용\n",
    "arr = np.array([1, 2, 3, 4, 5])\n",
    "print(\"Mean:\", np.mean(arr))    # mean() 평균\n",
    "print(\"Standard Deviation:\", np.std(arr))   # std() 표준편차"
   ]
  },
  {
   "cell_type": "code",
   "execution_count": 5,
   "metadata": {},
   "outputs": [],
   "source": [
    "nums = [i for i in range(100000000)]"
   ]
  },
  {
   "cell_type": "code",
   "execution_count": 9,
   "metadata": {},
   "outputs": [
    {
     "name": "stdout",
     "output_type": "stream",
     "text": [
      "CPU times: total: 6.12 s\n",
      "Wall time: 6.41 s\n"
     ]
    }
   ],
   "source": [
    "%%time\n",
    "# 평균\n",
    "list_mean = sum(nums)/len(nums)"
   ]
  },
  {
   "cell_type": "code",
   "execution_count": 8,
   "metadata": {},
   "outputs": [],
   "source": [
    "tmp = np.array(nums)"
   ]
  },
  {
   "cell_type": "code",
   "execution_count": 10,
   "metadata": {},
   "outputs": [
    {
     "name": "stdout",
     "output_type": "stream",
     "text": [
      "CPU times: total: 156 ms\n",
      "Wall time: 157 ms\n"
     ]
    }
   ],
   "source": [
    "%%time \n",
    "# numpy mean 속도가 훨씬 빠르다 \n",
    "np_mean = np.mean(tmp)"
   ]
  },
  {
   "cell_type": "code",
   "execution_count": 11,
   "metadata": {},
   "outputs": [
    {
     "data": {
      "text/plain": [
       "array([1, 2, 3])"
      ]
     },
     "execution_count": 11,
     "metadata": {},
     "output_type": "execute_result"
    }
   ],
   "source": [
    "# 브로드 캐스팅 원하던 모양을 맞춰주는게 브로드캐스팅\n",
    "arr = np.array([1,2,3])\n",
    "arr"
   ]
  },
  {
   "cell_type": "code",
   "execution_count": 12,
   "metadata": {},
   "outputs": [
    {
     "data": {
      "text/plain": [
       "array([2, 3, 4])"
      ]
     },
     "execution_count": 12,
     "metadata": {},
     "output_type": "execute_result"
    }
   ],
   "source": [
    "arr + 1"
   ]
  },
  {
   "cell_type": "code",
   "execution_count": 13,
   "metadata": {},
   "outputs": [
    {
     "data": {
      "text/plain": [
       "array([[1, 2, 3],\n",
       "       [4, 5, 6]])"
      ]
     },
     "execution_count": 13,
     "metadata": {},
     "output_type": "execute_result"
    }
   ],
   "source": [
    "arr = np.array([[1,2,3], [4,5,6]])\n",
    "arr"
   ]
  },
  {
   "cell_type": "code",
   "execution_count": 14,
   "metadata": {},
   "outputs": [
    {
     "data": {
      "text/plain": [
       "array([[2, 3, 4],\n",
       "       [5, 6, 7]])"
      ]
     },
     "execution_count": 14,
     "metadata": {},
     "output_type": "execute_result"
    }
   ],
   "source": [
    "arr + 1"
   ]
  },
  {
   "cell_type": "code",
   "execution_count": 15,
   "metadata": {},
   "outputs": [
    {
     "data": {
      "text/plain": [
       "array([[12, 14, 16],\n",
       "       [15, 17, 19]])"
      ]
     },
     "execution_count": 15,
     "metadata": {},
     "output_type": "execute_result"
    }
   ],
   "source": [
    "arr + np.array([11,12,13])"
   ]
  },
  {
   "cell_type": "code",
   "execution_count": 17,
   "metadata": {},
   "outputs": [
    {
     "name": "stdout",
     "output_type": "stream",
     "text": [
      "Broadcasting Addition:\n",
      " [[2 3 4]\n",
      " [5 6 7]]\n",
      "Matrix Multiplication:\n",
      " [[19 22]\n",
      " [43 50]]\n"
     ]
    }
   ],
   "source": [
    "import numpy as np\n",
    "\n",
    "# 브로드캐스팅\n",
    "arr = np.array([[1, 2, 3], [4, 5, 6]])\n",
    "print(\"Broadcasting Addition:\\n\", arr + 1)\n",
    "\n",
    "# 선형 대수: 행렬 곱셈\n",
    "a = np.array([[1, 2], [3, 4]])\n",
    "b = np.array([[5, 6], [7, 8]])\n",
    "print(\"Matrix Multiplication:\\n\", np.dot(a, b)) # dot()행렬곱셈"
   ]
  },
  {
   "cell_type": "code",
   "execution_count": 19,
   "metadata": {},
   "outputs": [
    {
     "data": {
      "text/plain": [
       "numpy.float64"
      ]
     },
     "execution_count": 19,
     "metadata": {},
     "output_type": "execute_result"
    }
   ],
   "source": [
    "np.int_ # int8(0~255), int16(2**16),... int256 해당자료형이가지는 비트수 \n",
    "np.float_ # float16(),... float256 메모리를 차지하는 공간이 많으면 느리다 -> 최적화 필요"
   ]
  },
  {
   "cell_type": "code",
   "execution_count": 22,
   "metadata": {},
   "outputs": [
    {
     "data": {
      "text/plain": [
       "float"
      ]
     },
     "execution_count": 22,
     "metadata": {},
     "output_type": "execute_result"
    }
   ],
   "source": [
    "import numpy as np\n",
    "float"
   ]
  },
  {
   "cell_type": "code",
   "execution_count": 23,
   "metadata": {},
   "outputs": [],
   "source": [
    "from PIL import Image\n",
    "\n",
    "# 열기\n",
    "image = Image.open('img.png')"
   ]
  },
  {
   "cell_type": "code",
   "execution_count": 24,
   "metadata": {},
   "outputs": [],
   "source": [
    "image.save(\"output.jpg\")"
   ]
  },
  {
   "cell_type": "code",
   "execution_count": 25,
   "metadata": {},
   "outputs": [],
   "source": [
    "# 이미지 회전\n",
    "rotated_image = image.rotate(180)\n",
    "rotated_image.save(\"rotated.jpg\")"
   ]
  },
  {
   "cell_type": "code",
   "execution_count": 27,
   "metadata": {},
   "outputs": [],
   "source": [
    "bw_image = image.convert(\"L\")\n",
    "bw_image.save(\"gray.jpg\")"
   ]
  },
  {
   "cell_type": "code",
   "execution_count": 29,
   "metadata": {},
   "outputs": [
    {
     "ename": "TypeError",
     "evalue": "Image.crop() takes from 1 to 2 positional arguments but 5 were given",
     "output_type": "error",
     "traceback": [
      "\u001b[1;31m---------------------------------------------------------------------------\u001b[0m",
      "\u001b[1;31mTypeError\u001b[0m                                 Traceback (most recent call last)",
      "Cell \u001b[1;32mIn[29], line 1\u001b[0m\n\u001b[1;32m----> 1\u001b[0m cropped_image \u001b[39m=\u001b[39m image\u001b[39m.\u001b[39;49mcrop(\u001b[39m100\u001b[39;49m, \u001b[39m100\u001b[39;49m, \u001b[39m400\u001b[39;49m, \u001b[39m400\u001b[39;49m)\n\u001b[0;32m      2\u001b[0m cropped_image\u001b[39m.\u001b[39msave(\u001b[39m\"\u001b[39m\u001b[39mcropped.jpg\u001b[39m\u001b[39m\"\u001b[39m)\n",
      "\u001b[1;31mTypeError\u001b[0m: Image.crop() takes from 1 to 2 positional arguments but 5 were given"
     ]
    }
   ],
   "source": [
    "cropped_image = image.crop(100, 100, 400, 400)\n",
    "cropped_image.save(\"cropped.jpg\")"
   ]
  },
  {
   "cell_type": "code",
   "execution_count": 40,
   "metadata": {},
   "outputs": [],
   "source": [
    "from PIL import Image, ImageDraw, ImageFont\n",
    "\n",
    "# 이미지 열기\n",
    "img1 = Image.open(\"img1.jpg\")\n",
    "draw = ImageDraw.Draw(img1)\n",
    "# 사용할 폰트 정의\n",
    "#font = ImageFont.truetype(\"arial.ttf\", size=45)\n",
    "# 기본 폰트 사용\n",
    "font = ImageFont.load_default()\n",
    "# 이미지에 텍스트 추가 (x, y, message, fill=color, font=font)\n",
    "draw.text((10, 10), \"Python Backend!\", fill=\"white\", font=font)\n",
    "# 텍스트가 추가된 이미지 저장\n",
    "img1.save(\"text_added.jpg\")"
   ]
  },
  {
   "cell_type": "code",
   "execution_count": 37,
   "metadata": {},
   "outputs": [
    {
     "ename": "AttributeError",
     "evalue": "'str' object has no attribute 'load'",
     "output_type": "error",
     "traceback": [
      "\u001b[1;31m---------------------------------------------------------------------------\u001b[0m",
      "\u001b[1;31mAttributeError\u001b[0m                            Traceback (most recent call last)",
      "File \u001b[1;32mc:\\ProgramData\\miniforge3\\envs\\lion\\lib\\site-packages\\PIL\\ImageDraw.py:843\u001b[0m, in \u001b[0;36mDraw\u001b[1;34m(im, mode)\u001b[0m\n\u001b[0;32m    842\u001b[0m \u001b[39mtry\u001b[39;00m:\n\u001b[1;32m--> 843\u001b[0m     \u001b[39mreturn\u001b[39;00m im\u001b[39m.\u001b[39;49mgetdraw(mode)\n\u001b[0;32m    844\u001b[0m \u001b[39mexcept\u001b[39;00m \u001b[39mAttributeError\u001b[39;00m:\n",
      "\u001b[1;31mAttributeError\u001b[0m: 'str' object has no attribute 'getdraw'",
      "\nDuring handling of the above exception, another exception occurred:\n",
      "\u001b[1;31mAttributeError\u001b[0m                            Traceback (most recent call last)",
      "Cell \u001b[1;32mIn[37], line 1\u001b[0m\n\u001b[1;32m----> 1\u001b[0m draw \u001b[39m=\u001b[39m ImageDraw\u001b[39m.\u001b[39;49mDraw(img1)\n",
      "File \u001b[1;32mc:\\ProgramData\\miniforge3\\envs\\lion\\lib\\site-packages\\PIL\\ImageDraw.py:845\u001b[0m, in \u001b[0;36mDraw\u001b[1;34m(im, mode)\u001b[0m\n\u001b[0;32m    843\u001b[0m     \u001b[39mreturn\u001b[39;00m im\u001b[39m.\u001b[39mgetdraw(mode)\n\u001b[0;32m    844\u001b[0m \u001b[39mexcept\u001b[39;00m \u001b[39mAttributeError\u001b[39;00m:\n\u001b[1;32m--> 845\u001b[0m     \u001b[39mreturn\u001b[39;00m ImageDraw(im, mode)\n",
      "File \u001b[1;32mc:\\ProgramData\\miniforge3\\envs\\lion\\lib\\site-packages\\PIL\\ImageDraw.py:62\u001b[0m, in \u001b[0;36mImageDraw.__init__\u001b[1;34m(self, im, mode)\u001b[0m\n\u001b[0;32m     51\u001b[0m \u001b[39mdef\u001b[39;00m \u001b[39m__init__\u001b[39m(\u001b[39mself\u001b[39m, im, mode\u001b[39m=\u001b[39m\u001b[39mNone\u001b[39;00m):\n\u001b[0;32m     52\u001b[0m \u001b[39m    \u001b[39m\u001b[39m\"\"\"\u001b[39;00m\n\u001b[0;32m     53\u001b[0m \u001b[39m    Create a drawing instance.\u001b[39;00m\n\u001b[0;32m     54\u001b[0m \n\u001b[1;32m   (...)\u001b[0m\n\u001b[0;32m     60\u001b[0m \u001b[39m       defaults to the mode of the image.\u001b[39;00m\n\u001b[0;32m     61\u001b[0m \u001b[39m    \"\"\"\u001b[39;00m\n\u001b[1;32m---> 62\u001b[0m     im\u001b[39m.\u001b[39;49mload()\n\u001b[0;32m     63\u001b[0m     \u001b[39mif\u001b[39;00m im\u001b[39m.\u001b[39mreadonly:\n\u001b[0;32m     64\u001b[0m         im\u001b[39m.\u001b[39m_copy()  \u001b[39m# make it writeable\u001b[39;00m\n",
      "\u001b[1;31mAttributeError\u001b[0m: 'str' object has no attribute 'load'"
     ]
    }
   ],
   "source": [
    "draw = ImageDraw.Draw(img1)"
   ]
  },
  {
   "cell_type": "code",
   "execution_count": 32,
   "metadata": {},
   "outputs": [],
   "source": [
    "font = ImageFont.load_default()"
   ]
  },
  {
   "cell_type": "code",
   "execution_count": 33,
   "metadata": {},
   "outputs": [
    {
     "ename": "NameError",
     "evalue": "name 'image_new' is not defined",
     "output_type": "error",
     "traceback": [
      "\u001b[1;31m---------------------------------------------------------------------------\u001b[0m",
      "\u001b[1;31mNameError\u001b[0m                                 Traceback (most recent call last)",
      "Cell \u001b[1;32mIn[33], line 2\u001b[0m\n\u001b[0;32m      1\u001b[0m draw\u001b[39m.\u001b[39mtext((\u001b[39m10\u001b[39m, \u001b[39m10\u001b[39m), \u001b[39m\"\u001b[39m\u001b[39mPython Backend\u001b[39m\u001b[39m\"\u001b[39m, fill\u001b[39m=\u001b[39m\u001b[39m\"\u001b[39m\u001b[39mred\u001b[39m\u001b[39m\"\u001b[39m, font\u001b[39m=\u001b[39mfont)\n\u001b[1;32m----> 2\u001b[0m image_new\u001b[39m.\u001b[39msave(\u001b[39m\"\u001b[39m\u001b[39mtext_added.jpg\u001b[39m\u001b[39m\"\u001b[39m)\n",
      "\u001b[1;31mNameError\u001b[0m: name 'image_new' is not defined"
     ]
    }
   ],
   "source": [
    "draw.text((10, 10), \"Python Backend\", fill=\"red\", font=font)\n",
    "image_new.save(\"text_added.jpg\")"
   ]
  },
  {
   "cell_type": "code",
   "execution_count": 41,
   "metadata": {},
   "outputs": [],
   "source": [
    "# 예제 6: 이미지 필터 적용\n",
    "from PIL import Image, ImageFilter\n",
    "\n",
    "# 이미지 열기\n",
    "image = Image.open(\"img.png\")\n",
    "# 이미지에 가우시안 블러 필터 적용\n",
    "blurred_image = image.filter(ImageFilter.GaussianBlur(5)) # 가우시안 블러 숫자로 블러가 진해짐\n",
    "blurred_image.save(\"blurred.jpg\")"
   ]
  },
  {
   "cell_type": "code",
   "execution_count": 3,
   "metadata": {},
   "outputs": [
    {
     "ename": "FileNotFoundError",
     "evalue": "[Errno 2] No such file or directory: 'output_images/gray.jpg'",
     "output_type": "error",
     "traceback": [
      "\u001b[1;31m---------------------------------------------------------------------------\u001b[0m",
      "\u001b[1;31mFileNotFoundError\u001b[0m                         Traceback (most recent call last)",
      "Cell \u001b[1;32mIn[3], line 16\u001b[0m\n\u001b[0;32m     14\u001b[0m resized_img \u001b[39m=\u001b[39m img\u001b[39m.\u001b[39mresize((\u001b[39m128\u001b[39m, \u001b[39m128\u001b[39m)) \n\u001b[0;32m     15\u001b[0m \u001b[39m# 조정된 이미지 저장\u001b[39;00m\n\u001b[1;32m---> 16\u001b[0m resized_img\u001b[39m.\u001b[39;49msave(os\u001b[39m.\u001b[39;49mpath\u001b[39m.\u001b[39;49mjoin(output_folder, filename))\n",
      "File \u001b[1;32mc:\\ProgramData\\miniforge3\\envs\\lion\\lib\\site-packages\\PIL\\Image.py:2436\u001b[0m, in \u001b[0;36mImage.save\u001b[1;34m(self, fp, format, **params)\u001b[0m\n\u001b[0;32m   2434\u001b[0m         fp \u001b[39m=\u001b[39m builtins\u001b[39m.\u001b[39mopen(filename, \u001b[39m\"\u001b[39m\u001b[39mr+b\u001b[39m\u001b[39m\"\u001b[39m)\n\u001b[0;32m   2435\u001b[0m     \u001b[39melse\u001b[39;00m:\n\u001b[1;32m-> 2436\u001b[0m         fp \u001b[39m=\u001b[39m builtins\u001b[39m.\u001b[39;49mopen(filename, \u001b[39m\"\u001b[39;49m\u001b[39mw+b\u001b[39;49m\u001b[39m\"\u001b[39;49m)\n\u001b[0;32m   2438\u001b[0m \u001b[39mtry\u001b[39;00m:\n\u001b[0;32m   2439\u001b[0m     save_handler(\u001b[39mself\u001b[39m, fp, filename)\n",
      "\u001b[1;31mFileNotFoundError\u001b[0m: [Errno 2] No such file or directory: 'output_images/gray.jpg'"
     ]
    }
   ],
   "source": [
    "# 예제 7: 배치 이미지 사이즈 조정\n",
    "import os\n",
    "from PIL import Image\n",
    "\n",
    "input_folder = 'input_images/'\n",
    "output_folder = 'output_images/'\n",
    "\n",
    "# 입력 폴더 내의 모든 이미지 파일에 대해 반복\n",
    "for filename in os.listdir(input_folder):   # 인풋폴더 리스트화\n",
    "    if filename.endswith(\".jpg\"):\n",
    "        img_path = os.path.join(input_folder, filename) # 이미지경로 .jpg파일이있는\n",
    "        img = Image.open(img_path)  # img_path경로를 열어서\n",
    "        # 이미지 사이즈 조정\n",
    "        resized_img = img.resize((128, 128)) \n",
    "        # 조정된 이미지 저장\n",
    "        resized_img.save(os.path.join(output_folder, filename))"
   ]
  },
  {
   "cell_type": "code",
   "execution_count": 4,
   "metadata": {},
   "outputs": [],
   "source": [
    "from PIL import Image, ImageEnhance\n",
    "\n",
    "# 이미지 열기\n",
    "image = Image.open(\"img.png\")\n",
    "# 대비 조정 객체 생성\n",
    "enhancer = ImageEnhance.Contrast(image)\n",
    "# 대비를 2로 증가\n",
    "enhanced_image = enhancer.enhance(2)\n",
    "# 대비가 증가된 이미지 저장\n",
    "enhanced_image.save(\"enhanced_contrast.jpg\")"
   ]
  },
  {
   "cell_type": "code",
   "execution_count": 5,
   "metadata": {},
   "outputs": [],
   "source": [
    "from PIL import Image\n",
    "\n",
    "# 이미지 열기\n",
    "image = Image.open(\"img.png\")\n",
    "# 이미지 저장\n",
    "image.save(\"output.jpg\")"
   ]
  },
  {
   "cell_type": "code",
   "execution_count": 6,
   "metadata": {},
   "outputs": [
    {
     "name": "stdout",
     "output_type": "stream",
     "text": [
      "[((21, 53, 126), 43205), ((240, 232, 213), 22200), ((240, 231, 214), 6439), ((240, 232, 211), 6012), ((21, 53, 128), 4937), ((239, 232, 213), 4669), ((242, 231, 213), 4623), ((21, 54, 125), 4351), ((242, 230, 214), 3822), ((239, 233, 211), 3631)]\n"
     ]
    }
   ],
   "source": [
    "from PIL import Image\n",
    "from collections import Counter\n",
    "\n",
    "# 이미지 열기\n",
    "image = Image.open(\"img.png\")\n",
    "# 이미지의 모든 픽셀 값 가져오기\n",
    "pixels = list(image.getdata())\n",
    "# 가장 흔한 색상 10개 찾기\n",
    "most_common_colors = Counter(pixels).most_common(10)\n",
    "\n",
    "print(most_common_colors)"
   ]
  },
  {
   "cell_type": "code",
   "execution_count": 10,
   "metadata": {},
   "outputs": [
    {
     "data": {
      "text/plain": [
       "(640, 640, 3)"
      ]
     },
     "execution_count": 10,
     "metadata": {},
     "output_type": "execute_result"
    }
   ],
   "source": [
    "import numpy as np\n",
    "np.array(image).shape"
   ]
  },
  {
   "cell_type": "code",
   "execution_count": 16,
   "metadata": {},
   "outputs": [
    {
     "data": {
      "text/plain": [
       "array([[[182, 197, 169],\n",
       "        [ 76,  63,  97],\n",
       "        [208, 184, 127],\n",
       "        ...,\n",
       "        [111, 151, 184],\n",
       "        [ 44, 168,  71],\n",
       "        [108, 238,   9]],\n",
       "\n",
       "       [[214, 247, 109],\n",
       "        [  5, 170, 135],\n",
       "        [ 89, 186, 183],\n",
       "        ...,\n",
       "        [ 51, 150,  98],\n",
       "        [162, 219, 101],\n",
       "        [ 66, 171, 104]],\n",
       "\n",
       "       [[195,  73, 242],\n",
       "        [153, 142,  98],\n",
       "        [ 53, 212, 199],\n",
       "        ...,\n",
       "        [109, 234, 191],\n",
       "        [  3, 204, 231],\n",
       "        [160,  73, 127]],\n",
       "\n",
       "       ...,\n",
       "\n",
       "       [[234,  49, 214],\n",
       "        [152, 249, 254],\n",
       "        [122,  22, 189],\n",
       "        ...,\n",
       "        [231,  36, 149],\n",
       "        [ 89, 153, 253],\n",
       "        [133,  53, 116]],\n",
       "\n",
       "       [[ 44, 229,  15],\n",
       "        [172,  37,  82],\n",
       "        [245, 115, 178],\n",
       "        ...,\n",
       "        [149,   5,  60],\n",
       "        [100,  70, 197],\n",
       "        [189, 102,  49]],\n",
       "\n",
       "       [[148,  77, 219],\n",
       "        [131,  46, 218],\n",
       "        [ 58,  67,  17],\n",
       "        ...,\n",
       "        [ 54, 176, 100],\n",
       "        [224, 212,  37],\n",
       "        [250, 238, 160]]], dtype=uint8)"
      ]
     },
     "execution_count": 16,
     "metadata": {},
     "output_type": "execute_result"
    }
   ],
   "source": [
    "array = np.random.randint(0, 255, size=(440,630, 3), dtype=np.uint8)\n",
    "array"
   ]
  },
  {
   "cell_type": "code",
   "execution_count": 14,
   "metadata": {},
   "outputs": [
    {
     "data": {
      "text/plain": [
       "dtype('int32')"
      ]
     },
     "execution_count": 14,
     "metadata": {},
     "output_type": "execute_result"
    }
   ],
   "source": [
    "array.dtype"
   ]
  },
  {
   "attachments": {},
   "cell_type": "markdown",
   "metadata": {},
   "source": [
    "# OpenCv"
   ]
  },
  {
   "cell_type": "code",
   "execution_count": 9,
   "metadata": {},
   "outputs": [
    {
     "data": {
      "text/plain": [
       "True"
      ]
     },
     "execution_count": 9,
     "metadata": {},
     "output_type": "execute_result"
    }
   ],
   "source": [
    "# 이미지 읽기, 표시, 저장\n",
    "import cv2\n",
    "\n",
    "# 이미지 읽기\n",
    "img = cv2.imread('img.png')\n",
    "# 이미지 표시\n",
    "cv2.imshow('Image', img)\n",
    "cv2.waitKey(0)  # Key입력을 기다리는데 0이면 영원히 기다림 # 밀리초\n",
    "cv2.destroyAllWindows() # 화면을 닫기 위해 필수\n",
    "# 이미지 저장\n",
    "cv2.imwrite('output.jpg', img)"
   ]
  },
  {
   "cell_type": "code",
   "execution_count": 12,
   "metadata": {},
   "outputs": [],
   "source": [
    "# 이미지 그레이스케일 변환\n",
    "# 산업쪽에서 상처나 흔적 등 확인하려고  그레이스케일을 많이 씀\n",
    "import cv2\n",
    "\n",
    "# 이미지 읽기\n",
    "img = cv2.imread('img.png')\n",
    "# 그레이스케일 변환\n",
    "gray_img = cv2.cvtColor(img, cv2.COLOR_BGR2GRAY) # RGB의 순서가 BGR로 씀 \n",
    "# 변환된 이미지 표시\n",
    "cv2.imshow('Grayscale Image', gray_img)\n",
    "cv2.imshow('Original Image', img)   # 오리지널 이미지\n",
    "cv2.waitKey(0)\n",
    "cv2.destroyAllWindows()"
   ]
  },
  {
   "cell_type": "code",
   "execution_count": 14,
   "metadata": {},
   "outputs": [],
   "source": [
    "# 이미지 회전\n",
    "import cv2\n",
    "\n",
    "# 이미지 읽기\n",
    "img = cv2.imread('img.png')\n",
    "# 이미지 중심을 기준으로 90도 회전\n",
    "height, width = img.shape[:2]\n",
    "center = (width / 2, height / 2)\n",
    "rotate_matrix = cv2.getRotationMatrix2D(center=center, angle=90, scale=1) # 선형대수 관련된 변환 행열을 만들고 \n",
    "rotated_img = cv2.warpAffine(src=img, M=rotate_matrix, dsize=(width, height)) # dsize 결과이미지크기\n",
    "# 회전된 이미지 표시\n",
    "cv2.imshow('Rotated Image', rotated_img)\n",
    "cv2.imshow('Original Image', img)\n",
    "cv2.waitKey(0)\n",
    "cv2.destroyAllWindows()"
   ]
  },
  {
   "cell_type": "code",
   "execution_count": 25,
   "metadata": {},
   "outputs": [],
   "source": [
    "# 가우시안 블러 적용\n",
    "import cv2\n",
    "\n",
    "# 이미지 읽기\n",
    "img = cv2.imread('img.png')\n",
    "# 가우시안 블러 적용\n",
    "blurred_img = cv2.GaussianBlur(img, (5, 5), 0)\n",
    "# 블러된 이미지 표시\n",
    "cv2.imshow('Blurred Image', blurred_img)\n",
    "cv2.imshow('Original Image', img)\n",
    "cv2.waitKey(0)\n",
    "cv2.destroyAllWindows()\n"
   ]
  },
  {
   "cell_type": "code",
   "execution_count": 26,
   "metadata": {},
   "outputs": [],
   "source": [
    "# 경계 감지 (Canny Edge Detection)\n",
    "import cv2\n",
    "\n",
    "# 이미지 읽기\n",
    "img = cv2.imread('img.png')\n",
    "# 그레이스케일 변환\n",
    "gray_img = cv2.cvtColor(img, cv2.COLOR_BGR2GRAY)\n",
    "# Canny edge detection 적용\n",
    "edges = cv2.Canny(image=gray_img, threshold1=100, threshold2=200)\n",
    "# 경계가 감지된 이미지 표시\n",
    "cv2.imshow('Edge Detected Image', edges)\n",
    "cv2.imshow('Original Image', img)\n",
    "cv2.waitKey(0)\n",
    "cv2.destroyAllWindows()"
   ]
  },
  {
   "cell_type": "code",
   "execution_count": 19,
   "metadata": {},
   "outputs": [
    {
     "ename": "error",
     "evalue": "OpenCV(4.9.0) D:\\a\\opencv-python\\opencv-python\\opencv\\modules\\imgproc\\src\\color.cpp:196: error: (-215:Assertion failed) !_src.empty() in function 'cv::cvtColor'\n",
     "output_type": "error",
     "traceback": [
      "\u001b[1;31m---------------------------------------------------------------------------\u001b[0m",
      "\u001b[1;31merror\u001b[0m                                     Traceback (most recent call last)",
      "Cell \u001b[1;32mIn[19], line 8\u001b[0m\n\u001b[0;32m      6\u001b[0m \u001b[39m# 이미지 읽기\u001b[39;00m\n\u001b[0;32m      7\u001b[0m img \u001b[39m=\u001b[39m cv2\u001b[39m.\u001b[39mimread(\u001b[39m'\u001b[39m\u001b[39minput.jpg\u001b[39m\u001b[39m'\u001b[39m)\n\u001b[1;32m----> 8\u001b[0m gray \u001b[39m=\u001b[39m cv2\u001b[39m.\u001b[39;49mcvtColor(img, cv2\u001b[39m.\u001b[39;49mCOLOR_BGR2GRAY)\n\u001b[0;32m     10\u001b[0m \u001b[39m# 얼굴 감지\u001b[39;00m\n\u001b[0;32m     11\u001b[0m faces \u001b[39m=\u001b[39m face_cascade\u001b[39m.\u001b[39mdetectMultiScale(gray, \u001b[39m1.1\u001b[39m, \u001b[39m4\u001b[39m)\n",
      "\u001b[1;31merror\u001b[0m: OpenCV(4.9.0) D:\\a\\opencv-python\\opencv-python\\opencv\\modules\\imgproc\\src\\color.cpp:196: error: (-215:Assertion failed) !_src.empty() in function 'cv::cvtColor'\n"
     ]
    }
   ],
   "source": [
    "import cv2\n",
    "\n",
    "# 얼굴 감지를 위한 분류기 로드\n",
    "face_cascade = cv2.CascadeClassifier(cv2.data.haarcascades + 'haarcascade_frontalface_default.xml')\n",
    "\n",
    "# 이미지 읽기\n",
    "img = cv2.imread('input.jpg')\n",
    "gray = cv2.cvtColor(img, cv2.COLOR_BGR2GRAY)\n",
    "\n",
    "# 얼굴 감지\n",
    "faces = face_cascade.detectMultiScale(gray, 1.1, 4)\n",
    "\n",
    "# 감지된 얼굴 주위에 사각형 그리기\n",
    "for (x, y, w, h) in faces:\n",
    "    cv2.rectangle(img, (x, y), (x+w, y+h), (255, 0, 0), 2)\n",
    "\n",
    "# 결과 이미지 표시\n",
    "cv2.imshow('Face Detected', img)\n",
    "cv2.waitKey(0)\n",
    "cv2.destroyAllWindows()"
   ]
  },
  {
   "cell_type": "code",
   "execution_count": 16,
   "metadata": {},
   "outputs": [],
   "source": [
    "# 동영상 처리\n",
    "import cv2\n",
    "\n",
    "# 동영상 파일 열기\n",
    "cap = cv2.VideoCapture('video.mp4')\n",
    "\n",
    "# 출력 파일 설정\n",
    "fourcc = cv2.VideoWriter_fourcc(*'MP4V')  # 출력 파일의 코덱 설정\n",
    "out = cv2.VideoWriter('video.mp4', fourcc, 20.0, (640, 480), isColor=False)\n",
    "\n",
    "while cap.isOpened():\n",
    "    ret, frame = cap.read()\n",
    "    if not ret:\n",
    "        break\n",
    "\n",
    "    # 프레임을 그레이스케일로 변환\n",
    "    gray = cv2.cvtColor(frame, cv2.COLOR_BGR2GRAY)\n",
    "\n",
    "    # 변환된 프레임을 출력 파일에 쓰기\n",
    "    out.write(gray)\n",
    "\n",
    "    # 변환된 프레임을 화면에 표시\n",
    "    cv2.imshow('frame', gray)\n",
    "    if cv2.waitKey(1) == ord('q'):\n",
    "        break\n",
    "\n",
    "# 작업 완료 후 해제\n",
    "cap.release()\n",
    "out.release()\n",
    "cv2.destroyAllWindows()"
   ]
  },
  {
   "cell_type": "code",
   "execution_count": 1,
   "metadata": {},
   "outputs": [
    {
     "ename": "NameError",
     "evalue": "name 'out' is not defined",
     "output_type": "error",
     "traceback": [
      "\u001b[1;31m---------------------------------------------------------------------------\u001b[0m",
      "\u001b[1;31mNameError\u001b[0m                                 Traceback (most recent call last)",
      "Cell \u001b[1;32mIn[1], line 35\u001b[0m\n\u001b[0;32m     31\u001b[0m     cv2\u001b[39m.\u001b[39mimshow(\u001b[39m'\u001b[39m\u001b[39mframe\u001b[39m\u001b[39m'\u001b[39m,edges)\n\u001b[0;32m     34\u001b[0m cap\u001b[39m.\u001b[39mrelease()       \u001b[39m# 외부리소스 읽으면 반환\u001b[39;00m\n\u001b[1;32m---> 35\u001b[0m out\u001b[39m.\u001b[39mrelease()       \u001b[39m# 꼭 써야함 \u001b[39;00m\n\u001b[0;32m     36\u001b[0m cv2\u001b[39m.\u001b[39mdestroyAllWindow()  \n",
      "\u001b[1;31mNameError\u001b[0m: name 'out' is not defined"
     ]
    },
    {
     "ename": "",
     "evalue": "",
     "output_type": "error",
     "traceback": [
      "\u001b[1;31m현재 셀 또는 이전 셀에서 코드를 실행하는 동안 Kernel이 충돌했습니다. 셀의 코드를 검토하여 오류의 가능한 원인을 식별하세요. 자세한 내용을 보려면 <a href='https://aka.ms/vscodeJupyterKernelCrash'> 여기 </a> 를 클릭하세요. 자세한 내용은 Jupyter <a href='command:jupyter.viewOutput'>로그</a>를 참조하세요."
     ]
    }
   ],
   "source": [
    "# 동영상 처리\n",
    "import cv2\n",
    "\n",
    "# 동영상 파일 열기\n",
    "cap = cv2.VideoCapture('video.mp4')\n",
    "    # 0 컴퓨터카메라 웹캠\n",
    "    # 1 다른 카메라 \n",
    "    # 2 다른 새로운 카메라\n",
    "\n",
    "# 출력 파일 설정\n",
    "# fourcc = cv2.VideoWriter_fourcc(*'MP4V')  # 출력 파일의 코덱 설정\n",
    "# out = cv2.VideoWriter('video.mp4', fourcc, 20.0, (640, 480), isColor=False)\n",
    "img_bool = True\n",
    "\n",
    "while cap.isOpened():\n",
    "    ret, frame = cap.read() # 1장 보내고\n",
    "    \n",
    "    if not ret: \n",
    "        break\n",
    "    \n",
    "    gray = cv2.cvtColor(frame, cv2.COLOR_BGR2GRAY)\n",
    "    edges = cv2.Canny(image=gray, threshold1=100, threshold2=200)\n",
    "\n",
    "    # cv2.imshow('frame', frame)  # 바로보여줌\n",
    "    # cv2.imshow('frame', edges)  # 바로보여줌\n",
    "    if cv2.waitKey(1) == ord('q'):      #  or cv2.waitKey(1) == ord('a')\n",
    "        break\n",
    "    # else:\n",
    "    #     img_bool = ~img_bool\n",
    "\n",
    "    # if img_bool:\n",
    "    #     cv2.imshow('frame', gray)\n",
    "    # else:\n",
    "    cv2.imshow('frame',edges)\n",
    "\n",
    "\n",
    "cap.release()       # 외부리소스 읽으면 반환\n",
    "out.release()       # 꼭 써야함 \n",
    "cv2.destroyAllWindow()  "
   ]
  },
  {
   "cell_type": "code",
   "execution_count": 1,
   "metadata": {},
   "outputs": [],
   "source": [
    "import cv2\n",
    "import mediapipe as mp\n",
    "\n",
    "mp_pose = mp.solutions.pose\n",
    "pose = mp_pose.Pose(static_image_mode=False, model_complexity=1, smooth_landmarks=True, min_detection_confidence=0.5, min_tracking_confidence=0.5)\n",
    "mp_drawing = mp.solutions.drawing_utils\n",
    "\n",
    "cap = cv2.VideoCapture('video.mp4')\n",
    "img_bool = True\n",
    "while cap.isOpened():\n",
    "    ret, frame = cap.read()\n",
    "\n",
    "    if not ret:\n",
    "        break\n",
    "\n",
    "    frame_rgb = cv2.cvtColor(frame, cv2.COLOR_BGR2RGB)\n",
    "    results = pose.process(frame_rgb)\n",
    "\n",
    "    if results.pose_landmarks:\n",
    "        mp_drawing.draw_landmarks(frame, results.pose_landmarks, mp_pose.POSE_CONNECTIONS,\n",
    "                                mp_drawing.DrawingSpec(color=(245,117,66), thickness=2, circle_radius=2),\n",
    "                                mp_drawing.DrawingSpec(color=(245,66,230), thickness=2, circle_radius=2))\n",
    "\n",
    "\n",
    "    if cv2.waitKey(1) == ord('q'):\n",
    "        break\n",
    "\n",
    "    cv2.imshow('frame', frame)\n",
    "\n",
    "cap.release()\n",
    "cv2.destroyAllWindows()"
   ]
  },
  {
   "cell_type": "code",
   "execution_count": null,
   "metadata": {},
   "outputs": [],
   "source": []
  }
 ],
 "metadata": {
  "kernelspec": {
   "display_name": "Python 3",
   "language": "python",
   "name": "python3"
  },
  "language_info": {
   "codemirror_mode": {
    "name": "ipython",
    "version": 3
   },
   "file_extension": ".py",
   "mimetype": "text/x-python",
   "name": "python",
   "nbconvert_exporter": "python",
   "pygments_lexer": "ipython3",
   "version": "3.10.13"
  },
  "orig_nbformat": 4
 },
 "nbformat": 4,
 "nbformat_minor": 2
}
