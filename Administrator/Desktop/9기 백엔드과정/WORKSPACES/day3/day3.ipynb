{
  "nbformat": 4,
  "nbformat_minor": 0,
  "metadata": {
    "colab": {
      "provenance": [],
      "toc_visible": true
    },
    "kernelspec": {
      "name": "python3",
      "display_name": "Python 3"
    },
    "language_info": {
      "name": "python"
    }
  },
  "cells": [
    {
      "cell_type": "markdown",
      "source": [
        "# 문자열 포매팅"
      ],
      "metadata": {
        "id": "5PQNObxhAGDs"
      }
    },
    {
      "cell_type": "code",
      "execution_count": null,
      "metadata": {
        "colab": {
          "base_uri": "https://localhost:8080/"
        },
        "id": "mrJ5rcHq-uRL",
        "outputId": "7c72c851-796b-4738-8e6d-b95ad9433fe9"
      },
      "outputs": [
        {
          "output_type": "stream",
          "name": "stdout",
          "text": [
            "hello world\n"
          ]
        }
      ],
      "source": [
        "print(\"hello world\")"
      ]
    },
    {
      "cell_type": "code",
      "source": [
        "a = 1\n",
        "print(a)"
      ],
      "metadata": {
        "colab": {
          "base_uri": "https://localhost:8080/"
        },
        "id": "ZXxzqDakAOSg",
        "outputId": "97329b4e-bb18-4111-d88b-504b20376745"
      },
      "execution_count": null,
      "outputs": [
        {
          "output_type": "stream",
          "name": "stdout",
          "text": [
            "1\n"
          ]
        }
      ]
    },
    {
      "cell_type": "code",
      "source": [
        "# % 연산자 이용한 포맷팅\n",
        "name = \"lion\"\n",
        "today = \"2024-02-21\"\n",
        "now_time = 9\n",
        "print(\"멋쟁이 사자는 영어로 like lion\")"
      ],
      "metadata": {
        "colab": {
          "base_uri": "https://localhost:8080/"
        },
        "id": "1fbApMLyARam",
        "outputId": "e3c2f7c5-7591-4094-dde2-f9384311b66b"
      },
      "execution_count": null,
      "outputs": [
        {
          "output_type": "stream",
          "name": "stdout",
          "text": [
            "멋쟁이 사자는 영어로 like lion\n"
          ]
        }
      ]
    },
    {
      "cell_type": "code",
      "source": [
        "print(\"멋쟁이 사자는 영어로 like %s 이고 오늘 날짜는 %s\"%(name, today))"
      ],
      "metadata": {
        "colab": {
          "base_uri": "https://localhost:8080/"
        },
        "id": "SfVw2sWyA1qn",
        "outputId": "3cc265b0-6e93-4132-ca03-ba2c3d10cd25"
      },
      "execution_count": null,
      "outputs": [
        {
          "output_type": "stream",
          "name": "stdout",
          "text": [
            "멋쟁이 사자는 영어로 like lion 이고 오늘 날짜는 2024-02-21\n"
          ]
        }
      ]
    },
    {
      "cell_type": "code",
      "source": [
        "print(\"멋쟁이 사자는 영어로 like %s 이고 지금시간은 %d시다\"%(name, now_time))"
      ],
      "metadata": {
        "colab": {
          "base_uri": "https://localhost:8080/"
        },
        "id": "ZcIE9h-wA8CG",
        "outputId": "1b6885ee-98d1-45a3-cbb5-05bc96493cf1"
      },
      "execution_count": null,
      "outputs": [
        {
          "output_type": "stream",
          "name": "stdout",
          "text": [
            "멋쟁이 사자는 영어로 like lion 이고 지금시간은 9시다\n"
          ]
        }
      ]
    },
    {
      "cell_type": "code",
      "source": [
        "number = 3.141592\n",
        "print(\"파이는 %f\"%(number))"
      ],
      "metadata": {
        "colab": {
          "base_uri": "https://localhost:8080/"
        },
        "id": "8kszlfwBBX4e",
        "outputId": "e0f8acf0-11c3-4919-84d9-3c6c2ba78309"
      },
      "execution_count": null,
      "outputs": [
        {
          "output_type": "stream",
          "name": "stdout",
          "text": [
            "파이는 3.141592\n"
          ]
        }
      ]
    },
    {
      "cell_type": "code",
      "source": [
        "print(\"파이는 %.2f\"%(number))"
      ],
      "metadata": {
        "colab": {
          "base_uri": "https://localhost:8080/"
        },
        "id": "sPr7qio4Bv7n",
        "outputId": "fcbe1d1f-3691-40e2-df4c-2fee2da21a92"
      },
      "execution_count": null,
      "outputs": [
        {
          "output_type": "stream",
          "name": "stdout",
          "text": [
            "파이는 3.14\n"
          ]
        }
      ]
    },
    {
      "cell_type": "code",
      "source": [
        "# format 함수\n",
        "name = \"lion\"\n",
        "print(\"멋쟁이 사자는 영어로 like {}\".format(name))"
      ],
      "metadata": {
        "colab": {
          "base_uri": "https://localhost:8080/"
        },
        "id": "wNNWbCtKCBSu",
        "outputId": "f4f3ef66-9899-4208-ee69-b5a66426397c"
      },
      "execution_count": null,
      "outputs": [
        {
          "output_type": "stream",
          "name": "stdout",
          "text": [
            "멋쟁이 사자는 영어로 like lion\n"
          ]
        }
      ]
    },
    {
      "cell_type": "code",
      "source": [
        "man = \"강사\"\n",
        "print(\"멋쟁이 사자는 영어로 like {1}, 나는 {0}다\".format(name, man))"
      ],
      "metadata": {
        "colab": {
          "base_uri": "https://localhost:8080/"
        },
        "id": "UeWVUQaBChsX",
        "outputId": "aef26df4-4388-442e-f56f-0db5830393a3"
      },
      "execution_count": null,
      "outputs": [
        {
          "output_type": "stream",
          "name": "stdout",
          "text": [
            "멋쟁이 사자는 영어로 like 강사, 나는 lion다\n"
          ]
        }
      ]
    },
    {
      "cell_type": "code",
      "source": [
        "number = 3.141592\n",
        "print(\"파이 : {0:.2f}\".format(number))"
      ],
      "metadata": {
        "colab": {
          "base_uri": "https://localhost:8080/"
        },
        "id": "vvJifJETCq5e",
        "outputId": "0e334463-25d8-4178-f829-e9cb382b2007"
      },
      "execution_count": null,
      "outputs": [
        {
          "output_type": "stream",
          "name": "stdout",
          "text": [
            "파이 : 3.14\n"
          ]
        }
      ]
    },
    {
      "cell_type": "code",
      "source": [
        "# f-string\n",
        "name = \"여러분\"\n",
        "print(f\"안녕하세요! {name}\")"
      ],
      "metadata": {
        "colab": {
          "base_uri": "https://localhost:8080/"
        },
        "id": "B4H0VAmgDYWW",
        "outputId": "1192dde8-ca65-4a6a-b000-8ac58541eca3"
      },
      "execution_count": null,
      "outputs": [
        {
          "output_type": "stream",
          "name": "stdout",
          "text": [
            "안녕하세요! 여러분\n"
          ]
        }
      ]
    },
    {
      "cell_type": "code",
      "source": [
        "number = 3.141592\n",
        "print(f\"소수 {number: .2f}\")"
      ],
      "metadata": {
        "colab": {
          "base_uri": "https://localhost:8080/"
        },
        "id": "QELjl1eODpf2",
        "outputId": "885060e6-e301-4a17-ca93-c616816cdac7"
      },
      "execution_count": null,
      "outputs": [
        {
          "output_type": "stream",
          "name": "stdout",
          "text": [
            "소수  3.14\n"
          ]
        }
      ]
    },
    {
      "cell_type": "markdown",
      "source": [
        "# 조건문\n",
        "if, elif, else 키워드를 사용"
      ],
      "metadata": {
        "id": "6WXPE4rNEIc3"
      }
    },
    {
      "cell_type": "code",
      "source": [
        "x = 21\n",
        "y = 10\n",
        "\n",
        "x / y"
      ],
      "metadata": {
        "colab": {
          "base_uri": "https://localhost:8080/"
        },
        "id": "eewNnNRaD3R2",
        "outputId": "5a4d34ac-8d38-459b-84cc-925706e645eb"
      },
      "execution_count": null,
      "outputs": [
        {
          "output_type": "execute_result",
          "data": {
            "text/plain": [
              "2.1"
            ]
          },
          "metadata": {},
          "execution_count": 19
        }
      ]
    },
    {
      "cell_type": "code",
      "source": [
        "x // y"
      ],
      "metadata": {
        "colab": {
          "base_uri": "https://localhost:8080/"
        },
        "id": "fZO9KBPNPZAw",
        "outputId": "8e2c17cc-f073-43b7-c8d6-2e8967dea595"
      },
      "execution_count": null,
      "outputs": [
        {
          "output_type": "execute_result",
          "data": {
            "text/plain": [
              "2"
            ]
          },
          "metadata": {},
          "execution_count": 21
        }
      ]
    },
    {
      "cell_type": "code",
      "source": [
        "x % y"
      ],
      "metadata": {
        "colab": {
          "base_uri": "https://localhost:8080/"
        },
        "id": "soADnJAwPayv",
        "outputId": "801f3efa-ec27-4d21-b9cf-f3623a24318f"
      },
      "execution_count": null,
      "outputs": [
        {
          "output_type": "execute_result",
          "data": {
            "text/plain": [
              "1"
            ]
          },
          "metadata": {},
          "execution_count": 22
        }
      ]
    },
    {
      "cell_type": "code",
      "source": [
        "# 짝수?\n",
        "x % 2"
      ],
      "metadata": {
        "colab": {
          "base_uri": "https://localhost:8080/"
        },
        "id": "Ewh_qhV2PgD3",
        "outputId": "37a2001b-e016-4ec6-ee4c-930ae5fc58d7"
      },
      "execution_count": null,
      "outputs": [
        {
          "output_type": "execute_result",
          "data": {
            "text/plain": [
              "1"
            ]
          },
          "metadata": {},
          "execution_count": 23
        }
      ]
    },
    {
      "cell_type": "code",
      "source": [
        "x == y"
      ],
      "metadata": {
        "colab": {
          "base_uri": "https://localhost:8080/"
        },
        "id": "ZMWGfr-ePmoX",
        "outputId": "d0d59ed5-7b5c-42ce-cf31-477b892382d0"
      },
      "execution_count": null,
      "outputs": [
        {
          "output_type": "execute_result",
          "data": {
            "text/plain": [
              "False"
            ]
          },
          "metadata": {},
          "execution_count": 24
        }
      ]
    },
    {
      "cell_type": "code",
      "source": [
        "x == 21"
      ],
      "metadata": {
        "colab": {
          "base_uri": "https://localhost:8080/"
        },
        "id": "oXv-3M0YPyVA",
        "outputId": "543a2aad-b606-45e0-dd95-846ad03ebd52"
      },
      "execution_count": null,
      "outputs": [
        {
          "output_type": "execute_result",
          "data": {
            "text/plain": [
              "True"
            ]
          },
          "metadata": {},
          "execution_count": 25
        }
      ]
    },
    {
      "cell_type": "code",
      "source": [
        "x != y"
      ],
      "metadata": {
        "colab": {
          "base_uri": "https://localhost:8080/"
        },
        "id": "MtCM6OVbP3Aw",
        "outputId": "7982a7a3-221b-4de6-da91-f02434bb0146"
      },
      "execution_count": null,
      "outputs": [
        {
          "output_type": "execute_result",
          "data": {
            "text/plain": [
              "True"
            ]
          },
          "metadata": {},
          "execution_count": 26
        }
      ]
    },
    {
      "cell_type": "code",
      "source": [
        "# 할당 연산자\n",
        "c = 10\n",
        "c = c + 1\n",
        "c"
      ],
      "metadata": {
        "id": "HEgz0LHLQITI"
      },
      "execution_count": null,
      "outputs": []
    },
    {
      "cell_type": "code",
      "source": [
        "c += 1\n",
        "c"
      ],
      "metadata": {
        "colab": {
          "base_uri": "https://localhost:8080/"
        },
        "id": "BbfKeU3YQOmQ",
        "outputId": "2eb7467d-606f-4f3e-8ffe-2169d10133ce"
      },
      "execution_count": null,
      "outputs": [
        {
          "output_type": "execute_result",
          "data": {
            "text/plain": [
              "12"
            ]
          },
          "metadata": {},
          "execution_count": 29
        }
      ]
    },
    {
      "cell_type": "code",
      "source": [
        "c = 10\n",
        "c  += 1\n",
        "c"
      ],
      "metadata": {
        "colab": {
          "base_uri": "https://localhost:8080/"
        },
        "id": "HulwTyZUQT4Q",
        "outputId": "e397b40c-c985-4506-8689-50adf810f6cf"
      },
      "execution_count": null,
      "outputs": [
        {
          "output_type": "execute_result",
          "data": {
            "text/plain": [
              "11"
            ]
          },
          "metadata": {},
          "execution_count": 31
        }
      ]
    },
    {
      "cell_type": "code",
      "source": [
        "c -= 10\n",
        "c"
      ],
      "metadata": {
        "colab": {
          "base_uri": "https://localhost:8080/"
        },
        "id": "SIW7oNLRQhcf",
        "outputId": "b8c06eb4-477e-44d1-e1ce-9b2547527c03"
      },
      "execution_count": null,
      "outputs": [
        {
          "output_type": "execute_result",
          "data": {
            "text/plain": [
              "1"
            ]
          },
          "metadata": {},
          "execution_count": 32
        }
      ]
    },
    {
      "cell_type": "code",
      "source": [
        "x = True\n",
        "y = False"
      ],
      "metadata": {
        "id": "Gu-loLeAQnsg"
      },
      "execution_count": null,
      "outputs": []
    },
    {
      "cell_type": "code",
      "source": [
        "x and y\n"
      ],
      "metadata": {
        "colab": {
          "base_uri": "https://localhost:8080/"
        },
        "id": "7Y0_VWCLQ-dU",
        "outputId": "5e4cb825-eb62-469f-fd49-f1c6b885eb15"
      },
      "execution_count": null,
      "outputs": [
        {
          "output_type": "execute_result",
          "data": {
            "text/plain": [
              "False"
            ]
          },
          "metadata": {},
          "execution_count": 37
        }
      ]
    },
    {
      "cell_type": "code",
      "source": [
        "x or y"
      ],
      "metadata": {
        "colab": {
          "base_uri": "https://localhost:8080/"
        },
        "id": "XIN6C_-wQvEY",
        "outputId": "8661aaaa-8dfd-48e1-cfda-0902e0d3a531"
      },
      "execution_count": null,
      "outputs": [
        {
          "output_type": "execute_result",
          "data": {
            "text/plain": [
              "True"
            ]
          },
          "metadata": {},
          "execution_count": 38
        }
      ]
    },
    {
      "cell_type": "code",
      "source": [
        "not x"
      ],
      "metadata": {
        "colab": {
          "base_uri": "https://localhost:8080/"
        },
        "id": "seU1FbgXRGkh",
        "outputId": "7902231b-fe5d-4777-ada4-c0a03be2c57f"
      },
      "execution_count": null,
      "outputs": [
        {
          "output_type": "execute_result",
          "data": {
            "text/plain": [
              "False"
            ]
          },
          "metadata": {},
          "execution_count": 39
        }
      ]
    },
    {
      "cell_type": "code",
      "source": [
        "lions = ['창훈', '지현', '현수', '룡']"
      ],
      "metadata": {
        "id": "jMx8d4ApRHUI"
      },
      "execution_count": null,
      "outputs": []
    },
    {
      "cell_type": "code",
      "source": [
        "'창훈' in lions"
      ],
      "metadata": {
        "colab": {
          "base_uri": "https://localhost:8080/"
        },
        "id": "FXqmf2SLRY4o",
        "outputId": "71f8a074-007d-4690-e07a-c3bf8c02f009"
      },
      "execution_count": null,
      "outputs": [
        {
          "output_type": "execute_result",
          "data": {
            "text/plain": [
              "True"
            ]
          },
          "metadata": {},
          "execution_count": 41
        }
      ]
    },
    {
      "cell_type": "code",
      "source": [
        "'지현' not in lions"
      ],
      "metadata": {
        "colab": {
          "base_uri": "https://localhost:8080/"
        },
        "id": "HjpwaMz6Rako",
        "outputId": "bab83630-913a-44d9-b450-6e8218fc4f12"
      },
      "execution_count": null,
      "outputs": [
        {
          "output_type": "execute_result",
          "data": {
            "text/plain": [
              "False"
            ]
          },
          "metadata": {},
          "execution_count": 42
        }
      ]
    },
    {
      "cell_type": "code",
      "source": [
        "x = [1, 2, 3]\n",
        "y = [1, 2, 3]\n",
        "z = x\n",
        "\n",
        "print(x is z)     # True, x와 z는 같은 객체를 참조\n",
        "print(x is y)     # False, x와 y는 내용은 같지만 다른 객체\n",
        "print(x is not y) # True, x와 y는 다른 객체"
      ],
      "metadata": {
        "colab": {
          "base_uri": "https://localhost:8080/"
        },
        "id": "P1e-CFiSRdjQ",
        "outputId": "a0932526-bb02-4399-a7dd-8c34b0a1eb3f"
      },
      "execution_count": null,
      "outputs": [
        {
          "output_type": "stream",
          "name": "stdout",
          "text": [
            "True\n",
            "False\n",
            "True\n"
          ]
        }
      ]
    },
    {
      "cell_type": "code",
      "source": [
        "print(x is y)     # False, x와 y는 내용은 같지만 다른 객체"
      ],
      "metadata": {
        "colab": {
          "base_uri": "https://localhost:8080/"
        },
        "id": "yzRLvYKQSQyB",
        "outputId": "18d56b9a-188d-4670-8430-dc3745e47610"
      },
      "execution_count": null,
      "outputs": [
        {
          "output_type": "stream",
          "name": "stdout",
          "text": [
            "False\n"
          ]
        }
      ]
    },
    {
      "cell_type": "code",
      "source": [
        "x[1] = 100\n",
        "x"
      ],
      "metadata": {
        "colab": {
          "base_uri": "https://localhost:8080/"
        },
        "id": "dbooTTmnSTbn",
        "outputId": "1f315565-b97d-4f7c-849d-dd27f005df1d"
      },
      "execution_count": null,
      "outputs": [
        {
          "output_type": "execute_result",
          "data": {
            "text/plain": [
              "[1, 100, 3]"
            ]
          },
          "metadata": {},
          "execution_count": 46
        }
      ]
    },
    {
      "cell_type": "code",
      "source": [
        "y"
      ],
      "metadata": {
        "colab": {
          "base_uri": "https://localhost:8080/"
        },
        "id": "Cp6UTHF8SkM3",
        "outputId": "a61f15c2-e7f5-4749-a6c0-bda9b58e3fd6"
      },
      "execution_count": null,
      "outputs": [
        {
          "output_type": "execute_result",
          "data": {
            "text/plain": [
              "[1, 2, 3]"
            ]
          },
          "metadata": {},
          "execution_count": 47
        }
      ]
    },
    {
      "cell_type": "code",
      "source": [
        "z"
      ],
      "metadata": {
        "colab": {
          "base_uri": "https://localhost:8080/"
        },
        "id": "kFTZV0v8SwNY",
        "outputId": "6821e870-9810-4f2e-c748-bbef381bb75f"
      },
      "execution_count": null,
      "outputs": [
        {
          "output_type": "execute_result",
          "data": {
            "text/plain": [
              "[1, 100, 3]"
            ]
          },
          "metadata": {},
          "execution_count": 48
        }
      ]
    },
    {
      "cell_type": "markdown",
      "source": [
        "# 조건문!!"
      ],
      "metadata": {
        "id": "mrwfDFfCS_5t"
      }
    },
    {
      "cell_type": "code",
      "source": [
        "lions = ['창훈', '지현', '현수', '룡', '종용']\n",
        "guest = '재헌'\n",
        "if guest in lions:\n",
        "  print(\"안녕하세요! {}\".format(guest))\n",
        "else:\n",
        "  print(f\"새롭게 오셨군요! 반갑습니다!! {guest}님\" )"
      ],
      "metadata": {
        "colab": {
          "base_uri": "https://localhost:8080/"
        },
        "id": "j3UTfv7MSwfP",
        "outputId": "cdafccc2-d04f-4f6d-b0fe-5ff707818a5d"
      },
      "execution_count": null,
      "outputs": [
        {
          "output_type": "stream",
          "name": "stdout",
          "text": [
            "새롭게 오셨군요! 반갑습니다!! 재헌님\n"
          ]
        }
      ]
    },
    {
      "cell_type": "code",
      "source": [
        "# 여러 팀에 속한 분도 찾아보고 싶어\n",
        "lions = ['창훈', '지현', '현수', '룡', '찬미', '종용']\n",
        "python_team = ['지안','현서','현수', '찬미']\n",
        "# guest = '재헌'\n",
        "guest = '찬미'\n",
        "# 단축키 alt+shift+위아래 화살표\n",
        "# 옮기기 alt + 화살표\n",
        "if guest in lions:\n",
        "  print(\"안녕하세요! 라이온팀의 {}님\".format(guest))\n",
        "# elif guest in python_team:\n",
        "if guest in python_team:\n",
        "  print(\"안녕하세요! 파이썬팀의 {}님\".format(guest))\n",
        "else:\n",
        "  print(f\"새롭게 오셨군요! 반갑습니다!! {guest}님\" )"
      ],
      "metadata": {
        "colab": {
          "base_uri": "https://localhost:8080/"
        },
        "id": "M6NZJwMSTGsX",
        "outputId": "da29e44f-4b0c-4bf9-d534-bd1a101a71e2"
      },
      "execution_count": null,
      "outputs": [
        {
          "output_type": "stream",
          "name": "stdout",
          "text": [
            "안녕하세요! 라이온팀의 찬미님\n"
          ]
        }
      ]
    },
    {
      "cell_type": "code",
      "source": [
        "# 라이온팀이고 파이썬팀인지 체크 # and\n",
        "# 라이온팀인지\n",
        "# 파이썬팀인지\n",
        "# 기타\n"
      ],
      "metadata": {
        "colab": {
          "base_uri": "https://localhost:8080/",
          "height": 110
        },
        "id": "b71aFmY4S-gA",
        "outputId": "5a16a027-d6ed-488a-89ba-10789e13bead"
      },
      "execution_count": null,
      "outputs": [
        {
          "output_type": "error",
          "ename": "SyntaxError",
          "evalue": "expected ':' (<ipython-input-61-0db85c3abe00>, line 2)",
          "traceback": [
            "\u001b[0;36m  File \u001b[0;32m\"<ipython-input-61-0db85c3abe00>\"\u001b[0;36m, line \u001b[0;32m2\u001b[0m\n\u001b[0;31m    if guest\u001b[0m\n\u001b[0m            ^\u001b[0m\n\u001b[0;31mSyntaxError\u001b[0m\u001b[0;31m:\u001b[0m expected ':'\n"
          ]
        }
      ]
    },
    {
      "cell_type": "code",
      "source": [
        "lions = ['창훈', '지현', '현수', '찬미', '종용']\n",
        "python_team = ['지안','현서','현수', '찬미']\n",
        "# guest = '찬미'\n",
        "guest = '창훈'\n",
        "\n",
        "if guest in lions or guest in python_team: # 라이온팀이거나 파이썬팀인지 체크 # or\n",
        "  print(\"두 팀 모두 속하셨네요\")\n",
        "elif guest in lions:    # 라이온팀인지\n",
        "  print(\"라이온팀에 모두 속하셨네요\")\n",
        "elif guest in python_team:  # 파이썬팀인지\n",
        "  print(\"파이썬팀에 모두 속하셨네요\")\n",
        "else:   # 기타\n",
        "  print(\"환영합니다!!\")\n"
      ],
      "metadata": {
        "colab": {
          "base_uri": "https://localhost:8080/"
        },
        "id": "YtCCVPyKWYLo",
        "outputId": "98a82dfc-981c-45b3-f948-dcbb8dc21a4a"
      },
      "execution_count": null,
      "outputs": [
        {
          "output_type": "stream",
          "name": "stdout",
          "text": [
            "두 팀 모두 속하셨네요\n"
          ]
        }
      ]
    },
    {
      "cell_type": "code",
      "source": [
        "lions = ['창훈', '지현', '현수', '찬미', '종용']\n",
        "python_team = ['지안','현서','현수', '찬미']\n",
        "guest = input(\"참석자는?\")\n",
        "\n",
        "if (guest in lions) and (guest in python_team): # 라이온팀이거나 파이썬팀인지 체크 # or\n",
        "  print(\"두 팀 모두 속하셨네요\")\n",
        "elif guest in lions:    # 라이온팀인지\n",
        "  print(\"라이온팀에 모두 속하셨네요\")\n",
        "elif guest in python_team:  # 파이썬팀인지\n",
        "  print(\"파이썬팀에 모두 속하셨네요\")\n",
        "else:   # 기타\n",
        "  print(\"환영합니다!!\")\n"
      ],
      "metadata": {
        "colab": {
          "base_uri": "https://localhost:8080/"
        },
        "id": "KhYtYiXAcCvN",
        "outputId": "a9309276-c6d1-4e1d-be45-75d8452630cc"
      },
      "execution_count": null,
      "outputs": [
        {
          "output_type": "stream",
          "name": "stdout",
          "text": [
            "참석자는?지현\n",
            "라이온팀에 모두 속하셨네요\n"
          ]
        }
      ]
    },
    {
      "cell_type": "code",
      "source": [
        "lions = ['창훈', '지현', '현수', '찬미', '종용']\n",
        "python_team = ['지안','현서','현수', '찬미']\n",
        "guest = input(\"참석자는?\")\n",
        "\n",
        "if (guest in lions) and (guest in python_team): # 라이온팀이거나 파이썬팀인지 체크 # or\n",
        "  print(\"두 팀 모두 속하셨네요\")\n",
        "elif guest in lions:    # 라이온팀인지\n",
        "  print(\"라이온팀에 모두 속하셨네요\")\n",
        "elif guest in python_team:  # 파이썬팀인지\n",
        "  print(\"파이썬팀에 모두 속하셨네요\")\n",
        "else:   # 기타\n",
        "  print(\"환영합니다!!\")\n"
      ],
      "metadata": {
        "colab": {
          "base_uri": "https://localhost:8080/"
        },
        "id": "M6fKDYTGdyuy",
        "outputId": "74dc9dd9-d853-4c8c-d19a-01f800daf40d"
      },
      "execution_count": null,
      "outputs": [
        {
          "output_type": "stream",
          "name": "stdout",
          "text": [
            "참석자는?지안\n",
            "파이썬팀에 모두 속하셨네요\n"
          ]
        }
      ]
    },
    {
      "cell_type": "code",
      "source": [
        "total_member = lions + python_team\n",
        "set(total_member)"
      ],
      "metadata": {
        "colab": {
          "base_uri": "https://localhost:8080/"
        },
        "id": "p1Hk-d64eGnl",
        "outputId": "f3deb760-55d4-4404-ad05-5a0ee6d554a8"
      },
      "execution_count": null,
      "outputs": [
        {
          "output_type": "execute_result",
          "data": {
            "text/plain": [
              "{'종용', '지안', '지현', '찬미', '창훈', '현서', '현수'}"
            ]
          },
          "metadata": {},
          "execution_count": 67
        }
      ]
    },
    {
      "cell_type": "code",
      "source": [
        "a = '21'\n",
        "type(a)"
      ],
      "metadata": {
        "colab": {
          "base_uri": "https://localhost:8080/"
        },
        "id": "Wm_BhxtSeMLM",
        "outputId": "2a16fa9a-f105-4ce8-8ae9-676421751b53"
      },
      "execution_count": null,
      "outputs": [
        {
          "output_type": "execute_result",
          "data": {
            "text/plain": [
              "str"
            ]
          },
          "metadata": {},
          "execution_count": 68
        }
      ]
    },
    {
      "cell_type": "code",
      "source": [
        "number = input(\"숫자 써주세요\")\n",
        "number, type(number)"
      ],
      "metadata": {
        "colab": {
          "base_uri": "https://localhost:8080/"
        },
        "id": "3uGuL7d9ehKJ",
        "outputId": "8b5360a9-775d-4f0f-b976-69a75f39ec1a"
      },
      "execution_count": null,
      "outputs": [
        {
          "name": "stdout",
          "output_type": "stream",
          "text": [
            "숫자 써주세요22\n"
          ]
        },
        {
          "output_type": "execute_result",
          "data": {
            "text/plain": [
              "('22', str)"
            ]
          },
          "metadata": {},
          "execution_count": 69
        }
      ]
    },
    {
      "cell_type": "code",
      "source": [
        "number1 = input(\"숫자 써주세요\")\n",
        "number2 = input(\"숫자 써주세요\")\n",
        "number = number1 + number2\n",
        "number"
      ],
      "metadata": {
        "colab": {
          "base_uri": "https://localhost:8080/",
          "height": 72
        },
        "id": "B4oKbrL1enN4",
        "outputId": "91d5895a-a56c-491d-cfdc-f33cb68e233f"
      },
      "execution_count": null,
      "outputs": [
        {
          "name": "stdout",
          "output_type": "stream",
          "text": [
            "숫자 써주세요11\n",
            "숫자 써주세요22\n"
          ]
        },
        {
          "output_type": "execute_result",
          "data": {
            "text/plain": [
              "'1122'"
            ],
            "application/vnd.google.colaboratory.intrinsic+json": {
              "type": "string"
            }
          },
          "metadata": {},
          "execution_count": 70
        }
      ]
    },
    {
      "cell_type": "code",
      "source": [
        "a = '123'\n",
        "a"
      ],
      "metadata": {
        "colab": {
          "base_uri": "https://localhost:8080/",
          "height": 35
        },
        "id": "8v1fgndOe4O5",
        "outputId": "da5e8cc3-1db1-4f68-acd5-70894c26bc56"
      },
      "execution_count": null,
      "outputs": [
        {
          "output_type": "execute_result",
          "data": {
            "text/plain": [
              "'123'"
            ],
            "application/vnd.google.colaboratory.intrinsic+json": {
              "type": "string"
            }
          },
          "metadata": {},
          "execution_count": 71
        }
      ]
    },
    {
      "cell_type": "code",
      "source": [
        "int(a)"
      ],
      "metadata": {
        "colab": {
          "base_uri": "https://localhost:8080/"
        },
        "id": "j0l7YrC1fXcZ",
        "outputId": "b6b3fd1b-49df-465e-c82a-0252c13bc933"
      },
      "execution_count": null,
      "outputs": [
        {
          "output_type": "execute_result",
          "data": {
            "text/plain": [
              "123"
            ]
          },
          "metadata": {},
          "execution_count": 72
        }
      ]
    },
    {
      "cell_type": "code",
      "source": [
        "number1 = input(\"숫자 써주세요\")\n",
        "number1 = int(number1)\n",
        "number2 = int(input(\"숫자 써주세요\"))\n",
        "number = number1 + number2\n",
        "number"
      ],
      "metadata": {
        "colab": {
          "base_uri": "https://localhost:8080/"
        },
        "id": "hkdws9ZpfYSz",
        "outputId": "e2698c25-955d-434a-fae0-4d57b646e1ae"
      },
      "execution_count": null,
      "outputs": [
        {
          "name": "stdout",
          "output_type": "stream",
          "text": [
            "숫자 써주세요11\n",
            "숫자 써주세요28\n"
          ]
        },
        {
          "output_type": "execute_result",
          "data": {
            "text/plain": [
              "39"
            ]
          },
          "metadata": {},
          "execution_count": 73
        }
      ]
    },
    {
      "cell_type": "code",
      "source": [
        "number1 = input(\"손님이 낸 금액 :\")\n",
        "number1 = int(number1)\n",
        "number2 = int(input(\"음료 금액 : \"))\n",
        "print(\"거스름돈은 {}입니다.\".format(number1-number2))"
      ],
      "metadata": {
        "colab": {
          "base_uri": "https://localhost:8080/"
        },
        "id": "j8V55CSrfpcp",
        "outputId": "36f90e8e-2649-40ad-b96a-20f07ed6eb9b"
      },
      "execution_count": null,
      "outputs": [
        {
          "output_type": "stream",
          "name": "stdout",
          "text": [
            "손님이 낸 금액 :1000\n",
            "음료 금액 : 4500\n",
            "거스름돈은 -3500입니다.\n"
          ]
        }
      ]
    },
    {
      "cell_type": "markdown",
      "source": [
        "# 반복문!!\n",
        "- for\n",
        "- while"
      ],
      "metadata": {
        "id": "HXYLaPWG4Hyc"
      }
    },
    {
      "cell_type": "code",
      "source": [
        "# 슬라이싱\n",
        "a = [1,2,3,4,5,6,7,8,9,10]\n",
        "for i in a[1:3]:\n",
        "  print(i)"
      ],
      "metadata": {
        "colab": {
          "base_uri": "https://localhost:8080/"
        },
        "id": "R8wFxFqy5cOm",
        "outputId": "19cba56d-ac3c-4ee7-8f87-e2f5d851f1f4"
      },
      "execution_count": null,
      "outputs": [
        {
          "output_type": "stream",
          "name": "stdout",
          "text": [
            "2\n",
            "3\n"
          ]
        }
      ]
    },
    {
      "cell_type": "code",
      "source": [
        "# for\n",
        "for i in range(10):\n",
        "  print(i)"
      ],
      "metadata": {
        "colab": {
          "base_uri": "https://localhost:8080/"
        },
        "id": "_wk59QhGf8J5",
        "outputId": "302f042f-8436-472c-c3ed-f9b316d3ca77"
      },
      "execution_count": null,
      "outputs": [
        {
          "output_type": "stream",
          "name": "stdout",
          "text": [
            "0\n",
            "1\n",
            "2\n",
            "3\n",
            "4\n",
            "5\n",
            "6\n",
            "7\n",
            "8\n",
            "9\n"
          ]
        }
      ]
    },
    {
      "cell_type": "code",
      "source": [
        "count = 0\n",
        "while count < 10:\n",
        "  print(count)\n",
        "  count += 1\n"
      ],
      "metadata": {
        "colab": {
          "base_uri": "https://localhost:8080/"
        },
        "id": "f_FOAzW-4XcT",
        "outputId": "17e2116b-6e62-4288-b40a-a64f69e16ee1"
      },
      "execution_count": null,
      "outputs": [
        {
          "output_type": "stream",
          "name": "stdout",
          "text": [
            "0\n",
            "1\n",
            "2\n",
            "3\n",
            "4\n",
            "5\n",
            "6\n",
            "7\n",
            "8\n",
            "9\n"
          ]
        }
      ]
    },
    {
      "cell_type": "code",
      "source": [
        "for i in lions:\n",
        "  print(i)"
      ],
      "metadata": {
        "colab": {
          "base_uri": "https://localhost:8080/"
        },
        "id": "6qmO2ANj47UL",
        "outputId": "ff0ea84e-356d-4c28-e354-f42250666bd6"
      },
      "execution_count": null,
      "outputs": [
        {
          "output_type": "stream",
          "name": "stdout",
          "text": [
            "창훈\n",
            "지현\n",
            "현수\n",
            "찬미\n",
            "종용\n"
          ]
        }
      ]
    },
    {
      "cell_type": "code",
      "source": [
        "tiger = {'해', '달', '별', '바다'}\n",
        "for i in tiger:\n",
        "  print(i)"
      ],
      "metadata": {
        "colab": {
          "base_uri": "https://localhost:8080/"
        },
        "id": "ji9vxm7953ub",
        "outputId": "2f9738b5-a2c6-4c1b-daad-6f7bee39133b"
      },
      "execution_count": null,
      "outputs": [
        {
          "output_type": "stream",
          "name": "stdout",
          "text": [
            "해\n",
            "달\n",
            "바다\n",
            "별\n"
          ]
        }
      ]
    },
    {
      "cell_type": "code",
      "source": [
        "backend = {\"name\":\"likelion\",\"기수\":9}\n",
        "for i in backend:\n",
        "  print(i)"
      ],
      "metadata": {
        "colab": {
          "base_uri": "https://localhost:8080/"
        },
        "id": "69zbUE-F6AWr",
        "outputId": "9e81548d-8ccc-4a2c-fed7-37787be74a7f"
      },
      "execution_count": null,
      "outputs": [
        {
          "output_type": "stream",
          "name": "stdout",
          "text": [
            "name\n",
            "기수\n"
          ]
        }
      ]
    },
    {
      "cell_type": "code",
      "source": [
        "for a, b in backend.items():\n",
        "  print(a)\n",
        "  print(b)"
      ],
      "metadata": {
        "colab": {
          "base_uri": "https://localhost:8080/"
        },
        "id": "yckDmHUx6hkX",
        "outputId": "a7534336-6a0e-43a2-fc50-5e3c0799518c"
      },
      "execution_count": null,
      "outputs": [
        {
          "output_type": "stream",
          "name": "stdout",
          "text": [
            "name\n",
            "likelion\n",
            "기수\n",
            "9\n"
          ]
        }
      ]
    },
    {
      "cell_type": "code",
      "source": [
        "backend.keys(),backend.values()"
      ],
      "metadata": {
        "colab": {
          "base_uri": "https://localhost:8080/"
        },
        "id": "gB8HBu1M6RyD",
        "outputId": "51a380bc-1386-4bb6-f3d0-0bba908681e4"
      },
      "execution_count": null,
      "outputs": [
        {
          "output_type": "execute_result",
          "data": {
            "text/plain": [
              "(dict_keys(['name', '기수']), dict_values(['likelion', 9]))"
            ]
          },
          "metadata": {},
          "execution_count": 90
        }
      ]
    },
    {
      "cell_type": "code",
      "source": [],
      "metadata": {
        "id": "jeI2f1Ng8KNC"
      },
      "execution_count": null,
      "outputs": []
    },
    {
      "cell_type": "code",
      "source": [
        "# 팩토리얼 구하기\n",
        "# 5! = 5*4*3*2*1\n",
        "\n",
        "number = int(input(\"숫자를 넣으세요! : \"))\n",
        "output = 1\n",
        "for i in range(number):\n",
        "  output *= i+1\n",
        "  print(output)"
      ],
      "metadata": {
        "colab": {
          "base_uri": "https://localhost:8080/"
        },
        "id": "I233x8Xe6YKb",
        "outputId": "1802d589-3513-4de4-e805-9393d260d05b"
      },
      "execution_count": null,
      "outputs": [
        {
          "output_type": "stream",
          "name": "stdout",
          "text": [
            "숫자를 넣으세요! : 5\n",
            "1\n",
            "2\n",
            "6\n",
            "24\n",
            "120\n"
          ]
        }
      ]
    },
    {
      "cell_type": "code",
      "source": [
        "count = 0\n",
        "while True:\n",
        "  count += 1\n",
        "  if count%2==0:\n",
        "    continue\n",
        "  print(count)\n",
        "  if count > 10:\n",
        "    break\n"
      ],
      "metadata": {
        "colab": {
          "base_uri": "https://localhost:8080/"
        },
        "id": "_lAh5Q2-7XYn",
        "outputId": "eb668e11-e9bc-4c3c-89c8-20f3704b47d3"
      },
      "execution_count": null,
      "outputs": [
        {
          "output_type": "stream",
          "name": "stdout",
          "text": [
            "1\n",
            "3\n",
            "5\n",
            "7\n",
            "9\n",
            "11\n"
          ]
        }
      ]
    },
    {
      "cell_type": "code",
      "source": [
        "# 빵집 쇼핑 프로그램 만들어 볼까?\n",
        "# 메뉴\n",
        "# 고객이 빵주세요 -> 주문\n",
        "# 주인이 여깄습니다 -> 주기"
      ],
      "metadata": {
        "id": "qggYiYrV87ND"
      },
      "execution_count": null,
      "outputs": []
    },
    {
      "cell_type": "code",
      "source": [
        "menu = ['카스테라','단팥빵','크림빵']\n",
        "while True:\n",
        "  print(\"우리 가게의 메뉴\")\n",
        "  print(menu)\n",
        "  # 주문하기\n",
        "  order = int(input(\"숫자를 0:카스테라, 1:단팥빵, 2:크림빵 중에 선택하세요(안살거면 9누르기) : \"))\n",
        "  # 만약에 9가 눌려지면 나가자\n",
        "  if order == 9:\n",
        "    break\n",
        "  print(\"{} 주세요.\".format(menu[(order)]))\n",
        "  # 빵 주기\n",
        "  print(\"{} 여기 있습니다.\".format(menu[(order)]))\n",
        "print(\"이용해 주셔서 감사합니다.\")\n",
        "  # break"
      ],
      "metadata": {
        "colab": {
          "base_uri": "https://localhost:8080/"
        },
        "id": "8cs9fmM3-muD",
        "outputId": "2bf13e0b-4b2b-4f5d-989a-e7b1ece83884"
      },
      "execution_count": null,
      "outputs": [
        {
          "output_type": "stream",
          "name": "stdout",
          "text": [
            "우리 가게의 메뉴\n",
            "['카스테라', '단팥빵', '크림빵']\n",
            "숫자를 0:카스테라, 1:단팥빵, 2:크림빵 중에 선택하세요(안살거면 9누르기) : 0\n",
            "카스테라 주세요.\n",
            "카스테라 여기 있습니다.\n",
            "우리 가게의 메뉴\n",
            "['카스테라', '단팥빵', '크림빵']\n",
            "숫자를 0:카스테라, 1:단팥빵, 2:크림빵 중에 선택하세요(안살거면 9누르기) : 1\n",
            "단팥빵 주세요.\n",
            "단팥빵 여기 있습니다.\n",
            "우리 가게의 메뉴\n",
            "['카스테라', '단팥빵', '크림빵']\n",
            "숫자를 0:카스테라, 1:단팥빵, 2:크림빵 중에 선택하세요(안살거면 9누르기) : 9\n",
            "이용해 주셔서 감사합니다.\n"
          ]
        }
      ]
    },
    {
      "cell_type": "code",
      "source": [
        "# 배달의 민족 - 라이더\n",
        "areas = ['서울','경기','부산','대구']\n",
        "# 배차 지역이 하나씩 나온다\n",
        "# 내가 배달가고 싶은 지역이면 배차 신청을 누른다\n",
        "# 배차 신청을 하면 간다 -> 10000원 벌기\n",
        "# 퇴근을 누르면 끝\n",
        "income = 0\n",
        "for area in areas:\n",
        "  print(f\"{area}로 주문이 나왔습니다.\")\n",
        "  answer = input(\"가실래요?? (y/n) : \")\n",
        "  # print(answer)\n",
        "  # y면 가고, n이면 안가야지\n",
        "  if answer == 'y':\n",
        "    print(\"{}로 배송 출발합니다\".format(area))\n",
        "    print(\"1만원 벌었어요\")\n",
        "    income +=10000\n",
        "  elif answer =='n':\n",
        "    print(\"{}는 안갈래요\".format(area))\n",
        "  else:\n",
        "    print(\"퇴근할래요!!\")\n",
        "    break\n",
        "print(\"오늘 하루도 고생하셨습니다!\")\n",
        "print(\"오늘은 %d원 버셨군요!\"%income)"
      ],
      "metadata": {
        "colab": {
          "base_uri": "https://localhost:8080/"
        },
        "id": "OFP17NIV-4Js",
        "outputId": "30ffb46b-ef1d-434a-bf60-4259347cd32f"
      },
      "execution_count": null,
      "outputs": [
        {
          "output_type": "stream",
          "name": "stdout",
          "text": [
            "서울로 주문이 나왔습니다.\n",
            "가실래요?? (y/n) : y\n",
            "서울로 배송 출발합니다\n",
            "1만원 벌었어요\n",
            "경기로 주문이 나왔습니다.\n",
            "가실래요?? (y/n) : y\n",
            "경기로 배송 출발합니다\n",
            "1만원 벌었어요\n",
            "부산로 주문이 나왔습니다.\n",
            "가실래요?? (y/n) : n\n",
            "부산는 안갈래요\n",
            "대구로 주문이 나왔습니다.\n",
            "가실래요?? (y/n) : p\n",
            "퇴근할래요!!\n",
            "오늘 하루도 고생하셨습니다!\n",
            "오늘은 20000원 버셨군요!\n"
          ]
        }
      ]
    },
    {
      "cell_type": "code",
      "source": [
        "while True:\n",
        "  print(\"배달 가능한 지역:\", areas)\n",
        "  choice = input(\"배달을 원하는 지역을 선택하세여 (퇴근: q):\")\n",
        "  if choice == 'q':\n",
        "    print(\"퇴근합니다.\")\n",
        "    print(\"오늘 총 벌은 금액은 {}원입니다.\".format(total_earning))\n",
        "  if choice in areas:\n",
        "    print(\"배차 신청을 합니다.\")\n",
        "    print(\"배달을 완료하였습니다. 10,000원을 벌었습니다.\")\n",
        "    total_earning += 10000\n",
        "  else:\n",
        "    print(\"배달 가능한 지역이 아닙니다. 다른 지역을 선택하세요.\")"
      ],
      "metadata": {
        "colab": {
          "base_uri": "https://localhost:8080/",
          "height": 294
        },
        "id": "4qsXIAjDFuUc",
        "outputId": "16f6e1dc-c399-44d6-d554-a0a9a95951ce"
      },
      "execution_count": null,
      "outputs": [
        {
          "output_type": "stream",
          "name": "stdout",
          "text": [
            "배달 가능한 지역: ['서울', '경기', '부산', '대구']\n",
            "배달을 원하는 지역을 선택하세여 (퇴근: q):서울\n",
            "배차 신청을 합니다.\n",
            "배달을 완료하였습니다. 10,000원을 벌었습니다.\n"
          ]
        },
        {
          "output_type": "error",
          "ename": "NameError",
          "evalue": "name 'total_earning' is not defined",
          "traceback": [
            "\u001b[0;31m---------------------------------------------------------------------------\u001b[0m",
            "\u001b[0;31mNameError\u001b[0m                                 Traceback (most recent call last)",
            "\u001b[0;32m<ipython-input-130-a47aa495bb35>\u001b[0m in \u001b[0;36m<cell line: 1>\u001b[0;34m()\u001b[0m\n\u001b[1;32m      8\u001b[0m     \u001b[0mprint\u001b[0m\u001b[0;34m(\u001b[0m\u001b[0;34m\"배차 신청을 합니다.\"\u001b[0m\u001b[0;34m)\u001b[0m\u001b[0;34m\u001b[0m\u001b[0;34m\u001b[0m\u001b[0m\n\u001b[1;32m      9\u001b[0m     \u001b[0mprint\u001b[0m\u001b[0;34m(\u001b[0m\u001b[0;34m\"배달을 완료하였습니다. 10,000원을 벌었습니다.\"\u001b[0m\u001b[0;34m)\u001b[0m\u001b[0;34m\u001b[0m\u001b[0;34m\u001b[0m\u001b[0m\n\u001b[0;32m---> 10\u001b[0;31m     \u001b[0mtotal_earning\u001b[0m \u001b[0;34m+=\u001b[0m \u001b[0;36m10000\u001b[0m\u001b[0;34m\u001b[0m\u001b[0;34m\u001b[0m\u001b[0m\n\u001b[0m\u001b[1;32m     11\u001b[0m   \u001b[0;32melse\u001b[0m\u001b[0;34m:\u001b[0m\u001b[0;34m\u001b[0m\u001b[0;34m\u001b[0m\u001b[0m\n\u001b[1;32m     12\u001b[0m     \u001b[0mprint\u001b[0m\u001b[0;34m(\u001b[0m\u001b[0;34m\"배달 가능한 지역이 아닙니다. 다른 지역을 선택하세요.\"\u001b[0m\u001b[0;34m)\u001b[0m\u001b[0;34m\u001b[0m\u001b[0;34m\u001b[0m\u001b[0m\n",
            "\u001b[0;31mNameError\u001b[0m: name 'total_earning' is not defined"
          ]
        }
      ]
    },
    {
      "cell_type": "markdown",
      "source": [
        "# 리스트 컴프리헨션"
      ],
      "metadata": {
        "id": "dQz32KeDLc27"
      }
    },
    {
      "cell_type": "code",
      "source": [
        "a = [0,1,2,3,4,5]\n",
        "a"
      ],
      "metadata": {
        "colab": {
          "base_uri": "https://localhost:8080/"
        },
        "id": "5KsKERa2K30m",
        "outputId": "e64f8630-1738-4277-b293-2fef094d61ac"
      },
      "execution_count": null,
      "outputs": [
        {
          "output_type": "execute_result",
          "data": {
            "text/plain": [
              "[0, 1, 2, 3, 4, 5]"
            ]
          },
          "metadata": {},
          "execution_count": 135
        }
      ]
    },
    {
      "cell_type": "code",
      "source": [
        "%%time\n",
        "number = 100000\n",
        "a_for=[]\n",
        "for i in range(number):\n",
        "  a_for.append(i)"
      ],
      "metadata": {
        "colab": {
          "base_uri": "https://localhost:8080/"
        },
        "id": "_NGISDuULyqk",
        "outputId": "5bac5c7e-24b8-4d6d-aa86-9a774c4b3c0e"
      },
      "execution_count": null,
      "outputs": [
        {
          "output_type": "stream",
          "name": "stdout",
          "text": [
            "CPU times: user 8.94 ms, sys: 1e+03 µs, total: 9.94 ms\n",
            "Wall time: 10.9 ms\n"
          ]
        }
      ]
    },
    {
      "cell_type": "code",
      "source": [
        "%%time\n",
        "a_comp = [i for i in range(number)]\n",
        "# a_comp"
      ],
      "metadata": {
        "colab": {
          "base_uri": "https://localhost:8080/"
        },
        "id": "kfsDI1X1Lpu1",
        "outputId": "6ae1fe46-0a4c-45d6-b649-fa4c124261d2"
      },
      "execution_count": null,
      "outputs": [
        {
          "output_type": "stream",
          "name": "stdout",
          "text": [
            "CPU times: user 3.95 ms, sys: 1.01 ms, total: 4.96 ms\n",
            "Wall time: 4.98 ms\n"
          ]
        }
      ]
    },
    {
      "cell_type": "code",
      "source": [
        "a_comp = [i for i in range(10)]\n",
        "a_comp\n"
      ],
      "metadata": {
        "colab": {
          "base_uri": "https://localhost:8080/"
        },
        "id": "GZqCkM7WMP8c",
        "outputId": "8732dcdd-d480-45a5-e5d5-555b9e0fc218"
      },
      "execution_count": null,
      "outputs": [
        {
          "output_type": "execute_result",
          "data": {
            "text/plain": [
              "[0, 1, 2, 3, 4, 5, 6, 7, 8, 9]"
            ]
          },
          "metadata": {},
          "execution_count": 151
        }
      ]
    },
    {
      "cell_type": "code",
      "source": [
        "# 짝수로만 만들고 싶은데??\n",
        "a_comp = [i for i in range(10) if i%2==0]\n",
        "a_comp"
      ],
      "metadata": {
        "colab": {
          "base_uri": "https://localhost:8080/"
        },
        "id": "tiTaTx2BNSqF",
        "outputId": "6d236ad7-5035-4535-ac0d-b6a48ca7939d"
      },
      "execution_count": null,
      "outputs": [
        {
          "output_type": "execute_result",
          "data": {
            "text/plain": [
              "[0, 2, 4, 6, 8]"
            ]
          },
          "metadata": {},
          "execution_count": 152
        }
      ]
    },
    {
      "cell_type": "code",
      "source": [
        "name = \"Korea\"\n",
        "name if len(name) > 3 else \"America\""
      ],
      "metadata": {
        "colab": {
          "base_uri": "https://localhost:8080/",
          "height": 35
        },
        "id": "vUPrW2tkQ-rT",
        "outputId": "b87a7cb4-e54d-45bd-f188-4db67cb2980f"
      },
      "execution_count": null,
      "outputs": [
        {
          "output_type": "execute_result",
          "data": {
            "text/plain": [
              "'Korea'"
            ],
            "application/vnd.google.colaboratory.intrinsic+json": {
              "type": "string"
            }
          },
          "metadata": {},
          "execution_count": 160
        }
      ]
    },
    {
      "cell_type": "code",
      "source": [
        "# 짝수는 1씩 빼고 싶어 ex) 2 -> 1\n",
        "# 짝수일때만 리스트에 넣는데 1씩 빼서 넣을게\n",
        "a_comp = [i-1 for i in range(10) if i%2==0 ]\n",
        "a_comp"
      ],
      "metadata": {
        "colab": {
          "base_uri": "https://localhost:8080/"
        },
        "id": "csz1bXWINjAu",
        "outputId": "ee20b3a8-632f-44ba-f752-09d0a6311b6a"
      },
      "execution_count": null,
      "outputs": [
        {
          "output_type": "execute_result",
          "data": {
            "text/plain": [
              "[-1, 1, 3, 5, 7]"
            ]
          },
          "metadata": {},
          "execution_count": 188
        }
      ]
    },
    {
      "cell_type": "code",
      "source": [
        "# 모든 숫자를 넣는데 짝수일때는 1씩 빼고 싶어\n",
        "a_comp = [i-1 if i%2==0 else i for i in range(10)]\n",
        "a_comp"
      ],
      "metadata": {
        "colab": {
          "base_uri": "https://localhost:8080/"
        },
        "id": "DzuVQ5_VOHHO",
        "outputId": "18c3b216-d229-448c-b095-ea1e3ff1b3cc"
      },
      "execution_count": null,
      "outputs": [
        {
          "output_type": "execute_result",
          "data": {
            "text/plain": [
              "[-1, 1, 1, 3, 3, 5, 5, 7, 7, 9]"
            ]
          },
          "metadata": {},
          "execution_count": 164
        }
      ]
    },
    {
      "cell_type": "code",
      "source": [
        "netflix_dict = {\"name\":\"오징어게임\",\"배우\":\"이정재\"}"
      ],
      "metadata": {
        "id": "rSXbg0jmR-jd"
      },
      "execution_count": null,
      "outputs": []
    },
    {
      "cell_type": "code",
      "source": [
        "a_dict_comp = { 키:벨류 for i in ...}"
      ],
      "metadata": {
        "colab": {
          "base_uri": "https://localhost:8080/",
          "height": 147
        },
        "id": "D44Z7biGSgA3",
        "outputId": "28d7cc0e-7803-4a54-9791-a4724dc3ddfe"
      },
      "execution_count": null,
      "outputs": [
        {
          "output_type": "error",
          "ename": "TypeError",
          "evalue": "'ellipsis' object is not iterable",
          "traceback": [
            "\u001b[0;31m---------------------------------------------------------------------------\u001b[0m",
            "\u001b[0;31mTypeError\u001b[0m                                 Traceback (most recent call last)",
            "\u001b[0;32m<ipython-input-166-73688c11a36d>\u001b[0m in \u001b[0;36m<cell line: 1>\u001b[0;34m()\u001b[0m\n\u001b[0;32m----> 1\u001b[0;31m \u001b[0ma_dict_comp\u001b[0m \u001b[0;34m=\u001b[0m \u001b[0;34m{\u001b[0m \u001b[0m키\u001b[0m\u001b[0;34m:\u001b[0m\u001b[0m벨류\u001b[0m \u001b[0;32mfor\u001b[0m \u001b[0mi\u001b[0m \u001b[0;32min\u001b[0m \u001b[0;34m...\u001b[0m\u001b[0;34m}\u001b[0m\u001b[0;34m\u001b[0m\u001b[0;34m\u001b[0m\u001b[0m\n\u001b[0m",
            "\u001b[0;31mTypeError\u001b[0m: 'ellipsis' object is not iterable"
          ]
        }
      ]
    },
    {
      "cell_type": "code",
      "source": [
        "a_dict_comp = { a:a for a in range(8)}\n",
        "a_dict_comp"
      ],
      "metadata": {
        "colab": {
          "base_uri": "https://localhost:8080/"
        },
        "id": "PeTPFWLBSyD1",
        "outputId": "40f3fb9a-2a20-4962-80c5-76ee626e306c"
      },
      "execution_count": null,
      "outputs": [
        {
          "output_type": "execute_result",
          "data": {
            "text/plain": [
              "{0: 0, 1: 1, 2: 2, 3: 3, 4: 4, 5: 5, 6: 6, 7: 7}"
            ]
          },
          "metadata": {},
          "execution_count": 169
        }
      ]
    },
    {
      "cell_type": "code",
      "source": [
        "a_dict_comp = { a:a**2 for a in range(8)}\n",
        "a_dict_comp"
      ],
      "metadata": {
        "colab": {
          "base_uri": "https://localhost:8080/"
        },
        "id": "aYA9pruHTBs3",
        "outputId": "f47e303e-6aca-490f-d740-06b2797d0e82"
      },
      "execution_count": null,
      "outputs": [
        {
          "output_type": "execute_result",
          "data": {
            "text/plain": [
              "{0: 0, 1: 1, 2: 4, 3: 9, 4: 16, 5: 25, 6: 36, 7: 49}"
            ]
          },
          "metadata": {},
          "execution_count": 170
        }
      ]
    },
    {
      "cell_type": "code",
      "source": [
        "movie_titles = [\n",
        "    \"어벤져스: 엔드게임\",\n",
        "    \"인셉션\",\n",
        "    \"스타워즈: 깨어난 포스\",\n",
        "    \"타이타닉\",\n",
        "    \"어바웃 타임\",\n",
        "    \"라라랜드\",\n",
        "    \"어벤져스: 인피니티 워\",\n",
        "    \"해리포터와 마법사의 돌\",\n",
        "    \"겨울왕국\",\n",
        "    \"매트릭스\"\n",
        "]\n",
        "\n",
        "main_characters =[\n",
        "    \"토니스타크\",\n",
        "    \"도미닉 코브\",\n",
        "    \"레이\"\n",
        "    \"잭 드로즈\",\n",
        "    \"팀\",\n",
        "    \"세바스찬\",\n",
        "    \"토르\",\n",
        "    \"해리포터\",\n",
        "    \"엘사\",\n",
        "    \"네오\"\n",
        "]"
      ],
      "metadata": {
        "id": "qUi45TngTIu2"
      },
      "execution_count": null,
      "outputs": []
    },
    {
      "cell_type": "code",
      "source": [
        "# 출력 : 어벤져스의 주인공은 토니 스타크입니다.\n",
        "for tmp in zip(movie_titles, main_characters):\n",
        "  print(\"{}의 주인공은 {}입니다.\".format(tmp[0], tmp[1]))"
      ],
      "metadata": {
        "colab": {
          "base_uri": "https://localhost:8080/"
        },
        "id": "rnHToy1XToP1",
        "outputId": "645674db-9b45-4fbc-e8af-2f94c3ee435f"
      },
      "execution_count": null,
      "outputs": [
        {
          "output_type": "stream",
          "name": "stdout",
          "text": [
            "어벤져스: 엔드게임의 주인공은 토니스타크입니다.\n",
            "인셉션의 주인공은 도미닉 코브입니다.\n",
            "스타워즈: 깨어난 포스의 주인공은 레이잭 드로즈입니다.\n",
            "타이타닉의 주인공은 팀입니다.\n",
            "어바웃 타임의 주인공은 세바스찬입니다.\n",
            "라라랜드의 주인공은 토르입니다.\n",
            "어벤져스: 인피니티 워의 주인공은 해리포터입니다.\n",
            "해리포터와 마법사의 돌의 주인공은 엘사입니다.\n",
            "겨울왕국의 주인공은 네오입니다.\n"
          ]
        }
      ]
    },
    {
      "cell_type": "code",
      "source": [
        "# 출력 : 어벤져스의 주인공은 토니 스타크입니다.\n",
        "for title, character in zip(movie_titles, main_characters):\n",
        "  print(\"{}의 주인공은 {}입니다.\".format(title, character))"
      ],
      "metadata": {
        "colab": {
          "base_uri": "https://localhost:8080/"
        },
        "id": "d27woexgUNO1",
        "outputId": "bac6f2c8-fede-4b49-9e77-b47a89960479"
      },
      "execution_count": null,
      "outputs": [
        {
          "output_type": "stream",
          "name": "stdout",
          "text": [
            "어벤져스: 엔드게임의 주인공은 토니스타크입니다.\n",
            "인셉션의 주인공은 도미닉 코브입니다.\n",
            "스타워즈: 깨어난 포스의 주인공은 레이잭 드로즈입니다.\n",
            "타이타닉의 주인공은 팀입니다.\n",
            "어바웃 타임의 주인공은 세바스찬입니다.\n",
            "라라랜드의 주인공은 토르입니다.\n",
            "어벤져스: 인피니티 워의 주인공은 해리포터입니다.\n",
            "해리포터와 마법사의 돌의 주인공은 엘사입니다.\n",
            "겨울왕국의 주인공은 네오입니다.\n"
          ]
        }
      ]
    },
    {
      "cell_type": "code",
      "source": [
        "movie_characters = {title:character for title, character in zip(movie_titles, main_characters)}\n",
        "movie_characters"
      ],
      "metadata": {
        "colab": {
          "base_uri": "https://localhost:8080/"
        },
        "id": "gIw2tVSzVF_-",
        "outputId": "c3e63f5f-7fd6-4e3b-9c35-27d968c63f46"
      },
      "execution_count": null,
      "outputs": [
        {
          "output_type": "execute_result",
          "data": {
            "text/plain": [
              "{'어벤져스: 엔드게임': '토니스타크',\n",
              " '인셉션': '도미닉 코브',\n",
              " '스타워즈: 깨어난 포스': '레이잭 드로즈',\n",
              " '타이타닉': '팀',\n",
              " '어바웃 타임': '세바스찬',\n",
              " '라라랜드': '토르',\n",
              " '어벤져스: 인피니티 워': '해리포터',\n",
              " '해리포터와 마법사의 돌': '엘사',\n",
              " '겨울왕국': '네오'}"
            ]
          },
          "metadata": {},
          "execution_count": 181
        }
      ]
    },
    {
      "cell_type": "code",
      "source": [
        "x = [1, 2, 3]\n",
        "y = [1, 2, 3]\n",
        "z = x\n",
        "y[1]=100\n",
        "y"
      ],
      "metadata": {
        "colab": {
          "base_uri": "https://localhost:8080/"
        },
        "id": "0JfRdSgCXcsN",
        "outputId": "16b4b4a3-3adb-4f17-d3ad-371ba77d9e9e"
      },
      "execution_count": null,
      "outputs": [
        {
          "output_type": "execute_result",
          "data": {
            "text/plain": [
              "[1, 100, 3]"
            ]
          },
          "metadata": {},
          "execution_count": 190
        }
      ]
    },
    {
      "cell_type": "code",
      "source": [
        "# 1. 0 0+1 1 1+1 2 2+1 3 3+2 5\n",
        "i = 0\n",
        "j = 0\n",
        "n = int(input(\"숫자를 입력해 주세요! : \"))\n",
        "for j in range(n):\n",
        "  if i == 0:\n",
        "    i += 1\n",
        "  print(sum)\n",
        "  sum = i + (i-1)\n"
      ],
      "metadata": {
        "colab": {
          "base_uri": "https://localhost:8080/"
        },
        "id": "IAUYZP3SpG2_",
        "outputId": "7d0a4d07-8478-4410-e999-8b71cdb43d56"
      },
      "execution_count": null,
      "outputs": [
        {
          "output_type": "stream",
          "name": "stdout",
          "text": [
            "숫자를 입력해 주세요! : 10\n",
            "1\n",
            "1\n",
            "1\n",
            "1\n",
            "1\n",
            "1\n",
            "1\n",
            "1\n",
            "1\n",
            "1\n"
          ]
        }
      ]
    },
    {
      "cell_type": "code",
      "source": [
        "# 6.\n",
        "i = 0\n",
        "j = 0\n",
        "n = int(input(\"숫자를 입력해 주세요! : \"))\n",
        "for i in range(n):\n",
        "  for j in range(n):\n",
        "    print(\"*\")\n",
        "    j += 1\n",
        "  i += 1\n",
        "\n"
      ],
      "metadata": {
        "colab": {
          "base_uri": "https://localhost:8080/"
        },
        "id": "Zxi_htPwzhRA",
        "outputId": "ddd0955a-62bd-4ef6-d188-f37a25a613f8"
      },
      "execution_count": null,
      "outputs": [
        {
          "output_type": "stream",
          "name": "stdout",
          "text": [
            "숫자를 입력해 주세요! : 4\n",
            "*\n",
            "*\n",
            "*\n",
            "*\n",
            "*\n",
            "*\n",
            "*\n",
            "*\n",
            "*\n",
            "*\n",
            "*\n",
            "*\n",
            "*\n",
            "*\n",
            "*\n",
            "*\n"
          ]
        }
      ]
    },
    {
      "cell_type": "code",
      "source": [],
      "metadata": {
        "id": "HPDkHBc71RZJ"
      },
      "execution_count": null,
      "outputs": []
    }
  ]
}