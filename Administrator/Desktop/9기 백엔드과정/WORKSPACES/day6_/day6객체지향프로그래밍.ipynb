{
  "nbformat": 4,
  "nbformat_minor": 0,
  "metadata": {
    "colab": {
      "provenance": []
    },
    "kernelspec": {
      "name": "python3",
      "display_name": "Python 3"
    },
    "language_info": {
      "name": "python"
    }
  },
  "cells": [
    {
      "cell_type": "code",
      "execution_count": null,
      "metadata": {
        "id": "6TYXaXxhpQ8j"
      },
      "outputs": [],
      "source": [
        "# 은행 계좌 클래스\n",
        "class BankAccount: # bankaccount, bank_account,,..... BANKACCOUNT,,.. 클래스는 카멜 표기법을 사용하는게 좋다\n",
        "  def __init__(self):\n",
        "    self.owner = 'my_name'"
      ]
    },
    {
      "cell_type": "code",
      "source": [
        "my_account = BankAccount()"
      ],
      "metadata": {
        "id": "BrgJifVvx78t"
      },
      "execution_count": null,
      "outputs": []
    },
    {
      "cell_type": "code",
      "source": [
        "my_account.owner"
      ],
      "metadata": {
        "colab": {
          "base_uri": "https://localhost:8080/",
          "height": 35
        },
        "id": "KGkgnAwSyE1c",
        "outputId": "d4250318-2632-4a8d-f7af-5cebcd42b98f"
      },
      "execution_count": null,
      "outputs": [
        {
          "output_type": "execute_result",
          "data": {
            "text/plain": [
              "'my_name'"
            ],
            "application/vnd.google.colaboratory.intrinsic+json": {
              "type": "string"
            }
          },
          "metadata": {},
          "execution_count": 3
        }
      ]
    },
    {
      "cell_type": "code",
      "source": [
        "# 은행 계좌 클래스\n",
        "# 고객이 계좌를 만들어 달라고 하시면, 이름과 전화번호를 반영해서 계좌를 만들어 주세요(메뉴얼)\n",
        "class BankAccount:\n",
        "  def __init__(self, owner, phone):\n",
        "    self.owner = owner\n",
        "    self.phone = phone"
      ],
      "metadata": {
        "id": "cJnUqca0yW73"
      },
      "execution_count": null,
      "outputs": []
    },
    {
      "cell_type": "code",
      "source": [
        "my_account = BankAccount('윤아', '01012340000')"
      ],
      "metadata": {
        "id": "iX4izykPy9wQ"
      },
      "execution_count": null,
      "outputs": []
    },
    {
      "cell_type": "code",
      "source": [
        "my_account.owner"
      ],
      "metadata": {
        "colab": {
          "base_uri": "https://localhost:8080/",
          "height": 35
        },
        "id": "AMjU2TVlzHPY",
        "outputId": "cf117526-a141-45a6-d03f-6f03425d43b2"
      },
      "execution_count": null,
      "outputs": [
        {
          "output_type": "execute_result",
          "data": {
            "text/plain": [
              "'윤아'"
            ],
            "application/vnd.google.colaboratory.intrinsic+json": {
              "type": "string"
            }
          },
          "metadata": {},
          "execution_count": 8
        }
      ]
    },
    {
      "cell_type": "code",
      "source": [
        "my_account.phone"
      ],
      "metadata": {
        "colab": {
          "base_uri": "https://localhost:8080/",
          "height": 35
        },
        "id": "WLOvnOdRzLui",
        "outputId": "7376cb00-8b2a-486f-a951-1fd5ec38b60a"
      },
      "execution_count": null,
      "outputs": [
        {
          "output_type": "execute_result",
          "data": {
            "text/plain": [
              "'01012340000'"
            ],
            "application/vnd.google.colaboratory.intrinsic+json": {
              "type": "string"
            }
          },
          "metadata": {},
          "execution_count": 9
        }
      ]
    },
    {
      "cell_type": "code",
      "source": [
        "# 은행 계좌 클래스\n",
        "# 고객이 계좌를 만들어 달라고 하시면, 이름과 전화번호를 반영해서 계좌를 만들어 주세요(메뉴얼)\n",
        "class BankAccount:\n",
        "  def __init__(self, owner, phone):\n",
        "    self.owner = owner\n",
        "    self.phone = phone\n",
        "  def deposit(self):\n",
        "    print(\"입금했습니다!\")"
      ],
      "metadata": {
        "id": "IcRBIDHwzg0z"
      },
      "execution_count": null,
      "outputs": []
    },
    {
      "cell_type": "code",
      "source": [
        "my_account = BankAccount('민석',\"01012341111\")"
      ],
      "metadata": {
        "id": "79ZQ8o9d0Kmy"
      },
      "execution_count": null,
      "outputs": []
    },
    {
      "cell_type": "code",
      "source": [
        "my_account.deposit()"
      ],
      "metadata": {
        "colab": {
          "base_uri": "https://localhost:8080/"
        },
        "id": "-HV90Vz60Qeg",
        "outputId": "8bc56331-c0a9-4bf0-aa0b-383c2c9098b0"
      },
      "execution_count": null,
      "outputs": [
        {
          "output_type": "stream",
          "name": "stdout",
          "text": [
            "입금했습니다!\n"
          ]
        }
      ]
    },
    {
      "cell_type": "code",
      "source": [
        "class BankAccount:\n",
        "  def __init__(self, owner, balance = 0):\n",
        "    self.owner = owner\n",
        "    self.balance = balance\n",
        "  def deposit(self, amount):\n",
        "    self.balance += amount\n",
        "    print(\"{}가 {}님 계좌에 입금되었습니다\".format(amount, self.owner))\n",
        "  def get_money(self, amount):\n",
        "    if self.balance >= amount:\n",
        "      print(f\"{self.owner}님의 계좌에서 {amount}가 출금되었습니다.\")\n",
        "      self.balance -= amount\n",
        "    else:\n",
        "      print(\"잔액이 부족하네요!\")\n",
        "my_account = BankAccount(\"희성\", balance = 1000000)"
      ],
      "metadata": {
        "id": "MiiSACK21GTr"
      },
      "execution_count": null,
      "outputs": []
    },
    {
      "cell_type": "code",
      "source": [
        "my_account.deposit(500000)"
      ],
      "metadata": {
        "colab": {
          "base_uri": "https://localhost:8080/"
        },
        "id": "zVbHH_FD3DDz",
        "outputId": "7970a26b-2116-4988-ac43-2d08cc67bd6a"
      },
      "execution_count": null,
      "outputs": [
        {
          "output_type": "stream",
          "name": "stdout",
          "text": [
            "500000가 희성님 계좌에 입금되었습니다\n"
          ]
        }
      ]
    },
    {
      "cell_type": "code",
      "source": [
        "my_account.balance"
      ],
      "metadata": {
        "colab": {
          "base_uri": "https://localhost:8080/"
        },
        "id": "U_oSc8eX3Nws",
        "outputId": "4cf875db-f928-414b-c87e-66f5a4364e85"
      },
      "execution_count": null,
      "outputs": [
        {
          "output_type": "execute_result",
          "data": {
            "text/plain": [
              "1500000"
            ]
          },
          "metadata": {},
          "execution_count": 24
        }
      ]
    },
    {
      "cell_type": "code",
      "source": [
        "my_account.get_money(200000)"
      ],
      "metadata": {
        "colab": {
          "base_uri": "https://localhost:8080/"
        },
        "id": "BkAl-V-P3TXA",
        "outputId": "8f2a5e3a-9601-48c8-cea5-c9b21be2bc12"
      },
      "execution_count": null,
      "outputs": [
        {
          "output_type": "stream",
          "name": "stdout",
          "text": [
            "희성님의 계좌에서 200000가 출금되었습니다.\n"
          ]
        }
      ]
    },
    {
      "cell_type": "code",
      "source": [
        "my_account.balance"
      ],
      "metadata": {
        "colab": {
          "base_uri": "https://localhost:8080/"
        },
        "id": "3FIXE8Id3X6j",
        "outputId": "4e4cd5dc-5705-4be1-83b2-26f038a39aea"
      },
      "execution_count": null,
      "outputs": [
        {
          "output_type": "execute_result",
          "data": {
            "text/plain": [
              "1300000"
            ]
          },
          "metadata": {},
          "execution_count": 26
        }
      ]
    },
    {
      "cell_type": "code",
      "source": [
        "my_account.get_money(2000000)"
      ],
      "metadata": {
        "colab": {
          "base_uri": "https://localhost:8080/"
        },
        "id": "ai6ns1C_3ifl",
        "outputId": "7617e7f0-1c29-45c6-b55e-79dcfbbf19eb"
      },
      "execution_count": null,
      "outputs": [
        {
          "output_type": "stream",
          "name": "stdout",
          "text": [
            "잔액이 부족하네요!\n"
          ]
        }
      ]
    },
    {
      "cell_type": "code",
      "source": [
        "account1 = BankAccount(\"용진\", 1000000)\n",
        "account2 = BankAccount(\"예찬\", 510000)\n",
        "account3 = BankAccount(\"여진\", -100000000)"
      ],
      "metadata": {
        "id": "3BgdUprf3rn6"
      },
      "execution_count": null,
      "outputs": []
    },
    {
      "cell_type": "code",
      "source": [
        "account1,account2,account3"
      ],
      "metadata": {
        "colab": {
          "base_uri": "https://localhost:8080/"
        },
        "id": "zc05SYW44CIA",
        "outputId": "88de1157-a7bb-400b-fc45-5089772a2da1"
      },
      "execution_count": null,
      "outputs": [
        {
          "output_type": "execute_result",
          "data": {
            "text/plain": [
              "(<__main__.BankAccount at 0x7ebea11546d0>,\n",
              " <__main__.BankAccount at 0x7ebea1155210>,\n",
              " <__main__.BankAccount at 0x7ebea1155b40>)"
            ]
          },
          "metadata": {},
          "execution_count": 29
        }
      ]
    },
    {
      "cell_type": "code",
      "source": [
        "account1.owner"
      ],
      "metadata": {
        "colab": {
          "base_uri": "https://localhost:8080/",
          "height": 35
        },
        "id": "hWceOqPz4LjJ",
        "outputId": "a555049d-f4ea-4af5-b36e-be2f65877e8a"
      },
      "execution_count": null,
      "outputs": [
        {
          "output_type": "execute_result",
          "data": {
            "text/plain": [
              "'용진'"
            ],
            "application/vnd.google.colaboratory.intrinsic+json": {
              "type": "string"
            }
          },
          "metadata": {},
          "execution_count": 30
        }
      ]
    },
    {
      "cell_type": "code",
      "source": [
        "account2.balance"
      ],
      "metadata": {
        "colab": {
          "base_uri": "https://localhost:8080/"
        },
        "id": "jfT3wXYY4QdU",
        "outputId": "1c3904b2-657d-4dc1-e807-ca40dd88836c"
      },
      "execution_count": null,
      "outputs": [
        {
          "output_type": "execute_result",
          "data": {
            "text/plain": [
              "510000"
            ]
          },
          "metadata": {},
          "execution_count": 31
        }
      ]
    },
    {
      "cell_type": "code",
      "source": [
        "account3.deposit(150000000)"
      ],
      "metadata": {
        "colab": {
          "base_uri": "https://localhost:8080/"
        },
        "id": "XzRAOOMh4Tqx",
        "outputId": "a73fdf8e-368a-4bff-da6d-bd45b5a43620"
      },
      "execution_count": null,
      "outputs": [
        {
          "output_type": "stream",
          "name": "stdout",
          "text": [
            "150000000가 여진님 계좌에 입금되었습니다\n"
          ]
        }
      ]
    },
    {
      "cell_type": "code",
      "source": [
        "account3.balance"
      ],
      "metadata": {
        "colab": {
          "base_uri": "https://localhost:8080/"
        },
        "id": "6dm2KTVU4aiP",
        "outputId": "07c7eacb-8407-41ee-ad23-b5088c6f5acc"
      },
      "execution_count": null,
      "outputs": [
        {
          "output_type": "execute_result",
          "data": {
            "text/plain": [
              "50000000"
            ]
          },
          "metadata": {},
          "execution_count": 33
        }
      ]
    },
    {
      "cell_type": "code",
      "source": [
        "# 자동차\n",
        "class Car:\n",
        "  def __init__(self, make_company, model, year, color, kilos):\n",
        "    self.make_company = make_company\n",
        "    self.model = model\n",
        "    self.year = year\n",
        "    self.color = color\n",
        "    self.kilos = kilos\n",
        "  def drive(self, kilos):\n",
        "    self.kilos += kilos\n",
        "    print(\"총 주행거리는 {}km입니다.\".format(self.kilos))"
      ],
      "metadata": {
        "id": "DEfqVj9O5CQx"
      },
      "execution_count": null,
      "outputs": []
    },
    {
      "cell_type": "code",
      "source": [
        "car = Car(\"기아\", \"카니발\", 2024, 'white', 0)"
      ],
      "metadata": {
        "id": "7FT-qR3Z9ubK"
      },
      "execution_count": null,
      "outputs": []
    },
    {
      "cell_type": "code",
      "source": [
        "car.drive(5)"
      ],
      "metadata": {
        "colab": {
          "base_uri": "https://localhost:8080/"
        },
        "id": "VlLGLDxU-PP_",
        "outputId": "8c300a78-d3a7-462a-a981-50b32efb924d"
      },
      "execution_count": null,
      "outputs": [
        {
          "output_type": "stream",
          "name": "stdout",
          "text": [
            "총 주행거리는 40km입니다.\n"
          ]
        }
      ]
    },
    {
      "cell_type": "code",
      "source": [
        "car.color = 'red'"
      ],
      "metadata": {
        "id": "uVSY6uhx-hsS"
      },
      "execution_count": null,
      "outputs": []
    },
    {
      "cell_type": "code",
      "source": [
        "# 이커머스\n",
        "class Product:\n",
        "  def __init__(self, name, price):\n",
        "    self.name = name\n",
        "    self.price = price\n",
        "\n",
        "class ShoppingCart:\n",
        "  def __init__(self, customer):\n",
        "    self.customer = customer\n",
        "    self.products = []\n",
        "  def add_product(self, product):\n",
        "    self.products.append(product)\n",
        "  def total_price(self):\n",
        "    return sum(product.price for product in self.products)"
      ],
      "metadata": {
        "id": "hlx-Ry_C_NyN"
      },
      "execution_count": null,
      "outputs": []
    },
    {
      "cell_type": "code",
      "source": [
        "cart = ShoppingCart(\"재준\")\n",
        "cart.add_product( Product(\"PythonBook\",20000))\n",
        "cart.add_product( Product(\"NoteBook\",3000000))"
      ],
      "metadata": {
        "id": "asFlCi5LAOqA"
      },
      "execution_count": null,
      "outputs": []
    },
    {
      "cell_type": "code",
      "source": [
        "cart.total_price()"
      ],
      "metadata": {
        "colab": {
          "base_uri": "https://localhost:8080/"
        },
        "id": "ZaEc0p64Afns",
        "outputId": "32862f63-0dc8-4527-e401-9ec59054bc2f"
      },
      "execution_count": null,
      "outputs": [
        {
          "output_type": "execute_result",
          "data": {
            "text/plain": [
              "3020000"
            ]
          },
          "metadata": {},
          "execution_count": 45
        }
      ]
    },
    {
      "cell_type": "markdown",
      "source": [
        " # 상속"
      ],
      "metadata": {
        "id": "Uyu0XR7wByCn"
      }
    },
    {
      "cell_type": "code",
      "source": [
        "class Animal:\n",
        "  def __init__(self, name):\n",
        "    self.name = name\n",
        "  def speak(self):\n",
        "    raise NotImplementedError(\"아직 구현이 안되었네요\")"
      ],
      "metadata": {
        "id": "GgBNTU2lBz48"
      },
      "execution_count": null,
      "outputs": []
    },
    {
      "cell_type": "code",
      "source": [
        "class Dog(Animal):\n",
        "  def speak(self):\n",
        "    print(\"왈왈!!\")"
      ],
      "metadata": {
        "id": "iyqtHeZHCKEP"
      },
      "execution_count": null,
      "outputs": []
    },
    {
      "cell_type": "code",
      "source": [
        "dog = Dog('dog')"
      ],
      "metadata": {
        "id": "H1c7E-H-DEwk"
      },
      "execution_count": null,
      "outputs": []
    },
    {
      "cell_type": "code",
      "source": [
        "dog.speak()"
      ],
      "metadata": {
        "colab": {
          "base_uri": "https://localhost:8080/"
        },
        "id": "C75lyLPWDOQm",
        "outputId": "949dc2be-c2f4-4082-eec9-49029088983e"
      },
      "execution_count": null,
      "outputs": [
        {
          "output_type": "stream",
          "name": "stdout",
          "text": [
            "왈왈!!\n"
          ]
        }
      ]
    },
    {
      "cell_type": "code",
      "source": [
        "class Cat(Animal):\n",
        "  def speak(self):\n",
        "    print(\"야옹~~!\")\n",
        "  def playing(self):\n",
        "    print(\"재미있게 놉니다!\")"
      ],
      "metadata": {
        "id": "G3olP8LfDR2K"
      },
      "execution_count": null,
      "outputs": []
    },
    {
      "cell_type": "code",
      "source": [
        "cat = Cat('고양이')"
      ],
      "metadata": {
        "id": "lugoa3PyDUwB"
      },
      "execution_count": null,
      "outputs": []
    },
    {
      "cell_type": "code",
      "source": [
        "cat.speak()"
      ],
      "metadata": {
        "colab": {
          "base_uri": "https://localhost:8080/"
        },
        "id": "anZdMbZZDXns",
        "outputId": "196c5d24-d3b2-4ae5-9276-34012a4925fe"
      },
      "execution_count": null,
      "outputs": [
        {
          "output_type": "stream",
          "name": "stdout",
          "text": [
            "야옹~~!\n"
          ]
        }
      ]
    },
    {
      "cell_type": "code",
      "source": [
        "cat.playing()"
      ],
      "metadata": {
        "colab": {
          "base_uri": "https://localhost:8080/"
        },
        "id": "sDQ_DwHpDqeE",
        "outputId": "4767b65a-a6e7-461a-ca0d-7bf6fbdd2fdd"
      },
      "execution_count": null,
      "outputs": [
        {
          "output_type": "stream",
          "name": "stdout",
          "text": [
            "재미있게 놉니다!\n"
          ]
        }
      ]
    },
    {
      "cell_type": "code",
      "source": [
        "# super\n",
        "class Person:\n",
        "  def __init__(self, name):\n",
        "    self.name = name\n",
        "  def introduce(self):\n",
        "    print(\"나는 {}입니다.\".format(self.name))"
      ],
      "metadata": {
        "id": "7w6vVmdgDxlG"
      },
      "execution_count": null,
      "outputs": []
    },
    {
      "cell_type": "code",
      "source": [
        "person = Person(\"일론머스크\")\n",
        "person.introduce()"
      ],
      "metadata": {
        "colab": {
          "base_uri": "https://localhost:8080/"
        },
        "id": "btr64jLnECPa",
        "outputId": "d9310917-6763-4166-abdb-65df88a68528"
      },
      "execution_count": null,
      "outputs": [
        {
          "output_type": "stream",
          "name": "stdout",
          "text": [
            "나는 일론머스크입니다.\n"
          ]
        }
      ]
    },
    {
      "cell_type": "code",
      "source": [
        "class Student(Person):\n",
        "  def __init__(self, name, student_id):\n",
        "    super().__init__(name)\n",
        "    self.student_id = student_id\n",
        "\n",
        "  def introduce(self):\n",
        "    super().introduce()\n",
        "    print(f\"내 학번은 {self.student_id}번 입니다.\")"
      ],
      "metadata": {
        "id": "rzBZc0Y5EJZ6"
      },
      "execution_count": null,
      "outputs": []
    },
    {
      "cell_type": "code",
      "source": [
        "student = Student(\"희성\",1)"
      ],
      "metadata": {
        "id": "Wf5vlbG9Eppc"
      },
      "execution_count": null,
      "outputs": []
    },
    {
      "cell_type": "code",
      "source": [
        "student.introduce()"
      ],
      "metadata": {
        "colab": {
          "base_uri": "https://localhost:8080/"
        },
        "id": "7nLIg7RTEst9",
        "outputId": "41affb61-c897-43a4-a9f1-5650de758e15"
      },
      "execution_count": null,
      "outputs": [
        {
          "output_type": "stream",
          "name": "stdout",
          "text": [
            "나는 희성입니다.\n",
            "내 학번은 1번 입니다.\n"
          ]
        }
      ]
    },
    {
      "cell_type": "code",
      "source": [
        "class Base1:\n",
        "  def __init__(self):\n",
        "    print(\"Base1의 __init__ 실행\")\n",
        "    super().__init__()\n",
        "class Base2:\n",
        "  def __init__(self):\n",
        "    print(\"Base2의 __init__ 실행\")\n",
        "    super().__init__()\n",
        "\n",
        "class Child(Base1, Base2):\n",
        "  def __init__(self):\n",
        "    print(\"Child의 __init__ 실행\")\n",
        "    super().__init__()\n",
        "\n",
        "child = Child()"
      ],
      "metadata": {
        "colab": {
          "base_uri": "https://localhost:8080/"
        },
        "id": "_yWOCU3RFD7d",
        "outputId": "1e20269c-8414-462e-bafc-876d80436737"
      },
      "execution_count": null,
      "outputs": [
        {
          "output_type": "stream",
          "name": "stdout",
          "text": [
            "Child의 __init__ 실행\n",
            "Base1의 __init__ 실행\n",
            "Base2의 __init__ 실행\n"
          ]
        }
      ]
    },
    {
      "cell_type": "code",
      "source": [
        "# Static Method\n",
        "class Math:\n",
        "  def add(self, x, y):\n",
        "    return x + y\n",
        "\n",
        "math = Math()\n",
        "math.add(3, 5)"
      ],
      "metadata": {
        "colab": {
          "base_uri": "https://localhost:8080/"
        },
        "id": "gKXRYpQeG1g8",
        "outputId": "da3abe2b-e1e7-4ee2-b2a4-18b66b1f8aca"
      },
      "execution_count": null,
      "outputs": [
        {
          "output_type": "execute_result",
          "data": {
            "text/plain": [
              "8"
            ]
          },
          "metadata": {},
          "execution_count": 78
        }
      ]
    },
    {
      "cell_type": "code",
      "source": [
        "class Math:\n",
        "  @staticmethod\n",
        "  def multiply(x, y):\n",
        "    return x*y"
      ],
      "metadata": {
        "id": "qt0aaSMrLDBK"
      },
      "execution_count": null,
      "outputs": []
    },
    {
      "cell_type": "code",
      "source": [
        "Math.multiply(3, 8)"
      ],
      "metadata": {
        "colab": {
          "base_uri": "https://localhost:8080/"
        },
        "id": "gyOjBteSLROf",
        "outputId": "0c078972-57e3-4538-dc72-df52863e946c"
      },
      "execution_count": null,
      "outputs": [
        {
          "output_type": "execute_result",
          "data": {
            "text/plain": [
              "24"
            ]
          },
          "metadata": {},
          "execution_count": 99
        }
      ]
    },
    {
      "cell_type": "code",
      "source": [
        "class Person:\n",
        "  population = 0\n",
        "\n",
        "  def __init__(self, name):\n",
        "    self.name = name\n",
        "    Person.population +=1\n",
        "  @classmethod\n",
        "  def get_population(cls):\n",
        "    return cls.population\n",
        "\n",
        "  @classmethod\n",
        "  def create_anonymous(cls):\n",
        "    return cls(\"Anonymous\")\n",
        "\n",
        "John = Person('John')"
      ],
      "metadata": {
        "id": "UXKGjvkZL9Y2"
      },
      "execution_count": null,
      "outputs": []
    },
    {
      "cell_type": "code",
      "source": [
        "John.get_population()"
      ],
      "metadata": {
        "colab": {
          "base_uri": "https://localhost:8080/"
        },
        "id": "xzkdgg3UMr7-",
        "outputId": "600636d4-1ecf-4951-fffd-faa8f621898a"
      },
      "execution_count": null,
      "outputs": [
        {
          "output_type": "execute_result",
          "data": {
            "text/plain": [
              "1"
            ]
          },
          "metadata": {},
          "execution_count": 102
        }
      ]
    },
    {
      "cell_type": "code",
      "source": [
        "Jane = Person('Jane')"
      ],
      "metadata": {
        "id": "2KcQhxO1NM5o"
      },
      "execution_count": null,
      "outputs": []
    },
    {
      "cell_type": "code",
      "source": [
        "Jane.get_population()"
      ],
      "metadata": {
        "colab": {
          "base_uri": "https://localhost:8080/"
        },
        "id": "z7Y9jF5ZNQXO",
        "outputId": "33c67af5-9f58-4e3c-96af-b47a425ad765"
      },
      "execution_count": null,
      "outputs": [
        {
          "output_type": "execute_result",
          "data": {
            "text/plain": [
              "2"
            ]
          },
          "metadata": {},
          "execution_count": 105
        }
      ]
    },
    {
      "cell_type": "code",
      "source": [
        "anonymous = Person.create_anonymous()"
      ],
      "metadata": {
        "id": "VbpFULeiNoNM"
      },
      "execution_count": null,
      "outputs": []
    },
    {
      "cell_type": "code",
      "source": [
        "anonymous"
      ],
      "metadata": {
        "colab": {
          "base_uri": "https://localhost:8080/"
        },
        "id": "D2exwzSTNt7b",
        "outputId": "cb88d734-d37b-48ed-f47b-134b70901d4e"
      },
      "execution_count": null,
      "outputs": [
        {
          "output_type": "execute_result",
          "data": {
            "text/plain": [
              "<__main__.Person at 0x7ebea11541c0>"
            ]
          },
          "metadata": {},
          "execution_count": 108
        }
      ]
    },
    {
      "cell_type": "code",
      "source": [
        "# property\n",
        "class Temperature:\n",
        "  def __init__(self, celsius):\n",
        "    self._celsius = celsius\n",
        "\n",
        "  @property\n",
        "  def celsius(self):\n",
        "    return self._celsius * 1000\n",
        "\n",
        "  @celsius.setter\n",
        "  def celsius(self, value):\n",
        "    if value < -273:\n",
        "      raise ValueError(\"들어온 값에 확인이 필요합니다.\")\n",
        "    self._celsius = value"
      ],
      "metadata": {
        "id": "2SVLXHOcOFE2"
      },
      "execution_count": null,
      "outputs": []
    },
    {
      "cell_type": "code",
      "source": [
        "temp = Temperature(6)"
      ],
      "metadata": {
        "id": "tDik9b4IOn3k"
      },
      "execution_count": null,
      "outputs": []
    },
    {
      "cell_type": "code",
      "source": [
        "temp.celsius = -300"
      ],
      "metadata": {
        "colab": {
          "base_uri": "https://localhost:8080/",
          "height": 254
        },
        "id": "1IXX2mp0OrwF",
        "outputId": "9df216fc-b66b-4a49-f35f-de62ce4ddaf4"
      },
      "execution_count": null,
      "outputs": [
        {
          "output_type": "error",
          "ename": "ValueError",
          "evalue": "들어온 값에 확인이 필요합니다.",
          "traceback": [
            "\u001b[0;31m---------------------------------------------------------------------------\u001b[0m",
            "\u001b[0;31mValueError\u001b[0m                                Traceback (most recent call last)",
            "\u001b[0;32m<ipython-input-125-34e6b21f0a87>\u001b[0m in \u001b[0;36m<cell line: 1>\u001b[0;34m()\u001b[0m\n\u001b[0;32m----> 1\u001b[0;31m \u001b[0mtemp\u001b[0m\u001b[0;34m.\u001b[0m\u001b[0mcelsius\u001b[0m \u001b[0;34m=\u001b[0m \u001b[0;34m-\u001b[0m\u001b[0;36m300\u001b[0m\u001b[0;34m\u001b[0m\u001b[0;34m\u001b[0m\u001b[0m\n\u001b[0m",
            "\u001b[0;32m<ipython-input-123-ebfead119b7d>\u001b[0m in \u001b[0;36mcelsius\u001b[0;34m(self, value)\u001b[0m\n\u001b[1;32m     11\u001b[0m   \u001b[0;32mdef\u001b[0m \u001b[0mcelsius\u001b[0m\u001b[0;34m(\u001b[0m\u001b[0mself\u001b[0m\u001b[0;34m,\u001b[0m \u001b[0mvalue\u001b[0m\u001b[0;34m)\u001b[0m\u001b[0;34m:\u001b[0m\u001b[0;34m\u001b[0m\u001b[0;34m\u001b[0m\u001b[0m\n\u001b[1;32m     12\u001b[0m     \u001b[0;32mif\u001b[0m \u001b[0mvalue\u001b[0m \u001b[0;34m<\u001b[0m \u001b[0;34m-\u001b[0m\u001b[0;36m273\u001b[0m\u001b[0;34m:\u001b[0m\u001b[0;34m\u001b[0m\u001b[0;34m\u001b[0m\u001b[0m\n\u001b[0;32m---> 13\u001b[0;31m       \u001b[0;32mraise\u001b[0m \u001b[0mValueError\u001b[0m\u001b[0;34m(\u001b[0m\u001b[0;34m\"들어온 값에 확인이 필요합니다.\"\u001b[0m\u001b[0;34m)\u001b[0m\u001b[0;34m\u001b[0m\u001b[0;34m\u001b[0m\u001b[0m\n\u001b[0m\u001b[1;32m     14\u001b[0m     \u001b[0mself\u001b[0m\u001b[0;34m.\u001b[0m\u001b[0m_celsius\u001b[0m \u001b[0;34m=\u001b[0m \u001b[0mvalue\u001b[0m\u001b[0;34m\u001b[0m\u001b[0;34m\u001b[0m\u001b[0m\n",
            "\u001b[0;31mValueError\u001b[0m: 들어온 값에 확인이 필요합니다."
          ]
        }
      ]
    },
    {
      "cell_type": "code",
      "source": [
        "class ClassStatic:\n",
        "  @staticmethod\n",
        "  def check():\n",
        "    print(\"hello!\")"
      ],
      "metadata": {
        "id": "ntbQrrjWQqQT"
      },
      "execution_count": null,
      "outputs": []
    },
    {
      "cell_type": "code",
      "source": [
        "class InitNeed:\n",
        "  number = 123\n",
        "  def __init__(self):\n",
        "    number_instance = 10\n",
        "  @classmethod\n",
        "  def get(cls):\n",
        "    return cls.number\n",
        "  def cls_number_val(self, val):\n",
        "    InitNeed.number = val"
      ],
      "metadata": {
        "id": "iLKEqGVmQ2hV"
      },
      "execution_count": null,
      "outputs": []
    },
    {
      "cell_type": "code",
      "source": [
        "a = InitNeed()\n",
        "b = InitNeed()"
      ],
      "metadata": {
        "id": "-QaVzyDsRTV9"
      },
      "execution_count": null,
      "outputs": []
    },
    {
      "cell_type": "code",
      "source": [
        "a.number, b.number"
      ],
      "metadata": {
        "colab": {
          "base_uri": "https://localhost:8080/"
        },
        "id": "fiB05AWjRaY5",
        "outputId": "93bec71c-62ab-4f86-cb3d-ad4c9dca31fe"
      },
      "execution_count": null,
      "outputs": [
        {
          "output_type": "execute_result",
          "data": {
            "text/plain": [
              "(999, 999)"
            ]
          },
          "metadata": {},
          "execution_count": 147
        }
      ]
    },
    {
      "cell_type": "code",
      "source": [
        "b.cls_number_val(999)"
      ],
      "metadata": {
        "id": "cTjDeCE1ShQV"
      },
      "execution_count": null,
      "outputs": []
    },
    {
      "cell_type": "code",
      "source": [
        "# Class 정리\n",
        "\n",
        "# 클래스 : 메뉴(메뉴보여주기, 메뉴추가, 삭제), 상점(메뉴보여주기, 주문받기, 결제하기)\n",
        "class Menu:\n",
        "  def __init__(self):\n",
        "    self.menus = dict() # {}\n",
        "  def add_menu(self, name, price):\n",
        "    if name in self.menus.keys():\n",
        "      print(\"이미 있는 메뉴 입니다!\")\n",
        "    else:\n",
        "      self.menus[name] = price\n",
        "  def delete_menu(self, name):\n",
        "    pass\n",
        "  def show_menus(self):\n",
        "    print(\"메뉴입니다.\")\n",
        "    for name, price in self.menus.items():\n",
        "      print(f\"{name} : {price}\")\n",
        "class Shop:\n",
        "  def __init__(self):\n",
        "    pass"
      ],
      "metadata": {
        "id": "azJryXj8Sj1p"
      },
      "execution_count": null,
      "outputs": []
    },
    {
      "cell_type": "code",
      "source": [
        "menu = Menu()\n",
        "menu.add_menu('coffee', 5000)\n",
        "menu.add_menu('latte', 6000)\n",
        "menu.add_menu('cake', 1000)"
      ],
      "metadata": {
        "id": "Zp21Rk4lmZUw"
      },
      "execution_count": null,
      "outputs": []
    },
    {
      "cell_type": "code",
      "source": [
        "menu.show_menus()"
      ],
      "metadata": {
        "colab": {
          "base_uri": "https://localhost:8080/"
        },
        "id": "FbWcjtbPmqD2",
        "outputId": "3c8e99a5-b21d-4d7c-db42-b28e0b19c2fe"
      },
      "execution_count": null,
      "outputs": [
        {
          "output_type": "stream",
          "name": "stdout",
          "text": [
            "메뉴입니다.\n",
            "coffee : 5000\n",
            "latte : 6000\n",
            "cake : 1000\n"
          ]
        }
      ]
    },
    {
      "cell_type": "code",
      "source": [
        "class Shop:\n",
        "  def __init__(self, menus, shop_name, address):\n",
        "    self.shop_name = shop_name\n",
        "    self.address = address\n",
        "    self.menus = menus\n",
        "  def show_shop_menus(self):\n",
        "    print(\"항상 최고의 서비스로 보답하겠습니다.\")\n",
        "    self.menus.show_menus()"
      ],
      "metadata": {
        "id": "wF5gK1cinTBH"
      },
      "execution_count": null,
      "outputs": []
    },
    {
      "cell_type": "code",
      "source": [
        "shop = Shop(menu,'멋사카페','스페인')\n",
        "shop.show_shop_menus()"
      ],
      "metadata": {
        "colab": {
          "base_uri": "https://localhost:8080/"
        },
        "id": "YCXjKBrZnzNr",
        "outputId": "3a8e64e9-9d1e-4dcc-8b5e-41dac393493f"
      },
      "execution_count": null,
      "outputs": [
        {
          "output_type": "stream",
          "name": "stdout",
          "text": [
            "항상 최고의 서비스로 보답하겠습니다.\n",
            "메뉴입니다.\n",
            "coffee : 5000\n",
            "latte : 6000\n",
            "cake : 1000\n"
          ]
        }
      ]
    },
    {
      "cell_type": "code",
      "source": [
        "class Cafe(Shop):\n",
        "  def __init__(self, menu, shop_name, address, point_discount):\n",
        "    super().__init__(menu, shop_name, address)\n",
        "    self.point_discount = point_discount\n",
        "    self.orders_count = 0\n",
        "  def show_shop_menus(self):\n",
        "    print(\"우리집은 MBC에 나온 맛집입니다!!\")\n",
        "    self.menus.show_menus()\n",
        "  @property\n",
        "  def count_menu(self):\n",
        "    return len(self.menus.menus)\n",
        "  def order(self):\n",
        "    print(\"주문이 완료되었습니다.\")\n",
        "    self.orders_count+=1\n",
        "  def get_order_count(self):\n",
        "    return self.orders_count"
      ],
      "metadata": {
        "id": "UJcsbpaUoem4"
      },
      "execution_count": null,
      "outputs": []
    },
    {
      "cell_type": "code",
      "source": [
        "cafe = Cafe(menu,'멋사카페','스페인', point_discount=0.1)"
      ],
      "metadata": {
        "id": "xLEMlLg_pHAJ"
      },
      "execution_count": null,
      "outputs": []
    },
    {
      "cell_type": "code",
      "source": [
        "cafe.order()\n",
        "cafe.get_order_count()"
      ],
      "metadata": {
        "colab": {
          "base_uri": "https://localhost:8080/"
        },
        "id": "hA1VEq1MpNJY",
        "outputId": "4d02f4fa-9e11-46c6-a9db-71a0f8bc53b0"
      },
      "execution_count": null,
      "outputs": [
        {
          "output_type": "stream",
          "name": "stdout",
          "text": [
            "주문이 완료되었습니다.\n"
          ]
        },
        {
          "output_type": "execute_result",
          "data": {
            "text/plain": [
              "7"
            ]
          },
          "metadata": {},
          "execution_count": 187
        }
      ]
    },
    {
      "cell_type": "code",
      "source": [
        "# 원격 진료\n",
        "# 사람 > 의사, 환자\n",
        "# 진료 일정\n",
        "class Person:\n",
        "  def __init__(self, name, age): # 이전병력?\n",
        "    self.name = name\n",
        "    self.age = age\n",
        "\n",
        "class Doctor(Person):\n",
        "  total_appointments = 0\n",
        "\n",
        "  def __init__(self, name, age, hospital):\n",
        "    super().__init__(name, age)\n",
        "    self.hospital = hospital\n",
        "    self._appointments = 0\n",
        "\n",
        "  @classmethod\n",
        "  def update_total_appointments(cls):\n",
        "    cls.total_appointments += 1\n",
        "\n",
        "  def patient_meeting(self):\n",
        "    self._appointments+=1"
      ],
      "metadata": {
        "id": "lDwClgs7r_xF"
      },
      "execution_count": null,
      "outputs": []
    },
    {
      "cell_type": "code",
      "source": [
        "class Patient(Person):\n",
        "  def __init__(self, name, age):\n",
        "    super().__init__(name, age)"
      ],
      "metadata": {
        "id": "I7TF1YPiuSdE"
      },
      "execution_count": null,
      "outputs": []
    },
    {
      "cell_type": "code",
      "source": [
        "class Appointment:\n",
        "  def __init__(self, doctor, patient):\n",
        "    self.doctor = doctor\n",
        "    self.patient = patient\n",
        "  def done(self):\n",
        "    self.doctor._appointments +=1\n",
        "    self.doctor.update_total_appointments()"
      ],
      "metadata": {
        "id": "g0gf5YDIuccL"
      },
      "execution_count": null,
      "outputs": []
    },
    {
      "cell_type": "code",
      "source": [
        "patient = Patient('Jane', 60)\n",
        "doctor = Doctor('John', 50, '삼성의료원')"
      ],
      "metadata": {
        "id": "6ruUGHecu-mM"
      },
      "execution_count": null,
      "outputs": []
    },
    {
      "cell_type": "code",
      "source": [
        "appointment = Appointment(doctor, patient)"
      ],
      "metadata": {
        "id": "MPHP9cUovNU2"
      },
      "execution_count": null,
      "outputs": []
    },
    {
      "cell_type": "code",
      "source": [
        "appointment.done()"
      ],
      "metadata": {
        "id": "UDZBpv7GvTSg"
      },
      "execution_count": null,
      "outputs": []
    },
    {
      "cell_type": "code",
      "source": [
        "doctor._appointments"
      ],
      "metadata": {
        "colab": {
          "base_uri": "https://localhost:8080/"
        },
        "id": "xDbHWQUJvgo5",
        "outputId": "f206e040-3e67-4305-b706-97f6f84214ae"
      },
      "execution_count": null,
      "outputs": [
        {
          "output_type": "execute_result",
          "data": {
            "text/plain": [
              "1"
            ]
          },
          "metadata": {},
          "execution_count": 201
        }
      ]
    },
    {
      "cell_type": "code",
      "source": [
        "Doctor.total_appointments"
      ],
      "metadata": {
        "colab": {
          "base_uri": "https://localhost:8080/"
        },
        "id": "F0HClhswvkPb",
        "outputId": "746617ea-6074-434e-f411-013d3d30b1e4"
      },
      "execution_count": null,
      "outputs": [
        {
          "output_type": "execute_result",
          "data": {
            "text/plain": [
              "3"
            ]
          },
          "metadata": {},
          "execution_count": 207
        }
      ]
    },
    {
      "cell_type": "code",
      "source": [
        "patient = Patient('Jane1', 60)\n",
        "doctor = Doctor('John1', 50, '아산병원')\n",
        "appointment1 = Appointment(doctor, patient)\n",
        "appointment1.done()"
      ],
      "metadata": {
        "id": "PkdKPdLGvoLw"
      },
      "execution_count": null,
      "outputs": []
    },
    {
      "cell_type": "code",
      "source": [
        "doctor._appointments"
      ],
      "metadata": {
        "colab": {
          "base_uri": "https://localhost:8080/"
        },
        "id": "n1cS75CEvu0v",
        "outputId": "fd398fbe-0e55-486f-ea61-145b66e4aa31"
      },
      "execution_count": null,
      "outputs": [
        {
          "output_type": "execute_result",
          "data": {
            "text/plain": [
              "1"
            ]
          },
          "metadata": {},
          "execution_count": 206
        }
      ]
    },
    {
      "cell_type": "markdown",
      "source": [
        "# 2시에 이어서 하겠습니다!"
      ],
      "metadata": {
        "id": "lWtHwztrwHps"
      }
    },
    {
      "cell_type": "code",
      "source": [
        "class Product:\n",
        "  def __init__(self, name, price):\n",
        "    self.name = name\n",
        "    self.price = price\n",
        "  def get_name(self):\n",
        "    return self.name\n",
        "  def __str__(self):\n",
        "    return self.name\n",
        "  def __repr__(self):\n",
        "    return self.name+\" : \"+str(self.price)+\"원\""
      ],
      "metadata": {
        "id": "jOmuse5yv0Xi"
      },
      "execution_count": null,
      "outputs": []
    },
    {
      "cell_type": "code",
      "source": [
        "product = Product('피자',25000)\n",
        "print(product.get_name())"
      ],
      "metadata": {
        "colab": {
          "base_uri": "https://localhost:8080/"
        },
        "id": "KfY1xtGo0g-H",
        "outputId": "d89922a1-9007-4cbe-e06c-84ac6ba3fa93"
      },
      "execution_count": null,
      "outputs": [
        {
          "output_type": "stream",
          "name": "stdout",
          "text": [
            "피자\n"
          ]
        }
      ]
    },
    {
      "cell_type": "code",
      "source": [
        "print(product)"
      ],
      "metadata": {
        "colab": {
          "base_uri": "https://localhost:8080/"
        },
        "id": "3QZY5VKb1YI2",
        "outputId": "f8f3aeeb-2f77-4a4d-d4da-b3466e37b846"
      },
      "execution_count": null,
      "outputs": [
        {
          "output_type": "stream",
          "name": "stdout",
          "text": [
            "피자\n"
          ]
        }
      ]
    },
    {
      "cell_type": "code",
      "source": [
        "product"
      ],
      "metadata": {
        "colab": {
          "base_uri": "https://localhost:8080/"
        },
        "id": "YPpmhimG13aH",
        "outputId": "7e5941b8-4f4a-45e7-edfc-a3d7ce12ac82"
      },
      "execution_count": null,
      "outputs": [
        {
          "output_type": "execute_result",
          "data": {
            "text/plain": [
              "피자 : 25000원"
            ]
          },
          "metadata": {},
          "execution_count": 231
        }
      ]
    },
    {
      "cell_type": "code",
      "source": [
        "# 비교연산\n",
        "class Box:\n",
        "  def __init__(self, width, height):\n",
        "    self.width = width\n",
        "    self.height = height\n",
        "  # 박스의 크기를 비교하고 싶어요\n",
        "  def __lt__(self, other):\n",
        "    return self.width < other.width"
      ],
      "metadata": {
        "id": "nQ2M2YfE2LZp"
      },
      "execution_count": null,
      "outputs": []
    },
    {
      "cell_type": "code",
      "source": [
        "box1 = Box(1, 5)\n",
        "box2 = Box(2, 6)"
      ],
      "metadata": {
        "id": "PiKuolb322Hc"
      },
      "execution_count": null,
      "outputs": []
    },
    {
      "cell_type": "code",
      "source": [
        "a = [1,2,3,4,5]\n",
        "len(a)"
      ],
      "metadata": {
        "colab": {
          "base_uri": "https://localhost:8080/"
        },
        "id": "rztyD7Ll2636",
        "outputId": "33b5015e-9935-42a2-ebdd-8850062f67fe"
      },
      "execution_count": null,
      "outputs": [
        {
          "output_type": "execute_result",
          "data": {
            "text/plain": [
              "5"
            ]
          },
          "metadata": {},
          "execution_count": 254
        }
      ]
    },
    {
      "cell_type": "code",
      "source": [
        "class Folder:\n",
        "  def __init__(self, files):\n",
        "    self.files = files\n",
        "  def __getitem__(self, index):\n",
        "    return self.files[index]\n",
        "  def __len__(self):\n",
        "    return len(self.files)"
      ],
      "metadata": {
        "id": "xLrPQNhw39-1"
      },
      "execution_count": null,
      "outputs": []
    },
    {
      "cell_type": "code",
      "source": [
        "file_list = [\"text_{}.txt\".format(i) for i in range(10) ]\n",
        "file_list"
      ],
      "metadata": {
        "colab": {
          "base_uri": "https://localhost:8080/"
        },
        "id": "qEN7K5Th4Oob",
        "outputId": "116af1fb-8101-4507-aff3-6e0d45d54002"
      },
      "execution_count": null,
      "outputs": [
        {
          "output_type": "execute_result",
          "data": {
            "text/plain": [
              "['text_0.txt',\n",
              " 'text_1.txt',\n",
              " 'text_2.txt',\n",
              " 'text_3.txt',\n",
              " 'text_4.txt',\n",
              " 'text_5.txt',\n",
              " 'text_6.txt',\n",
              " 'text_7.txt',\n",
              " 'text_8.txt',\n",
              " 'text_9.txt']"
            ]
          },
          "metadata": {},
          "execution_count": 256
        }
      ]
    },
    {
      "cell_type": "code",
      "source": [
        "folder = Folder(file_list)\n",
        "folder"
      ],
      "metadata": {
        "colab": {
          "base_uri": "https://localhost:8080/"
        },
        "id": "AhCGe_TE4dlt",
        "outputId": "13ba6a5b-1043-4466-cfe2-b8efdf5a59bd"
      },
      "execution_count": null,
      "outputs": [
        {
          "output_type": "execute_result",
          "data": {
            "text/plain": [
              "<__main__.Folder at 0x7ebea0e1a2f0>"
            ]
          },
          "metadata": {},
          "execution_count": 257
        }
      ]
    },
    {
      "cell_type": "code",
      "source": [
        "folder[-3]"
      ],
      "metadata": {
        "colab": {
          "base_uri": "https://localhost:8080/",
          "height": 35
        },
        "id": "xABs1cwp4kaF",
        "outputId": "4d831ca4-8c9d-4426-d27d-9d962f56d623"
      },
      "execution_count": null,
      "outputs": [
        {
          "output_type": "execute_result",
          "data": {
            "text/plain": [
              "'text_7.txt'"
            ],
            "application/vnd.google.colaboratory.intrinsic+json": {
              "type": "string"
            }
          },
          "metadata": {},
          "execution_count": 258
        }
      ]
    },
    {
      "cell_type": "code",
      "source": [
        "len(folder)"
      ],
      "metadata": {
        "colab": {
          "base_uri": "https://localhost:8080/"
        },
        "id": "6bmXGkL45E2R",
        "outputId": "42572dbf-125d-4993-8bf3-50afeac18bcf"
      },
      "execution_count": null,
      "outputs": [
        {
          "output_type": "execute_result",
          "data": {
            "text/plain": [
              "10"
            ]
          },
          "metadata": {},
          "execution_count": 259
        }
      ]
    },
    {
      "cell_type": "code",
      "source": [
        "# 의사 선생님 - 담당하는 환자리스트를 가지고 있다.\n",
        "# 우리는 의사의 이름, 환자 정보, 전체 담당 환자의 정보를 받고자 한다.\n",
        "class Doctor:\n",
        "  def __init__(self, name):\n",
        "    self.name = name +\"_doctor\"\n",
        "    self.patients = [\"환자{}\".format(i) for i in range(50)]"
      ],
      "metadata": {
        "id": "pDLP4W606f8m"
      },
      "execution_count": null,
      "outputs": []
    },
    {
      "cell_type": "code",
      "source": [
        "doctor = Doctor('미진')"
      ],
      "metadata": {
        "id": "HF-1uFOs7A7y"
      },
      "execution_count": null,
      "outputs": []
    },
    {
      "cell_type": "code",
      "source": [
        "doctor.name"
      ],
      "metadata": {
        "colab": {
          "base_uri": "https://localhost:8080/",
          "height": 35
        },
        "id": "epPl88CM7C3g",
        "outputId": "c7c45c3f-7a15-450a-e40d-3d4ff2d10ddc"
      },
      "execution_count": null,
      "outputs": [
        {
          "output_type": "execute_result",
          "data": {
            "text/plain": [
              "'미진_doctor'"
            ],
            "application/vnd.google.colaboratory.intrinsic+json": {
              "type": "string"
            }
          },
          "metadata": {},
          "execution_count": 266
        }
      ]
    },
    {
      "cell_type": "code",
      "source": [
        "# 3번째 환자 알고 싶어\n",
        "doctor.patients[2]"
      ],
      "metadata": {
        "colab": {
          "base_uri": "https://localhost:8080/",
          "height": 35
        },
        "id": "XpBsDfw37KO9",
        "outputId": "0cab1bcc-a6f5-4763-c3b0-99b651bd9b8b"
      },
      "execution_count": null,
      "outputs": [
        {
          "output_type": "execute_result",
          "data": {
            "text/plain": [
              "'환자2'"
            ],
            "application/vnd.google.colaboratory.intrinsic+json": {
              "type": "string"
            }
          },
          "metadata": {},
          "execution_count": 267
        }
      ]
    },
    {
      "cell_type": "code",
      "source": [
        "len(doctor.patients)"
      ],
      "metadata": {
        "colab": {
          "base_uri": "https://localhost:8080/"
        },
        "id": "kypAw_mJ7Ub9",
        "outputId": "0a0b3d4a-99d5-492f-ffb2-f60a120e43d8"
      },
      "execution_count": null,
      "outputs": [
        {
          "output_type": "execute_result",
          "data": {
            "text/plain": [
              "50"
            ]
          },
          "metadata": {},
          "execution_count": 268
        }
      ]
    },
    {
      "cell_type": "code",
      "source": [
        "# 의사 선생님 - 담당하는 환자리스트를 가지고 있다.\n",
        "# 우리는 의사의 이름, 환자 정보, 전체 담당 환자의 정보를 받고자 한다.\n",
        "class Doctor:\n",
        "  def __init__(self, name, patient_num):\n",
        "    self.name = name +\"_doctor\"\n",
        "    self.patients = [\"환자{}\".format(i) for i in range(patient_num)]\n",
        "  def __str__(self):\n",
        "    return self.name\n",
        "  def __repr__(self):\n",
        "    return self.name\n",
        "  def __getitem__(self, index):\n",
        "    return self.patients[index]\n",
        "  def __len__(self):\n",
        "    return len(self.patients)\n",
        "  def __lt__(self, other):\n",
        "    return len(self.patients) < len(other.patients)"
      ],
      "metadata": {
        "id": "c8p4Wyk17eVp"
      },
      "execution_count": null,
      "outputs": []
    },
    {
      "cell_type": "code",
      "source": [
        "doctor1 = Doctor(\"지훈\", 30)\n",
        "doctor2 = Doctor(\"여진\", 28)"
      ],
      "metadata": {
        "id": "12JHvRkl7rW6"
      },
      "execution_count": null,
      "outputs": []
    },
    {
      "cell_type": "code",
      "source": [
        "doctor1 > doctor2"
      ],
      "metadata": {
        "colab": {
          "base_uri": "https://localhost:8080/"
        },
        "id": "ztdiZZYM8nnM",
        "outputId": "7a97a4fc-64f2-4529-8bed-629104ae3b73"
      },
      "execution_count": null,
      "outputs": [
        {
          "output_type": "execute_result",
          "data": {
            "text/plain": [
              "True"
            ]
          },
          "metadata": {},
          "execution_count": 279
        }
      ]
    },
    {
      "cell_type": "code",
      "source": [
        "# 컴퓨터 class 컴포지션 예제\n",
        "class Cpu:\n",
        "  def __init__(self, brand):\n",
        "    self.brand = brand\n",
        "class Computer:\n",
        "  def __init__(self, cpu):\n",
        "    self.cpu = cpu\n",
        "\n",
        "computer1 = Computer(Cpu(brand = 'Intel'))"
      ],
      "metadata": {
        "id": "8Bc_Z6Rz9j2z"
      },
      "execution_count": null,
      "outputs": []
    },
    {
      "cell_type": "code",
      "source": [
        "cpu = Cpu(brand = 'AMD')\n",
        "computer2 = Computer(cpu)"
      ],
      "metadata": {
        "id": "1MqKEvdvBYNQ"
      },
      "execution_count": null,
      "outputs": []
    },
    {
      "cell_type": "code",
      "source": [
        "class Book:\n",
        "  def __init__(self, title):\n",
        "    self.title = title\n",
        "class Library:\n",
        "  def __init__(self):\n",
        "    self.books = []\n",
        "  def add_book(self, book):\n",
        "    self.books.append(book)"
      ],
      "metadata": {
        "id": "siwG9CF-Bh8I"
      },
      "execution_count": null,
      "outputs": []
    },
    {
      "cell_type": "code",
      "source": [
        "book1 = Book(\"Python Backend\")\n",
        "library = Library()\n",
        "library.add_book(book1)"
      ],
      "metadata": {
        "id": "5MZ6y11OB_tQ"
      },
      "execution_count": null,
      "outputs": []
    },
    {
      "cell_type": "code",
      "source": [
        "# 믹스인\n",
        "class LoggerMixin:\n",
        "  def log(self, message):\n",
        "    print(\"Log : {}\".format(message))\n",
        "\n",
        "class DataProcessor(LoggerMixin):\n",
        "  def process(self, data):\n",
        "    self.log(f\"Processing {data}\")\n",
        "\n",
        "processor = DataProcessor()\n",
        "processor.process(\"빵 판매\")"
      ],
      "metadata": {
        "colab": {
          "base_uri": "https://localhost:8080/"
        },
        "id": "fKPy_C7PCNfv",
        "outputId": "b4d816e8-a651-4b72-a2de-36b9f9db0878"
      },
      "execution_count": null,
      "outputs": [
        {
          "output_type": "stream",
          "name": "stdout",
          "text": [
            "Log : Processing 빵 판매\n"
          ]
        }
      ]
    },
    {
      "cell_type": "code",
      "source": [
        "# 인터페이스 검증 믹스인:\n",
        "class InterfaceMixin:\n",
        "  def verify_interface(self):\n",
        "    if not hasattr(self, 'required_method'):\n",
        "      raise NotImplementedError(\"Class에 required_method를 정의해야 합니다!\")\n",
        "\n",
        "class Print(InterfaceMixin):\n",
        "  def doc_print(self):\n",
        "    print(\"문서 인쇄가 잘되네요\")\n",
        "  def required_method(self):\n",
        "    print(\"만들어 놨구먼\")"
      ],
      "metadata": {
        "id": "z9McGTqyDhlE"
      },
      "execution_count": null,
      "outputs": []
    },
    {
      "cell_type": "code",
      "source": [
        "hnc_print = Print()"
      ],
      "metadata": {
        "id": "90mdN9O5Finx"
      },
      "execution_count": null,
      "outputs": []
    },
    {
      "cell_type": "code",
      "source": [
        "hnc_print.verify_interface()"
      ],
      "metadata": {
        "id": "K0DCteSdFpI-"
      },
      "execution_count": null,
      "outputs": []
    },
    {
      "cell_type": "code",
      "source": [
        "class Student:\n",
        "  def __init__(self, name, age, major):\n",
        "    self.name = name\n",
        "    self.age = age\n",
        "    self.major = major\n",
        "student_original = Student(\"이름\",100, \"파이썬\")"
      ],
      "metadata": {
        "id": "i118qaXQItJi"
      },
      "execution_count": null,
      "outputs": []
    },
    {
      "cell_type": "code",
      "source": [
        "student_original"
      ],
      "metadata": {
        "colab": {
          "base_uri": "https://localhost:8080/"
        },
        "id": "StMfWnpUJCTU",
        "outputId": "34765447-d45e-45a7-a8a1-9186707ae855"
      },
      "execution_count": null,
      "outputs": [
        {
          "output_type": "execute_result",
          "data": {
            "text/plain": [
              "<__main__.Student at 0x7ebea0e1b0a0>"
            ]
          },
          "metadata": {},
          "execution_count": 302
        }
      ]
    },
    {
      "cell_type": "code",
      "source": [
        "# dataclass\n",
        "from dataclasses import dataclass\n",
        "\n",
        "@dataclass\n",
        "class Student_dc:\n",
        "  name : str\n",
        "  age : int\n",
        "  major : str\n",
        "\n",
        "student1 = Student_dc('멋사', 30, 'IT')"
      ],
      "metadata": {
        "id": "RIQnMbKjF2MX"
      },
      "execution_count": null,
      "outputs": []
    },
    {
      "cell_type": "code",
      "source": [
        "student1.name"
      ],
      "metadata": {
        "colab": {
          "base_uri": "https://localhost:8080/",
          "height": 35
        },
        "id": "xDP-xx2dJZe6",
        "outputId": "7dd4b2b7-aab8-46d6-ee5d-9976a86c25e3"
      },
      "execution_count": null,
      "outputs": [
        {
          "output_type": "execute_result",
          "data": {
            "text/plain": [
              "'멋사'"
            ],
            "application/vnd.google.colaboratory.intrinsic+json": {
              "type": "string"
            }
          },
          "metadata": {},
          "execution_count": 303
        }
      ]
    },
    {
      "cell_type": "code",
      "source": [
        "@dataclass\n",
        "class Book:\n",
        "  title : str\n",
        "  author : str\n",
        "  year_published : int"
      ],
      "metadata": {
        "id": "gF0CK-mhKaoz"
      },
      "execution_count": null,
      "outputs": []
    },
    {
      "cell_type": "code",
      "source": [
        "book1 = Book('PythonBackend', '임종한', '2024')"
      ],
      "metadata": {
        "id": "4_YzwArhKlFE"
      },
      "execution_count": null,
      "outputs": []
    },
    {
      "cell_type": "code",
      "source": [
        "book2 = Book('PythonBackend', '임종한', 2024)"
      ],
      "metadata": {
        "id": "Uq8ag5FZK33o"
      },
      "execution_count": null,
      "outputs": []
    }
  ]
}