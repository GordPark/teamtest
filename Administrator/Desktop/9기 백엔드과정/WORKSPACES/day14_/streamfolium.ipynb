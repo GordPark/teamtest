{
 "cells": [
  {
   "cell_type": "code",
   "execution_count": 1,
   "metadata": {},
   "outputs": [],
   "source": [
    "import folium\n",
    "import pandas as pd\n",
    "\n",
    "m = folium.Map(location=[37.5665, 126.9780], zoom_start=10)\n",
    "folium.Choropleth(\n",
    "    geo_data='seoul_municipalities_geo.json',\n",
    "    name='choropleth',\n",
    "    data=pd.DataFrame({\n",
    "        'region': ['Seoul', 'Busan'],\n",
    "        'value': [100, 200]\n",
    "    }),\n",
    "    columns=['region', 'value'],\n",
    "    key_on='feature.properties.name',\n",
    "    fill_color='YlGn',\n",
    "    fill_opacity=0.7,\n",
    "    line_opacity=0.2,\n",
    "    legend_name='Value'\n",
    ").add_to(m)\n",
    "\n",
    "m.save('south_korea_choropleth.html')"
   ]
  }
 ],
 "metadata": {
  "kernelspec": {
   "display_name": "Python 3",
   "language": "python",
   "name": "python3"
  },
  "language_info": {
   "codemirror_mode": {
    "name": "ipython",
    "version": 3
   },
   "file_extension": ".py",
   "mimetype": "text/x-python",
   "name": "python",
   "nbconvert_exporter": "python",
   "pygments_lexer": "ipython3",
   "version": "3.10.13"
  },
  "orig_nbformat": 4
 },
 "nbformat": 4,
 "nbformat_minor": 2
}
