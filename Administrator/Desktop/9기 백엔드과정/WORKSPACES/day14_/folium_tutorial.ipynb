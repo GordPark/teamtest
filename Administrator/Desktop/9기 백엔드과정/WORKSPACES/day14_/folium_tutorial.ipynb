{
 "cells": [
  {
   "cell_type": "code",
   "execution_count": 7,
   "metadata": {},
   "outputs": [],
   "source": [
    "import folium\n",
    "위도 = 37.566065\n",
    "경도 = 126.982679\n",
    "label = '을지로입구'\n"
   ]
  },
  {
   "cell_type": "code",
   "execution_count": 6,
   "metadata": {},
   "outputs": [],
   "source": [
    "# 원하는 위도와 경도는 구글맵 링크에 [3d37.566065!4d126.982679] 표시됨\n",
    "m = folium.Map(\n",
    "    # location=[37.4918346,127.0202431],\n",
    "    location=[위도,경도],\n",
    "    zoom_start=15\n",
    ")\n",
    "\n",
    "folium.Marker(\n",
    "    location=[위도,경도],\n",
    "    popup='label',\n",
    "    icon=folium.Icon(color='blue',icon='star')\n",
    ").add_to(m)\n",
    "\n",
    "m.save(\"map.html\")"
   ]
  },
  {
   "cell_type": "code",
   "execution_count": 8,
   "metadata": {},
   "outputs": [
    {
     "ename": "FileNotFoundError",
     "evalue": "[Errno 2] No such file or directory: 'south_korea_geojson.json'",
     "output_type": "error",
     "traceback": [
      "\u001b[1;31m---------------------------------------------------------------------------\u001b[0m",
      "\u001b[1;31mFileNotFoundError\u001b[0m                         Traceback (most recent call last)",
      "Cell \u001b[1;32mIn[8], line 5\u001b[0m\n\u001b[0;32m      2\u001b[0m \u001b[39mimport\u001b[39;00m \u001b[39mpandas\u001b[39;00m \u001b[39mas\u001b[39;00m \u001b[39mpd\u001b[39;00m\n\u001b[0;32m      4\u001b[0m m \u001b[39m=\u001b[39m folium\u001b[39m.\u001b[39mMap(location\u001b[39m=\u001b[39m[\u001b[39m37.5665\u001b[39m, \u001b[39m126.9780\u001b[39m], zoom_start\u001b[39m=\u001b[39m\u001b[39m10\u001b[39m)\n\u001b[1;32m----> 5\u001b[0m folium\u001b[39m.\u001b[39;49mChoropleth(\n\u001b[0;32m      6\u001b[0m     geo_data\u001b[39m=\u001b[39;49m\u001b[39m'\u001b[39;49m\u001b[39msouth_korea_geojson.json\u001b[39;49m\u001b[39m'\u001b[39;49m,\n\u001b[0;32m      7\u001b[0m     name\u001b[39m=\u001b[39;49m\u001b[39m'\u001b[39;49m\u001b[39mchoropleth\u001b[39;49m\u001b[39m'\u001b[39;49m,\n\u001b[0;32m      8\u001b[0m     data\u001b[39m=\u001b[39;49mpd\u001b[39m.\u001b[39;49mDataFrame({\n\u001b[0;32m      9\u001b[0m         \u001b[39m'\u001b[39;49m\u001b[39mregion\u001b[39;49m\u001b[39m'\u001b[39;49m: [\u001b[39m'\u001b[39;49m\u001b[39mSeoul\u001b[39;49m\u001b[39m'\u001b[39;49m, \u001b[39m'\u001b[39;49m\u001b[39mBusan\u001b[39;49m\u001b[39m'\u001b[39;49m],\n\u001b[0;32m     10\u001b[0m         \u001b[39m'\u001b[39;49m\u001b[39mvalue\u001b[39;49m\u001b[39m'\u001b[39;49m: [\u001b[39m100\u001b[39;49m, \u001b[39m200\u001b[39;49m]\n\u001b[0;32m     11\u001b[0m     }),\n\u001b[0;32m     12\u001b[0m     columns\u001b[39m=\u001b[39;49m[\u001b[39m'\u001b[39;49m\u001b[39mregion\u001b[39;49m\u001b[39m'\u001b[39;49m, \u001b[39m'\u001b[39;49m\u001b[39mvalue\u001b[39;49m\u001b[39m'\u001b[39;49m],\n\u001b[0;32m     13\u001b[0m     key_on\u001b[39m=\u001b[39;49m\u001b[39m'\u001b[39;49m\u001b[39mfeature.properties.name\u001b[39;49m\u001b[39m'\u001b[39;49m,\n\u001b[0;32m     14\u001b[0m     fill_color\u001b[39m=\u001b[39;49m\u001b[39m'\u001b[39;49m\u001b[39mYlGn\u001b[39;49m\u001b[39m'\u001b[39;49m,\n\u001b[0;32m     15\u001b[0m     fill_opacity\u001b[39m=\u001b[39;49m\u001b[39m0.7\u001b[39;49m,\n\u001b[0;32m     16\u001b[0m     line_opacity\u001b[39m=\u001b[39;49m\u001b[39m0.2\u001b[39;49m,\n\u001b[0;32m     17\u001b[0m     legend_name\u001b[39m=\u001b[39;49m\u001b[39m'\u001b[39;49m\u001b[39mValue\u001b[39;49m\u001b[39m'\u001b[39;49m\n\u001b[0;32m     18\u001b[0m )\u001b[39m.\u001b[39madd_to(m)\n\u001b[0;32m     20\u001b[0m m\u001b[39m.\u001b[39msave(\u001b[39m'\u001b[39m\u001b[39msouth_korea_choropleth.html\u001b[39m\u001b[39m'\u001b[39m)\n",
      "File \u001b[1;32mc:\\ProgramData\\miniforge3\\envs\\lion\\lib\\site-packages\\folium\\features.py:1636\u001b[0m, in \u001b[0;36mChoropleth.__init__\u001b[1;34m(self, geo_data, data, columns, key_on, bins, fill_color, nan_fill_color, fill_opacity, nan_fill_opacity, line_color, line_weight, line_opacity, name, legend_name, overlay, control, show, topojson, smooth_factor, highlight, use_jenks, **kwargs)\u001b[0m\n\u001b[0;32m   1629\u001b[0m     \u001b[39mself\u001b[39m\u001b[39m.\u001b[39mgeojson \u001b[39m=\u001b[39m TopoJson(\n\u001b[0;32m   1630\u001b[0m         geo_data,\n\u001b[0;32m   1631\u001b[0m         topojson,\n\u001b[0;32m   1632\u001b[0m         style_function\u001b[39m=\u001b[39mstyle_function,\n\u001b[0;32m   1633\u001b[0m         smooth_factor\u001b[39m=\u001b[39msmooth_factor,\n\u001b[0;32m   1634\u001b[0m     )\n\u001b[0;32m   1635\u001b[0m \u001b[39melse\u001b[39;00m:\n\u001b[1;32m-> 1636\u001b[0m     \u001b[39mself\u001b[39m\u001b[39m.\u001b[39mgeojson \u001b[39m=\u001b[39m GeoJson(\n\u001b[0;32m   1637\u001b[0m         geo_data,\n\u001b[0;32m   1638\u001b[0m         style_function\u001b[39m=\u001b[39;49mstyle_function,\n\u001b[0;32m   1639\u001b[0m         smooth_factor\u001b[39m=\u001b[39;49msmooth_factor,\n\u001b[0;32m   1640\u001b[0m         highlight_function\u001b[39m=\u001b[39;49mhighlight_function \u001b[39mif\u001b[39;49;00m highlight \u001b[39melse\u001b[39;49;00m \u001b[39mNone\u001b[39;49;00m,\n\u001b[0;32m   1641\u001b[0m     )\n\u001b[0;32m   1643\u001b[0m \u001b[39mself\u001b[39m\u001b[39m.\u001b[39madd_child(\u001b[39mself\u001b[39m\u001b[39m.\u001b[39mgeojson)\n\u001b[0;32m   1644\u001b[0m \u001b[39mif\u001b[39;00m \u001b[39mself\u001b[39m\u001b[39m.\u001b[39mcolor_scale:\n",
      "File \u001b[1;32mc:\\ProgramData\\miniforge3\\envs\\lion\\lib\\site-packages\\folium\\features.py:693\u001b[0m, in \u001b[0;36mGeoJson.__init__\u001b[1;34m(self, data, style_function, highlight_function, popup_keep_highlighted, name, overlay, control, show, smooth_factor, tooltip, embed, popup, zoom_on_click, marker, **kwargs)\u001b[0m\n\u001b[0;32m    690\u001b[0m \u001b[39mself\u001b[39m\u001b[39m.\u001b[39mmarker \u001b[39m=\u001b[39m marker\n\u001b[0;32m    691\u001b[0m \u001b[39mself\u001b[39m\u001b[39m.\u001b[39moptions \u001b[39m=\u001b[39m parse_options(\u001b[39m*\u001b[39m\u001b[39m*\u001b[39mkwargs)\n\u001b[1;32m--> 693\u001b[0m \u001b[39mself\u001b[39m\u001b[39m.\u001b[39mdata \u001b[39m=\u001b[39m \u001b[39mself\u001b[39;49m\u001b[39m.\u001b[39;49mprocess_data(data)\n\u001b[0;32m    695\u001b[0m \u001b[39mif\u001b[39;00m \u001b[39mself\u001b[39m\u001b[39m.\u001b[39mstyle \u001b[39mor\u001b[39;00m \u001b[39mself\u001b[39m\u001b[39m.\u001b[39mhighlight:\n\u001b[0;32m    696\u001b[0m     \u001b[39mself\u001b[39m\u001b[39m.\u001b[39mconvert_to_feature_collection()\n",
      "File \u001b[1;32mc:\\ProgramData\\miniforge3\\envs\\lion\\lib\\site-packages\\folium\\features.py:730\u001b[0m, in \u001b[0;36mGeoJson.process_data\u001b[1;34m(self, data)\u001b[0m\n\u001b[0;32m    728\u001b[0m         \u001b[39mif\u001b[39;00m \u001b[39mnot\u001b[39;00m \u001b[39mself\u001b[39m\u001b[39m.\u001b[39membed:\n\u001b[0;32m    729\u001b[0m             \u001b[39mself\u001b[39m\u001b[39m.\u001b[39membed_link \u001b[39m=\u001b[39m data\n\u001b[1;32m--> 730\u001b[0m         \u001b[39mwith\u001b[39;00m \u001b[39mopen\u001b[39;49m(data) \u001b[39mas\u001b[39;00m f:\n\u001b[0;32m    731\u001b[0m             \u001b[39mreturn\u001b[39;00m json\u001b[39m.\u001b[39mloads(f\u001b[39m.\u001b[39mread())\n\u001b[0;32m    732\u001b[0m \u001b[39melif\u001b[39;00m \u001b[39mhasattr\u001b[39m(data, \u001b[39m\"\u001b[39m\u001b[39m__geo_interface__\u001b[39m\u001b[39m\"\u001b[39m):\n",
      "\u001b[1;31mFileNotFoundError\u001b[0m: [Errno 2] No such file or directory: 'south_korea_geojson.json'"
     ]
    }
   ],
   "source": [
    "import folium\n",
    "import pandas as pd\n",
    "\n",
    "m = folium.Map(location=[37.5665, 126.9780], zoom_start=10)\n",
    "folium.Choropleth(\n",
    "    geo_data='south_korea_geojson.json',\n",
    "    name='choropleth',\n",
    "    data=pd.DataFrame({\n",
    "        'region': ['Seoul', 'Busan'],\n",
    "        'value': [100, 200]\n",
    "    }),\n",
    "    columns=['region', 'value'],\n",
    "    key_on='feature.properties.name',\n",
    "    fill_color='YlGn',\n",
    "    fill_opacity=0.7,\n",
    "    line_opacity=0.2,\n",
    "    legend_name='Value'\n",
    ").add_to(m)\n",
    "\n",
    "m.save('south_korea_choropleth.html')"
   ]
  },
  {
   "cell_type": "code",
   "execution_count": null,
   "metadata": {},
   "outputs": [],
   "source": [
    "m = folium.Map(\n",
    "    location=[37.4918346,127.0202431],\n",
    "    zoom_start=10\n",
    ")\n",
    "import json\n",
    "with open('./seoul_municipalities_geo.json', mode='rt', encoding='utf-8') as f:\n",
    "    geo = json.loads(f.read())\n",
    "    f.close()\n",
    "\n",
    "folium.GeoJson(\n",
    "    geo,\n",
    "    name='seoul_municipalities'\n",
    ")\n"
   ]
  }
 ],
 "metadata": {
  "kernelspec": {
   "display_name": "Python 3",
   "language": "python",
   "name": "python3"
  },
  "language_info": {
   "codemirror_mode": {
    "name": "ipython",
    "version": 3
   },
   "file_extension": ".py",
   "mimetype": "text/x-python",
   "name": "python",
   "nbconvert_exporter": "python",
   "pygments_lexer": "ipython3",
   "version": "3.10.13"
  },
  "orig_nbformat": 4
 },
 "nbformat": 4,
 "nbformat_minor": 2
}
