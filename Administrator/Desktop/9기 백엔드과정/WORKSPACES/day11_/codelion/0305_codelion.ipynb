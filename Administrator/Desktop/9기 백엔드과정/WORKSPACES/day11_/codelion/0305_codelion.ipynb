{
 "cells": [
  {
   "cell_type": "code",
   "execution_count": 1,
   "metadata": {},
   "outputs": [
    {
     "name": "stdout",
     "output_type": "stream",
     "text": [
      "210\n"
     ]
    }
   ],
   "source": [
    "# input 정수형 변환\n",
    "input1 = int(input(\"숫자를 입력해주세요: \"))\n",
    "input2 = int(input(\"숫자를 입력해주세요: \"))\n",
    "\n",
    "print(input1+input2)"
   ]
  },
  {
   "cell_type": "code",
   "execution_count": 3,
   "metadata": {},
   "outputs": [
    {
     "name": "stdout",
     "output_type": "stream",
     "text": [
      "['짜장', '짬뽕', '탕수육']\n"
     ]
    }
   ],
   "source": [
    "# 리스트\n",
    "orders = [\"짜장\", \"짬뽕\", \"탕수육\"]\n",
    "\n",
    "print(orders)"
   ]
  },
  {
   "cell_type": "code",
   "execution_count": 6,
   "metadata": {},
   "outputs": [
    {
     "name": "stdout",
     "output_type": "stream",
     "text": [
      "['짜장', '냉면', '양장피', '짬뽕', '양장피', '탕수육']\n"
     ]
    }
   ],
   "source": [
    "# insert\n",
    "orders.insert(1,\"냉면\")\n",
    "orders.insert(2,\"양장피\")\n",
    "print(orders)"
   ]
  },
  {
   "cell_type": "code",
   "execution_count": 7,
   "metadata": {},
   "outputs": [
    {
     "name": "stdout",
     "output_type": "stream",
     "text": [
      "['짬뽕', '탕수육']\n"
     ]
    }
   ],
   "source": [
    "# del 인덱스번호로 데이터삭제\n",
    "# remove 데이터의 이름을 지정\n",
    "orders = [\"짜장\", \"짬뽕\", \"탕수육\"]\n",
    "\n",
    "# del orders[0]\n",
    "orders.remove(\"짜장\")\n",
    "\n",
    "print(orders)"
   ]
  },
  {
   "cell_type": "code",
   "execution_count": 8,
   "metadata": {},
   "outputs": [
    {
     "name": "stdout",
     "output_type": "stream",
     "text": [
      "3\n"
     ]
    }
   ],
   "source": [
    "# 리스트 길이\n",
    "orders = [\"짜장\", \"짬뽕\", \"탕수육\"]\n",
    "\n",
    "print(len(orders))"
   ]
  },
  {
   "cell_type": "code",
   "execution_count": 9,
   "metadata": {},
   "outputs": [
    {
     "name": "stdout",
     "output_type": "stream",
     "text": [
      "[20, 40, 50, 10, 30]\n"
     ]
    }
   ],
   "source": [
    "# 숫자리스트\n",
    "num = [20, 40, 50, 10, 30]\n",
    "\n",
    "print(num)"
   ]
  },
  {
   "cell_type": "code",
   "execution_count": 11,
   "metadata": {},
   "outputs": [
    {
     "data": {
      "text/plain": [
       "30.0"
      ]
     },
     "execution_count": 11,
     "metadata": {},
     "output_type": "execute_result"
    }
   ],
   "source": [
    "# 리스트 평균\n",
    "num = [20, 40, 50, 10, 30]\n",
    "\n",
    "a_num = sum(num)/len(num)\n",
    "a_num"
   ]
  },
  {
   "cell_type": "code",
   "execution_count": 12,
   "metadata": {},
   "outputs": [
    {
     "name": "stdout",
     "output_type": "stream",
     "text": [
      "{'짜장': 4000, '짬뽕': 5000, '탕수육': 9000}\n"
     ]
    }
   ],
   "source": [
    "# 딕셔너리\n",
    "menu = {\"짜장\" : 4000, \"짬뽕\" : 5000, \"탕수육\" : 9000}\n",
    "\n",
    "print(menu)"
   ]
  },
  {
   "cell_type": "code",
   "execution_count": 13,
   "metadata": {},
   "outputs": [
    {
     "name": "stdout",
     "output_type": "stream",
     "text": [
      "{'짜장': 4000, '짬뽕': 5000, '탕수육': 9000, '냉면': 6000}\n",
      "5000\n"
     ]
    }
   ],
   "source": [
    "# 딕셔너리 추가\n",
    "menu = {\"짜장\" : 4000, \"짬뽕\" : 5000, \"탕수육\" : 9000}\n",
    "\n",
    "menu[\"냉면\"] = 6000\n",
    "\n",
    "print(menu)\n",
    "print(menu[\"짬뽕\"])"
   ]
  },
  {
   "cell_type": "code",
   "execution_count": 14,
   "metadata": {},
   "outputs": [
    {
     "name": "stdout",
     "output_type": "stream",
     "text": [
      "{'짜장': 4500, '짬뽕': 5000, '탕수육': 8500}\n"
     ]
    }
   ],
   "source": [
    "# 딕셔너리 데이터값 변경\n",
    "menu = {\"짜장\" : 4000, \"짬뽕\" : 5000, \"탕수육\" : 9000}\n",
    "\n",
    "menu[\"탕수육\"] = 8500\n",
    "menu[\"짜장\"] = 4500\n",
    "\n",
    "print(menu)"
   ]
  },
  {
   "cell_type": "code",
   "execution_count": 15,
   "metadata": {},
   "outputs": [
    {
     "name": "stdout",
     "output_type": "stream",
     "text": [
      "{}\n"
     ]
    }
   ],
   "source": [
    "# 딕셔너리 데이터값 삭제\n",
    "menu = {\"짜장\" : 4000, \"짬뽕\" : 5000, \"탕수육\" : 9000}\n",
    "\n",
    "del menu[\"짜장\"]\n",
    "del menu[\"탕수육\"]\n",
    "del menu[\"짬뽕\"]\n",
    "\n",
    "print(menu)"
   ]
  },
  {
   "cell_type": "code",
   "execution_count": null,
   "metadata": {},
   "outputs": [],
   "source": [
    "# 조건문\n",
    "myGrade = int(input(\"학번을 입력하세요 : \"))\n",
    "yourGrade = int(input(\"학번을 입력하세요 : \"))\n",
    "\n",
    "print(myGrade != yourGrade)"
   ]
  },
  {
   "cell_type": "code",
   "execution_count": null,
   "metadata": {},
   "outputs": [],
   "source": [
    "# if조건문 \n",
    "myGrade = int(input(\"학번을 입력하세요 : \"))\n",
    "yourGrade = int(input(\"학번을 입력하세요 : \"))\n",
    "\n",
    "if myGrade != yourGrade :\n",
    "    print(\"앗 동기네요!\")\n",
    "    print(\"반갑습니다.\")\n",
    "print(\"누구세요?\")"
   ]
  },
  {
   "cell_type": "code",
   "execution_count": null,
   "metadata": {},
   "outputs": [],
   "source": [
    "# if else 조건문\n",
    "myGrade = int(input(\"학번을 입력하세요 : \"))\n",
    "yourGrade = int(input(\"학번을 입력하세요 : \"))\n",
    "\n",
    "if myGrade == yourGrade :\n",
    "    print(\"앗 동기네요!\")\n",
    "else :\n",
    "    print(\"앗 동기가 아니네요!\")"
   ]
  },
  {
   "cell_type": "code",
   "execution_count": null,
   "metadata": {},
   "outputs": [],
   "source": [
    "# elif 조건문\n",
    "myGrade = int(input(\"학번을 입력하세요 : \"))\n",
    "yourGrade = int(input(\"학번을 입력하세요 : \"))\n",
    "\n",
    "if myGrade == yourGrade :\n",
    "    print(\"안녕하세요 동기님!\")\n",
    "elif myGrade > yourGrade :\n",
    "    print(\"안녕하세요 선배님!\")\n",
    "elif myGrade < yourGrade :\n",
    "    print(\"안녕하세요 후배님!\")\n",
    "else :\n",
    "    print(\"누구세요?\")"
   ]
  },
  {
   "cell_type": "code",
   "execution_count": null,
   "metadata": {},
   "outputs": [],
   "source": [
    "# in 키워드\n",
    "orders = [\"짜장\", \"짬뽕\", \"탕수육\"]\n",
    "\n",
    "food = input(\"먹고싶은 메뉴를 입력해주세요 : \")\n",
    "\n",
    "if food in orders :\n",
    "    print(\"주문할 수 있습니다.\")\n",
    "else :\n",
    "    print(\"주문할 수 없습니다\")"
   ]
  },
  {
   "cell_type": "code",
   "execution_count": null,
   "metadata": {},
   "outputs": [],
   "source": [
    "# while반복문\n",
    "while 10 < 90 :\n",
    "    print(\"True\")\n",
    "    break"
   ]
  },
  {
   "cell_type": "code",
   "execution_count": 16,
   "metadata": {},
   "outputs": [
    {
     "name": "stdout",
     "output_type": "stream",
     "text": [
      "5\n",
      "4\n",
      "3\n",
      "2\n",
      "1\n"
     ]
    }
   ],
   "source": [
    "# 5 -> 1출력\n",
    "i = 5\n",
    "\n",
    "while 0 <i < 6 :\n",
    "    print(i)\n",
    "    i = i - 1\n",
    "    "
   ]
  },
  {
   "cell_type": "code",
   "execution_count": null,
   "metadata": {},
   "outputs": [],
   "source": [
    "# for반복문\n",
    "for x in range(100) :\n",
    "    print(\"안녕하세요\")"
   ]
  },
  {
   "cell_type": "code",
   "execution_count": null,
   "metadata": {},
   "outputs": [],
   "source": [
    "# for문 응용 range\n",
    "result = 1\n",
    "\n",
    "for x in range(1, 11) :\n",
    "    result = result * x\n",
    "\n",
    "print(result)"
   ]
  },
  {
   "cell_type": "code",
   "execution_count": null,
   "metadata": {},
   "outputs": [],
   "source": [
    "# 별찍기 \n",
    "for i in range(5):\n",
    "    print(\"*\")"
   ]
  },
  {
   "cell_type": "code",
   "execution_count": null,
   "metadata": {},
   "outputs": [],
   "source": [
    "# 별찍기 가로출력\n",
    "for i in range(5):\n",
    "    print(\"*\",end=\"\")"
   ]
  },
  {
   "cell_type": "code",
   "execution_count": 18,
   "metadata": {},
   "outputs": [
    {
     "name": "stdout",
     "output_type": "stream",
     "text": [
      "*****\n",
      "*****\n",
      "*****\n",
      "*****\n",
      "*****\n"
     ]
    }
   ],
   "source": [
    "# 별찍기 정사각\n",
    "for i in range(5):\n",
    "    print(\"*\"*5)"
   ]
  },
  {
   "cell_type": "code",
   "execution_count": 21,
   "metadata": {},
   "outputs": [
    {
     "name": "stdout",
     "output_type": "stream",
     "text": [
      "*\n",
      "**\n",
      "***\n",
      "****\n",
      "*****\n"
     ]
    }
   ],
   "source": [
    "# 별찍기 직각삼각형\n",
    "for i in range(1,6):\n",
    "    print(\"*\"*i)"
   ]
  },
  {
   "cell_type": "code",
   "execution_count": null,
   "metadata": {},
   "outputs": [],
   "source": [
    "# 별찍기 정삼각형\n",
    "for i in range(1,6):\n",
    "    print(\"*\"*i)"
   ]
  },
  {
   "cell_type": "code",
   "execution_count": 29,
   "metadata": {},
   "outputs": [
    {
     "name": "stdout",
     "output_type": "stream",
     "text": [
      "\n",
      "2\t3\t4\t5\t6\t7\t8\t9\t10\t\n",
      "12\t13\t14\t15\t16\t17\t18\t19\t20\t\n",
      "22\t23\t24\t25\t26\t27\t28\t29\t30\t\n",
      "32\t33\t34\t35\t36\t37\t38\t39\t40\t\n",
      "42\t"
     ]
    }
   ],
   "source": [
    "user_input = int(input(\"줄바꿈을 하려는 숫자를 입력해주세요\"))\n",
    "\n",
    "for i in range(user_input):\n",
    "    if i % 10 ==0:\n",
    "        print()\n",
    "    else:\n",
    "        print(i+1,end=\"\\t\")\n",
    "\n",
    "\n"
   ]
  },
  {
   "cell_type": "code",
   "execution_count": 27,
   "metadata": {},
   "outputs": [
    {
     "name": "stdout",
     "output_type": "stream",
     "text": [
      "[16, 19, 8]\n"
     ]
    }
   ],
   "source": [
    "# 랜덤번호\n",
    "import random\n",
    "\n",
    "randomNumber = random.sample(range(1, 51), 3)\n",
    "print(randomNumber)"
   ]
  },
  {
   "cell_type": "code",
   "execution_count": 22,
   "metadata": {},
   "outputs": [
    {
     "name": "stdout",
     "output_type": "stream",
     "text": [
      "[5, 19, 24, 25, 38, 45]\n",
      "[6, 7, 10, 28, 39, 41]\n",
      "[13, 17, 32, 39, 40, 41]\n",
      "[8, 9, 12, 17, 22, 29]\n",
      "[8, 12, 16, 33, 44, 45]\n",
      "[11, 22, 28, 33, 37, 43]\n",
      "[9, 19, 21, 24, 38, 45]\n",
      "[5, 6, 29, 36, 40, 41]\n",
      "[16, 18, 24, 35, 37, 42]\n",
      "[4, 11, 14, 18, 26, 40]\n"
     ]
    }
   ],
   "source": [
    "# 랜덤번호\n",
    "import random\n",
    "\n",
    "lotto_count = int(input(\"로또를 몇번 구매합니까: \"))\n",
    "for i in range(lotto_count):\n",
    "    randomNumber = random.sample(range(1, 46), 6)\n",
    "    randomNumber = sorted(randomNumber)\n",
    "    print(randomNumber)"
   ]
  },
  {
   "cell_type": "code",
   "execution_count": 35,
   "metadata": {},
   "outputs": [
    {
     "data": {
      "text/plain": [
       "[2, 4, 6, 8, 10]"
      ]
     },
     "execution_count": 35,
     "metadata": {},
     "output_type": "execute_result"
    }
   ],
   "source": [
    "def solution(numbers):\n",
    "    answer = []\n",
    "    for i in numbers:\n",
    "        answer.append(i*2)\n",
    "    return answer\n",
    "\n",
    "numbers = [1, 2, 3, 4, 5]\n",
    "solution(numbers)"
   ]
  },
  {
   "cell_type": "code",
   "execution_count": 41,
   "metadata": {},
   "outputs": [
    {
     "data": {
      "text/plain": [
       "7"
      ]
     },
     "execution_count": 41,
     "metadata": {},
     "output_type": "execute_result"
    }
   ],
   "source": [
    "def solution(array):\n",
    "    sorted_array = sorted(array)\n",
    "    answer = sorted_array[int(len(sorted_array)/2)]\n",
    "    return answer\n",
    "\n",
    "array = [1, 2, 7, 10, 11]\t\n",
    "solution(array)"
   ]
  },
  {
   "cell_type": "code",
   "execution_count": 46,
   "metadata": {},
   "outputs": [
    {
     "data": {
      "text/plain": [
       "[1, 3, 5, 7, 9, 11, 13, 15, 17, 19]"
      ]
     },
     "execution_count": 46,
     "metadata": {},
     "output_type": "execute_result"
    }
   ],
   "source": [
    "def solution(n):\n",
    "    answer = []\n",
    "    for i in range(1,n+1):\n",
    "        if i % 2 == 1:\n",
    "            answer.append(i)\n",
    "    # answer = sorted(answer)\n",
    "            \n",
    "    \n",
    "    \n",
    "    return answer\n",
    "\n",
    "n = 20\n",
    "solution(n)"
   ]
  },
  {
   "cell_type": "code",
   "execution_count": null,
   "metadata": {},
   "outputs": [],
   "source": []
  }
 ],
 "metadata": {
  "kernelspec": {
   "display_name": "Python 3",
   "language": "python",
   "name": "python3"
  },
  "language_info": {
   "codemirror_mode": {
    "name": "ipython",
    "version": 3
   },
   "file_extension": ".py",
   "mimetype": "text/x-python",
   "name": "python",
   "nbconvert_exporter": "python",
   "pygments_lexer": "ipython3",
   "version": "3.10.13"
  },
  "orig_nbformat": 4
 },
 "nbformat": 4,
 "nbformat_minor": 2
}
