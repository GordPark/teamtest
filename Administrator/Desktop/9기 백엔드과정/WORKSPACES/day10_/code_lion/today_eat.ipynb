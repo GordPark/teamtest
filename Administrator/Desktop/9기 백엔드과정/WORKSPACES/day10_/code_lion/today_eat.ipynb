{
 "cells": [
  {
   "cell_type": "code",
   "execution_count": 3,
   "metadata": {},
   "outputs": [
    {
     "name": "stdout",
     "output_type": "stream",
     "text": [
      "된장찌개\n"
     ]
    }
   ],
   "source": [
    "# 1 랜덤으로 메뉴 1개 출력\n",
    "import random\n",
    "\n",
    "print(random.choice([\"된장찌개\",\"피자\",\"제육볶음\"]))"
   ]
  },
  {
   "cell_type": "code",
   "execution_count": 6,
   "metadata": {},
   "outputs": [
    {
     "name": "stdout",
     "output_type": "stream",
     "text": [
      "떡볶이\n"
     ]
    }
   ],
   "source": [
    "# 1 메뉴 2개 추가\n",
    "import random\n",
    "\n",
    "print(random.choice([\"된장찌개\",\"피자\",\"제육볶음\",\"치킨\",\"떡볶이\"]))"
   ]
  },
  {
   "cell_type": "code",
   "execution_count": 10,
   "metadata": {},
   "outputs": [
    {
     "name": "stdout",
     "output_type": "stream",
     "text": [
      "치킨치킨치킨치킨치킨치킨치킨치킨치킨치킨치킨치킨치킨치킨치킨치킨치킨치킨치킨치킨치킨치킨치킨치킨치킨치킨치킨치킨치킨치킨\n"
     ]
    }
   ],
   "source": [
    "# 메뉴 2개 추가 후 30번 출력\n",
    "import random\n",
    "print(random.choice([\"된장찌개\",\"피자\",\"제육볶음\",\"치킨\",\"떡볶이\"])*30)"
   ]
  },
  {
   "cell_type": "code",
   "execution_count": 11,
   "metadata": {},
   "outputs": [
    {
     "name": "stdout",
     "output_type": "stream",
     "text": [
      "제육볶음\n",
      "제육볶음\n",
      "치킨\n",
      "제육볶음\n",
      "치킨\n",
      "피자\n",
      "치킨\n",
      "제육볶음\n",
      "된장찌개\n",
      "된장찌개\n",
      "치킨\n",
      "된장찌개\n",
      "제육볶음\n",
      "떡볶이\n",
      "떡볶이\n",
      "피자\n",
      "떡볶이\n",
      "된장찌개\n",
      "피자\n",
      "피자\n",
      "제육볶음\n",
      "치킨\n",
      "치킨\n",
      "된장찌개\n",
      "된장찌개\n",
      "제육볶음\n",
      "된장찌개\n",
      "피자\n",
      "피자\n",
      "떡볶이\n",
      "이 문장도 반복되나요?\n"
     ]
    }
   ],
   "source": [
    "# 1 메뉴 2개 추가\n",
    "import random\n",
    "for i in range(30):\n",
    "    print(random.choice([\"된장찌개\",\"피자\",\"제육볶음\",\"치킨\",\"떡볶이\"]))\n",
    "print(\"이 문장도 반복되나요?\")"
   ]
  },
  {
   "cell_type": "code",
   "execution_count": 13,
   "metadata": {},
   "outputs": [],
   "source": [
    "# 1 메뉴 2개 추가\n",
    "import random\n",
    "import time\n",
    "while True: # 무한루프\n",
    "    break\n",
    "    print(random.choice([\"된장찌개\",\"피자\",\"제육볶음\",\"치킨\",\"떡볶이\"]))\n",
    "    print(\"이 문장도 반복되나요?\")\n",
    "    time.sleep(1)"
   ]
  },
  {
   "cell_type": "code",
   "execution_count": 14,
   "metadata": {},
   "outputs": [
    {
     "name": "stdout",
     "output_type": "stream",
     "text": [
      "피자\n"
     ]
    }
   ],
   "source": [
    "# 1 메뉴 2개 추가\n",
    "import random\n",
    "import time\n",
    "\n",
    "lunch = random.choice([\"된장찌개\",\"피자\",\"제육볶음\"]) # [<=] 발전하면서 [=] 으로  변수에 대입\n",
    "dinner = random.choice([\"김밥\",\"쫄면\",\"돈까스\",])\n",
    "\n",
    "print(lunch)"
   ]
  },
  {
   "cell_type": "code",
   "execution_count": 16,
   "metadata": {},
   "outputs": [
    {
     "data": {
      "text/plain": [
       "'영화관람'"
      ]
     },
     "execution_count": 16,
     "metadata": {},
     "output_type": "execute_result"
    }
   ],
   "source": [
    "# 딕셔너리\n",
    "information = {\"고향\":\"수원\",\"취미\":\"영화관람\",\"좋아하는 음식\":\"콩국수\"}\n",
    "information\n",
    "information.get(\"취미\") # get() 키에 해당되는 value값 가져옴"
   ]
  },
  {
   "cell_type": "code",
   "execution_count": 19,
   "metadata": {},
   "outputs": [
    {
     "name": "stdout",
     "output_type": "stream",
     "text": [
      "영화관람\n"
     ]
    },
    {
     "data": {
      "text/plain": [
       "'피아노'"
      ]
     },
     "execution_count": 19,
     "metadata": {},
     "output_type": "execute_result"
    }
   ],
   "source": [
    "# 딕셔너리\n",
    "information = {\"고향\":\"수원\",\"취미\":\"영화관람\",\"좋아하는 음식\":\"콩국수\"}\n",
    "\n",
    "print(information.get(\"취미\"))\n",
    "\n",
    "information = {\"사는곳\":\"서울\",\"특기\":\"피아노\"}\n",
    "print(information.get(\"사는곳\"))\n",
    "print(information.get(\"특기\"))"
   ]
  },
  {
   "cell_type": "code",
   "execution_count": 34,
   "metadata": {},
   "outputs": [
    {
     "name": "stdout",
     "output_type": "stream",
     "text": [
      "영화관람\n",
      "{'고향': '수원', '취미': '영화관람', '특기': '피아노', '사는곳': '서울'}\n",
      "4\n",
      "{}\n",
      "피자\n",
      "제육볶음\n",
      "제육볶음\n",
      "김밥\n",
      "['된장찌개', '피자', '제육볶음']\n"
     ]
    }
   ],
   "source": [
    "information = {\"고향\":\"수원\",\"취미\":\"영화관람\",\"좋아하는 음식\":\"콩국수\"}\n",
    "foods = [\"된장찌개\",\"피자\",\"제육볶음\"]\n",
    "print(information.get(\"취미\"))\n",
    "information[\"특기\"] = \"피아노\"\n",
    "information[\"사는곳\"] = \"서울\"\n",
    "del information[\"좋아하는 음식\"]    # 딕셔너리 키 삭제\n",
    "print(information)\n",
    "print(len(information)) # 정보묶음의 개수\n",
    "information.clear()     # 딕셔너리 정보 모두 삭제\n",
    "print(information)\n",
    "print(foods[1])\n",
    "print(foods[2])\n",
    "print(foods[-1])\n",
    "foods.append(\"김밥\")\n",
    "print(foods[3])\n",
    "del foods[3]\n",
    "print(foods)"
   ]
  },
  {
   "cell_type": "code",
   "execution_count": 35,
   "metadata": {},
   "outputs": [
    {
     "name": "stdout",
     "output_type": "stream",
     "text": [
      "0\n",
      "1\n",
      "2\n",
      "3\n",
      "4\n",
      "5\n",
      "6\n",
      "7\n",
      "8\n",
      "9\n",
      "10\n",
      "11\n",
      "12\n",
      "13\n",
      "14\n",
      "15\n",
      "16\n",
      "17\n",
      "18\n",
      "19\n",
      "20\n",
      "21\n",
      "22\n",
      "23\n",
      "24\n",
      "25\n",
      "26\n",
      "27\n",
      "28\n",
      "29\n"
     ]
    }
   ],
   "source": [
    "for x in range(30):\n",
    "    print(x)"
   ]
  },
  {
   "cell_type": "code",
   "execution_count": 36,
   "metadata": {},
   "outputs": [
    {
     "name": "stdout",
     "output_type": "stream",
     "text": [
      "된장찌개\n",
      "피자\n",
      "제육볶음\n",
      "된장찌개\n",
      "피자\n",
      "제육볶음\n"
     ]
    }
   ],
   "source": [
    "# 리스트 반복문\n",
    "foods = [\"된장찌개\", \"피자\", \"제육볶음\"]\n",
    "for x in range(3):\n",
    "    print(foods[x])\n",
    "for x in foods:\n",
    "    print(x)"
   ]
  },
  {
   "cell_type": "code",
   "execution_count": 37,
   "metadata": {},
   "outputs": [
    {
     "name": "stdout",
     "output_type": "stream",
     "text": [
      "고향\n",
      "수원\n",
      "취미\n",
      "영화관람\n",
      "좋아하는 음식\n",
      "국수\n"
     ]
    }
   ],
   "source": [
    "# 딕셔너리 반복문\n",
    "information = {\"고향\":\"수원\",\"취미\":\"영화관람\",\"좋아하는 음식\":\"국수\"}\n",
    "for x,y in information.items():\n",
    "    print(x)\n",
    "    print(y)"
   ]
  },
  {
   "cell_type": "code",
   "execution_count": 58,
   "metadata": {},
   "outputs": [
    {
     "name": "stdout",
     "output_type": "stream",
     "text": [
      "['된장찌개', '피자', '제육볶음', '된장찌개']\n",
      "{'제육볶음', '피자', '된장찌개'}\n"
     ]
    }
   ],
   "source": [
    "# 집합\n",
    "foods = [\"된장찌개\",\"피자\",\"제육볶음\",\"된장찌개\"]\n",
    "foods_set = set(foods)\n",
    "# foods_set2 = set([\"된장찌개\",\"피자\",\"제육볶음\"])\n",
    "print(foods)\n",
    "print(foods_set)\n"
   ]
  },
  {
   "cell_type": "code",
   "execution_count": 62,
   "metadata": {},
   "outputs": [
    {
     "name": "stdout",
     "output_type": "stream",
     "text": [
      "{'된장찌개', '떡국', '제육볶음', '피자', '김밥'}\n",
      "{'된장찌개'}\n",
      "{'제육볶음', '피자'}\n"
     ]
    }
   ],
   "source": [
    "menu1 = set([\"된장찌개\",\"피자\",\"제육볶음\"])\n",
    "menu2 = set([\"된장찌개\",\"떡국\",\"김밥\"])\n",
    "menu3 = menu1 | menu2   # 합집합\n",
    "print(menu3)\n",
    "menu3 = menu1 & menu2   # 교집합\n",
    "print(menu3)\n",
    "menu3 = menu1 - menu2   # 차집합\n",
    "print(menu3)\n"
   ]
  },
  {
   "cell_type": "code",
   "execution_count": null,
   "metadata": {},
   "outputs": [],
   "source": []
  },
  {
   "cell_type": "code",
   "execution_count": 63,
   "metadata": {},
   "outputs": [],
   "source": [
    "# if문\n",
    "import random\n",
    "\n",
    "food = random.choice([\"된장찌개\",\"피자\",\"제육볶음\"])\n",
    "if (food == \"제육볶음\"):\n",
    "    print(\"곱빼기 주세요\")"
   ]
  },
  {
   "cell_type": "code",
   "execution_count": 64,
   "metadata": {},
   "outputs": [
    {
     "name": "stdout",
     "output_type": "stream",
     "text": [
      "['된장찌개', '피자', '제육볶음', '짜장면']\n",
      "['된장찌개', '피자', '제육볶음', '짜장면', '돈까쓰']\n",
      "['된장찌개', '피자', '제육볶음', '짜장면', '돈까쓰', '김밥']\n",
      "['된장찌개', '피자', '제육볶음', '짜장면', '돈까쓰', '김밥']\n"
     ]
    }
   ],
   "source": [
    "lunch = [\"된장찌개\",\"피자\",\"제육볶음\", \"짜장면\"]\n",
    "while True:\n",
    "    print(lunch)\n",
    "    item = input(\"음식을 추가 해주세요:\")\n",
    "    if(item == \"q\"):\n",
    "        break\n",
    "    else:\n",
    "        lunch.append(item)\n",
    "        \n",
    "print(lunch)\n",
    "set_lunch = set(lunch)\n"
   ]
  },
  {
   "cell_type": "code",
   "execution_count": null,
   "metadata": {},
   "outputs": [],
   "source": [
    "lunch = [\"된장찌개\",\"피자\",\"제육볶음\", \"짜장면\"]\n",
    "while True:\n",
    "    print(lunch)\n",
    "    item = input(\"음식을 추가 해주세요: \")\n",
    "    if (item == \"q\"):\n",
    "        break\n",
    "    else:\n",
    "        lunch.append(item)\n",
    "print(lunch)"
   ]
  },
  {
   "cell_type": "code",
   "execution_count": 66,
   "metadata": {},
   "outputs": [
    {
     "name": "stdout",
     "output_type": "stream",
     "text": [
      "{'제육볶음', '된장찌개', '피자'}\n",
      "{'짜장면', '제육볶음', '피자', '된장찌개'}\n"
     ]
    }
   ],
   "source": [
    "set_lunch = set([\"된장찌개\",\"피자\",\"제육볶음\", \"짜장면\"])\n",
    "item = \"짜장면\"\n",
    "print(set_lunch - set([item])) \n",
    "print(set_lunch)"
   ]
  },
  {
   "cell_type": "code",
   "execution_count": null,
   "metadata": {},
   "outputs": [],
   "source": [
    "set_lunch = set([\"된장찌개\",\"피자\",\"제육볶음\", \"짜장면\"])"
   ]
  },
  {
   "cell_type": "code",
   "execution_count": 82,
   "metadata": {},
   "outputs": [
    {
     "name": "stdout",
     "output_type": "stream",
     "text": [
      "[('a', 1), ('b', 2), ('c', 3)]\n"
     ]
    }
   ],
   "source": [
    "dict_example = {\"a\": 1, \"b\": 2, \"c\": 3}\n",
    "set_example = sorted(set(dict_example.items())) # 다른 자료형으로도 저장가능 set은 순서가 없기에 sorted로 순서지정\n",
    "print(set_example)"
   ]
  },
  {
   "cell_type": "code",
   "execution_count": 67,
   "metadata": {},
   "outputs": [
    {
     "name": "stdout",
     "output_type": "stream",
     "text": [
      "{'제육볶음', '된장찌개', '피자'}\n"
     ]
    }
   ],
   "source": [
    "set_dinner = set([\"된장찌개\",\"피자\",\"제육볶음\", \"짜장면\"])\n",
    "item = \"짜장면\"\n",
    "set_dinner = set_dinner - set([item])\n",
    "print(set_lunch)"
   ]
  },
  {
   "cell_type": "code",
   "execution_count": 68,
   "metadata": {},
   "outputs": [
    {
     "name": "stdout",
     "output_type": "stream",
     "text": [
      "['된장찌개', '피자', '제육볶음', '짜장면']\n",
      "['된장찌개', '피자', '제육볶음', '짜장면', '돈까스']\n",
      "['된장찌개', '피자', '제육볶음', '짜장면', '돈까스']\n",
      "{'짜장면', '된장찌개', '돈까스', '제육볶음', '피자'}\n",
      "{'짜장면', '제육볶음', '피자', '돈까스'}\n",
      "{'짜장면', '제육볶음', '피자', '돈까스'} 중에서 선택합니다.\n",
      "5\n",
      "4\n",
      "3\n",
      "2\n",
      "1\n",
      "피자\n"
     ]
    }
   ],
   "source": [
    "import time\n",
    "import random\n",
    "\n",
    "lunch = [\"된장찌개\",\"피자\",\"제육볶음\", \"짜장면\"]\n",
    "while True:\n",
    "    print(lunch)\n",
    "    item = input(\"음식을 추가 해주세요:\")\n",
    "    if(item == \"q\"):\n",
    "        break\n",
    "    else:\n",
    "        lunch.append(item)\n",
    "        \n",
    "print(lunch)\n",
    "\n",
    "set_lunch = set(lunch)\n",
    "while True:\n",
    "    print(set_lunch)\n",
    "    item = input(\"음식을 삭제해주세요 : \" )\n",
    "    if(item == \"q\"):\n",
    "        break\n",
    "    else:\n",
    "        set_lunch = set_lunch - set([item])\n",
    "\n",
    "print(set_lunch, \"중에서 선택합니다.\")\n",
    "print(\"5\")\n",
    "time.sleep(1)\n",
    "print(\"4\")\n",
    "time.sleep(1)\n",
    "print(\"3\")\n",
    "time.sleep(1)\n",
    "print(\"2\")\n",
    "time.sleep(1)\n",
    "print(\"1\")\n",
    "time.sleep(1)\n",
    "print(random.choice(list(set_lunch)))"
   ]
  },
  {
   "cell_type": "code",
   "execution_count": 83,
   "metadata": {},
   "outputs": [
    {
     "name": "stdout",
     "output_type": "stream",
     "text": [
      "['된장찌개', '피자', '제육볶음', '짜장면']\n",
      "['된장찌개', '피자', '제육볶음', '짜장면', '돈까스']\n",
      "['된장찌개', '피자', '제육볶음', '짜장면', '돈까스', '치킨']\n",
      "['된장찌개', '피자', '제육볶음', '짜장면', '돈까스', '치킨']\n",
      "{'짜장면', '된장찌개', '돈까스', '치킨', '제육볶음', '피자'}\n",
      "{'짜장면', '된장찌개', '돈까스', '치킨', '제육볶음', '피자'}\n",
      "{'짜장면', '된장찌개', '돈까스', '치킨', '제육볶음', '피자'} 중에서 선택합니다.\n",
      "5\n",
      "4\n",
      "3\n",
      "2\n",
      "1\n"
     ]
    },
    {
     "ename": "TypeError",
     "evalue": "'set' object is not subscriptable",
     "output_type": "error",
     "traceback": [
      "\u001b[1;31m---------------------------------------------------------------------------\u001b[0m",
      "\u001b[1;31mTypeError\u001b[0m                                 Traceback (most recent call last)",
      "Cell \u001b[1;32mIn[83], line 26\u001b[0m\n\u001b[0;32m     24\u001b[0m     \u001b[39mprint\u001b[39m(i)\n\u001b[0;32m     25\u001b[0m     time\u001b[39m.\u001b[39msleep(\u001b[39m1\u001b[39m)\n\u001b[1;32m---> 26\u001b[0m \u001b[39mprint\u001b[39m(random\u001b[39m.\u001b[39;49mchoice(set_dinner))\n",
      "File \u001b[1;32mc:\\ProgramData\\miniforge3\\envs\\lion\\lib\\random.py:378\u001b[0m, in \u001b[0;36mRandom.choice\u001b[1;34m(self, seq)\u001b[0m\n\u001b[0;32m    376\u001b[0m \u001b[39m\u001b[39m\u001b[39m\"\"\"Choose a random element from a non-empty sequence.\"\"\"\u001b[39;00m\n\u001b[0;32m    377\u001b[0m \u001b[39m# raises IndexError if seq is empty\u001b[39;00m\n\u001b[1;32m--> 378\u001b[0m \u001b[39mreturn\u001b[39;00m seq[\u001b[39mself\u001b[39;49m\u001b[39m.\u001b[39;49m_randbelow(\u001b[39mlen\u001b[39;49m(seq))]\n",
      "\u001b[1;31mTypeError\u001b[0m: 'set' object is not subscriptable"
     ]
    }
   ],
   "source": [
    "import time\n",
    "import random\n",
    "dinner = ['된장찌개', '피자', '제육볶음', '짜장면']\n",
    "\n",
    "while True:\n",
    "    print(dinner)\n",
    "    item = input(\"추가할 메뉴를 입력해주세요: \")    \n",
    "    if (item == \"q\"):\n",
    "        break\n",
    "    else:\n",
    "        dinner.append(item)\n",
    "print(dinner)\n",
    "\n",
    "while True:\n",
    "    set_dinner = set(dinner)\n",
    "    print(set_dinner)\n",
    "    item = input(\"삭제할 메뉴를 입력해주세요: \")\n",
    "    if (item == \"q\"):\n",
    "        break\n",
    "    else:\n",
    "        set_dinner = set_dinner - set([item])\n",
    "print(set_dinner,\"중에서 선택합니다.\")\n",
    "for i in range(5,0,-1):\n",
    "    print(i)\n",
    "    time.sleep(1)\n",
    "print(random.choice(set_dinner))"
   ]
  },
  {
   "cell_type": "code",
   "execution_count": 84,
   "metadata": {},
   "outputs": [
    {
     "name": "stdout",
     "output_type": "stream",
     "text": [
      "['된장찌개', '피자', '제육볶음', '짜장면']\n",
      "['된장찌개', '피자', '제육볶음', '짜장면', '돈까스']\n",
      "['된장찌개', '피자', '제육볶음', '짜장면', '돈까스']\n",
      "{'짜장면', '된장찌개', '돈까스', '제육볶음', '피자'}\n",
      "{'짜장면', '제육볶음', '피자', '돈까스'}\n",
      "{'짜장면', '제육볶음', '피자', '돈까스'} 중에서 선택합니다.\n",
      "5\n",
      "4\n",
      "3\n",
      "2\n",
      "1\n",
      "피자\n"
     ]
    }
   ],
   "source": [
    "import time\n",
    "import random\n",
    "dinner = [\"된장찌개\",\"피자\",\"제육볶음\",\"짜장면\"]\n",
    "\n",
    "# 추가는 리스트\n",
    "while True:\n",
    "    print(dinner)\n",
    "    item = input(\"메뉴를 추가해주세요 : \")\n",
    "    if (item == \"q\"):\n",
    "        break\n",
    "    else: \n",
    "        # set_dinner = dinner + [item]\n",
    "        # print(set_dinner)\n",
    "        dinner.append(item)\n",
    "# set_dinner = set(set_dinner)\n",
    "# print(set_dinner)\n",
    "print(dinner)\n",
    "\n",
    "# 삭제는 세트\n",
    "set_dinner = set(dinner)\n",
    "while True:\n",
    "    print(set_dinner)\n",
    "    item = input(\"삭제할 메뉴를 입력해주세요 : \")\n",
    "    if (item == \"q\"):\n",
    "        break\n",
    "    else:\n",
    "        set_dinner = set_dinner - set([item])\n",
    "print(set_dinner,\"중에서 선택합니다.\")\n",
    "for i in range(5,0,-1):\n",
    "    print(i)\n",
    "    time.sleep(1)\n",
    "print(random.choice(list(set_dinner)))\n",
    "\n",
    "\n",
    "\n"
   ]
  },
  {
   "cell_type": "code",
   "execution_count": 77,
   "metadata": {},
   "outputs": [
    {
     "name": "stdout",
     "output_type": "stream",
     "text": [
      "1. 커피를 넣는다.\n",
      "2. 우유를 넣는다.\n",
      "3. 신나게 섞는다.\n",
      "1. 블루베리를 20g을 넣는다.\n",
      "2. 우유를 300ml를 넣는다.\n",
      "3. 얼음을 넣는다.\n",
      "4. 믹서기에 간다.\n"
     ]
    }
   ],
   "source": [
    "# 함수\n",
    "def make_dolcelatte():\n",
    "    print(\"1. 얼음을 넣는다.\")\n",
    "    print(\"2. 연유를 30ml를 넣는다.\")\n",
    "    print(\"3. 찬 우유를 넣는다.\")\n",
    "    print(\"4. 에스프레소샷을 넣는다.\")\n",
    "\n",
    "def make_blueberry_smoothie():\n",
    "    print(\"1. 블루베리를 20g을 넣는다.\")\n",
    "    print(\"2. 우유를 300ml를 넣는다.\")\n",
    "    print(\"3. 얼음을 넣는다.\")\n",
    "    print(\"4. 믹서기에 간다.\")\n",
    "\n",
    "def make_simple_latte():\n",
    "    print(\"1. 커피를 넣는다.\")\n",
    "    print(\"2. 우유를 넣는다.\")\n",
    "    print(\"3. 신나게 섞는다.\")  \n",
    "\n",
    "\n",
    "make_simple_latte()\n",
    "make_blueberry_smoothie()\n"
   ]
  },
  {
   "cell_type": "code",
   "execution_count": 80,
   "metadata": {},
   "outputs": [
    {
     "name": "stdout",
     "output_type": "stream",
     "text": [
      "취미는?\n",
      "특기는?\n",
      "라면끓이기\n",
      "라면먹기\n",
      "[{'질문': '취미는?', '답변': '라면끓이기'}, {'질문': '특기는?', '답변': '라면먹기'}, {'질문': '라면끓이기', '답변': 'q'}, {'질문': '라면먹기', '답변': 'q'}]\n"
     ]
    }
   ],
   "source": [
    "# total_dictionary = {} \n",
    "total_list = []\n",
    "\n",
    "while True:\n",
    "    question = input(\"질문을 입력해주세요 : \")\n",
    "    if (question == \"q\"):\n",
    "        break\n",
    "    else:\n",
    "        # total_dictionary[question] =\"\"\n",
    "        total_list.append({\"질문\":question,\"답변\": \"\"}) # 리스트와 저장법차이\n",
    "        # 하나의 온전한 딕셔너리 형태로 저장 \n",
    "\n",
    "for i in total_list:\n",
    "    print(i[\"질문\"])    # i를 출력하는게 아닌 i의 키값출력\n",
    "    answer = input(\"답변을 입력해주세요 : \")\n",
    "    # total_dictionary[i] = answer\n",
    "    i[\"답변\"] = answer\n",
    "\n",
    "print(total_list)\n"
   ]
  },
  {
   "cell_type": "code",
   "execution_count": 85,
   "metadata": {},
   "outputs": [
    {
     "ename": "SyntaxError",
     "evalue": "incomplete input (1882758573.py, line 3)",
     "output_type": "error",
     "traceback": [
      "\u001b[1;36m  Cell \u001b[1;32mIn[85], line 3\u001b[1;36m\u001b[0m\n\u001b[1;33m    \u001b[0m\n\u001b[1;37m    ^\u001b[0m\n\u001b[1;31mSyntaxError\u001b[0m\u001b[1;31m:\u001b[0m incomplete input\n"
     ]
    }
   ],
   "source": [
    "identity = {}\n",
    "while True:\n",
    "    \n"
   ]
  },
  {
   "cell_type": "code",
   "execution_count": 88,
   "metadata": {},
   "outputs": [
    {
     "name": "stdout",
     "output_type": "stream",
     "text": [
      "a:  108 b:  18\n",
      "최대공약수는 18\n"
     ]
    }
   ],
   "source": []
  },
  {
   "cell_type": "code",
   "execution_count": 90,
   "metadata": {},
   "outputs": [
    {
     "name": "stdout",
     "output_type": "stream",
     "text": [
      "최대공약수는 1입니다.\n"
     ]
    }
   ],
   "source": []
  },
  {
   "cell_type": "code",
   "execution_count": null,
   "metadata": {},
   "outputs": [],
   "source": []
  }
 ],
 "metadata": {
  "kernelspec": {
   "display_name": "Python 3",
   "language": "python",
   "name": "python3"
  },
  "language_info": {
   "codemirror_mode": {
    "name": "ipython",
    "version": 3
   },
   "file_extension": ".py",
   "mimetype": "text/x-python",
   "name": "python",
   "nbconvert_exporter": "python",
   "pygments_lexer": "ipython3",
   "version": "3.10.13"
  },
  "orig_nbformat": 4
 },
 "nbformat": 4,
 "nbformat_minor": 2
}
