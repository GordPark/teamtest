{
 "cells": [
  {
   "cell_type": "code",
   "execution_count": 1,
   "metadata": {},
   "outputs": [
    {
     "name": "stdout",
     "output_type": "stream",
     "text": [
      "hello\n"
     ]
    }
   ],
   "source": [
    "print(\"hello\")"
   ]
  },
  {
   "attachments": {},
   "cell_type": "markdown",
   "metadata": {},
   "source": [
    "# random"
   ]
  },
  {
   "cell_type": "code",
   "execution_count": 7,
   "metadata": {},
   "outputs": [
    {
     "name": "stdout",
     "output_type": "stream",
     "text": [
      "50\n",
      "랜덤숫자보다 작습니다 더 큰 수를 다시 입력해주세요.\n",
      "랜덤숫자보다 작습니다 더 큰 수를 다시 입력해주세요.\n",
      "랜덤숫자보다 작습니다 더 큰 수를 다시 입력해주세요.\n",
      "랜덤숫자보다 작습니다 더 큰 수를 다시 입력해주세요.\n",
      "랜덤숫자보다 작습니다 더 큰 수를 다시 입력해주세요.\n",
      "숫자를 맞추셨습니다 랜덤 값은 49였습니다.\n"
     ]
    }
   ],
   "source": [
    "# 사용자가 입력한 숫자 범위(예: 1에서 100) 내에서 랜덤한 숫자를 생성하고,\n",
    "#  사용자가 이 숫자를 맞추는 간단한 숫자 맞추기 게임을 만들어보세요.\n",
    "import random\n",
    "# 1 ~ 100사이 숫자를 입력받음\n",
    "while True:\n",
    "    try:\n",
    "        user_input = int(input(\"1 ~ 100사이 숫자를 입력해주세요\"))\n",
    "        if user_input < 0 or user_input > 100:\n",
    "            raise ValueError(\"범위내에서 입력해주세요.\")\n",
    "        random_one = random.randint(1, user_input)\n",
    "        print(user_input)\n",
    "        break\n",
    "    except ValueError:\n",
    "        print(\"숫자가 아닌 값을 입력하셨습니다.\")\n",
    "# 5번의 기회[+마무리 내용 추가]\n",
    "for i in range(5):\n",
    "    try:\n",
    "        target_input = int(input(f\"입력한 1 ~ {user_input} 랜덤범위가 생성됐습니다 맞춰보십시오\"))\n",
    "        if target_input < 0 or target_input > user_input:\n",
    "            raise ValueError(\"입력했던 범위내에서 입력해주세요.\")\n",
    "            \n",
    "        if random_one == target_input:\n",
    "            print(f\"숫자를 맞추셨습니다 랜덤 값은 {random_one}였습니다.\")\n",
    "            break\n",
    "        elif random_one < target_input:\n",
    "            print(f\"랜덤숫자보다 큽니다 더 작은 수를 다시 입력해주세요.{i}번의 기회가 남았습니다\")\n",
    "            \n",
    "        else:\n",
    "            print(f\"랜덤숫자보다 작습니다 더 큰 수를 다시 입력해주세요.{i}번의 기회가 남았습니다\")\n",
    "    except ValueError:\n",
    "        print(\"범위가 아닌 값을 입력하셨습니다.}{i}번의 기회가 남았습니다\")\n",
    "\n"
   ]
  },
  {
   "cell_type": "code",
   "execution_count": null,
   "metadata": {},
   "outputs": [],
   "source": [
    "# 주어진 단어 리스트에서 랜덤하게 단어를 선택하고, 선택된 단어의 글자를 섞어서 \n",
    "# 퀴즈를 만드는 게임을 구현해보세요. 사용자는 섞인 글자를 보고 원래의 단어를 맞춰야 합니다.\n",
    "\n"
   ]
  },
  {
   "cell_type": "code",
   "execution_count": null,
   "metadata": {},
   "outputs": [],
   "source": [
    "# 임의의 수의 사람들로 구성된 그룹이 있다고 가정할 때, \n",
    "# 이 사람들을 무작위로 여러 팀으로 나누는 프로그램을 작성해보세요. \n",
    "# 사용자는 전체 인원 수와 팀당 인원 수를 입력할 수 있어야 하며, \n",
    "# 프로그램은 이를 바탕으로 랜덤하게 팀을 구성해야 합니다.\n",
    "\n"
   ]
  },
  {
   "attachments": {},
   "cell_type": "markdown",
   "metadata": {},
   "source": [
    "# time\n"
   ]
  },
  {
   "cell_type": "code",
   "execution_count": 10,
   "metadata": {},
   "outputs": [
    {
     "name": "stdout",
     "output_type": "stream",
     "text": [
      "경과 시간은 1.7831571102142334초 입니다.\n"
     ]
    }
   ],
   "source": [
    "import time\n",
    "#사용자가 \"시작\"과 \"종료\"를 입력할 때까지의 시간을 측정하는 타이머 프로그램을 작성해보세요. \n",
    "# 사용자가 \"시작\"을 입력하면 타이머가 시작되고, \"종료\"를 입력하면 타이머가 멈추며 \n",
    "# 경과 시간을 출력합니다.\n",
    "\n",
    "# 시작 입력, 시작 시간을 기록[예외처리 -> 반복]\n",
    "msg = input(\"시작을 입력하세요: \")\n",
    "if msg == '시작':\n",
    "    start_time = time.time()\n",
    "else:\n",
    "    pass\n",
    "# 종료 입력, 종료 시간을 기록\n",
    "msg = input(\"종료를 입력하세요: \")\n",
    "if msg == '종료':\n",
    "    end_time = time.time()\n",
    "# 시작과 종료 시간의 차이를 출력\n",
    "print(\"경과 시간은 {}초 입니다.\".format(end_time-start_time))\n"
   ]
  },
  {
   "cell_type": "code",
   "execution_count": 11,
   "metadata": {},
   "outputs": [],
   "source": [
    "# 특정 날짜까지 남은 시간(일, 시간, 분, 초)을 계산하는 프로그램을 작성해보세요. \n",
    "# 사용자로부터 특정 날짜(예: \"2024-12-25\")를 입력받고, \n",
    "# 현재 날짜와 시간으로부터 해당 날짜까지 남은 시간을 계산하여 출력합니다."
   ]
  },
  {
   "cell_type": "code",
   "execution_count": null,
   "metadata": {},
   "outputs": [],
   "source": [
    "# 간단한 웹 스크래핑 또는 API 호출 작업을 주기적으로 실행하는 스케줄러 프로그램을 만들어보세요. \n",
    "# 사용자가 작업 간격(예: 매 10분)을 설정할 수 있게 하고, \n",
    "# 이 간격에 따라 특정 작업(예: 웹사이트의 데이터 가져오기)이 반복 실행되도록 합니다. \n",
    "# 각 작업 실행 시마다 실행 시간을 로그로 기록합니다."
   ]
  },
  {
   "attachments": {},
   "cell_type": "markdown",
   "metadata": {},
   "source": [
    "# datetime\n"
   ]
  },
  {
   "cell_type": "code",
   "execution_count": 15,
   "metadata": {},
   "outputs": [
    {
     "name": "stdout",
     "output_type": "stream",
     "text": [
      "2024-03-05\n",
      "<class 'datetime.datetime'>\n",
      "5\n"
     ]
    }
   ],
   "source": [
    "# 생일까지 남은 날짜 계산\n",
    "# 사용자로부터 생일을 입력받아, 현재 날짜로부터 다음 생일까지 남은 날짜를 계산하는 프로그램을 작성하세요.\n",
    "from datetime import datetime\n",
    "# 사용자에게 생일을 입력 -> 어떻게 받을까?\n",
    "\n",
    "birthday = input(\"생일을 입력하세요! : (연-월-일)\")\n",
    "print(birthday)\n",
    "birthday = datetime.strptime(birthday, \"%Y-%m-%d\")\n",
    "print(type(birthday))\n",
    "print(birthday.day)\n",
    "# 다음 생일은 어떻게 지정할까\n",
    "# 올해 나이를 알아야함\n",
    "now_year = datetime.now().year\n",
    "next_birthday = datetime(datetime.now().year+1, birthday.month, birthday.day,)\n",
    "\n",
    "# 남은 날짜는 어떻게 계산할까\n",
    "now = datetime.now()\n",
    "delta = (next_birthday-now).days\n",
    "print(\"생일까지 {}일 남았네요\".format(delta))\n"
   ]
  },
  {
   "cell_type": "code",
   "execution_count": null,
   "metadata": {},
   "outputs": [],
   "source": [
    "# 경과 시간 계산기  ************************\n",
    "# 특정 이벤트가 시작된 시각을 입력받고, \n",
    "# 현재까지 경과한 시간(년, 월, 일, 시, 분, 초 단위)을 계산하여 출력하는 프로그램을 작성하세요."
   ]
  },
  {
   "cell_type": "code",
   "execution_count": null,
   "metadata": {},
   "outputs": [],
   "source": [
    "# 약속일정 관리\n",
    "# 사용자로부터 여러 약속의 날짜와 시간을 입력받아, 각 약속까지 남은 날짜와 시간을 계산하고, \n",
    "# 가장 가까운 약속을 알려주는 프로그램을 작성하세요. \n",
    "# 또한, 약속이 1주일 이내에 있을 경우, 사용자에게 특별 알림을 제공해야 합니다."
   ]
  },
  {
   "attachments": {},
   "cell_type": "markdown",
   "metadata": {},
   "source": [
    "# os"
   ]
  },
  {
   "cell_type": "code",
   "execution_count": 22,
   "metadata": {},
   "outputs": [
    {
     "name": "stdout",
     "output_type": "stream",
     "text": [
      "Directory changed to: c:\\\n"
     ]
    },
    {
     "ename": "FileExistsError",
     "evalue": "[WinError 183] 파일이 이미 있으므로 만들 수 없습니다: 'my_project'",
     "output_type": "error",
     "traceback": [
      "\u001b[1;31m---------------------------------------------------------------------------\u001b[0m",
      "\u001b[1;31mFileExistsError\u001b[0m                           Traceback (most recent call last)",
      "Cell \u001b[1;32mIn[22], line 8\u001b[0m\n\u001b[0;32m      6\u001b[0m \u001b[39mprint\u001b[39m(\u001b[39m\"\u001b[39m\u001b[39mDirectory changed to:\u001b[39m\u001b[39m\"\u001b[39m, os\u001b[39m.\u001b[39mgetcwd())\n\u001b[0;32m      7\u001b[0m dir_name \u001b[39m=\u001b[39m \u001b[39m\"\u001b[39m\u001b[39mmy_project\u001b[39m\u001b[39m\"\u001b[39m\n\u001b[1;32m----> 8\u001b[0m os\u001b[39m.\u001b[39;49mmkdir(dir_name)\n\u001b[0;32m      9\u001b[0m \u001b[39m# 만약 디렉터리가 있다면 pass\u001b[39;00m\n\u001b[0;32m     10\u001b[0m file_path \u001b[39m=\u001b[39m HOME_DIRECTORY\u001b[39m+\u001b[39mdir_name\u001b[39m+\u001b[39m\u001b[39m\"\u001b[39m\u001b[39mREADME.md\u001b[39m\u001b[39m\"\u001b[39m\n",
      "\u001b[1;31mFileExistsError\u001b[0m: [WinError 183] 파일이 이미 있으므로 만들 수 없습니다: 'my_project'"
     ]
    }
   ],
   "source": [
    "# 사용자의 홈 디렉터리에 my_project라는 이름의 새 디렉터리를 생성하고, ************************\n",
    "# 그 안에 README.md 파일을 생성하는 스크립트를 작성하세요.\n",
    "import os\n",
    "HOME_DIRECTORY = \"/\"\n",
    "os.chdir(HOME_DIRECTORY)\n",
    "print(\"Directory changed to:\", os.getcwd())\n",
    "dir_name = \"my_project\"\n",
    "os.mkdir(dir_name)\n",
    "# 만약 디렉터리가 있다면 pass\n",
    "file_path = HOME_DIRECTORY+dir_name+\"README.md\"\n",
    "# os.path.join(HOME_DIRECTORY,dir_name,\"README.md\")"
   ]
  },
  {
   "cell_type": "code",
   "execution_count": 25,
   "metadata": {},
   "outputs": [
    {
     "ename": "FileNotFoundError",
     "evalue": "[WinError 2] 지정된 파일을 찾을 수 없습니다: 'my_project'",
     "output_type": "error",
     "traceback": [
      "\u001b[1;31m---------------------------------------------------------------------------\u001b[0m",
      "\u001b[1;31mFileNotFoundError\u001b[0m                         Traceback (most recent call last)",
      "Cell \u001b[1;32mIn[25], line 1\u001b[0m\n\u001b[1;32m----> 1\u001b[0m os\u001b[39m.\u001b[39;49mrmdir(\u001b[39m\"\u001b[39;49m\u001b[39mmy_project\u001b[39;49m\u001b[39m\"\u001b[39;49m)\n\u001b[0;32m      2\u001b[0m \u001b[39mprint\u001b[39m(\u001b[39m\"\u001b[39m\u001b[39mDirectory changed to:\u001b[39m\u001b[39m\"\u001b[39m, os\u001b[39m.\u001b[39mgetcwd())\n",
      "\u001b[1;31mFileNotFoundError\u001b[0m: [WinError 2] 지정된 파일을 찾을 수 없습니다: 'my_project'"
     ]
    }
   ],
   "source": [
    "os.rmdir(\"my_project\")\n",
    "print(\"Directory changed to:\", os.getcwd())\n"
   ]
  },
  {
   "cell_type": "code",
   "execution_count": 26,
   "metadata": {},
   "outputs": [
    {
     "name": "stdout",
     "output_type": "stream",
     "text": [
      "Directory changed to: c:\\\n"
     ]
    }
   ],
   "source": [
    "print(\"Directory changed to:\", os.getcwd())"
   ]
  },
  {
   "cell_type": "code",
   "execution_count": 27,
   "metadata": {},
   "outputs": [
    {
     "ename": "NameError",
     "evalue": "name 'file_path' is not defined",
     "output_type": "error",
     "traceback": [
      "\u001b[1;31m---------------------------------------------------------------------------\u001b[0m",
      "\u001b[1;31mNameError\u001b[0m                                 Traceback (most recent call last)",
      "Cell \u001b[1;32mIn[27], line 2\u001b[0m\n\u001b[0;32m      1\u001b[0m \u001b[39m## 빈파일READ.me에 문자열 작성\u001b[39;00m\n\u001b[1;32m----> 2\u001b[0m \u001b[39mwith\u001b[39;00m \u001b[39mopen\u001b[39m(file_path, \u001b[39m'\u001b[39m\u001b[39mw\u001b[39m\u001b[39m'\u001b[39m) \u001b[39mas\u001b[39;00m f:\n\u001b[0;32m      3\u001b[0m     f\u001b[39m.\u001b[39mwrite(\u001b[39m\"\u001b[39m\u001b[39mmy_project\u001b[39m\u001b[39m\"\u001b[39m)\n",
      "\u001b[1;31mNameError\u001b[0m: name 'file_path' is not defined"
     ]
    }
   ],
   "source": [
    "## 빈파일READ.me에 문자열 작성\n",
    "with open(file_path, 'w') as f:\n",
    "    f.write(\"my_project\")\n"
   ]
  },
  {
   "cell_type": "code",
   "execution_count": 28,
   "metadata": {},
   "outputs": [
    {
     "ename": "FileNotFoundError",
     "evalue": "[WinError 2] 지정된 파일을 찾을 수 없습니다: 'my_project'",
     "output_type": "error",
     "traceback": [
      "\u001b[1;31m---------------------------------------------------------------------------\u001b[0m",
      "\u001b[1;31mFileNotFoundError\u001b[0m                         Traceback (most recent call last)",
      "Cell \u001b[1;32mIn[28], line 1\u001b[0m\n\u001b[1;32m----> 1\u001b[0m os\u001b[39m.\u001b[39;49mrmdir(\u001b[39m\"\u001b[39;49m\u001b[39mmy_project\u001b[39;49m\u001b[39m\"\u001b[39;49m)\n",
      "\u001b[1;31mFileNotFoundError\u001b[0m: [WinError 2] 지정된 파일을 찾을 수 없습니다: 'my_project'"
     ]
    }
   ],
   "source": [
    "os.rmdir(\"my_project\")"
   ]
  },
  {
   "attachments": {},
   "cell_type": "markdown",
   "metadata": {},
   "source": [
    "# glob"
   ]
  },
  {
   "cell_type": "code",
   "execution_count": 38,
   "metadata": {},
   "outputs": [],
   "source": [
    "# 사용자가 지정한 디렉토리 내에서 특정 확장자를 가진 파일들의 목록을 \n",
    "# 출력하는 프로그램을 작성해보세요. 사용자로부터 디렉토리 경로와 확장자를 입력받아 \n",
    "# 해당 조건에 맞는 파일 목록을 출력합니다.\n",
    "\n",
    "# 사용자가 디렉토리 지정\n",
    "dir_path = input(\"검색할 디렉토리를 적으세요 : \")\n",
    "exp_file = input(\"검색할 확장자를 적으세요 : \")\n",
    "file_list = glob.glob(os.path.join(dir_path, '*.{}'.format(exp_file)))\n",
    "# 확장자도 지정\n",
    "# 해당 기렉토리의 해당 확장자 파일 목록을 출력\n",
    "for file_name in file_list:\n",
    "    print(file_name)\n",
    "\n"
   ]
  },
  {
   "cell_type": "code",
   "execution_count": 39,
   "metadata": {},
   "outputs": [
    {
     "data": {
      "text/plain": [
       "[]"
      ]
     },
     "execution_count": 39,
     "metadata": {},
     "output_type": "execute_result"
    }
   ],
   "source": [
    "file_list"
   ]
  },
  {
   "attachments": {},
   "cell_type": "markdown",
   "metadata": {},
   "source": [
    "# sys"
   ]
  },
  {
   "cell_type": "code",
   "execution_count": null,
   "metadata": {},
   "outputs": [],
   "source": [
    "# 명령행 기반 데이터 분석 툴: sys.argv를 사용해 데이터 파일 이름과 처리할 작업(예: 평균, 중앙값, 최빈값 계산)을 \n",
    "# 인자로 받는 스크립트를 작성하세요. 데이터 처리 결과를 표준 출력으로 반환하세요.\n"
   ]
  },
  {
   "attachments": {},
   "cell_type": "markdown",
   "metadata": {},
   "source": [
    "# json"
   ]
  },
  {
   "cell_type": "code",
   "execution_count": null,
   "metadata": {},
   "outputs": [],
   "source": [
    "# 설정 파일 읽기/쓰기: JSON 형식의 설정 파일을 읽고, \n",
    "# 이를 Python 객체로 변환한 다음, 일부 설정을 변경하여 다시 파일에 저장하는 스크립트를 작성하세요."
   ]
  },
  {
   "cell_type": "code",
   "execution_count": null,
   "metadata": {},
   "outputs": [],
   "source": [
    "# 주소록 관리 프로그램: 사용자로부터 입력받은 여러 사람의 이름, 전화번호, 이메일 주소 등을 JSON 파일에 저장하고, \n",
    "# 주소록에서 특정 사람을 검색하는 기능을 포함한 스크립트를 작성하세요."
   ]
  },
  {
   "cell_type": "code",
   "execution_count": null,
   "metadata": {},
   "outputs": [],
   "source": [
    "# REST API 클라이언트: requests 라이브러리를 사용하여 REST API로부터 데이터를 요청하고, \n",
    "# 받은 JSON 데이터를 파싱하여 사용자가 요청한 정보(예: 날씨 정보, 주식 시세)를 출력하는 스크립트를 작성하세요. \n",
    "# 여기서는 API 호출 결과를 받아서 처리하는 부분에 집중하며, json 모듈을 사용하여 받은 데이터를 처리합니다."
   ]
  },
  {
   "attachments": {},
   "cell_type": "markdown",
   "metadata": {},
   "source": [
    "# requests"
   ]
  },
  {
   "cell_type": "code",
   "execution_count": 49,
   "metadata": {},
   "outputs": [],
   "source": [
    "# 로또 api를 이용하여 이전에는 당첨된 적 없는 번호를 추천하는 서비스를 만들기\n",
    "# 모든회차 당첨번호를 찾아서 비교\n",
    "# random함수로 이전에 있던 수 제외 난수 생성\n",
    "\n",
    "# 이전에 당첨된 번호를 받아오기\n",
    "# 로또 번호 생성기 \n",
    "# -> 이전에 같은 번호 있으면 다시 동작해서 없는 번호 나올때까지 반복\n",
    "import requests\n",
    "from tqdm.auto import tqdm\n",
    "def get_lotto_nums(drwno):\n",
    "    # if int(number)<=1108:    \n",
    "    url = f'https://www.dhlottery.co.kr/common.do?method=getLottoNumber&drwNo={drwno}'\n",
    "    response = requests.get(url)\n",
    "    output = response.json()\n",
    "    result = []\n",
    "    result = [output[f'drwtNo{i+1}'] for i in range(6)]\n",
    "    return tuple(result)\n",
    "\n",
    "output = get_lotto_nums(1107)\n",
    "\n",
    "# 당첨 번호 모음\n",
    "numbers = []\n",
    "for drwno in range(1, 1108+1):\n",
    "# for drwno in range(1107, 1108+1):\n",
    "    result = get_lotto_nums(drwno)\n",
    "    numbers.append(result)\n",
    "\n",
    "numbers\n",
    "# 로또 번호 범위 \n",
    "nums = [i for i in range(1,46)]\n",
    "# 랜덤 번호 생성기\n",
    "\n",
    "def gennerate_nums():\n",
    "    return sorted(random.sample(nums, 6))\n",
    "\n",
    "def 태성님(numbers):\n",
    "    while True:\n",
    "        lotto_nums = gennerate_nums()\n",
    "        # 이전에 당첨되었던 번호인지 효과적으로 확인하는 방법?\n",
    "        if lotto_nums in set(numbers):\n",
    "            continue\n",
    "        else:\n",
    "            break\n",
    "    return lotto_nums   \n"
   ]
  },
  {
   "cell_type": "code",
   "execution_count": null,
   "metadata": {},
   "outputs": [],
   "source": [
    "%%time\n",
    "lotto_nums = 태성님(numbers)\n",
    "lotto_nums"
   ]
  },
  {
   "cell_type": "code",
   "execution_count": 48,
   "metadata": {},
   "outputs": [],
   "source": [
    "def 찬미님(numbers):\n",
    "    while True:\n",
    "        lotto_nums = gennerate_nums()\n",
    "        # check_dict = {1:[], 2:[]... }\n",
    "        check_dict = {i:[] for i in range(1,46) }\n",
    "        for number in numbers:\n",
    "            check_dict[number[0]].append(number)\n",
    "        # 체크하기\n",
    "        if lotto_nums in check_dict[lotto_nums[0]]:\n",
    "            continue\n",
    "        else:\n",
    "            break\n",
    "    return lotto_nums"
   ]
  },
  {
   "cell_type": "code",
   "execution_count": null,
   "metadata": {},
   "outputs": [],
   "source": [
    "%%time\n",
    "lotto_nums = 찬미님(numbers)\n",
    "lotto_nums"
   ]
  },
  {
   "cell_type": "code",
   "execution_count": null,
   "metadata": {},
   "outputs": [],
   "source": [
    "print(\"이번 회차의 추천 번호는 \", lotto_nums)"
   ]
  },
  {
   "attachments": {},
   "cell_type": "markdown",
   "metadata": {},
   "source": [
    "# math"
   ]
  },
  {
   "cell_type": "code",
   "execution_count": 50,
   "metadata": {},
   "outputs": [],
   "source": [
    "# 사용자로부터 반지름을 입력받아 원의 둘레와 면적을 계산하세요."
   ]
  },
  {
   "cell_type": "code",
   "execution_count": null,
   "metadata": {},
   "outputs": [],
   "source": [
    "# 사용자로부터 두 점의 좌표를 입력받아, 두 점 사이의 거리를 계산하세요."
   ]
  },
  {
   "cell_type": "code",
   "execution_count": null,
   "metadata": {},
   "outputs": [],
   "source": [
    "# 이자율, 원금, 시간(년)을 입력받아 복리 계산을 통한 미래 가치를 계산하세요."
   ]
  },
  {
   "attachments": {},
   "cell_type": "markdown",
   "metadata": {},
   "source": [
    "# collections"
   ]
  }
 ],
 "metadata": {
  "kernelspec": {
   "display_name": "Python 3",
   "language": "python",
   "name": "python3"
  },
  "language_info": {
   "codemirror_mode": {
    "name": "ipython",
    "version": 3
   },
   "file_extension": ".py",
   "mimetype": "text/x-python",
   "name": "python",
   "nbconvert_exporter": "python",
   "pygments_lexer": "ipython3",
   "version": "3.10.13"
  },
  "orig_nbformat": 4
 },
 "nbformat": 4,
 "nbformat_minor": 2
}
