{
 "cells": [
  {
   "cell_type": "code",
   "execution_count": 5,
   "metadata": {},
   "outputs": [
    {
     "name": "stdout",
     "output_type": "stream",
     "text": [
      "hello\n"
     ]
    }
   ],
   "source": [
    "print(\"hello\")"
   ]
  },
  {
   "cell_type": "code",
   "execution_count": 6,
   "metadata": {},
   "outputs": [
    {
     "name": "stdout",
     "output_type": "stream",
     "text": [
      "0.429507454199909\n",
      "10\n"
     ]
    }
   ],
   "source": [
    "# 1. 기본 난수 생성\n",
    "import random\n",
    "# 0과 1 사이의 임의의 실수\n",
    "print(random.random())\n",
    "\n",
    "# 지정된 범위 내의 임의의 정수\n",
    "print(random.randint(1, 10))"
   ]
  },
  {
   "cell_type": "code",
   "execution_count": 7,
   "metadata": {},
   "outputs": [
    {
     "name": "stdout",
     "output_type": "stream",
     "text": [
      "date\n",
      "['apple', 'date']\n",
      "['cherry', 'cherry', 'cherry', 'cherry', 'banana', 'cherry', 'banana', 'cherry', 'apple', 'date']\n"
     ]
    }
   ],
   "source": [
    "# 2. 시퀀스 데이터에서의 랜덤 선택\n",
    "items = ['apple', 'banana', 'cherry', 'date']\n",
    "\n",
    "# 한 항목 랜덤 선택\n",
    "print(random.choice(items))\n",
    "\n",
    "# 여러 항목 랜덤 선택, 중복 허용 없음\n",
    "print(random.sample(items, 2))\n",
    "\n",
    "# 여러 항목 랜덤 선택, 중복 허용\n",
    "print([random.choice(items) for _ in range(10)])"
   ]
  },
  {
   "cell_type": "code",
   "execution_count": 8,
   "metadata": {},
   "outputs": [
    {
     "name": "stdout",
     "output_type": "stream",
     "text": [
      "['apple', 'banana', 'cherry', 'date']\n",
      "['banana', 'apple', 'date', 'cherry']\n"
     ]
    }
   ],
   "source": [
    "# 3. 데이터 섞기\n",
    "print(items)\n",
    "random.shuffle(items)\n",
    "print(items)"
   ]
  },
  {
   "cell_type": "code",
   "execution_count": null,
   "metadata": {},
   "outputs": [],
   "source": [
    "# 4. 난수 생성기 시드 설정\n",
    "random.seed(42)\n",
    "\n",
    "# 시드를 설정한 후의 난수는 항상 동일한 순서로 생성됨\n",
    "print(random.random())"
   ]
  },
  {
   "attachments": {},
   "cell_type": "markdown",
   "metadata": {},
   "source": [
    "# time"
   ]
  },
  {
   "cell_type": "code",
   "execution_count": 9,
   "metadata": {},
   "outputs": [
    {
     "name": "stdout",
     "output_type": "stream",
     "text": [
      "1709082901.0334342\n"
     ]
    }
   ],
   "source": [
    "# 현재 시간 얻기\n",
    "import time\n",
    "\n",
    "# 현재 시간을 에포크(epoch) 시간(1970년 1월 1일 이후의 초)으로 반환\n",
    "current_time = time.time()\n",
    "print(current_time)"
   ]
  },
  {
   "cell_type": "code",
   "execution_count": 11,
   "metadata": {},
   "outputs": [
    {
     "name": "stdout",
     "output_type": "stream",
     "text": [
      "time.struct_time(tm_year=2024, tm_mon=2, tm_mday=28, tm_hour=10, tm_min=15, tm_sec=1, tm_wday=2, tm_yday=59, tm_isdst=0)\n",
      "2024-02-28 10:15:01\n"
     ]
    }
   ],
   "source": [
    "# 날짜와 시간 형식화\n",
    "# 현재 시간을 구조화된 시간으로 변환\n",
    "# 코랩의 경우 미국시간\n",
    "local_time = time.localtime(current_time)\n",
    "print(local_time)\n",
    "print(time.strftime(\"%Y-%m-%d %H:%M:%S\", local_time))"
   ]
  },
  {
   "cell_type": "code",
   "execution_count": 16,
   "metadata": {},
   "outputs": [
    {
     "name": "stdout",
     "output_type": "stream",
     "text": [
      "1번째 메세지\n",
      "2번째 메세지\n",
      "3번째 메세지\n",
      "4번째 메세지\n",
      "CPU times: total: 15.6 ms\n",
      "Wall time: 4.03 s\n"
     ]
    }
   ],
   "source": [
    "# 실행시간\n",
    "%%time\n",
    "# 프로그램을 5초간 일시 중지\n",
    "for i in range(4):\n",
    "    print(\"{}번째 메세지\".format(i+1))\n",
    "    time.sleep(1)"
   ]
  },
  {
   "cell_type": "code",
   "execution_count": 18,
   "metadata": {},
   "outputs": [
    {
     "name": "stdout",
     "output_type": "stream",
     "text": [
      "Execution time: 2.008012533187866 seconds\n"
     ]
    }
   ],
   "source": [
    "# 실행 시간 측정\n",
    "start_time = time.time()\n",
    "# 여기에 시간을 측정하고 싶은 코드 블록을 작성\n",
    "time.sleep(2)  # 예시 코드\n",
    "end_time = time.time()\n",
    "\n",
    "print(f\"Execution time: {end_time - start_time} seconds\")"
   ]
  },
  {
   "attachments": {},
   "cell_type": "markdown",
   "metadata": {},
   "source": [
    "# datetime"
   ]
  },
  {
   "cell_type": "code",
   "execution_count": 19,
   "metadata": {},
   "outputs": [
    {
     "name": "stdout",
     "output_type": "stream",
     "text": [
      "현재 날짜와 시간: 2024-02-28 10:34:03.189155\n"
     ]
    }
   ],
   "source": [
    "# 1. 현재 시각 얻기\n",
    "from datetime import datetime\n",
    "now = datetime.now()\n",
    "print(\"현재 날짜와 시간:\", now)"
   ]
  },
  {
   "cell_type": "code",
   "execution_count": 26,
   "metadata": {},
   "outputs": [
    {
     "name": "stdout",
     "output_type": "stream",
     "text": [
      "특정 날짜와 시간: 2024-02-19 09:00:00\n"
     ]
    }
   ],
   "source": [
    "# 2. 특정 날짜와 시간 생성\n",
    "from datetime import datetime\n",
    "start_day = datetime(2024, 2, 19, 9, 0)\n",
    "print(\"특정 날짜와 시간:\", start_day)"
   ]
  },
  {
   "cell_type": "code",
   "execution_count": 23,
   "metadata": {},
   "outputs": [
    {
     "name": "stdout",
     "output_type": "stream",
     "text": [
      "포맷 변경된 날짜와 시간: 2024-02-28 10:37:54\n"
     ]
    }
   ],
   "source": [
    "# 3. 날짜와 시간 포맷 변경\n",
    "# %A - 요일 %B - 월\n",
    "from datetime import datetime\n",
    "\n",
    "now = datetime.now()\n",
    "formatted = now.strftime(\"%Y-%m-%d %H:%M:%S\")\n",
    "print(\"포맷 변경된 날짜와 시간:\", formatted)"
   ]
  },
  {
   "cell_type": "code",
   "execution_count": 24,
   "metadata": {},
   "outputs": [
    {
     "name": "stdout",
     "output_type": "stream",
     "text": [
      "문자열에서 변환된 날짜와 시간 객체: 2024-01-01 12:00:00\n"
     ]
    }
   ],
   "source": [
    "# 4. 문자열로부터 날짜와 시간 파싱\n",
    "from datetime import datetime\n",
    "\n",
    "date_str = \"2024-01-01 12:00:00\"\n",
    "dt = datetime.strptime(date_str, \"%Y-%m-%d %H:%M:%S\")\n",
    "print(\"문자열에서 변환된 날짜와 시간 객체:\", dt)"
   ]
  },
  {
   "cell_type": "code",
   "execution_count": 27,
   "metadata": {},
   "outputs": [
    {
     "name": "stdout",
     "output_type": "stream",
     "text": [
      "기간: 9 일\n"
     ]
    }
   ],
   "source": [
    "# 5. 날짜와 시간 차이 계산\n",
    "from datetime import datetime, timedelta\n",
    "\n",
    "# start = datetime(2024, 1, 1)\n",
    "start_day # 처음만난날\n",
    "# end = datetime(2024, 1, 15)\n",
    "today = datetime.now()\n",
    "# delta = end - start\n",
    "delta = today - start_day\n",
    "print(\"기간:\", delta.days, \"일\")\n"
   ]
  },
  {
   "cell_type": "code",
   "execution_count": 28,
   "metadata": {},
   "outputs": [
    {
     "name": "stdout",
     "output_type": "stream",
     "text": [
      "일주일 후: 2024-03-06 10:47:29.614347\n"
     ]
    }
   ],
   "source": [
    "# 6. 날짜와 시간의 산술 연산\n",
    "from datetime import datetime, timedelta\n",
    "\n",
    "now = datetime.now()\n",
    "one_week_later = now + timedelta(weeks=1)\n",
    "print(\"일주일 후:\", one_week_later)"
   ]
  },
  {
   "cell_type": "code",
   "execution_count": 30,
   "metadata": {},
   "outputs": [
    {
     "ename": "ModuleNotFoundError",
     "evalue": "No module named 'pytz'",
     "output_type": "error",
     "traceback": [
      "\u001b[1;31m---------------------------------------------------------------------------\u001b[0m",
      "\u001b[1;31mModuleNotFoundError\u001b[0m                       Traceback (most recent call last)",
      "Cell \u001b[1;32mIn[30], line 3\u001b[0m\n\u001b[0;32m      1\u001b[0m \u001b[39m# 7. 시간대를 고려한 날짜와 시간\u001b[39;00m\n\u001b[0;32m      2\u001b[0m \u001b[39mfrom\u001b[39;00m \u001b[39mdatetime\u001b[39;00m \u001b[39mimport\u001b[39;00m datetime\n\u001b[1;32m----> 3\u001b[0m \u001b[39mimport\u001b[39;00m \u001b[39mpytz\u001b[39;00m\n\u001b[0;32m      5\u001b[0m timezone \u001b[39m=\u001b[39m pytz\u001b[39m.\u001b[39mtimezone(\u001b[39m\"\u001b[39m\u001b[39mAsia/Seoul\u001b[39m\u001b[39m\"\u001b[39m)\n\u001b[0;32m      6\u001b[0m seoul_time \u001b[39m=\u001b[39m datetime\u001b[39m.\u001b[39mnow(timezone)\n",
      "\u001b[1;31mModuleNotFoundError\u001b[0m: No module named 'pytz'"
     ]
    }
   ],
   "source": [
    "# 7. 시간대를 고려한 날짜와 시간\n",
    "from datetime import datetime\n",
    "import pytz\n",
    "\n",
    "timezone = pytz.timezone(\"Asia/Seoul\")\n",
    "seoul_time = datetime.now(timezone)\n",
    "print(\"서울 시간:\", seoul_time)"
   ]
  },
  {
   "attachments": {},
   "cell_type": "markdown",
   "metadata": {},
   "source": [
    "# os"
   ]
  },
  {
   "cell_type": "code",
   "execution_count": 31,
   "metadata": {},
   "outputs": [
    {
     "name": "stdout",
     "output_type": "stream",
     "text": [
      "Current Directory: c:\\Users\\Administrator\\Desktop\\9기 백엔드과정\\WORKSPACES\\day8_library\n"
     ]
    }
   ],
   "source": [
    "# 1. 현재 작업 디렉터리 조회\n",
    "import os\n",
    "current_directory = os.getcwd()\n",
    "print(\"Current Directory:\", current_directory)"
   ]
  },
  {
   "cell_type": "code",
   "execution_count": 32,
   "metadata": {},
   "outputs": [
    {
     "name": "stdout",
     "output_type": "stream",
     "text": [
      "day8_.ipynb\n",
      "day8_ex.ipynb\n",
      "library.py\n"
     ]
    }
   ],
   "source": [
    "# !를 쓰면 쉘에서의 명령어를 쓸 수 있음 \n",
    "!ls"
   ]
  },
  {
   "cell_type": "code",
   "execution_count": 34,
   "metadata": {},
   "outputs": [
    {
     "ename": "FileExistsError",
     "evalue": "[WinError 183] 파일이 이미 있으므로 만들 수 없습니다: 'new_directory'",
     "output_type": "error",
     "traceback": [
      "\u001b[1;31m---------------------------------------------------------------------------\u001b[0m",
      "\u001b[1;31mFileExistsError\u001b[0m                           Traceback (most recent call last)",
      "Cell \u001b[1;32mIn[34], line 5\u001b[0m\n\u001b[0;32m      2\u001b[0m \u001b[39mimport\u001b[39;00m \u001b[39mos\u001b[39;00m\n\u001b[0;32m      4\u001b[0m \u001b[39m# 현재 위치에 'new_directory'라는 이름의 디렉토리 생성\u001b[39;00m\n\u001b[1;32m----> 5\u001b[0m os\u001b[39m.\u001b[39;49mmkdir(\u001b[39m'\u001b[39;49m\u001b[39mnew_directory\u001b[39;49m\u001b[39m'\u001b[39;49m)\n",
      "\u001b[1;31mFileExistsError\u001b[0m: [WinError 183] 파일이 이미 있으므로 만들 수 없습니다: 'new_directory'"
     ]
    }
   ],
   "source": [
    "# 2. 디렉터리 생성\n",
    "import os\n",
    "\n",
    "# 현재 위치에 'new_directory'라는 이름의 디렉토리 생성\n",
    "os.mkdir('new_directory')"
   ]
  },
  {
   "cell_type": "code",
   "execution_count": 36,
   "metadata": {},
   "outputs": [],
   "source": [
    "os.makedirs(\"shopping/computer\")"
   ]
  },
  {
   "cell_type": "code",
   "execution_count": 42,
   "metadata": {},
   "outputs": [],
   "source": [
    "import os\n",
    "\n",
    "# 중간 디렉토리가 없는 경우에도 'path/to/new_directory' 전체 경로를 생성\n",
    "os.makedirs('path/to/new_directory', exist_ok=True)  # exist_ok=True는 디렉토리가 이미 존재"
   ]
  },
  {
   "cell_type": "code",
   "execution_count": 40,
   "metadata": {},
   "outputs": [],
   "source": [
    "# 디렉터리 삭제\n",
    "\n",
    "os.rmdir(\"new_directory\")"
   ]
  },
  {
   "cell_type": "code",
   "execution_count": 41,
   "metadata": {},
   "outputs": [],
   "source": [
    "# 트리식으로 되어있어 하위 디렉터리가 있을 때 삭제 불가\n",
    "import shutil\n",
    "\n",
    "# 'path/to/new_directory' 디렉토리와 그 안의 모든 내용물 삭제\n",
    "shutil.rmtree('path')"
   ]
  },
  {
   "cell_type": "code",
   "execution_count": 112,
   "metadata": {},
   "outputs": [
    {
     "name": "stdout",
     "output_type": "stream",
     "text": [
      "Directory changed to: c:\\Users\\Administrator\\Desktop\\9기 백엔드과정\\WORKSPACES\\day8_library\\path\\to\\new_directory\n"
     ]
    }
   ],
   "source": [
    "# 4. 디렉터리 변경\n",
    "import os\n",
    "os.chdir('./path/to/new_directory')\n",
    "print(\"Directory changed to:\", os.getcwd())"
   ]
  },
  {
   "cell_type": "code",
   "execution_count": 114,
   "metadata": {},
   "outputs": [
    {
     "ename": "FileNotFoundError",
     "evalue": "[WinError 3] 지정된 경로를 찾을 수 없습니다: '/path/to/new_directory'",
     "output_type": "error",
     "traceback": [
      "\u001b[1;31m---------------------------------------------------------------------------\u001b[0m",
      "\u001b[1;31mFileNotFoundError\u001b[0m                         Traceback (most recent call last)",
      "Cell \u001b[1;32mIn[114], line 3\u001b[0m\n\u001b[0;32m      1\u001b[0m \u001b[39m# 5. 디렉터리 리스트 조회\u001b[39;00m\n\u001b[0;32m      2\u001b[0m \u001b[39mimport\u001b[39;00m \u001b[39mos\u001b[39;00m\n\u001b[1;32m----> 3\u001b[0m entries \u001b[39m=\u001b[39m os\u001b[39m.\u001b[39;49mlistdir(\u001b[39m'\u001b[39;49m\u001b[39m/path/to/new_directory\u001b[39;49m\u001b[39m'\u001b[39;49m)\n\u001b[0;32m      4\u001b[0m \u001b[39mfor\u001b[39;00m entry \u001b[39min\u001b[39;00m entries:\n\u001b[0;32m      5\u001b[0m     \u001b[39mprint\u001b[39m(entry)\n",
      "\u001b[1;31mFileNotFoundError\u001b[0m: [WinError 3] 지정된 경로를 찾을 수 없습니다: '/path/to/new_directory'"
     ]
    }
   ],
   "source": [
    "# 5. 디렉터리 리스트 조회\n",
    "import os\n",
    "entries = os.listdir('/path/to/new_directory')\n",
    "for entry in entries:\n",
    "    print(entry)"
   ]
  },
  {
   "cell_type": "code",
   "execution_count": 50,
   "metadata": {},
   "outputs": [
    {
     "name": "stdout",
     "output_type": "stream",
     "text": [
      "Home Directory: c:\\ProgramData\\miniforge3\\envs\\myenv;c:\\ProgramData\\miniforge3\\envs\\myenv\\Library\\mingw-w64\\bin;c:\\ProgramData\\miniforge3\\envs\\myenv\\Library\\usr\\bin;c:\\ProgramData\\miniforge3\\envs\\myenv\\Library\\bin;c:\\ProgramData\\miniforge3\\envs\\myenv\\Scripts;c:\\ProgramData\\miniforge3\\envs\\myenv\\bin;C:\\ProgramData\\Anaconda3\\condabin;C:\\ProgramData\\Anaconda3;C:\\ProgramData\\Anaconda3\\Library\\mingw-w64\\bin;C:\\ProgramData\\Anaconda3\\Library\\usr\\bin;C:\\ProgramData\\Anaconda3\\Library\\bin;C:\\ProgramData\\Anaconda3\\Scripts;C:\\ProgramData\\Anaconda3\\bin;C:\\Python311\\Scripts;C:\\Python311;C:\\ProgramData\\Anaconda3;C:\\ProgramData\\Anaconda3\\Library\\mingw-w64\\bin;C:\\ProgramData\\Anaconda3\\Library\\usr\\bin;C:\\ProgramData\\Anaconda3\\Library\\bin;C:\\ProgramData\\Anaconda3\\Scripts;C:\\WinAVR-20071221rc1\\bin;C:\\WinAVR-20071221rc1\\utils\\bin;C:\\Windows\\system32;C:\\Windows;C:\\Windows\\System32\\Wbem;C:\\Windows\\System32\\WindowsPowerShell\\v1.0;C:\\Windows\\System32\\OpenSSH;C:\\Program Files (x86)\\NVIDIA Corporation\\PhysX\\Common;C:\\Program Files\\NVIDIA Corporation\\NVIDIA NvDLISR;D:\\;C:\\Program Files\\Git\\cmd;C:\\ProgramData\\chocolatey\\bin;.;C:\\Program Files\\Docker\\Docker\\resources\\bin;C:\\Users\\Administrator\\AppData\\Local\\Programs\\Python\\Python310\\Scripts;C:\\Users\\Administrator\\AppData\\Local\\Programs\\Python\\Python310;C:\\Users\\Administrator\\AppData\\Local\\Microsoft\\WindowsApps;.;C:\\Program Files\\JetBrains\\PyCharm Community Edition 2021.2.2\\bin;.;C:\\Users\\Administrator\\AppData\\Roaming\\npm;C:\\Users\\Administrator\\AppData\\Local\\Programs\\Microsoft VS Code\\bin\n"
     ]
    }
   ],
   "source": [
    "# 6. 환경 변수 접근\n",
    "import os\n",
    "home_directory = os.getenv('PATH')\n",
    "print(\"Home Directory:\", home_directory)"
   ]
  },
  {
   "cell_type": "code",
   "execution_count": 51,
   "metadata": {},
   "outputs": [
    {
     "name": "stdout",
     "output_type": "stream",
     "text": [
      "Exists: False\n"
     ]
    }
   ],
   "source": [
    "# 7. 파일/디렉터리 존재 확인\n",
    "import os\n",
    "path = '/path/to/file_or_directory'\n",
    "exists = os.path.exists(path)\n",
    "print(\"Exists:\", exists)"
   ]
  },
  {
   "attachments": {},
   "cell_type": "markdown",
   "metadata": {},
   "source": [
    "# glob\n"
   ]
  },
  {
   "cell_type": "code",
   "execution_count": 52,
   "metadata": {},
   "outputs": [
    {
     "name": "stdout",
     "output_type": "stream",
     "text": [
      "[]\n"
     ]
    }
   ],
   "source": [
    "# 1. 특정 패턴과 일치하는 모든 파일 찾기\n",
    "import glob\n",
    "\n",
    "# 현재 디렉토리의 모든 '.txt' 파일 찾기\n",
    "txt_files = glob.glob('*.txt')\n",
    "print(txt_files)"
   ]
  },
  {
   "cell_type": "code",
   "execution_count": 53,
   "metadata": {},
   "outputs": [
    {
     "name": "stdout",
     "output_type": "stream",
     "text": [
      "[]\n"
     ]
    }
   ],
   "source": [
    "# 비교 \n",
    "# 현재 디렉토리의 '.txt' 및 '.md' 파일 찾기\n",
    "files = glob.glob('*.[t|m]xt')\n",
    "print(files)"
   ]
  },
  {
   "cell_type": "code",
   "execution_count": 54,
   "metadata": {},
   "outputs": [
    {
     "ename": "NameError",
     "evalue": "name 'PATH' is not defined",
     "output_type": "error",
     "traceback": [
      "\u001b[1;31m---------------------------------------------------------------------------\u001b[0m",
      "\u001b[1;31mNameError\u001b[0m                                 Traceback (most recent call last)",
      "Cell \u001b[1;32mIn[54], line 2\u001b[0m\n\u001b[0;32m      1\u001b[0m \u001b[39m# # 현재 디렉토리와 모든 하위 디렉토리의 '.txt' 파일 찾기\u001b[39;00m\n\u001b[1;32m----> 2\u001b[0m glob\u001b[39m.\u001b[39mglob(os\u001b[39m.\u001b[39mpath\u001b[39m.\u001b[39mjoin(PATH, \u001b[39m'\u001b[39m\u001b[39m**/*.csv\u001b[39m\u001b[39m'\u001b[39m, requirsive\u001b[39m=\u001b[39m\u001b[39mTrue\u001b[39;00m))\n\u001b[0;32m      3\u001b[0m \u001b[39mprint\u001b[39m(all_txt_files)\n",
      "\u001b[1;31mNameError\u001b[0m: name 'PATH' is not defined"
     ]
    }
   ],
   "source": [
    "# # 현재 디렉토리와 모든 하위 디렉토리의 '.txt' 파일 찾기\n",
    "glob.glob(os.path.join(PATH, '**/*.csv', requirsive=True))\n",
    "print(all_txt_files)"
   ]
  },
  {
   "cell_type": "code",
   "execution_count": null,
   "metadata": {},
   "outputs": [],
   "source": [
    "# 정렬된 리스트 반환\n",
    "sorted_txt_files = sorted(glob.glob('*.txt'))\n",
    "print(sorted_txt_files)"
   ]
  },
  {
   "attachments": {},
   "cell_type": "markdown",
   "metadata": {},
   "source": [
    "# sys"
   ]
  },
  {
   "cell_type": "code",
   "execution_count": 55,
   "metadata": {},
   "outputs": [
    {
     "ename": "SystemExit",
     "evalue": "프로그램을 종료합니다.",
     "output_type": "error",
     "traceback": [
      "An exception has occurred, use %tb to see the full traceback.\n",
      "\u001b[1;31mSystemExit\u001b[0m\u001b[1;31m:\u001b[0m 프로그램을 종료합니다.\n"
     ]
    },
    {
     "name": "stderr",
     "output_type": "stream",
     "text": [
      "c:\\ProgramData\\miniforge3\\envs\\myenv\\lib\\site-packages\\IPython\\core\\interactiveshell.py:3585: UserWarning: To exit: use 'exit', 'quit', or Ctrl-D.\n",
      "  warn(\"To exit: use 'exit', 'quit', or Ctrl-D.\", stacklevel=1)\n"
     ]
    }
   ],
   "source": [
    "# 프로그램 종료하기 (sys.exit): 프로그램을 즉시 종료하고자 할 때 사용합니다.\n",
    "import sys\n",
    "sys.exit(\"프로그램을 종료합니다.\")"
   ]
  },
  {
   "cell_type": "code",
   "execution_count": 56,
   "metadata": {},
   "outputs": [
    {
     "name": "stdout",
     "output_type": "stream",
     "text": [
      "스크립트 이름: c:\\ProgramData\\miniforge3\\envs\\myenv\\lib\\site-packages\\ipykernel_launcher.py, 인자: ['--ip=127.0.0.1', '--stdin=9003', '--control=9001', '--hb=9000', '--Session.signature_scheme=\"hmac-sha256\"', '--Session.key=b\"694f1682-ffb1-49c2-a99c-89e11455a5b3\"', '--shell=9002', '--transport=\"tcp\"', '--iopub=9004', '--f=c:\\\\Users\\\\Administrator\\\\AppData\\\\Roaming\\\\jupyter\\\\runtime\\\\kernel-v2-4752Nm8hQ2cFn59E.json']\n"
     ]
    }
   ],
   "source": [
    "# 명령행 인자 처리하기 (sys.argv): 스크립트에 입력된 명령행 인자를 처리할 때 사용합니다. \n",
    "# 첫 번째 인자는 항상 스크립트의 이름입니다\n",
    "import sys\n",
    "\n",
    "script_name = sys.argv[0]\n",
    "arguments = sys.argv[1:]\n",
    "print(f\"스크립트 이름: {script_name}, 인자: {arguments}\")\n",
    "\n"
   ]
  },
  {
   "cell_type": "code",
   "execution_count": 115,
   "metadata": {},
   "outputs": [
    {
     "ename": "",
     "evalue": "",
     "output_type": "error",
     "traceback": [
      "\u001b[1;31mCanceled future for execute_request message before replies were done"
     ]
    }
   ],
   "source": [
    "import sys\n",
    "\n",
    "for line in sys.stdin:\n",
    "    sys.stdout.write(f\"입력 받음: {line}\")\n",
    "    sys.stderr.write(\"에러 메시지 예시\\n\")\n"
   ]
  },
  {
   "cell_type": "code",
   "execution_count": 57,
   "metadata": {},
   "outputs": [
    {
     "data": {
      "text/plain": [
       "'3.10.13 | packaged by conda-forge | (main, Dec 23 2023, 15:27:34) [MSC v.1937 64 bit (AMD64)]'"
      ]
     },
     "execution_count": 57,
     "metadata": {},
     "output_type": "execute_result"
    }
   ],
   "source": [
    "sys.version"
   ]
  },
  {
   "cell_type": "code",
   "execution_count": 58,
   "metadata": {},
   "outputs": [
    {
     "data": {
      "text/plain": [
       "'c:\\\\ProgramData\\\\miniforge3\\\\envs\\\\myenv\\\\python.exe'"
      ]
     },
     "execution_count": 58,
     "metadata": {},
     "output_type": "execute_result"
    }
   ],
   "source": [
    "sys.executable # 파이썬 인터프리터의 경로"
   ]
  },
  {
   "cell_type": "code",
   "execution_count": 59,
   "metadata": {},
   "outputs": [
    {
     "data": {
      "text/plain": [
       "['c:\\\\Users\\\\Administrator\\\\Desktop\\\\9기 백엔드과정\\\\WORKSPACES\\\\day8_library',\n",
       " 'c:\\\\ProgramData\\\\miniforge3\\\\envs\\\\myenv\\\\python310.zip',\n",
       " 'c:\\\\ProgramData\\\\miniforge3\\\\envs\\\\myenv\\\\DLLs',\n",
       " 'c:\\\\ProgramData\\\\miniforge3\\\\envs\\\\myenv\\\\lib',\n",
       " 'c:\\\\ProgramData\\\\miniforge3\\\\envs\\\\myenv',\n",
       " '',\n",
       " 'c:\\\\ProgramData\\\\miniforge3\\\\envs\\\\myenv\\\\lib\\\\site-packages',\n",
       " 'c:\\\\ProgramData\\\\miniforge3\\\\envs\\\\myenv\\\\lib\\\\site-packages\\\\win32',\n",
       " 'c:\\\\ProgramData\\\\miniforge3\\\\envs\\\\myenv\\\\lib\\\\site-packages\\\\win32\\\\lib',\n",
       " 'c:\\\\ProgramData\\\\miniforge3\\\\envs\\\\myenv\\\\lib\\\\site-packages\\\\Pythonwin']"
      ]
     },
     "execution_count": 59,
     "metadata": {},
     "output_type": "execute_result"
    }
   ],
   "source": [
    "sys.path"
   ]
  },
  {
   "cell_type": "code",
   "execution_count": null,
   "metadata": {},
   "outputs": [],
   "source": [
    "import sys\n",
    "sys.path.append('/path/to/module')\n",
    "print(sys.path)"
   ]
  },
  {
   "cell_type": "code",
   "execution_count": null,
   "metadata": {},
   "outputs": [],
   "source": [
    "sys.path.append('..........') # import 시 필요한 모듈 등 가져와서 쓸 수 있음(주의해서 사용)"
   ]
  },
  {
   "cell_type": "code",
   "execution_count": 60,
   "metadata": {},
   "outputs": [
    {
     "data": {
      "text/plain": [
       "'utf-8'"
      ]
     },
     "execution_count": 60,
     "metadata": {},
     "output_type": "execute_result"
    }
   ],
   "source": [
    "sys.getdefaultencoding()"
   ]
  },
  {
   "cell_type": "code",
   "execution_count": null,
   "metadata": {},
   "outputs": [],
   "source": [
    "# 표준 입출력 객체 사용 (sys.stdin, sys.stdout, sys.stderr): \n",
    "# 사용자 입력을 받거나, 출력하거나, 에러를 처리할 때 사용합니다.\n",
    "import sys\n",
    "\n",
    "for line in sys.stdin:\n",
    "    sys.stdout.write(f\"입력 받음: {line}\")\n",
    "    sys.stderr.write(\"에러 메시지 예시\\n\")"
   ]
  },
  {
   "attachments": {},
   "cell_type": "markdown",
   "metadata": {},
   "source": [
    "json"
   ]
  },
  {
   "cell_type": "code",
   "execution_count": 64,
   "metadata": {},
   "outputs": [
    {
     "data": {
      "text/plain": [
       "{'name': 'John', 'age': 30, 'city': 'Seoul'}"
      ]
     },
     "execution_count": 64,
     "metadata": {},
     "output_type": "execute_result"
    }
   ],
   "source": [
    "# Python 객체를 JSON 문자열로 변환하기 (json.dumps): \n",
    "# Python 객체를 JSON 형식의 문자열로 인코딩할 때 사용합니다.\n",
    "import json\n",
    "data = {\"name\":\"John\",\"age\":30,\"city\":\"Seoul\"}\n",
    "data"
   ]
  },
  {
   "cell_type": "code",
   "execution_count": 63,
   "metadata": {},
   "outputs": [
    {
     "data": {
      "text/plain": [
       "'{\"name\": \"John\", \"age\": 30, \"city\": \"Seoul\"}'"
      ]
     },
     "execution_count": 63,
     "metadata": {},
     "output_type": "execute_result"
    }
   ],
   "source": [
    "json.dumps(data) # 데이터 encoding -> dumps는 문자열 형식으로 바꿔줌"
   ]
  },
  {
   "cell_type": "code",
   "execution_count": 65,
   "metadata": {},
   "outputs": [
    {
     "name": "stdout",
     "output_type": "stream",
     "text": [
      "{'name': 'John', 'age': 30, 'city': 'New York'}\n"
     ]
    }
   ],
   "source": [
    "# JSON 문자열을 Python 객체로 변환하기 (json.loads): \n",
    "# JSON 형식의 문자열을 Python 객체로 디코딩할 때 사용합니다.\n",
    "import json\n",
    "json_string = '{\"name\": \"John\", \"age\": 30, \"city\": \"New York\"}'\n",
    "data = json.loads(json_string)  # loads -> 딕셔너리 형태로 바꿔줌 dumps와 세트 **s주의\n",
    "print(data)"
   ]
  },
  {
   "cell_type": "code",
   "execution_count": 67,
   "metadata": {},
   "outputs": [
    {
     "ename": "AttributeError",
     "evalue": "module 'json' has no attribute 'dunp'",
     "output_type": "error",
     "traceback": [
      "\u001b[1;31m---------------------------------------------------------------------------\u001b[0m",
      "\u001b[1;31mAttributeError\u001b[0m                            Traceback (most recent call last)",
      "Cell \u001b[1;32mIn[67], line 3\u001b[0m\n\u001b[0;32m      1\u001b[0m \u001b[39mimport\u001b[39;00m \u001b[39mjson\u001b[39;00m\n\u001b[0;32m      2\u001b[0m \u001b[39mwith\u001b[39;00m \u001b[39mopen\u001b[39m(\u001b[39m\"\u001b[39m\u001b[39mdata_file.json\u001b[39m\u001b[39m\"\u001b[39m,\u001b[39m'\u001b[39m\u001b[39mw\u001b[39m\u001b[39m'\u001b[39m) \u001b[39mas\u001b[39;00m f:\n\u001b[1;32m----> 3\u001b[0m     json\u001b[39m.\u001b[39;49mdunp(data, f)\n",
      "\u001b[1;31mAttributeError\u001b[0m: module 'json' has no attribute 'dunp'"
     ]
    }
   ],
   "source": [
    "import json\n",
    "with open(\"data_file.json\",'w') as f:\n",
    "    json.dunp(data, f)"
   ]
  },
  {
   "cell_type": "code",
   "execution_count": 68,
   "metadata": {},
   "outputs": [
    {
     "ename": "JSONDecodeError",
     "evalue": "Expecting value: line 1 column 1 (char 0)",
     "output_type": "error",
     "traceback": [
      "\u001b[1;31m---------------------------------------------------------------------------\u001b[0m",
      "\u001b[1;31mJSONDecodeError\u001b[0m                           Traceback (most recent call last)",
      "Cell \u001b[1;32mIn[68], line 2\u001b[0m\n\u001b[0;32m      1\u001b[0m \u001b[39mwith\u001b[39;00m \u001b[39mopen\u001b[39m(\u001b[39m\"\u001b[39m\u001b[39mdata_file.json\u001b[39m\u001b[39m\"\u001b[39m, \u001b[39m'\u001b[39m\u001b[39mr\u001b[39m\u001b[39m'\u001b[39m) \u001b[39mas\u001b[39;00m f:\n\u001b[1;32m----> 2\u001b[0m     data_get \u001b[39m=\u001b[39m json\u001b[39m.\u001b[39;49mload(f)\n",
      "File \u001b[1;32mc:\\ProgramData\\miniforge3\\envs\\myenv\\lib\\json\\__init__.py:293\u001b[0m, in \u001b[0;36mload\u001b[1;34m(fp, cls, object_hook, parse_float, parse_int, parse_constant, object_pairs_hook, **kw)\u001b[0m\n\u001b[0;32m    274\u001b[0m \u001b[39mdef\u001b[39;00m \u001b[39mload\u001b[39m(fp, \u001b[39m*\u001b[39m, \u001b[39mcls\u001b[39m\u001b[39m=\u001b[39m\u001b[39mNone\u001b[39;00m, object_hook\u001b[39m=\u001b[39m\u001b[39mNone\u001b[39;00m, parse_float\u001b[39m=\u001b[39m\u001b[39mNone\u001b[39;00m,\n\u001b[0;32m    275\u001b[0m         parse_int\u001b[39m=\u001b[39m\u001b[39mNone\u001b[39;00m, parse_constant\u001b[39m=\u001b[39m\u001b[39mNone\u001b[39;00m, object_pairs_hook\u001b[39m=\u001b[39m\u001b[39mNone\u001b[39;00m, \u001b[39m*\u001b[39m\u001b[39m*\u001b[39mkw):\n\u001b[0;32m    276\u001b[0m \u001b[39m    \u001b[39m\u001b[39m\"\"\"Deserialize ``fp`` (a ``.read()``-supporting file-like object containing\u001b[39;00m\n\u001b[0;32m    277\u001b[0m \u001b[39m    a JSON document) to a Python object.\u001b[39;00m\n\u001b[0;32m    278\u001b[0m \n\u001b[1;32m   (...)\u001b[0m\n\u001b[0;32m    291\u001b[0m \u001b[39m    kwarg; otherwise ``JSONDecoder`` is used.\u001b[39;00m\n\u001b[0;32m    292\u001b[0m \u001b[39m    \"\"\"\u001b[39;00m\n\u001b[1;32m--> 293\u001b[0m     \u001b[39mreturn\u001b[39;00m loads(fp\u001b[39m.\u001b[39mread(),\n\u001b[0;32m    294\u001b[0m         \u001b[39mcls\u001b[39m\u001b[39m=\u001b[39m\u001b[39mcls\u001b[39m, object_hook\u001b[39m=\u001b[39mobject_hook,\n\u001b[0;32m    295\u001b[0m         parse_float\u001b[39m=\u001b[39mparse_float, parse_int\u001b[39m=\u001b[39mparse_int,\n\u001b[0;32m    296\u001b[0m         parse_constant\u001b[39m=\u001b[39mparse_constant, object_pairs_hook\u001b[39m=\u001b[39mobject_pairs_hook, \u001b[39m*\u001b[39m\u001b[39m*\u001b[39mkw)\n",
      "File \u001b[1;32mc:\\ProgramData\\miniforge3\\envs\\myenv\\lib\\json\\__init__.py:346\u001b[0m, in \u001b[0;36mloads\u001b[1;34m(s, cls, object_hook, parse_float, parse_int, parse_constant, object_pairs_hook, **kw)\u001b[0m\n\u001b[0;32m    341\u001b[0m     s \u001b[39m=\u001b[39m s\u001b[39m.\u001b[39mdecode(detect_encoding(s), \u001b[39m'\u001b[39m\u001b[39msurrogatepass\u001b[39m\u001b[39m'\u001b[39m)\n\u001b[0;32m    343\u001b[0m \u001b[39mif\u001b[39;00m (\u001b[39mcls\u001b[39m \u001b[39mis\u001b[39;00m \u001b[39mNone\u001b[39;00m \u001b[39mand\u001b[39;00m object_hook \u001b[39mis\u001b[39;00m \u001b[39mNone\u001b[39;00m \u001b[39mand\u001b[39;00m\n\u001b[0;32m    344\u001b[0m         parse_int \u001b[39mis\u001b[39;00m \u001b[39mNone\u001b[39;00m \u001b[39mand\u001b[39;00m parse_float \u001b[39mis\u001b[39;00m \u001b[39mNone\u001b[39;00m \u001b[39mand\u001b[39;00m\n\u001b[0;32m    345\u001b[0m         parse_constant \u001b[39mis\u001b[39;00m \u001b[39mNone\u001b[39;00m \u001b[39mand\u001b[39;00m object_pairs_hook \u001b[39mis\u001b[39;00m \u001b[39mNone\u001b[39;00m \u001b[39mand\u001b[39;00m \u001b[39mnot\u001b[39;00m kw):\n\u001b[1;32m--> 346\u001b[0m     \u001b[39mreturn\u001b[39;00m _default_decoder\u001b[39m.\u001b[39;49mdecode(s)\n\u001b[0;32m    347\u001b[0m \u001b[39mif\u001b[39;00m \u001b[39mcls\u001b[39m \u001b[39mis\u001b[39;00m \u001b[39mNone\u001b[39;00m:\n\u001b[0;32m    348\u001b[0m     \u001b[39mcls\u001b[39m \u001b[39m=\u001b[39m JSONDecoder\n",
      "File \u001b[1;32mc:\\ProgramData\\miniforge3\\envs\\myenv\\lib\\json\\decoder.py:337\u001b[0m, in \u001b[0;36mJSONDecoder.decode\u001b[1;34m(self, s, _w)\u001b[0m\n\u001b[0;32m    332\u001b[0m \u001b[39mdef\u001b[39;00m \u001b[39mdecode\u001b[39m(\u001b[39mself\u001b[39m, s, _w\u001b[39m=\u001b[39mWHITESPACE\u001b[39m.\u001b[39mmatch):\n\u001b[0;32m    333\u001b[0m \u001b[39m    \u001b[39m\u001b[39m\"\"\"Return the Python representation of ``s`` (a ``str`` instance\u001b[39;00m\n\u001b[0;32m    334\u001b[0m \u001b[39m    containing a JSON document).\u001b[39;00m\n\u001b[0;32m    335\u001b[0m \n\u001b[0;32m    336\u001b[0m \u001b[39m    \"\"\"\u001b[39;00m\n\u001b[1;32m--> 337\u001b[0m     obj, end \u001b[39m=\u001b[39m \u001b[39mself\u001b[39;49m\u001b[39m.\u001b[39;49mraw_decode(s, idx\u001b[39m=\u001b[39;49m_w(s, \u001b[39m0\u001b[39;49m)\u001b[39m.\u001b[39;49mend())\n\u001b[0;32m    338\u001b[0m     end \u001b[39m=\u001b[39m _w(s, end)\u001b[39m.\u001b[39mend()\n\u001b[0;32m    339\u001b[0m     \u001b[39mif\u001b[39;00m end \u001b[39m!=\u001b[39m \u001b[39mlen\u001b[39m(s):\n",
      "File \u001b[1;32mc:\\ProgramData\\miniforge3\\envs\\myenv\\lib\\json\\decoder.py:355\u001b[0m, in \u001b[0;36mJSONDecoder.raw_decode\u001b[1;34m(self, s, idx)\u001b[0m\n\u001b[0;32m    353\u001b[0m     obj, end \u001b[39m=\u001b[39m \u001b[39mself\u001b[39m\u001b[39m.\u001b[39mscan_once(s, idx)\n\u001b[0;32m    354\u001b[0m \u001b[39mexcept\u001b[39;00m \u001b[39mStopIteration\u001b[39;00m \u001b[39mas\u001b[39;00m err:\n\u001b[1;32m--> 355\u001b[0m     \u001b[39mraise\u001b[39;00m JSONDecodeError(\u001b[39m\"\u001b[39m\u001b[39mExpecting value\u001b[39m\u001b[39m\"\u001b[39m, s, err\u001b[39m.\u001b[39mvalue) \u001b[39mfrom\u001b[39;00m \u001b[39mNone\u001b[39;00m\n\u001b[0;32m    356\u001b[0m \u001b[39mreturn\u001b[39;00m obj, end\n",
      "\u001b[1;31mJSONDecodeError\u001b[0m: Expecting value: line 1 column 1 (char 0)"
     ]
    }
   ],
   "source": [
    "with open(\"data_file.json\", 'r') as f:\n",
    "    data_get = json.load(f)"
   ]
  },
  {
   "cell_type": "code",
   "execution_count": 69,
   "metadata": {},
   "outputs": [],
   "source": [
    "# Python 객체를 JSON 파일에 저장하기 (json.dump): \n",
    "# Python 객체를 파일에 JSON 형식으로 인코딩하여 저장할 때 사용합니다.\n",
    "import json\n",
    "data = {\"name\": \"John\", \"age\": 30, \"city\": \"New York\"}\n",
    "with open(\"data_file.json\", \"w\") as write_file:\n",
    "    json.dump(data, write_file)\n",
    "\n"
   ]
  },
  {
   "cell_type": "code",
   "execution_count": 70,
   "metadata": {},
   "outputs": [
    {
     "name": "stdout",
     "output_type": "stream",
     "text": [
      "{\n",
      "    \"name\": \"John\",\n",
      "    \"age\": 30,\n",
      "    \"city\": \"New York\"\n",
      "}\n"
     ]
    }
   ],
   "source": [
    "# 예쁘게 출력하기 (json.dumps의 indent 옵션): \n",
    "# JSON 문자열을 사람이 읽기 편하게 포맷하여 출력할 때 사용합니다.\n",
    "import json\n",
    "data = {\"name\": \"John\", \"age\": 30, \"city\": \"New York\"}\n",
    "pretty_json = json.dumps(data, indent=4)\n",
    "print(pretty_json)"
   ]
  },
  {
   "attachments": {},
   "cell_type": "markdown",
   "metadata": {},
   "source": [
    "# requests"
   ]
  },
  {
   "cell_type": "code",
   "execution_count": 74,
   "metadata": {},
   "outputs": [
    {
     "data": {
      "text/plain": [
       "'   <!doctype html> <html lang=\"ko\" class=\"fzoom\"> <head> <meta charset=\"utf-8\"> <meta name=\"Referrer\" content=\"origin\"> <meta http-equiv=\"X-UA-Compatible\" content=\"IE=edge\"> <meta name=\"viewport\" content=\"width=1190\"> <title>NAVER</title> <meta name=\"apple-mobile-web-app-title\" content=\"NAVER\"/> <meta name=\"robots\" content=\"index,nofollow\"/> <meta name=\"description\" content=\"네이버 메인에서 다양한 정보와 유용한 컨텐츠를 만나 보세요\"/> <meta property=\"og:title\" content=\"네이버\"> <meta property=\"og:url\" content=\"https://www.naver.com/\"> <meta property=\"og:image\" content=\"https://s.pstatic.net/static/www/mobile/edit/2016/0705/mobile_212852414260.png\"> <meta property=\"og:description\" content=\"네이버 메인에서 다양한 정보와 유용한 컨텐츠를 만나 보세요\"/> <meta name=\"twitter:card\" content=\"summary\"> <meta name=\"twitter:title\" content=\"\"> <meta name=\"twitter:url\" content=\"https://www.naver.com/\"> <meta name=\"twitter:image\" content=\"https://s.pstatic.net/static/www/mobile/edit/2016/0705/mobile_212852414260.png\"> <meta name=\"twitter:description\" content=\"네이버 메인에서 다양한 정보와 유용한 컨텐츠를 만나 보세요\"/> <link rel=\"shortcut icon\" type=\"image/x-icon\" href=\"/favicon.ico?1\"> <link rel=\"apple-touch-icon-precomposed\" href=\"https://s.pstatic.net/static/www/nFavicon96.png\"/> <link rel=\"apple-touch-icon\" sizes=\"114x114\" href=\"https://s.pstatic.net/static/www/u/2014/0328/mma_204243574.png\"/> <link rel=\"apple-touch-icon\" href=\"https://s.pstatic.net/static/www/u/2014/0328/mma_20432863.png\"/> <link rel=\"stylesheet\" href=\"https://ssl.pstatic.net/sstatic/search/pc/css/sp_autocomplete_231130.css\"> <script>window.gladsdk=window.gladsdk||{},window.gladsdk.cmd=window.gladsdk.cmd||[],window.ndpsdk=window.ndpsdk||{},window.ndpsdk.cmd=window.ndpsdk.cmd||[],window.ndpsdk.polyfill=window.ndpsdk.polyfill||{cmd:[]};var g_ssc=\"navertop.v5\";window.nsc=g_ssc,window.nmain=window.nmain||{},window.nmain.jsOrigin=\"www\"</script> <script async src=\"https://ssl.pstatic.net/tveta/libs/ndpsdk/prod/ndp-loader.js\"></script> <script async src=\"https://ssl.pstatic.net/tveta/libs/glad/prod/gfp-core.js\"></script> <script src=\"https://ssl.pstatic.net/tveta/libs/assets/js/pc/main/min/pc.veta.core.min.js\" defer=\"defer\"></script>  <script>\\nwindow[\"EAGER-DATA\"] = window[\"EAGER-DATA\"] || {};\\nwindow[\"EAGER-DATA\"][\"PC-FEED-WRAPPER\"] = {\"@type\":\"BLOCK\",\"blocks\":[{\"@type\":\"BLOCK\",\"blocks\":[{\"@type\":\"BLOCK\",\"blocks\":null,\"materials\":null,\"excludeInPaging\":false,\"positionForPaging\":0,\"realtime\":false,\"_id\":null,\"@type\":\"BLOCK\",\"@code\":\"PC-FEED-LIVINGHOME-CAS-EDIT\",\"@template\":\"PC-FEED-CAS-EDIT\",\"@flowId\":null,\"@flowExecutionId\":null,\"@provider\":null,\"@lastModifiedAt\":null},{\"@type\":\"BLOCK\",\"blocks\":null,\"materials\":[{\"@type\":\"MATERIAL-PC-FEED\",\"title\":\"원룸인테리어 꾸미기 미니멀리즘 화이트컨셉 온라인집들이\",\"url\":\"https://in.naver.com/jjumom/contents/internal/638558711916480\",\"image\":{\"url\":\"https://s.pstatic.net/dthumb.phinf/?src=%22http%3A%2F%2Fblogfiles.naver.net%2FMjAyMzEyMTBfMjQg%2FMDAxNzAyMTgwMTMyNTQ2.6vrOQPS4KLp5PkEsfqQRdKuO18RrkhnZONRJQ1uc9g0g.Fxqfd-EmDBIvciRNqgSFrTTBKoPdGfKAlhUWKYkji2sg.JPEG.litty28%2FPCD_2241.jpg%22&type=ff364_236&service=navermain\"},\"source\":{\"name\":\"견우네\",\"image\":{\"url\":\"https://s.pstatic.net/dthumb.phinf/?src=%22http%3A%2F%2Fblogpfthumb.phinf.naver.net%2FMjAxODA5MTBfOTgg%2FMDAxNTM2NTYyMTI0OTY2.R30pC-KTWUtMavAh_0v4uuPM-VoYNpEfLcz9KGlF07wg.IHEbt2IfMgeeGc0npRIO1x4Lgn844IFv6i9sBdBZ508g.JPEG.litty28%2F%25C7%25C1%25BB%25E7.jpg%22&type=nf40_40&service=navermain\"}},\"_id\":\"6441ca92c499cc07f334c49b\"},{\"@type\":\"MATERIAL-PC-FEED\",\"title\":\"온라인 랜선집들이, 원룸에 응용해 볼 수 있는 캐주얼한 작은집꾸미기! 소형 아파트인테리어\",\"url\":\"https://m.post.naver.com/viewer/postView.naver?volumeNo=37191728&memberNo=36313331&vType=VERTICAL\",\"image\":{\"url\":\"https://s.pstatic.net/dthumb.phinf/?src=%22https%3A%2F%2Fs.pstatic.net%2Fpost.phinf%2FMjAyNDAxMTVfMjgw%2FMDAxNzA1Mjk2MTM0NjA5.APE_0aex5OY5gmSF0GF-Z8Yq9Aux_9hJRXA8chL68K8g.v2qo-r5BxrSzYFqiVG6c8s4UZPTaQsuMgM9GaEVVOh8g.JPEG%2FIq91ZwAOfYoXJ3NYXi0iAXTaWuaQ.jpg%22&type=ff364_236&service=navermain\"},\"source\":{\"name\":\"하우스매거진\",\"image\":{\"url\":\"https://s.pstatic.net/dthumb.phinf/?src=%22https%3A%2F%2Fs.pstatic.net%2Fpost.phinf%2FMjAxNzA3MTlfMTk0%2FMDAxNTAwNDIwNzMxNjAw.HTZKT1khsXz5Y-uP0qT4gTlRbfhus5GXwaoBN7InQw4g.6egSArj3pEjDKFDnf-f51EtTy6vKn6Gu6XLCQOXKhhwg.JPEG%2Fpost_3534232701269072275.jpg%3Ftype%3Df200_200%22&type=nf40_40&service=navermain\"}},\"_id\":\"6441ca92c499cc07f334c49c\"},{\"@type\":\"MATERIAL-PC-FEED\",\"title\":\"온라인집들이 화이트인테리어 거실인테리어 집꾸미기 빈티지인테리어 거실 조명인테리어\",\"url\":\"https://blog.naver.com/njel3121/223340686698\",\"image\":{\"url\":\"https://s.pstatic.net/dthumb.phinf/?src=%22http%3A%2F%2Fblogfiles.naver.net%2FMjAyNDAyMDFfMzEg%2FMDAxNzA2NzU3ODIxMjAw.ug-HCqI9_1TwzQTR3YtMZra21-zCN5yA-fxGoHPt3fYg.t95okewGPeKvPC3pMfWKghkRMxsq63mWq1TeSQG13O4g.JPEG.njel3121%2FIMG_6796.JPG%22&type=ff364_236&service=navermain\"},\"source\":{\"name\":\"집순이\",\"image\":{\"url\":\"https://s.pstatic.net/dthumb.phinf/?src=%22http%3A%2F%2Fblogpfthumb.phinf.naver.net%2FMjAyMTAxMDNfMTU5%2FMDAxNjA5NjUwMTA0NjUy.dAsnptqCHf6dWhfm6k9HCZR_ZtJxSL9Dq6LR8VhxxR0g.YOQApn7c_2pL_ZpSCuGV9o58ZE4f-KdcLB0yYfZFF1cg.JPEG.njel3121%2F346BAF69-73CC-467B-AF06-D9B2E32D3125.jpg%22&type=nf40_40&service=navermain\"}},\"_id\":\"6441ca92c499cc07f334c49d\"},{\"@type\":\"MATERIAL-PC-FEED\",\"title\":\"1년 넘게 잘 쓰고 있는 우리 집 주방 아이템 10\",\"url\":\"https://blog.naver.com/ssh4701/223357684618\",\"image\":{\"url\":\"https://s.pstatic.net/dthumb.phinf/?src=%22https%3A%2F%2Fs.pstatic.net%2Fshop.phinf%2F20240221_90%2F1708508509458tBycJ_JPEG%2FIMG_1371.jpg%22&type=ff364_236&service=navermain\"},\"source\":{\"name\":\"슈리\",\"image\":{\"url\":\"https://s.pstatic.net/dthumb.phinf/?src=%22https%3A%2F%2Fs.pstatic.net%2Fshop.phinf%2F20240221_240%2F1708508504952EmiJH_JPEG%2FprofileImage%252B28129.jpg%22&type=nf40_40&service=navermain\"}},\"_id\":\"6441ca92c499cc07f334c49e\"},{\"@type\":\"MATERIAL-PC-FEED\",\"title\":\"온라인집들이 넓어 보이는 비결 25평아파트 화이트인테리어 거실 홈스타일링\",\"url\":\"https://in.naver.com/dau9390/contents/internal/665899745914400\",\"image\":{\"url\":\"https://s.pstatic.net/dthumb.phinf/?src=%22http%3A%2F%2Fblogfiles.naver.net%2FMjAyNDAxMjFfMTM1%2FMDAxNzA1ODI2OTUxNTc4.C0BSwjJ2Vzy4zUfUDqo0DRWbRPGrZGKadSel4KCJ9xQg.izG-Q7SC_Xaye-Q2Y66WJ4u35Jk65JiqzODkp9cwyFIg.PNG.gustnr9390%2F%ED%99%94%EC%9D%B4%ED%8A%B8%EC%9D%B8%ED%85%8C%EB%A6%AC%EC%96%B4016_20240121_174651.png%22&type=ff364_236&service=navermain\"},\"source\":{\"name\":\"다유\",\"image\":{\"url\":\"https://s.pstatic.net/dthumb.phinf/?src=%22http%3A%2F%2Fblogpfthumb.phinf.naver.net%2FMjAyMjEyMjNfMTg3%2FMDAxNjcxODA2MTA1NTM1.YNtWYl6MQZYgr4_7cpKRQOYkhRJrwsSdpZADOf8kmfYg.D-hvNQxAI74NkY04elDVLcp28WJBrd6_tMiXLx6bDMsg.JPEG.gustnr9390%2FSE-4e2a62cb-5606-47cd-8a2d-acf8e921f787.jpg%2FSE-4e2a62cb-5606-47cd-8a2d-acf8e921f787.jpg%22&type=nf40_40&service=navermain\"}},\"_id\":\"6441ca92c499cc07f334c49f\"},{\"@type\":\"MATERIAL-PC-FEED\",\"title\":\"온라인 랜선집들이, 1인가구를 위한 작은집꾸미기! 원룸에 응용해 볼 수 있는 북유럽인테리어\",\"url\":\"https://m.post.naver.com/viewer/postView.naver?volumeNo=37325527&memberNo=4444311&vType=VERTICAL\",\"image\":{\"url\":\"https://s.pstatic.net/dthumb.phinf/?src=%22https%3A%2F%2Fs.pstatic.net%2Fpost.phinf%2FMjAyNDAyMDlfMTI2%2FMDAxNzA3NDgxMDAzMDM3.7WT9X3YGxUBY_zFHNCpv-c2vmGNKrM-GepdURujPh0Eg.wJoAM3fWGEOmzWxZNpvoJYtsY02hBbjv0kaW7hEqsB4g.JPEG%2FIa3J-7LbGRBKB78IPFLyfGye7hO4.jpg%22&type=ff364_236&service=navermain\"},\"source\":{\"name\":\"디아티스트매거진\",\"image\":{\"url\":\"https://s.pstatic.net/dthumb.phinf/?src=%22https%3A%2F%2Fs.pstatic.net%2Fpost.phinf%2FMjAxNjExMTlfMTAy%2FMDAxNDc5NTMwMjIwNTA5.vHvDCthgrwuInNfm5bv_aaTzjTxbg0raQtZaYpRmCtYg.gwQGK25AmcKxx3K4ajED_WE_n3R5x4p5eA1ILrl71Lkg.JPEG%2Fpost_1326171732157117906.jpeg%3Ftype%3Df200_200%22&type=nf40_40&service=navermain\"}},\"_id\":\"6441ca92c499cc07f334c4a0\"},{\"@type\":\"MATERIAL-PC-FEED\",\"title\":\"화이트인테리어 모듈선반 원형테이블 스탠드조명으로 거실 꾸미기\",\"url\":\"https://in.naver.com/andher/contents/internal/641618445432800\",\"image\":{\"url\":\"https://s.pstatic.net/dthumb.phinf/?src=%22http%3A%2F%2Fblogfiles.naver.net%2FMjAyMzEyMThfMTI1%2FMDAxNzAyODk3NTg5MjMy.y43mozHOGoeawR2J9VXY28ndLXgWG5rnD5f0fFAG89cg.9xFzRpD1zjYQ5SMX7cd1MhcJdyYBqSbjtE33lVGPfRcg.JPEG.andher%2F1702897588885.jpg%22&type=ff364_236&service=navermain\"},\"source\":{\"name\":\"팅커벨라\",\"image\":{\"url\":\"https://s.pstatic.net/dthumb.phinf/?src=%22http%3A%2F%2Fblogpfthumb.phinf.naver.net%2FMjAyMzAzMjlfNjMg%2FMDAxNjgwMDk0MDU3ODgw.mSk02Iz8B1HcHoiMBPpEeEDyS_u_z08IegFP_GrFMA0g.GWAK-hilDpYv3haJViZF-JzH5QCMEf3K3BpW839Qoe4g.JPEG.andher%2FKakaoTalk_20230329_214637309.jpg%2FKakaoTalk_20230329_214637309.jpg%22&type=nf40_40&service=navermain\"}},\"_id\":\"6441ca92c499cc07f334c4a1\"},{\"@type\":\"MATERIAL-PC-FEED\",\"title\":\"11평 소형 아파트 공간감있는 원룸인테리어\",\"url\":\"https://in.naver.com/susk20/contents/internal/662869998566272\",\"image\":{\"url\":\"https://s.pstatic.net/dthumb.phinf/?src=%22http%3A%2F%2Fblogfiles.naver.net%2FMjAyNDAyMTVfMjg1%2FMDAxNzA3OTg4MzYxMTcz.vgeKSIU3tcmH_5mr8OWghkR9mz5tnAFsUZslxb9gn30g.ySO4Z55CBYBqeGd9Co_uID26y9_5qMrX7UGK3vMm15Yg.JPEG.susk20%2F1.jpg%22&type=ff364_236&service=navermain\"},\"source\":{\"name\":\"러브화이트\",\"image\":{\"url\":\"https://s.pstatic.net/dthumb.phinf/?src=%22http%3A%2F%2Fblogpfthumb.phinf.naver.net%2FMjAxODExMjBfMjg0%2FMDAxNTQyNzA3OTY0NzY5.EMuiTeAmBk7ETimQoq2SDRjEzn1ZorNzchdJPi-0nvYg.FDw21TBAdSDNObHm5NIMUBxSMUKddoUCHgNrRTAtGecg.JPEG.susk20%2Fdfd.jpg%22&type=nf40_40&service=navermain\"}},\"_id\":\"6441ca92c499cc07f334c4a2\"},{\"@type\":\"MATERIAL-PC-FEED\",\"title\":\"새로 산 뚝배기, 첫 사용 전에 세척하는 방법\",\"url\":\"https://blog.naver.com/2boys0810/223357341276\",\"image\":{\"url\":\"https://s.pstatic.net/dthumb.phinf/?src=%22https%3A%2F%2Fs.pstatic.net%2Fshop.phinf%2F20240221_210%2F17085088442342C9N8_PNG%2Fiko3B.PNG%22&type=ff364_236&service=navermain\"},\"source\":{\"name\":\"두춘기\",\"image\":{\"url\":\"https://s.pstatic.net/dthumb.phinf/?src=%22https%3A%2F%2Fs.pstatic.net%2Fshop.phinf%2F20240221_259%2F1708508840904YBdct_JPEG%2Ferh.jpg%22&type=nf40_40&service=navermain\"}},\"_id\":\"6441ca92c499cc07f334c4a3\"},{\"@type\":\"MATERIAL-PC-FEED\",\"title\":\"미니멀라이프 인테리어: 심플한 가구배치로 10평 원룸꾸미기\",\"url\":\"https://in.naver.com/greenmuse/contents/internal/646943975274208\",\"image\":{\"url\":\"https://s.pstatic.net/dthumb.phinf/?src=%22http%3A%2F%2Fblogfiles.naver.net%2FMjAyMzEyMjlfMTUy%2FMDAxNzAzODI0MjAzMjA0.9_zLQfL96Xlzyt3an4s1JfNRbLflrUybJxxThW3xjkIg.dqGtNeoXaz0yLuU_12RuhgKADlNgRyX44tefD99aZQQg.JPEG.flute8248%2FA_1.jpg%22&type=ff364_236&service=navermain\"},\"source\":{\"name\":\"초록여신\",\"image\":{\"url\":\"https://s.pstatic.net/dthumb.phinf/?src=%22http%3A%2F%2Fblogpfthumb.phinf.naver.net%2FMjAyMzExMDJfMTMz%2FMDAxNjk4OTE1NzM0Nzgw.mEoMUO1HhIv32AW-oYOdXMnDeygbzpwGAI6Gljjraw8g.0ZmsFN4eoaXImLd60pog6cONoHP4wjBqKWjLkBH5Xdsg.JPEG.flute8248%2Fgm.jpg%2Fgm.jpg%22&type=nf40_40&service=navermain\"}},\"_id\":\"6441ca92c499cc07f334c4a4\"},{\"@type\":\"MATERIAL-PC-FEED\",\"title\":\"온라인 집들이 : 34평 아파트 인테리어, 초록빛 쉼이 있는 1층집  Offyou Haus 홈투어 초대합니다\",\"url\":\"https://in.naver.com/minddoni/contents/internal/663680400075648\",\"image\":{\"url\":\"https://s.pstatic.net/dthumb.phinf/?src=%22http%3A%2F%2Fblogfiles.naver.net%2FMjAyNDAyMTlfMjE3%2FMDAxNzA4MzQ2MTU2MzM2.XaAUf4sNuwKX8_XZQjsQOc4qf0q_mABvi_cuO0Isyhwg.-zDzSRORmWVeRWWIVqH07kaS2b188GS3BA0cldPx4tsg.JPEG%2Foutput_1158136492.jpg%22&type=ff364_236&service=navermain\"},\"source\":{\"name\":\"밍뚀니\",\"image\":{\"url\":\"https://s.pstatic.net/dthumb.phinf/?src=%22http%3A%2F%2Fblogpfthumb.phinf.naver.net%2FMjAyMzA0MjVfMTEy%2FMDAxNjgyNDI2MjgxMzg5.20w5UIMH6b_9mi-XGqkCStPlbAWMyG86wxX1o_RJUUYg.k0dA994OsVB5devC7wrE_RGX-5zjethEE5-0QptESM0g.PNG.sunmin8877%2FprofileImage.png%22&type=nf40_40&service=navermain\"}},\"_id\":\"6441ca92c499cc07f334c4a5\"},{\"@type\":\"MATERIAL-PC-FEED\",\"title\":\"취향을 가득 담은 집 어딜 봐도 예쁜 구석구석\",\"url\":\"https://blog.naver.com/heydaily/223358813936\",\"image\":{\"url\":\"https://s.pstatic.net/dthumb.phinf/?src=%22https%3A%2F%2Fs.pstatic.net%2Fshop.phinf%2F20240221_19%2F1708508517999efGI8_PNG%2Fop27.PNG%22&type=ff364_236&service=navermain\"},\"source\":{\"name\":\"헤이\",\"image\":{\"url\":\"https://s.pstatic.net/dthumb.phinf/?src=%22https%3A%2F%2Fs.pstatic.net%2Fshop.phinf%2F20240221_152%2F1708508514912lMUgh_PNG%2FprofileImage.png%22&type=nf40_40&service=navermain\"}},\"_id\":\"6441ca92c499cc07f334c4a6\"}],\"excludeInPaging\":false,\"positionForPaging\":0,\"realtime\":false,\"_id\":null,\"@type\":\"BLOCK\",\"@code\":\"PC-FEED-LIVINGHOME-CARD-1\",\"@template\":\"FOUR-COLUMNS\",\"@flowId\":null,\"@flowExecutionId\":null,\"@provider\":null,\"@lastModifiedAt\":null},{\"@type\":\"PC-FEED-BLOCK\",\"materials\":[{\"@type\":\"MATERIAL-PC-FEED\",\"title\":\"경북의 로컬 명소를 한눈에! 영천 9경 초콜릿\",\"url\":\"https://happybean.naver.com/fundings/detail/F1241?p=p&s=nmlp\",\"image\":{\"url\":\"https://s.pstatic.net/dthumb.phinf/?src=%22https%3A%2F%2Fhappybean-phinf.pstatic.net%2F20240126_106%2F1706277282873G1RLp_JPEG%2Fthum.jpg%3Ftype%3Df464_260%22&type=ff364_236&service=navermain\"},\"source\":{\"name\":\"심박\"},\"labels\":[{\"type\":\"happybean\",\"text\":\"펀딩\"}],\"fundingRate\":\"403\",\"_id\":\"6441ca92c499cc07f334c4a7\"},{\"@type\":\"MATERIAL-PC-FEED\",\"title\":\"건강 간식꾸러미, 군고구마 말랭이와 팝콘\",\"url\":\"https://happybean.naver.com/fundings/detail/F1255?p=p&s=nmlp\",\"image\":{\"url\":\"https://s.pstatic.net/dthumb.phinf/?src=%22https%3A%2F%2Fhappybean-phinf.pstatic.net%2F20240205_20%2F1707108553633MsRaX_JPEG%2Fthum.jpg%3Ftype%3Df464_260%22&type=ff364_236&service=navermain\"},\"source\":{\"name\":\"농사펀드\"},\"labels\":[{\"type\":\"happybean\",\"text\":\"펀딩\"}],\"fundingRate\":\"198\",\"_id\":\"6441ca92c499cc07f334c4a8\"},{\"@type\":\"MATERIAL-PC-FEED\",\"title\":\"도자기 장인이 빚은 환경 친화적인 수제 토분\",\"url\":\"https://happybean.naver.com/fundings/detail/F1244?p=p&s=nmlp\",\"image\":{\"url\":\"https://s.pstatic.net/dthumb.phinf/?src=%22https%3A%2F%2Fhappybean-phinf.pstatic.net%2F20240125_81%2F1706169637386YpOKT_JPEG%2Fthum.jpg%3Ftype%3Df464_260%22&type=ff364_236&service=navermain\"},\"source\":{\"name\":\"아트라이프 백색시대\"},\"labels\":[{\"type\":\"happybean\",\"text\":\"펀딩\"}],\"fundingRate\":\"291\",\"_id\":\"6441ca92c499cc07f334c4a9\"},{\"@type\":\"MATERIAL-PC-FEED\",\"title\":\"예민한 피부를 위한 친환경 소창 타올 세트\",\"url\":\"https://happybean.naver.com/fundings/detail/F1252?p=p&s=nmlp\",\"image\":{\"url\":\"https://s.pstatic.net/dthumb.phinf/?src=%22https%3A%2F%2Fhappybean-phinf.pstatic.net%2F20240201_258%2F1706765324800p0qwM_JPEG%2F0.%25B5%25E1%25B3%25E1%25B3%25E1%25A5%25E1%25B7%25E1%25A6%25E1%25B5%25E1.jpg%3Ftype%3Df464_260%22&type=ff364_236&service=navermain\"},\"source\":{\"name\":\"ByHayan\"},\"labels\":[{\"type\":\"happybean\",\"text\":\"펀딩\"}],\"fundingRate\":\"200\",\"_id\":\"6441ca92c499cc07f334c4aa\"}],\"excludeInPaging\":false,\"positionForPaging\":0,\"realtime\":false,\"title\":\"마음까지 채우는 클릭\",\"moreText\":\"해피빈 전체보기\",\"moreUrl\":\"https://happybean.naver.com/\",\"needCologger\":false,\"ad\":false,\"@type\":\"PC-FEED-BLOCK\",\"@code\":\"PC-FEED-LIVINGHOME-HAPPYBEAN-FUNDING\",\"@template\":\"FOUR-COLUMNS\"},{\"@type\":\"BLOCK\",\"blocks\":null,\"materials\":[{\"@type\":\"MATERIAL-PC-FEED\",\"title\":\"인테리어 색조합이 예쁜집 미니멀 원룸 침대 책상 6평 원룸 꾸미기\",\"url\":\"https://in.naver.com/0jase/contents/internal/638489396164160\",\"image\":{\"url\":\"https://s.pstatic.net/dthumb.phinf/?src=%22http%3A%2F%2Fblogfiles.naver.net%2FMjAyMzEyMDhfMjQy%2FMDAxNzAyMDQxMzg4MTg0.B0oThQI48k4SO2r8P9tOqG7FXYcjjoiU_KTuPpQp4I0g.827TpbuRBzkPtksNELLIRe_xtBMFOaACMMsZW1M1YG0g.PNG.0jase%2FS01.png%22&type=ff364_236&service=navermain\"},\"source\":{\"name\":\"꼼지락하이디\",\"image\":{\"url\":\"https://s.pstatic.net/dthumb.phinf/?src=%22http%3A%2F%2Fblogpfthumb.phinf.naver.net%2FMjAxODA2MTBfMTUy%2FMDAxNTI4NTg0NzAwMzI0.hO4aXPlKqiBZMG3I0txQtuJZsr9uoLDm5Zvhk_-RFbwg.Dv5XyECtMneLgsab8nEKSeMshS0ODjFBNFTMX3qFEvcg.JPEG.0jase%2FprofileImage.jpg%22&type=nf40_40&service=navermain\"}},\"_id\":\"64817a696e592107d2dc6d1e\"},{\"@type\":\"MATERIAL-PC-FEED\",\"title\":\"공부 책상 배치로 아이와 함께하는 거실 인테리어\",\"url\":\"https://blog.naver.com/jewul_77/223354906561\",\"image\":{\"url\":\"https://s.pstatic.net/dthumb.phinf/?src=%22https%3A%2F%2Fs.pstatic.net%2Fshop.phinf%2F20240221_267%2F1708508864371CIdu7_PNG%2Fsdrh.PNG%22&type=ff364_236&service=navermain\"},\"source\":{\"name\":\"내일도 맑음\",\"image\":{\"url\":\"https://s.pstatic.net/dthumb.phinf/?src=%22https%3A%2F%2Fs.pstatic.net%2Fshop.phinf%2F20240221_44%2F1708508857600h4nB9_JPEG%2FProfile_defaultIMG_J2x.jpg%22&type=nf40_40&service=navermain\"}},\"_id\":\"64817a696e592107d2dc6d1f\"},{\"@type\":\"MATERIAL-PC-FEED\",\"title\":\"온라인집들이, 편안한 내 공간 완성 자취방 1인 가구 원룸 인테리어 :D\",\"url\":\"https://in.naver.com/chuing___/contents/internal/661594424343648\",\"image\":{\"url\":\"https://s.pstatic.net/dthumb.phinf/?src=%22http%3A%2F%2Fblogfiles.naver.net%2FMjAyNDAyMTNfMTMy%2FMDAxNzA3ODIyMTk5ODEx.3fGf2T_hMftNPdM2aR-iQ3FTXBUKIuqGdQsUIKJJqncg.N1_Kbau4QOSSjWuF40WqXTJIAhrcaNxgPwRWzCSaH5wg.JPEG.sacuu%2F230b4776b2a40eb622aca1c059e1bf52.jpg%22&type=ff364_236&service=navermain\"},\"source\":{\"name\":\"츄잉\",\"image\":{\"url\":\"https://s.pstatic.net/dthumb.phinf/?src=%22http%3A%2F%2Fblogpfthumb.phinf.naver.net%2FMjAyMzAxMjdfNzkg%2FMDAxNjc0Nzc5MzQ5ODgy.xwlo3o_J5_ENOjSHFXpXLSKK8c9LsxurYl57q1kTS24g.bU8CJ7u-xsBlEu8G81gj9oHhqa_AFoPY8Y9q7_XE5xAg.JPEG.sacuu%2F20221117_145049_polarr.jpg%2F20221117_145049_polarr.jpg%22&type=nf40_40&service=navermain\"}},\"_id\":\"64817a696e592107d2dc6d20\"},{\"@type\":\"MATERIAL-PC-FEED\",\"title\":\"깔끔해진 애프터에 만족, 거실 가구 배치 바꿔보기\",\"url\":\"https://blog.naver.com/majomaji/223349393993\",\"image\":{\"url\":\"https://s.pstatic.net/dthumb.phinf/?src=%22https%3A%2F%2Fs.pstatic.net%2Fshop.phinf%2F20240221_290%2F17085085007532CGAo_JPEG%2F1.jpg%22&type=ff364_236&service=navermain\"},\"source\":{\"name\":\"수영하는 마녀\",\"image\":{\"url\":\"https://s.pstatic.net/dthumb.phinf/?src=%22https%3A%2F%2Fs.pstatic.net%2Fshop.phinf%2F20240221_243%2F1708508488101EKq1L_PNG%2Fogq-title3.png%22&type=nf40_40&service=navermain\"}},\"_id\":\"64817a696e592107d2dc6d21\"},{\"@type\":\"MATERIAL-PC-FEED\",\"title\":\"온라인집들이 취향 가구와 모듈소파 배치 24평 아파트 거실인테리어\",\"url\":\"https://blog.naver.com/kd8905/223322500916\",\"image\":{\"url\":\"https://s.pstatic.net/dthumb.phinf/?src=%22http%3A%2F%2Fblogfiles.naver.net%2FMjAyNDAxMDVfMTEg%2FMDAxNzA0NDY1MjU5NDYw.-SOV3iK9yt83hrT66XKkMOKAZbx0FLmUtz3jCai36PUg.YpcGGHqQxwhb93tYyT4EBodkT_LWWP5ocZQUCibe8igg.JPEG.kd8905%2F8-2.jpg%22&type=ff364_236&service=navermain\"},\"source\":{\"name\":\"스텔라홈\",\"image\":{\"url\":\"https://s.pstatic.net/dthumb.phinf/?src=%22http%3A%2F%2Fblogpfthumb.phinf.naver.net%2FMjAyMTAxMjNfMTIw%2FMDAxNjExMzk0NjU0NDc2.UR79Ha5fPECWD8lTSU0MtFy6QRPJtHZShEuqGwuuVtAg.ey2mfJty0hn5m7GAZHZrNmR5rGLZ2ZiucntkLlwWLpEg.PNG.kd8905%2FSujin%2B%25EC%258A%25A4%25EC%25BC%2580%25EC%25B9%2598%25EB%25A5%25BC%2B%25EA%25B3%25B5%25EC%259C%25A0%25ED%2596%2588%25EC%258A%25B5%25EB%258B%2588%25EB%258B%25A4%2B9.png%22&type=nf40_40&service=navermain\"}},\"_id\":\"64817a696e592107d2dc6d22\"},{\"@type\":\"MATERIAL-PC-FEED\",\"title\":\"침실, 거실 인테리어 온라인집들이 : 굿바이 2023 컬러하우스 기록\",\"url\":\"https://in.naver.com/bella/contents/internal/645392901142080\",\"image\":{\"url\":\"https://s.pstatic.net/dthumb.phinf/?src=%22http%3A%2F%2Fblogfiles.naver.net%2FMjAyMzEyMzBfMjAg%2FMDAxNzAzODY1NjA3MDc5.16l2xZdHuIIlh_L2D9KP-biYYyE64e-gb_F6CIL0-bcg.iTNAdnKR9mW_5P8lEOF3We1ttAKbVZvcG9dKTNhkPk4g.JPEG.hahahohoshe%2F2023_%EC%B9%A8%EC%8B%A4%EC%9D%B8%ED%85%8C%EB%A6%AC%EC%96%B47.jpg%22&type=ff364_236&service=navermain\"},\"source\":{\"name\":\"벨라\",\"image\":{\"url\":\"https://s.pstatic.net/dthumb.phinf/?src=%22http%3A%2F%2Fblogpfthumb.phinf.naver.net%2FMjAyMzA1MThfMjky%2FMDAxNjg0MzcyNDI2ODA4.xptKqorXjUHHRs-wKocO3V6HuhHp6Om3ZtjRNzWY-xEg.0cm1yyJRB-G-XMwcNutACdqNxr1BFb6NSyzjWPEMq5Qg.JPEG.hahahohoshe%2FprofileImage.jpg%22&type=nf40_40&service=navermain\"}},\"_id\":\"64817a696e592107d2dc6d23\"},{\"@type\":\"MATERIAL-PC-FEED\",\"title\":\"8평 봄 원룸 인테리어 소형 아파트 파스텔 톤 원룸 꾸미기\",\"url\":\"https://in.naver.com/hun1056/contents/internal/659278743993280\",\"image\":{\"url\":\"https://s.pstatic.net/dthumb.phinf/?src=%22http%3A%2F%2Fblogfiles.naver.net%2FMjAyNDAyMDVfNDYg%2FMDAxNzA3MTEzNTYwMzAx.zq6uG4ovHIhXaSCL9aOfkiP9U4v5xHP_5EMH2fC9SMgg.V5qt6rjjrh_FC4DRzwOsqOSZ752wtNmGDAl-A4ePhVEg.JPEG.hun1056%2F5-1.jpg%22&type=ff364_236&service=navermain\"},\"source\":{\"name\":\"정면돌파\",\"image\":{\"url\":\"https://s.pstatic.net/dthumb.phinf/?src=%22http%3A%2F%2Fblogpfthumb.phinf.naver.net%2FMjAxNzA0MDRfMTU3%2FMDAxNDkxMjYxODMzMzc0.rT3mnLKZhajzrbID4-vJPfBtEGej3Lt36VwG3eEVJkYg.GYIpWUt30IYkl3MAFkWwWzfw06nMJ3r5gmMGsmNDSDAg.JPEG.hun1056%2Faward.jpg%22&type=nf40_40&service=navermain\"}},\"_id\":\"64817a696e592107d2dc6d24\"},{\"@type\":\"MATERIAL-PC-FEED\",\"title\":\"접이식테이블 공간효율좋은 화이트인테리어 6평원룸꾸미기 1가구인테리어\",\"url\":\"https://in.naver.com/62nironm/contents/internal/638048421873248\",\"image\":{\"url\":\"https://s.pstatic.net/dthumb.phinf/?src=%22http%3A%2F%2Fblogfiles.naver.net%2FMjAyMzEyMDlfNDcg%2FMDAxNzAyMDcwNTk4OTQ1.MsvQhAArHvciP_QO9XS6_lmyfCgajUMH-K5jtt9KCnQg.8H2eWHbceSP2gaUwYval7-EVzeMrNvBFaoAd00BNQekg.JPEG.62nironm%2F%ED%99%94%EB%A9%B4_%EC%BA%A1%EC%B2%98_2023-12-09_093546.jpg%22&type=ff364_236&service=navermain\"},\"source\":{\"name\":\"그래니하우스\",\"image\":{\"url\":\"https://s.pstatic.net/dthumb.phinf/?src=%22http%3A%2F%2Fblogpfthumb.phinf.naver.net%2FMjAyMTA4MjZfMTIy%2FMDAxNjI5OTYwOTc3NjY1.4vbp9CVgwbghMcDra7oWZXQkd8uHaMKXvjWOKyw33igg.spHMxwtpWZ8pwl5FmEIANUuzPiZekTrUBTU3SvrjN2gg.JPEG.62nironm%2FprofileImage.jpg%22&type=nf40_40&service=navermain\"}},\"_id\":\"64817a696e592107d2dc6d25\"},{\"@type\":\"MATERIAL-PC-FEED\",\"title\":\"모던 스타일링으로 꾸민 홈카페존 #랜선집들이\",\"url\":\"https://blog.naver.com/fallin_h/223358861081\",\"image\":{\"url\":\"https://s.pstatic.net/dthumb.phinf/?src=%22https%3A%2F%2Fs.pstatic.net%2Fshop.phinf%2F20240221_77%2F17085088517224uFKC_JPEG%2FIMG_2623.jpg%22&type=ff364_236&service=navermain\"},\"source\":{\"name\":\"폴린H\",\"image\":{\"url\":\"https://s.pstatic.net/dthumb.phinf/?src=%22https%3A%2F%2Fs.pstatic.net%2Fshop.phinf%2F20240221_85%2F17085088487792D8l3_JPEG%2F20231126_182528.jpg%22&type=nf40_40&service=navermain\"}},\"_id\":\"64817a696e592107d2dc6d26\"},{\"@type\":\"MATERIAL-PC-FEED\",\"title\":\"[거실 인테리어] 따뜻하고 세밀한 디테일들이 모여 완성된 거실 인테리어 [제이엠디자인/JMDESIGN]\",\"url\":\"https://blog.naver.com/pjm2947/223298126232\",\"image\":{\"url\":\"https://s.pstatic.net/dthumb.phinf/?src=%22http%3A%2F%2Fblogfiles.naver.net%2FMjAyMzEyMjBfMTQ3%2FMDAxNzAzMDM0NzI4Mjkx.iluh3gVmbTFk1D9ssxT-S0CE_TuwWD-WhFWqGpHXKfcg.gzq8y5jK9pAHAp_pS8L_MWDKIy9dia7_3Zn8oOCL5N0g.JPEG.pjm2947%2F205_7.jpg%22&type=ff364_236&service=navermain\"},\"source\":{\"name\":\"design studio jm\",\"image\":{\"url\":\"https://s.pstatic.net/dthumb.phinf/?src=%22http%3A%2F%2Fblogpfthumb.phinf.naver.net%2FMjAxODA5MTFfMTQg%2FMDAxNTM2NjUzMzcyMTA4.cZpE5NpU-Ezqh8DO5bmi1mAwxcLJqnoyQ-JHbLTbACAg.KmBYtFNihyh-1XDm_CnxpneJct1tJdEPCHbks23z9dYg.JPEG.pjm2947%2F12.jpg%22&type=nf40_40&service=navermain\"}},\"_id\":\"64817a696e592107d2dc6d27\"},{\"@type\":\"MATERIAL-PC-FEED\",\"title\":\"온라인 랜선집들이 거실서재화 화이트 집꾸미기 비확장 31평 인테리어\",\"url\":\"https://blog.naver.com/kmccall/223340796941\",\"image\":{\"url\":\"https://s.pstatic.net/dthumb.phinf/?src=%22http%3A%2F%2Fblogfiles.naver.net%2FMjAyNDAyMDFfNjkg%2FMDAxNzA2NzU5NjYxOTMw.ffvxT6brrpx-OPixcVn9yJ5Q4Lf2HvxyZK7P7f5PHMgg.Z4v4-3KvEzlPanrEaS-hKf4C30qaDsjZhnW5eH8-7XMg.JPEG.kmccall%2FIMG_5921.JPG%22&type=ff364_236&service=navermain\"},\"source\":{\"name\":\"밈채랜드\",\"image\":{\"url\":\"https://s.pstatic.net/dthumb.phinf/?src=%22http%3A%2F%2Fblogpfthumb.phinf.naver.net%2FMjAyMzEyMjdfMTQ1%2FMDAxNzAzNjYwMjU5ODYz.T1ciL5rm_-iaufKTgNxAqoPhH0WlEs1MBE0TvjE-y08g.KqUuDerc5lnDVngmNHvdR2MjwrEi0UozwIxXT_-jnBEg.JPEG.kmccall%2FprofileImage.jpg%22&type=nf40_40&service=navermain\"}},\"_id\":\"64817a696e592107d2dc6d28\"},{\"@type\":\"MATERIAL-PC-FEED\",\"title\":\"뷰맛집 미국 자취방 원룸 인테리어 모음 21\\'1/4\",\"url\":\"https://m.post.naver.com/viewer/postView.naver?volumeNo=37057643&memberNo=3681994&vType=VERTICAL\",\"image\":{\"url\":\"https://s.pstatic.net/dthumb.phinf/?src=%22https%3A%2F%2Fs.pstatic.net%2Fpost.phinf%2FMjAyMzEyMTlfMTQ0%2FMDAxNzAyOTExODc2ODM5.-qGy5C1n642biUQFjPri-MOmQqmqtKMovc_7G_f5MWgg.2NQUyWmT0N7mD0R1L9RVlDKz-I93Kj8a6r1q-brpBzMg.JPEG%2FISKaM-eFaipWLNcE6NbF7BjJP7JQ.jpg%22&type=ff364_236&service=navermain\"},\"source\":{\"name\":\"꿀하우스\",\"image\":{\"url\":\"https://s.pstatic.net/dthumb.phinf/?src=%22https%3A%2F%2Fs.pstatic.net%2Fpost.phinf%2F20160812_7%2Fikeahackers_1470972898448q31rg_PNG%2Fikeahackers_3434125572826107122.png%3Ftype%3Df200_200%22&type=nf40_40&service=navermain\"}},\"_id\":\"64817a696e592107d2dc6d29\"}],\"excludeInPaging\":false,\"positionForPaging\":0,\"realtime\":false,\"_id\":null,\"@type\":\"BLOCK\",\"@code\":\"PC-FEED-LIVINGHOME-CARD-2\",\"@template\":\"FOUR-COLUMNS\",\"@flowId\":null,\"@flowExecutionId\":null,\"@provider\":null,\"@lastModifiedAt\":null}],\"materials\":null,\"excludeInPaging\":false,\"positionForPaging\":0,\"realtime\":false,\"_id\":null,\"@type\":\"BLOCK\",\"@code\":\"PC-FEED-LIVINGHOME\",\"@template\":\"NONE\",\"@flowId\":null,\"@flowExecutionId\":null,\"@provider\":null,\"@lastModifiedAt\":null}],\"materials\":null,\"excludeInPaging\":false,\"positionForPaging\":0,\"realtime\":false,\"_id\":\"6441ca92a10d3006855f9acd\",\"@type\":\"BLOCK\",\"@code\":\"PC-FEED-WRAPPER\",\"@template\":\"PC-FEED-WRAPPER\",\"@flowId\":\"PC-FEED-WRAPPER\",\"@flowExecutionId\":\"8805bdec-d5f7-11ee-84a3-cf0336f05282\",\"@provider\":\"lambda\",\"@lastModifiedAt\":[2024,2,28,5,9,22]}\\nwindow[\"EAGER-DATA\"][\"CAS-MINICONTENT-PC-SPECIAL-LOGO\"] = {\"@type\":\"MINI-CONTENT-BLOCK\",\"blocks\":null,\"materials\":null,\"excludeInPaging\":false,\"positionForPaging\":0,\"realtime\":false,\"items\":[],\"_id\":\"6433d8e3a10d3006850274e8\",\"@type\":\"MINI-CONTENT-BLOCK\",\"@code\":\"CAS-MINICONTENT-PC-SPECIAL-LOGO\",\"@template\":\"NONE\",\"@flowId\":\"CAS-MINICONTENT\",\"@flowExecutionId\":\"6ef7406d-d5f7-11ee-a0b8-cf74322931e5\",\"@provider\":\"lambda\",\"@lastModifiedAt\":[2024,2,28,5,8,39,74000000]}\\nwindow[\"EAGER-DATA\"][\"PC-MEDIA-WRAPPER\"] = {\"@type\":\"PC-MEDIA-CONTENTS-BLOCK\",\"blocks\":[{\"@type\":\"BLOCK\",\"blocks\":[{\"@type\":\"PC-NEWSSTAND-BLOCK\",\"blocks\":[{\"@type\":\"PC-NEWSSTAND-PRESS-BLOCK\",\"blocks\":null,\"materials\":null,\"excludeInPaging\":false,\"positionForPaging\":0,\"realtime\":false,\"pid\":\"907\",\"name\":\"경북매일신문\",\"logoLight\":{\"url\":\"https://s.pstatic.net/static/newsstand/2020/logo/light/0604/907.png\"},\"logoDark\":{\"url\":\"https://s.pstatic.net/static/newsstand/2020/logo/dark/0604/907.png\"},\"showThumbnailView\":true,\"showListView\":true,\"regDate\":\"20240228 13:50:12\",\"_id\":null,\"@type\":\"PC-NEWSSTAND-PRESS-BLOCK\",\"@code\":null,\"@template\":\"NONE\",\"@flowId\":null,\"@flowExecutionId\":null,\"@provider\":null,\"@lastModifiedAt\":null},{\"@type\":\"PC-NEWSSTAND-PRESS-BLOCK\",\"blocks\":null,\"materials\":null,\"excludeInPaging\":false,\"positionForPaging\":0,\"realtime\":false,\"pid\":\"908\",\"name\":\"국방일보\",\"logoLight\":{\"url\":\"https://s.pstatic.net/static/newsstand/2020/logo/light/0604/908.png\"},\"logoDark\":{\"url\":\"https://s.pstatic.net/static/newsstand/2020/logo/dark/0604/908.png\"},\"showThumbnailView\":true,\"showListView\":true,\"regDate\":\"20240227 17:33:33\",\"_id\":null,\"@type\":\"PC-NEWSSTAND-PRESS-BLOCK\",\"@code\":null,\"@template\":\"NONE\",\"@flowId\":null,\"@flowExecutionId\":null,\"@provider\":null,\"@lastModifiedAt\":null},{\"@type\":\"PC-NEWSSTAND-PRESS-BLOCK\",\"blocks\":null,\"materials\":null,\"excludeInPaging\":false,\"positionForPaging\":0,\"realtime\":false,\"pid\":\"909\",\"name\":\"기호일보\",\"logoLight\":{\"url\":\"https://s.pstatic.net/static/newsstand/2020/logo/light/0604/909.png\"},\"logoDark\":{\"url\":\"https://s.pstatic.net/static/newsstand/2020/logo/dark/0604/909.png\"},\"showThumbnailView\":true,\"showListView\":true,\"regDate\":\"20240228 10:17:19\",\"_id\":null,\"@type\":\"PC-NEWSSTAND-PRESS-BLOCK\",\"@code\":null,\"@template\":\"NONE\",\"@flowId\":null,\"@flowExecutionId\":null,\"@provider\":null,\"@lastModifiedAt\":null},{\"@type\":\"PC-NEWSSTAND-PRESS-BLOCK\",\"blocks\":null,\"materials\":null,\"excludeInPaging\":false,\"positionForPaging\":0,\"realtime\":false,\"pid\":\"353\",\"name\":\"중앙SUNDAY\",\"logoLight\":{\"url\":\"https://s.pstatic.net/static/newsstand/2020/logo/light/0604/353.png\"},\"logoDark\":{\"url\":\"https://s.pstatic.net/static/newsstand/2020/logo/dark/0604/353.png\"},\"showThumbnailView\":true,\"showListView\":true,\"regDate\":\"20240227 08:32:32\",\"_id\":null,\"@type\":\"PC-NEWSSTAND-PRESS-BLOCK\",\"@code\":null,\"@template\":\"NONE\",\"@flowId\":null,\"@flowExecutionId\":null,\"@provider\":null,\"@lastModifiedAt\":null},{\"@type\":\"PC-NEWSSTAND-PRESS-BLOCK\",\"blocks\":null,\"materials\":null,\"excludeInPaging\":false,\"positionForPaging\":0,\"realtime\":false,\"pid\":\"354\",\"name\":\"엘르\",\"logoLight\":{\"url\":\"https://s.pstatic.net/static/newsstand/2020/logo/light/0604/354.png\"},\"logoDark\":{\"url\":\"https://s.pstatic.net/static/newsstand/2020/logo/dark/0604/354.png\"},\"showThumbnailView\":true,\"showListView\":true,\"regDate\":\"20240228 13:00:00\",\"_id\":null,\"@type\":\"PC-NEWSSTAND-PRESS-BLOCK\",\"@code\":null,\"@template\":\"NONE\",\"@flowId\":null,\"@flowExecutionId\":null,\"@provider\":null,\"@lastModifiedAt\":null},{\"@type\":\"PC-NEWSSTAND-PRESS-BLOCK\",\"blocks\":null,\"materials\":null,\"excludeInPaging\":false,\"positionForPaging\":0,\"realtime\":false,\"pid\":\"355\",\"name\":\"사이언스타임즈\",\"logoLight\":{\"url\":\"https://s.pstatic.net/static/newsstand/2020/logo/light/0604/355.png\"},\"logoDark\":{\"url\":\"https://s.pstatic.net/static/newsstand/2020/logo/dark/0604/355.png\"},\"showThumbnailView\":true,\"showListView\":true,\"regDate\":\"20240226 14:42:02\",\"_id\":null,\"@type\":\"PC-NEWSSTAND-PRESS-BLOCK\",\"@code\":null,\"@template\":\"NONE\",\"@flowId\":null,\"@flowExecutionId\":null,\"@provider\":null,\"@lastModifiedAt\":null},{\"@type\":\"PC-NEWSSTAND-PRESS-BLOCK\",\"blocks\":null,\"materials\":null,\"excludeInPaging\":false,\"positionForPaging\":0,\"realtime\":false,\"pid\":\"356\",\"name\":\"게임메카\",\"logoLight\":{\"url\":\"https://s.pstatic.net/static/newsstand/2020/logo/light/0604/356.png\"},\"logoDark\":{\"url\":\"https://s.pstatic.net/static/newsstand/2020/logo/dark/0604/356.png\"},\"showThumbnailView\":true,\"showListView\":true,\"regDate\":\"20240228 11:12:30\",\"_id\":null,\"@type\":\"PC-NEWSSTAND-PRESS-BLOCK\",\"@code\":null,\"@template\":\"NONE\",\"@flowId\":null,\"@flowExecutionId\":null,\"@provider\":null,\"@lastModifiedAt\":null},{\"@type\":\"PC-NEWSSTAND-PRESS-BLOCK\",\"blocks\":null,\"materials\":null,\"excludeInPaging\":false,\"positionForPaging\":0,\"realtime\":false,\"pid\":\"477\",\"name\":\"스포티비뉴스\",\"logoLight\":{\"url\":\"https://s.pstatic.net/static/newsstand/up/2021/1130/nsd10159718.png\"},\"logoDark\":{\"url\":\"https://s.pstatic.net/static/newsstand/up/2021/1130/nsd101536636.png\"},\"showThumbnailView\":true,\"showListView\":true,\"regDate\":\"20240228 13:50:06\",\"_id\":null,\"@type\":\"PC-NEWSSTAND-PRESS-BLOCK\",\"@code\":null,\"@template\":\"NONE\",\"@flowId\":null,\"@flowExecutionId\":null,\"@provider\":null,\"@lastModifiedAt\":null},{\"@type\":\"PC-NEWSSTAND-PRESS-BLOCK\",\"blocks\":null,\"materials\":null,\"excludeInPaging\":false,\"positionForPaging\":0,\"realtime\":false,\"pid\":\"117\",\"name\":\"마이데일리\",\"logoLight\":{\"url\":\"https://s.pstatic.net/static/newsstand/2020/logo/light/0604/117.png\"},\"logoDark\":{\"url\":\"https://s.pstatic.net/static/newsstand/2020/logo/dark/0604/117.png\"},\"showThumbnailView\":true,\"showListView\":true,\"regDate\":\"20240228 13:17:49\",\"_id\":null,\"@type\":\"PC-NEWSSTAND-PRESS-BLOCK\",\"@code\":null,\"@template\":\"NONE\",\"@flowId\":null,\"@flowExecutionId\":null,\"@provider\":null,\"@lastModifiedAt\":null},{\"@type\":\"PC-NEWSSTAND-PRESS-BLOCK\",\"blocks\":null,\"materials\":null,\"excludeInPaging\":false,\"positionForPaging\":0,\"realtime\":false,\"pid\":\"910\",\"name\":\"넥스트데일리\",\"logoLight\":{\"url\":\"https://s.pstatic.net/static/newsstand/2020/logo/light/0604/910.png\"},\"logoDark\":{\"url\":\"https://s.pstatic.net/static/newsstand/2020/logo/dark/0604/910.png\"},\"showThumbnailView\":true,\"showListView\":true,\"regDate\":\"20240228 13:50:22\",\"_id\":null,\"@type\":\"PC-NEWSSTAND-PRESS-BLOCK\",\"@code\":null,\"@template\":\"NONE\",\"@flowId\":null,\"@flowExecutionId\":null,\"@provider\":null,\"@lastModifiedAt\":null},{\"@type\":\"PC-NEWSSTAND-PRESS-BLOCK\",\"blocks\":null,\"materials\":null,\"excludeInPaging\":false,\"positionForPaging\":0,\"realtime\":false,\"pid\":\"911\",\"name\":\"농민신문\",\"logoLight\":{\"url\":\"https://s.pstatic.net/static/newsstand/2020/logo/light/0604/911.png\"},\"logoDark\":{\"url\":\"https://s.pstatic.net/static/newsstand/2020/logo/dark/0604/911.png\"},\"showThumbnailView\":true,\"showListView\":true,\"regDate\":\"20240228 07:00:01\",\"_id\":null,\"@type\":\"PC-NEWSSTAND-PRESS-BLOCK\",\"@code\":null,\"@template\":\"NONE\",\"@flowId\":null,\"@flowExecutionId\":null,\"@provider\":null,\"@lastModifiedAt\":null},{\"@type\":\"PC-NEWSSTAND-PRESS-BLOCK\",\"blocks\":null,\"materials\":null,\"excludeInPaging\":false,\"positionForPaging\":0,\"realtime\":false,\"pid\":\"913\",\"name\":\"뉴스토마토\",\"logoLight\":{\"url\":\"https://s.pstatic.net/static/newsstand/2020/logo/light/0604/913.png\"},\"logoDark\":{\"url\":\"https://s.pstatic.net/static/newsstand/2020/logo/dark/0604/913.png\"},\"showThumbnailView\":true,\"showListView\":true,\"regDate\":\"20240228 14:01:18\",\"_id\":null,\"@type\":\"PC-NEWSSTAND-PRESS-BLOCK\",\"@code\":null,\"@template\":\"NONE\",\"@flowId\":null,\"@flowExecutionId\":null,\"@provider\":null,\"@lastModifiedAt\":null},{\"@type\":\"PC-NEWSSTAND-PRESS-BLOCK\",\"blocks\":null,\"materials\":null,\"excludeInPaging\":false,\"positionForPaging\":0,\"realtime\":false,\"pid\":\"914\",\"name\":\"뉴스핌\",\"logoLight\":{\"url\":\"https://s.pstatic.net/static/newsstand/2020/logo/light/0604/914.png\"},\"logoDark\":{\"url\":\"https://s.pstatic.net/static/newsstand/2020/logo/dark/0604/914.png\"},\"showThumbnailView\":true,\"showListView\":true,\"regDate\":\"20240228 13:55:15\",\"_id\":null,\"@type\":\"PC-NEWSSTAND-PRESS-BLOCK\",\"@code\":null,\"@template\":\"NONE\",\"@flowId\":null,\"@flowExecutionId\":null,\"@provider\":null,\"@lastModifiedAt\":null},{\"@type\":\"PC-NEWSSTAND-PRESS-BLOCK\",\"blocks\":null,\"materials\":null,\"excludeInPaging\":false,\"positionForPaging\":0,\"realtime\":false,\"pid\":\"915\",\"name\":\"르몽드 디플로마티크\",\"logoLight\":{\"url\":\"https://s.pstatic.net/static/newsstand/2020/logo/light/0604/915.png\"},\"logoDark\":{\"url\":\"https://s.pstatic.net/static/newsstand/2020/logo/dark/0604/915.png\"},\"showThumbnailView\":true,\"showListView\":true,\"regDate\":\"20240223 19:05:03\",\"_id\":null,\"@type\":\"PC-NEWSSTAND-PRESS-BLOCK\",\"@code\":null,\"@template\":\"NONE\",\"@flowId\":null,\"@flowExecutionId\":null,\"@provider\":null,\"@lastModifiedAt\":null},{\"@type\":\"PC-NEWSSTAND-PRESS-BLOCK\",\"blocks\":null,\"materials\":null,\"excludeInPaging\":false,\"positionForPaging\":0,\"realtime\":false,\"pid\":\"916\",\"name\":\"머니투데이방송\",\"logoLight\":{\"url\":\"https://s.pstatic.net/static/newsstand/up/2021/0420/nsd105139164.png\"},\"logoDark\":{\"url\":\"https://s.pstatic.net/static/newsstand/up/2021/0420/nsd104943516.png\"},\"showThumbnailView\":true,\"showListView\":true,\"regDate\":\"20240228 13:42:00\",\"_id\":null,\"@type\":\"PC-NEWSSTAND-PRESS-BLOCK\",\"@code\":null,\"@template\":\"NONE\",\"@flowId\":null,\"@flowExecutionId\":null,\"@provider\":null,\"@lastModifiedAt\":null},{\"@type\":\"PC-NEWSSTAND-PRESS-BLOCK\",\"blocks\":null,\"materials\":null,\"excludeInPaging\":false,\"positionForPaging\":0,\"realtime\":false,\"pid\":\"917\",\"name\":\"IT조선\",\"logoLight\":{\"url\":\"https://s.pstatic.net/static/newsstand/2020/logo/light/0604/917.png\"},\"logoDark\":{\"url\":\"https://s.pstatic.net/static/newsstand/2020/logo/dark/0604/917.png\"},\"showThumbnailView\":true,\"showListView\":true,\"regDate\":\"20240228 13:50:34\",\"_id\":null,\"@type\":\"PC-NEWSSTAND-PRESS-BLOCK\",\"@code\":null,\"@template\":\"NONE\",\"@flowId\":null,\"@flowExecutionId\":null,\"@provider\":null,\"@lastModifiedAt\":null},{\"@type\":\"PC-NEWSSTAND-PRESS-BLOCK\",\"blocks\":null,\"materials\":null,\"excludeInPaging\":false,\"positionForPaging\":0,\"realtime\":false,\"pid\":\"361\",\"name\":\"채널예스\",\"logoLight\":{\"url\":\"https://s.pstatic.net/static/newsstand/up/2023/0418/nsd124959421.png\"},\"logoDark\":{\"url\":\"https://s.pstatic.net/static/newsstand/up/2023/0418/nsd124945796.png\"},\"showThumbnailView\":true,\"showListView\":true,\"regDate\":\"20240228 14:00:46\",\"_id\":null,\"@type\":\"PC-NEWSSTAND-PRESS-BLOCK\",\"@code\":null,\"@template\":\"NONE\",\"@flowId\":null,\"@flowExecutionId\":null,\"@provider\":null,\"@lastModifiedAt\":null},{\"@type\":\"PC-NEWSSTAND-PRESS-BLOCK\",\"blocks\":null,\"materials\":null,\"excludeInPaging\":false,\"positionForPaging\":0,\"realtime\":false,\"pid\":\"120\",\"name\":\"EBN\",\"logoLight\":{\"url\":\"https://s.pstatic.net/static/newsstand/2020/logo/light/0604/120.png\"},\"logoDark\":{\"url\":\"https://s.pstatic.net/static/newsstand/2020/logo/dark/0604/120.png\"},\"showThumbnailView\":true,\"showListView\":true,\"regDate\":\"20240228 13:16:00\",\"_id\":null,\"@type\":\"PC-NEWSSTAND-PRESS-BLOCK\",\"@code\":null,\"@template\":\"NONE\",\"@flowId\":null,\"@flowExecutionId\":null,\"@provider\":null,\"@lastModifiedAt\":null},{\"@type\":\"PC-NEWSSTAND-PRESS-BLOCK\",\"blocks\":null,\"materials\":null,\"excludeInPaging\":false,\"positionForPaging\":0,\"realtime\":false,\"pid\":\"241\",\"name\":\"일간스포츠\",\"logoLight\":{\"url\":\"https://s.pstatic.net/static/newsstand/up/2023/0112/nsd92558162.png\"},\"logoDark\":{\"url\":\"https://s.pstatic.net/static/newsstand/2020/logo/dark/0604/241.png\"},\"showThumbnailView\":true,\"showListView\":true,\"regDate\":\"20240228 13:52:57\",\"_id\":null,\"@type\":\"PC-NEWSSTAND-PRESS-BLOCK\",\"@code\":null,\"@template\":\"NONE\",\"@flowId\":null,\"@flowExecutionId\":null,\"@provider\":null,\"@lastModifiedAt\":null},{\"@type\":\"PC-NEWSSTAND-PRESS-BLOCK\",\"blocks\":null,\"materials\":null,\"excludeInPaging\":false,\"positionForPaging\":0,\"realtime\":false,\"pid\":\"363\",\"name\":\"동아사이언스\",\"logoLight\":{\"url\":\"https://s.pstatic.net/static/newsstand/2020/logo/light/0604/363.png\"},\"logoDark\":{\"url\":\"https://s.pstatic.net/static/newsstand/2020/logo/dark/0604/363.png\"},\"showThumbnailView\":true,\"showListView\":true,\"regDate\":\"20240227 16:58:14\",\"_id\":null,\"@type\":\"PC-NEWSSTAND-PRESS-BLOCK\",\"@code\":null,\"@template\":\"NONE\",\"@flowId\":null,\"@flowExecutionId\":null,\"@provider\":null,\"@lastModifiedAt\":null},{\"@type\":\"PC-NEWSSTAND-PRESS-BLOCK\",\"blocks\":null,\"materials\":null,\"excludeInPaging\":false,\"positionForPaging\":0,\"realtime\":false,\"pid\":\"122\",\"name\":\"법률신문\",\"logoLight\":{\"url\":\"https://s.pstatic.net/static/newsstand/up/2022/1103/nsd124326426.png\"},\"logoDark\":{\"url\":\"https://s.pstatic.net/static/newsstand/up/2022/1103/nsd124320554.png\"},\"showThumbnailView\":true,\"showListView\":true,\"regDate\":\"20240228 08:16:56\",\"_id\":null,\"@type\":\"PC-NEWSSTAND-PRESS-BLOCK\",\"@code\":null,\"@template\":\"NONE\",\"@flowId\":null,\"@flowExecutionId\":null,\"@provider\":null,\"@lastModifiedAt\":null},{\"@type\":\"PC-NEWSSTAND-PRESS-BLOCK\",\"blocks\":null,\"materials\":null,\"excludeInPaging\":false,\"positionForPaging\":0,\"realtime\":false,\"pid\":\"243\",\"name\":\"이코노미스트\",\"logoLight\":{\"url\":\"https://s.pstatic.net/static/newsstand/2020/logo/light/0604/243.png\"},\"logoDark\":{\"url\":\"https://s.pstatic.net/static/newsstand/2020/logo/dark/0604/243.png\"},\"showThumbnailView\":true,\"showListView\":true,\"regDate\":\"20240228 12:54:08\",\"_id\":null,\"@type\":\"PC-NEWSSTAND-PRESS-BLOCK\",\"@code\":null,\"@template\":\"NONE\",\"@flowId\":null,\"@flowExecutionId\":null,\"@provider\":null,\"@lastModifiedAt\":null},{\"@type\":\"PC-NEWSSTAND-PRESS-BLOCK\",\"blocks\":null,\"materials\":null,\"excludeInPaging\":false,\"positionForPaging\":0,\"realtime\":false,\"pid\":\"364\",\"name\":\"PC사랑\",\"logoLight\":{\"url\":\"https://s.pstatic.net/static/newsstand/2020/logo/light/0604/364.png\"},\"logoDark\":{\"url\":\"https://s.pstatic.net/static/newsstand/2020/logo/dark/0604/364.png\"},\"showThumbnailView\":true,\"showListView\":true,\"regDate\":\"20240226 10:28:04\",\"_id\":null,\"@type\":\"PC-NEWSSTAND-PRESS-BLOCK\",\"@code\":null,\"@template\":\"NONE\",\"@flowId\":null,\"@flowExecutionId\":null,\"@provider\":null,\"@lastModifiedAt\":null},{\"@type\":\"PC-NEWSSTAND-PRESS-BLOCK\",\"blocks\":null,\"materials\":null,\"excludeInPaging\":false,\"positionForPaging\":0,\"realtime\":false,\"pid\":\"002\",\"name\":\"프레시안\",\"logoLight\":{\"url\":\"https://s.pstatic.net/static/newsstand/2020/logo/light/0604/002.png\"},\"logoDark\":{\"url\":\"https://s.pstatic.net/static/newsstand/2020/logo/dark/0604/002.png\"},\"showThumbnailView\":true,\"showListView\":true,\"regDate\":\"20240228 13:58:52\",\"_id\":null,\"@type\":\"PC-NEWSSTAND-PRESS-BLOCK\",\"@code\":null,\"@template\":\"NONE\",\"@flowId\":null,\"@flowExecutionId\":null,\"@provider\":null,\"@lastModifiedAt\":null},{\"@type\":\"PC-NEWSSTAND-PRESS-BLOCK\",\"blocks\":null,\"materials\":null,\"excludeInPaging\":false,\"positionForPaging\":0,\"realtime\":false,\"pid\":\"123\",\"name\":\"조세일보\",\"logoLight\":{\"url\":\"https://s.pstatic.net/static/newsstand/2020/logo/light/0604/123.png\"},\"logoDark\":{\"url\":\"https://s.pstatic.net/static/newsstand/2020/logo/dark/0604/123.png\"},\"showThumbnailView\":true,\"showListView\":true,\"regDate\":\"20240228 13:39:06\",\"_id\":null,\"@type\":\"PC-NEWSSTAND-PRESS-BLOCK\",\"@code\":null,\"@template\":\"NONE\",\"@flowId\":null,\"@flowExecutionId\":null,\"@provider\":null,\"@lastModifiedAt\":null},{\"@type\":\"PC-NEWSSTAND-PRESS-BLOCK\",\"blocks\":null,\"materials\":null,\"excludeInPaging\":false,\"positionForPaging\":0,\"realtime\":false,\"pid\":\"003\",\"name\":\"뉴시스\",\"logoLight\":{\"url\":\"https://s.pstatic.net/static/newsstand/2020/logo/light/0604/003.png\"},\"logoDark\":{\"url\":\"https://s.pstatic.net/static/newsstand/2020/logo/dark/0604/003.png\"},\"showThumbnailView\":true,\"showListView\":true,\"regDate\":\"20240228 13:41:35\",\"_id\":null,\"@type\":\"PC-NEWSSTAND-PRESS-BLOCK\",\"@code\":null,\"@template\":\"NONE\",\"@flowId\":null,\"@flowExecutionId\":null,\"@provider\":null,\"@lastModifiedAt\":null},{\"@type\":\"PC-NEWSSTAND-PRESS-BLOCK\",\"blocks\":null,\"materials\":null,\"excludeInPaging\":false,\"positionForPaging\":0,\"realtime\":false,\"pid\":\"366\",\"name\":\"조선비즈\",\"logoLight\":{\"url\":\"https://s.pstatic.net/static/newsstand/2020/logo/light/0604/366.png\"},\"logoDark\":{\"url\":\"https://s.pstatic.net/static/newsstand/2020/logo/dark/0604/366.png\"},\"showThumbnailView\":true,\"showListView\":true,\"regDate\":\"20240228 13:35:02\",\"_id\":null,\"@type\":\"PC-NEWSSTAND-PRESS-BLOCK\",\"@code\":null,\"@template\":\"NONE\",\"@flowId\":null,\"@flowExecutionId\":null,\"@provider\":null,\"@lastModifiedAt\":null},{\"@type\":\"PC-NEWSSTAND-PRESS-BLOCK\",\"blocks\":null,\"materials\":null,\"excludeInPaging\":false,\"positionForPaging\":0,\"realtime\":false,\"pid\":\"005\",\"name\":\"국민일보\",\"logoLight\":{\"url\":\"https://s.pstatic.net/static/newsstand/2020/logo/light/0604/005.png\"},\"logoDark\":{\"url\":\"https://s.pstatic.net/static/newsstand/2020/logo/dark/0604/005.png\"},\"showThumbnailView\":true,\"showListView\":true,\"regDate\":\"20240228 13:42:03\",\"_id\":null,\"@type\":\"PC-NEWSSTAND-PRESS-BLOCK\",\"@code\":null,\"@template\":\"NONE\",\"@flowId\":null,\"@flowExecutionId\":null,\"@provider\":null,\"@lastModifiedAt\":null},{\"@type\":\"PC-NEWSSTAND-PRESS-BLOCK\",\"blocks\":null,\"materials\":null,\"excludeInPaging\":false,\"positionForPaging\":0,\"realtime\":false,\"pid\":\"368\",\"name\":\"데일리안\",\"logoLight\":{\"url\":\"https://s.pstatic.net/static/newsstand/2020/logo/light/0604/368.png\"},\"logoDark\":{\"url\":\"https://s.pstatic.net/static/newsstand/2020/logo/dark/0604/368.png\"},\"showThumbnailView\":true,\"showListView\":true,\"regDate\":\"20240228 13:42:46\",\"_id\":null,\"@type\":\"PC-NEWSSTAND-PRESS-BLOCK\",\"@code\":null,\"@template\":\"NONE\",\"@flowId\":null,\"@flowExecutionId\":null,\"@provider\":null,\"@lastModifiedAt\":null},{\"@type\":\"PC-NEWSSTAND-PRESS-BLOCK\",\"blocks\":null,\"materials\":null,\"excludeInPaging\":false,\"positionForPaging\":0,\"realtime\":false,\"pid\":\"006\",\"name\":\"미디어오늘\",\"logoLight\":{\"url\":\"https://s.pstatic.net/static/newsstand/2020/logo/light/0604/006.png\"},\"logoDark\":{\"url\":\"https://s.pstatic.net/static/newsstand/2020/logo/dark/0604/006.png\"},\"showThumbnailView\":true,\"showListView\":true,\"regDate\":\"20240228 14:00:02\",\"_id\":null,\"@type\":\"PC-NEWSSTAND-PRESS-BLOCK\",\"@code\":null,\"@template\":\"NONE\",\"@flowId\":null,\"@flowExecutionId\":null,\"@provider\":null,\"@lastModifiedAt\":null},{\"@type\":\"PC-NEWSSTAND-PRESS-BLOCK\",\"blocks\":null,\"materials\":null,\"excludeInPaging\":false,\"positionForPaging\":0,\"realtime\":false,\"pid\":\"920\",\"name\":\"아시아투데이\",\"logoLight\":{\"url\":\"https://s.pstatic.net/static/newsstand/2020/logo/light/0604/920.png\"},\"logoDark\":{\"url\":\"https://s.pstatic.net/static/newsstand/2020/logo/dark/0604/920.png\"},\"showThumbnailView\":true,\"showListView\":true,\"regDate\":\"20240228 13:49:55\",\"_id\":null,\"@type\":\"PC-NEWSSTAND-PRESS-BLOCK\",\"@code\":null,\"@template\":\"NONE\",\"@flowId\":null,\"@flowExecutionId\":null,\"@provider\":null,\"@lastModifiedAt\":null},{\"@type\":\"PC-NEWSSTAND-PRESS-BLOCK\",\"blocks\":null,\"materials\":null,\"excludeInPaging\":false,\"positionForPaging\":0,\"realtime\":false,\"pid\":\"008\",\"name\":\"머니투데이\",\"logoLight\":{\"url\":\"https://s.pstatic.net/static/newsstand/2020/logo/light/0604/008.png\"},\"logoDark\":{\"url\":\"https://s.pstatic.net/static/newsstand/2020/logo/dark/0604/008.png\"},\"showThumbnailView\":true,\"showListView\":true,\"regDate\":\"20240228 14:00:22\",\"_id\":null,\"@type\":\"PC-NEWSSTAND-PRESS-BLOCK\",\"@code\":null,\"@template\":\"NONE\",\"@flowId\":null,\"@flowExecutionId\":null,\"@provider\":null,\"@lastModifiedAt\":null},{\"@type\":\"PC-NEWSSTAND-PRESS-BLOCK\",\"blocks\":null,\"materials\":null,\"excludeInPaging\":false,\"positionForPaging\":0,\"realtime\":false,\"pid\":\"921\",\"name\":\"아주경제\",\"logoLight\":{\"url\":\"https://s.pstatic.net/static/newsstand/up/2023/0731/nsd13387289.png\"},\"logoDark\":{\"url\":\"https://s.pstatic.net/static/newsstand/up/2023/0731/nsd133759965.png\"},\"showThumbnailView\":true,\"showListView\":true,\"regDate\":\"20240228 13:54:01\",\"_id\":null,\"@type\":\"PC-NEWSSTAND-PRESS-BLOCK\",\"@code\":null,\"@template\":\"NONE\",\"@flowId\":null,\"@flowExecutionId\":null,\"@provider\":null,\"@lastModifiedAt\":null},{\"@type\":\"PC-NEWSSTAND-PRESS-BLOCK\",\"blocks\":null,\"materials\":null,\"excludeInPaging\":false,\"positionForPaging\":0,\"realtime\":false,\"pid\":\"009\",\"name\":\"매일경제\",\"logoLight\":{\"url\":\"https://s.pstatic.net/static/newsstand/2020/logo/light/0604/009.png\"},\"logoDark\":{\"url\":\"https://s.pstatic.net/static/newsstand/2020/logo/dark/0604/009.png\"},\"showThumbnailView\":true,\"showListView\":true,\"regDate\":\"20240228 14:00:56\",\"_id\":null,\"@type\":\"PC-NEWSSTAND-PRESS-BLOCK\",\"@code\":null,\"@template\":\"NONE\",\"@flowId\":null,\"@flowExecutionId\":null,\"@provider\":null,\"@lastModifiedAt\":null},{\"@type\":\"PC-NEWSSTAND-PRESS-BLOCK\",\"blocks\":null,\"materials\":null,\"excludeInPaging\":false,\"positionForPaging\":0,\"realtime\":false,\"pid\":\"801\",\"name\":\"위키리크스한국\",\"logoLight\":{\"url\":\"https://s.pstatic.net/static/newsstand/2020/logo/light/0604/801.png\"},\"logoDark\":{\"url\":\"https://s.pstatic.net/static/newsstand/2020/logo/dark/0604/801.png\"},\"showThumbnailView\":true,\"showListView\":true,\"regDate\":\"20240228 13:50:09\",\"_id\":null,\"@type\":\"PC-NEWSSTAND-PRESS-BLOCK\",\"@code\":null,\"@template\":\"NONE\",\"@flowId\":null,\"@flowExecutionId\":null,\"@provider\":null,\"@lastModifiedAt\":null},{\"@type\":\"PC-NEWSSTAND-PRESS-BLOCK\",\"blocks\":null,\"materials\":null,\"excludeInPaging\":false,\"positionForPaging\":0,\"realtime\":false,\"pid\":\"922\",\"name\":\"이투데이\",\"logoLight\":{\"url\":\"https://s.pstatic.net/static/newsstand/2020/logo/light/0604/922.png\"},\"logoDark\":{\"url\":\"https://s.pstatic.net/static/newsstand/2020/logo/dark/0604/922.png\"},\"showThumbnailView\":true,\"showListView\":true,\"regDate\":\"20240228 13:26:46\",\"_id\":null,\"@type\":\"PC-NEWSSTAND-PRESS-BLOCK\",\"@code\":null,\"@template\":\"NONE\",\"@flowId\":null,\"@flowExecutionId\":null,\"@provider\":null,\"@lastModifiedAt\":null},{\"@type\":\"PC-NEWSSTAND-PRESS-BLOCK\",\"blocks\":null,\"materials\":null,\"excludeInPaging\":false,\"positionForPaging\":0,\"realtime\":false,\"pid\":\"802\",\"name\":\"스포츠Q\",\"logoLight\":{\"url\":\"https://s.pstatic.net/static/newsstand/2020/logo/light/0604/802.png\"},\"logoDark\":{\"url\":\"https://s.pstatic.net/static/newsstand/2020/logo/dark/0604/802.png\"},\"showThumbnailView\":true,\"showListView\":true,\"regDate\":\"20240228 13:50:10\",\"_id\":null,\"@type\":\"PC-NEWSSTAND-PRESS-BLOCK\",\"@code\":null,\"@template\":\"NONE\",\"@flowId\":null,\"@flowExecutionId\":null,\"@provider\":null,\"@lastModifiedAt\":null},{\"@type\":\"PC-NEWSSTAND-PRESS-BLOCK\",\"blocks\":null,\"materials\":null,\"excludeInPaging\":false,\"positionForPaging\":0,\"realtime\":false,\"pid\":\"923\",\"name\":\"인민망\",\"logoLight\":{\"url\":\"https://s.pstatic.net/static/newsstand/2020/logo/light/0604/923.png\"},\"logoDark\":{\"url\":\"https://s.pstatic.net/static/newsstand/2020/logo/dark/0604/923.png\"},\"showThumbnailView\":true,\"showListView\":true,\"regDate\":\"20240228 10:30:00\",\"_id\":null,\"@type\":\"PC-NEWSSTAND-PRESS-BLOCK\",\"@code\":null,\"@template\":\"NONE\",\"@flowId\":null,\"@flowExecutionId\":null,\"@provider\":null,\"@lastModifiedAt\":null},{\"@type\":\"PC-NEWSSTAND-PRESS-BLOCK\",\"blocks\":null,\"materials\":null,\"excludeInPaging\":false,\"positionForPaging\":0,\"realtime\":false,\"pid\":\"803\",\"name\":\"인더스트리뉴스\",\"logoLight\":{\"url\":\"https://s.pstatic.net/static/newsstand/up/2021/0907/nsd9423633.png\"},\"logoDark\":{\"url\":\"https://s.pstatic.net/static/newsstand/up/2021/0907/nsd94216114.png\"},\"showThumbnailView\":true,\"showListView\":true,\"regDate\":\"20240228 13:50:10\",\"_id\":null,\"@type\":\"PC-NEWSSTAND-PRESS-BLOCK\",\"@code\":null,\"@template\":\"NONE\",\"@flowId\":null,\"@flowExecutionId\":null,\"@provider\":null,\"@lastModifiedAt\":null},{\"@type\":\"PC-NEWSSTAND-PRESS-BLOCK\",\"blocks\":null,\"materials\":null,\"excludeInPaging\":false,\"positionForPaging\":0,\"realtime\":false,\"pid\":\"924\",\"name\":\"인벤\",\"logoLight\":{\"url\":\"https://s.pstatic.net/static/newsstand/2020/logo/light/0604/924.png\"},\"logoDark\":{\"url\":\"https://s.pstatic.net/static/newsstand/2020/logo/dark/0604/924.png\"},\"showThumbnailView\":true,\"showListView\":true,\"regDate\":\"20240228 13:24:25\",\"_id\":null,\"@type\":\"PC-NEWSSTAND-PRESS-BLOCK\",\"@code\":null,\"@template\":\"NONE\",\"@flowId\":null,\"@flowExecutionId\":null,\"@provider\":null,\"@lastModifiedAt\":null},{\"@type\":\"PC-NEWSSTAND-PRESS-BLOCK\",\"blocks\":null,\"materials\":null,\"excludeInPaging\":false,\"positionForPaging\":0,\"realtime\":false,\"pid\":\"804\",\"name\":\"데이터뉴스\",\"logoLight\":{\"url\":\"https://s.pstatic.net/static/newsstand/2020/logo/light/0604/804.png\"},\"logoDark\":{\"url\":\"https://s.pstatic.net/static/newsstand/2020/logo/dark/0604/804.png\"},\"showThumbnailView\":true,\"showListView\":true,\"regDate\":\"20240228 13:00:02\",\"_id\":null,\"@type\":\"PC-NEWSSTAND-PRESS-BLOCK\",\"@code\":null,\"@template\":\"NONE\",\"@flowId\":null,\"@flowExecutionId\":null,\"@provider\":null,\"@lastModifiedAt\":null},{\"@type\":\"PC-NEWSSTAND-PRESS-BLOCK\",\"blocks\":null,\"materials\":null,\"excludeInPaging\":false,\"positionForPaging\":0,\"realtime\":false,\"pid\":\"925\",\"name\":\"일요신문\",\"logoLight\":{\"url\":\"https://s.pstatic.net/static/newsstand/2020/logo/light/0604/925.png\"},\"logoDark\":{\"url\":\"https://s.pstatic.net/static/newsstand/2020/logo/dark/0604/925.png\"},\"showThumbnailView\":true,\"showListView\":true,\"regDate\":\"20240228 10:05:55\",\"_id\":null,\"@type\":\"PC-NEWSSTAND-PRESS-BLOCK\",\"@code\":null,\"@template\":\"NONE\",\"@flowId\":null,\"@flowExecutionId\":null,\"@provider\":null,\"@lastModifiedAt\":null},{\"@type\":\"PC-NEWSSTAND-PRESS-BLOCK\",\"blocks\":null,\"materials\":null,\"excludeInPaging\":false,\"positionForPaging\":0,\"realtime\":false,\"pid\":\"805\",\"name\":\"한경잡앤조이\",\"logoLight\":{\"url\":\"https://s.pstatic.net/static/newsstand/up/2020/0615/nsd10319824.png\"},\"logoDark\":{\"url\":\"https://s.pstatic.net/static/newsstand/up/2020/0615/nsd10311145.png\"},\"showThumbnailView\":true,\"showListView\":true,\"regDate\":\"20240228 09:38:40\",\"_id\":null,\"@type\":\"PC-NEWSSTAND-PRESS-BLOCK\",\"@code\":null,\"@template\":\"NONE\",\"@flowId\":null,\"@flowExecutionId\":null,\"@provider\":null,\"@lastModifiedAt\":null},{\"@type\":\"PC-NEWSSTAND-PRESS-BLOCK\",\"blocks\":null,\"materials\":null,\"excludeInPaging\":false,\"positionForPaging\":0,\"realtime\":false,\"pid\":\"926\",\"name\":\"중부일보\",\"logoLight\":{\"url\":\"https://s.pstatic.net/static/newsstand/up/2022/0704/nsd231551300.png\"},\"logoDark\":{\"url\":\"https://s.pstatic.net/static/newsstand/up/2022/0704/nsd231545458.png\"},\"showThumbnailView\":true,\"showListView\":true,\"regDate\":\"20240227 21:51:12\",\"_id\":null,\"@type\":\"PC-NEWSSTAND-PRESS-BLOCK\",\"@code\":null,\"@template\":\"NONE\",\"@flowId\":null,\"@flowExecutionId\":null,\"@provider\":null,\"@lastModifiedAt\":null},{\"@type\":\"PC-NEWSSTAND-PRESS-BLOCK\",\"blocks\":null,\"materials\":null,\"excludeInPaging\":false,\"positionForPaging\":0,\"realtime\":false,\"pid\":\"806\",\"name\":\"머니\",\"logoLight\":{\"url\":\"https://s.pstatic.net/static/newsstand/2020/logo/light/0604/806.png\"},\"logoDark\":{\"url\":\"https://s.pstatic.net/static/newsstand/2020/logo/dark/0604/806.png\"},\"showThumbnailView\":true,\"showListView\":true,\"regDate\":\"20240228 09:36:31\",\"_id\":null,\"@type\":\"PC-NEWSSTAND-PRESS-BLOCK\",\"@code\":null,\"@template\":\"NONE\",\"@flowId\":null,\"@flowExecutionId\":null,\"@provider\":null,\"@lastModifiedAt\":null},{\"@type\":\"PC-NEWSSTAND-PRESS-BLOCK\",\"blocks\":null,\"materials\":null,\"excludeInPaging\":false,\"positionForPaging\":0,\"realtime\":false,\"pid\":\"927\",\"name\":\"충북일보\",\"logoLight\":{\"url\":\"https://s.pstatic.net/static/newsstand/2020/logo/light/0604/927.png\"},\"logoDark\":{\"url\":\"https://s.pstatic.net/static/newsstand/2020/logo/dark/0604/927.png\"},\"showThumbnailView\":true,\"showListView\":true,\"regDate\":\"20240227 21:22:56\",\"_id\":null,\"@type\":\"PC-NEWSSTAND-PRESS-BLOCK\",\"@code\":null,\"@template\":\"NONE\",\"@flowId\":null,\"@flowExecutionId\":null,\"@provider\":null,\"@lastModifiedAt\":null},{\"@type\":\"PC-NEWSSTAND-PRESS-BLOCK\",\"blocks\":null,\"materials\":null,\"excludeInPaging\":false,\"positionForPaging\":0,\"realtime\":false,\"pid\":\"807\",\"name\":\"인사이트코리아\",\"logoLight\":{\"url\":\"https://s.pstatic.net/static/newsstand/2020/logo/light/0604/807.png\"},\"logoDark\":{\"url\":\"https://s.pstatic.net/static/newsstand/2020/logo/dark/0604/807.png\"},\"showThumbnailView\":true,\"showListView\":true,\"regDate\":\"20240228 13:50:12\",\"_id\":null,\"@type\":\"PC-NEWSSTAND-PRESS-BLOCK\",\"@code\":null,\"@template\":\"NONE\",\"@flowId\":null,\"@flowExecutionId\":null,\"@provider\":null,\"@lastModifiedAt\":null},{\"@type\":\"PC-NEWSSTAND-PRESS-BLOCK\",\"blocks\":null,\"materials\":null,\"excludeInPaging\":false,\"positionForPaging\":0,\"realtime\":false,\"pid\":\"928\",\"name\":\"컴퓨터월드\",\"logoLight\":{\"url\":\"https://s.pstatic.net/static/newsstand/2020/logo/light/0604/928.png\"},\"logoDark\":{\"url\":\"https://s.pstatic.net/static/newsstand/2020/logo/dark/0604/928.png\"},\"showThumbnailView\":true,\"showListView\":true,\"regDate\":\"20240131 13:04:38\",\"_id\":null,\"@type\":\"PC-NEWSSTAND-PRESS-BLOCK\",\"@code\":null,\"@template\":\"NONE\",\"@flowId\":null,\"@flowExecutionId\":null,\"@provider\":null,\"@lastModifiedAt\":null},{\"@type\":\"PC-NEWSSTAND-PRESS-BLOCK\",\"blocks\":null,\"materials\":null,\"excludeInPaging\":false,\"positionForPaging\":0,\"realtime\":false,\"pid\":\"808\",\"name\":\"산업일보\",\"logoLight\":{\"url\":\"https://s.pstatic.net/static/newsstand/2020/logo/light/0604/808.png\"},\"logoDark\":{\"url\":\"https://s.pstatic.net/static/newsstand/2020/logo/dark/0604/808.png\"},\"showThumbnailView\":true,\"showListView\":true,\"regDate\":\"20240228 13:54:04\",\"_id\":null,\"@type\":\"PC-NEWSSTAND-PRESS-BLOCK\",\"@code\":null,\"@template\":\"NONE\",\"@flowId\":null,\"@flowExecutionId\":null,\"@provider\":null,\"@lastModifiedAt\":null},{\"@type\":\"PC-NEWSSTAND-PRESS-BLOCK\",\"blocks\":null,\"materials\":null,\"excludeInPaging\":false,\"positionForPaging\":0,\"realtime\":false,\"pid\":\"809\",\"name\":\"미디어펜\",\"logoLight\":{\"url\":\"https://s.pstatic.net/static/newsstand/2020/logo/light/0604/809.png\"},\"logoDark\":{\"url\":\"https://s.pstatic.net/static/newsstand/2020/logo/dark/0604/809.png\"},\"showThumbnailView\":true,\"showListView\":true,\"regDate\":\"20240228 13:51:36\",\"_id\":null,\"@type\":\"PC-NEWSSTAND-PRESS-BLOCK\",\"@code\":null,\"@template\":\"NONE\",\"@flowId\":null,\"@flowExecutionId\":null,\"@provider\":null,\"@lastModifiedAt\":null},{\"@type\":\"PC-NEWSSTAND-PRESS-BLOCK\",\"blocks\":null,\"materials\":null,\"excludeInPaging\":false,\"positionForPaging\":0,\"realtime\":false,\"pid\":\"011\",\"name\":\"서울경제\",\"logoLight\":{\"url\":\"https://s.pstatic.net/static/newsstand/2019/logo/011.png\"},\"logoDark\":{\"url\":\"https://s.pstatic.net/static/newsstand/2020/logo/dark/0604/011.png\"},\"showThumbnailView\":true,\"showListView\":true,\"regDate\":\"20240228 13:40:17\",\"_id\":null,\"@type\":\"PC-NEWSSTAND-PRESS-BLOCK\",\"@code\":null,\"@template\":\"NONE\",\"@flowId\":null,\"@flowExecutionId\":null,\"@provider\":null,\"@lastModifiedAt\":null},{\"@type\":\"PC-NEWSSTAND-PRESS-BLOCK\",\"blocks\":null,\"materials\":null,\"excludeInPaging\":false,\"positionForPaging\":0,\"realtime\":false,\"pid\":\"374\",\"name\":\"SBS Biz\",\"logoLight\":{\"url\":\"https://s.pstatic.net/static/newsstand/up/2020/1229/nsd165811867.png\"},\"logoDark\":{\"url\":\"https://s.pstatic.net/static/newsstand/up/2020/1229/nsd165811867.png\"},\"showThumbnailView\":true,\"showListView\":true,\"regDate\":\"20240228 13:10:57\",\"_id\":null,\"@type\":\"PC-NEWSSTAND-PRESS-BLOCK\",\"@code\":null,\"@template\":\"NONE\",\"@flowId\":null,\"@flowExecutionId\":null,\"@provider\":null,\"@lastModifiedAt\":null},{\"@type\":\"PC-NEWSSTAND-PRESS-BLOCK\",\"blocks\":null,\"materials\":null,\"excludeInPaging\":false,\"positionForPaging\":0,\"realtime\":false,\"pid\":\"013\",\"name\":\"연합인포맥스\",\"logoLight\":{\"url\":\"https://s.pstatic.net/static/newsstand/2020/logo/light/0604/013.png\"},\"logoDark\":{\"url\":\"https://s.pstatic.net/static/newsstand/2020/logo/dark/0604/013.png\"},\"showThumbnailView\":true,\"showListView\":true,\"regDate\":\"20240228 13:50:30\",\"_id\":null,\"@type\":\"PC-NEWSSTAND-PRESS-BLOCK\",\"@code\":null,\"@template\":\"NONE\",\"@flowId\":null,\"@flowExecutionId\":null,\"@provider\":null,\"@lastModifiedAt\":null},{\"@type\":\"PC-NEWSSTAND-PRESS-BLOCK\",\"blocks\":null,\"materials\":null,\"excludeInPaging\":false,\"positionForPaging\":0,\"realtime\":false,\"pid\":\"376\",\"name\":\"지지통신\",\"logoLight\":{\"url\":\"https://s.pstatic.net/static/newsstand/2020/logo/light/0604/376.png\"},\"logoDark\":{\"url\":\"https://s.pstatic.net/static/newsstand/2020/logo/dark/0604/376.png\"},\"showThumbnailView\":true,\"showListView\":true,\"regDate\":\"20240228 13:10:05\",\"_id\":null,\"@type\":\"PC-NEWSSTAND-PRESS-BLOCK\",\"@code\":null,\"@template\":\"NONE\",\"@flowId\":null,\"@flowExecutionId\":null,\"@provider\":null,\"@lastModifiedAt\":null},{\"@type\":\"PC-NEWSSTAND-PRESS-BLOCK\",\"blocks\":null,\"materials\":null,\"excludeInPaging\":false,\"positionForPaging\":0,\"realtime\":false,\"pid\":\"014\",\"name\":\"파이낸셜뉴스\",\"logoLight\":{\"url\":\"https://s.pstatic.net/static/newsstand/2020/logo/light/0604/014.png\"},\"logoDark\":{\"url\":\"https://s.pstatic.net/static/newsstand/2020/logo/dark/0604/014.png\"},\"showThumbnailView\":true,\"showListView\":true,\"regDate\":\"20240228 13:44:26\",\"_id\":null,\"@type\":\"PC-NEWSSTAND-PRESS-BLOCK\",\"@code\":null,\"@template\":\"NONE\",\"@flowId\":null,\"@flowExecutionId\":null,\"@provider\":null,\"@lastModifiedAt\":null},{\"@type\":\"PC-NEWSSTAND-PRESS-BLOCK\",\"blocks\":null,\"materials\":null,\"excludeInPaging\":false,\"positionForPaging\":0,\"realtime\":false,\"pid\":\"135\",\"name\":\"시사저널\",\"logoLight\":{\"url\":\"https://s.pstatic.net/static/newsstand/2020/logo/light/0604/135.png\"},\"logoDark\":{\"url\":\"https://s.pstatic.net/static/newsstand/2020/logo/dark/0604/135.png\"},\"showThumbnailView\":true,\"showListView\":true,\"regDate\":\"20240228 13:50:08\",\"_id\":null,\"@type\":\"PC-NEWSSTAND-PRESS-BLOCK\",\"@code\":null,\"@template\":\"NONE\",\"@flowId\":null,\"@flowExecutionId\":null,\"@provider\":null,\"@lastModifiedAt\":null},{\"@type\":\"PC-NEWSSTAND-PRESS-BLOCK\",\"blocks\":null,\"materials\":null,\"excludeInPaging\":false,\"positionForPaging\":0,\"realtime\":false,\"pid\":\"015\",\"name\":\"한국경제\",\"logoLight\":{\"url\":\"https://s.pstatic.net/static/newsstand/2020/logo/light/0604/015.png\"},\"logoDark\":{\"url\":\"https://s.pstatic.net/static/newsstand/2020/logo/dark/0604/015.png\"},\"showThumbnailView\":true,\"showListView\":true,\"regDate\":\"20240228 13:42:45\",\"_id\":null,\"@type\":\"PC-NEWSSTAND-PRESS-BLOCK\",\"@code\":null,\"@template\":\"NONE\",\"@flowId\":null,\"@flowExecutionId\":null,\"@provider\":null,\"@lastModifiedAt\":null},{\"@type\":\"PC-NEWSSTAND-PRESS-BLOCK\",\"blocks\":null,\"materials\":null,\"excludeInPaging\":false,\"positionForPaging\":0,\"realtime\":false,\"pid\":\"016\",\"name\":\"헤럴드경제\",\"logoLight\":{\"url\":\"https://s.pstatic.net/static/newsstand/2020/logo/light/0604/016.png\"},\"logoDark\":{\"url\":\"https://s.pstatic.net/static/newsstand/2020/logo/dark/0604/016.png\"},\"showThumbnailView\":true,\"showListView\":true,\"regDate\":\"20240228 13:48:42\",\"_id\":null,\"@type\":\"PC-NEWSSTAND-PRESS-BLOCK\",\"@code\":null,\"@template\":\"NONE\",\"@flowId\":null,\"@flowExecutionId\":null,\"@provider\":null,\"@lastModifiedAt\":null},{\"@type\":\"PC-NEWSSTAND-PRESS-BLOCK\",\"blocks\":null,\"materials\":null,\"excludeInPaging\":false,\"positionForPaging\":0,\"realtime\":false,\"pid\":\"138\",\"name\":\"디지털데일리\",\"logoLight\":{\"url\":\"https://s.pstatic.net/static/newsstand/2020/logo/light/0604/138.png\"},\"logoDark\":{\"url\":\"https://s.pstatic.net/static/newsstand/2020/logo/dark/0604/138.png\"},\"showThumbnailView\":true,\"showListView\":true,\"regDate\":\"20240228 13:38:47\",\"_id\":null,\"@type\":\"PC-NEWSSTAND-PRESS-BLOCK\",\"@code\":null,\"@template\":\"NONE\",\"@flowId\":null,\"@flowExecutionId\":null,\"@provider\":null,\"@lastModifiedAt\":null},{\"@type\":\"PC-NEWSSTAND-PRESS-BLOCK\",\"blocks\":null,\"materials\":null,\"excludeInPaging\":false,\"positionForPaging\":0,\"realtime\":false,\"pid\":\"930\",\"name\":\"뉴스타파\",\"logoLight\":{\"url\":\"https://s.pstatic.net/static/newsstand/2020/logo/light/0604/930.png\"},\"logoDark\":{\"url\":\"https://s.pstatic.net/static/newsstand/2020/logo/dark/0604/930.png\"},\"showThumbnailView\":true,\"showListView\":true,\"regDate\":\"20240227 17:50:57\",\"_id\":null,\"@type\":\"PC-NEWSSTAND-PRESS-BLOCK\",\"@code\":null,\"@template\":\"NONE\",\"@flowId\":null,\"@flowExecutionId\":null,\"@provider\":null,\"@lastModifiedAt\":null},{\"@type\":\"PC-NEWSSTAND-PRESS-BLOCK\",\"blocks\":null,\"materials\":null,\"excludeInPaging\":false,\"positionForPaging\":0,\"realtime\":false,\"pid\":\"018\",\"name\":\"이데일리\",\"logoLight\":{\"url\":\"https://s.pstatic.net/static/newsstand/2020/logo/light/0604/018.png\"},\"logoDark\":{\"url\":\"https://s.pstatic.net/static/newsstand/2020/logo/dark/0604/018.png\"},\"showThumbnailView\":true,\"showListView\":true,\"regDate\":\"20240228 13:57:27\",\"_id\":null,\"@type\":\"PC-NEWSSTAND-PRESS-BLOCK\",\"@code\":null,\"@template\":\"NONE\",\"@flowId\":null,\"@flowExecutionId\":null,\"@provider\":null,\"@lastModifiedAt\":null},{\"@type\":\"PC-NEWSSTAND-PRESS-BLOCK\",\"blocks\":null,\"materials\":null,\"excludeInPaging\":false,\"positionForPaging\":0,\"realtime\":false,\"pid\":\"139\",\"name\":\"스포탈코리아\",\"logoLight\":{\"url\":\"https://s.pstatic.net/static/newsstand/2020/logo/light/0604/139.png\"},\"logoDark\":{\"url\":\"https://s.pstatic.net/static/newsstand/2020/logo/dark/0604/139.png\"},\"showThumbnailView\":true,\"showListView\":true,\"regDate\":\"20240227 02:35:48\",\"_id\":null,\"@type\":\"PC-NEWSSTAND-PRESS-BLOCK\",\"@code\":null,\"@template\":\"NONE\",\"@flowId\":null,\"@flowExecutionId\":null,\"@provider\":null,\"@lastModifiedAt\":null},{\"@type\":\"PC-NEWSSTAND-PRESS-BLOCK\",\"blocks\":null,\"materials\":null,\"excludeInPaging\":false,\"positionForPaging\":0,\"realtime\":false,\"pid\":\"810\",\"name\":\"신아일보\",\"logoLight\":{\"url\":\"https://s.pstatic.net/static/newsstand/up/2021/0316/nsd103953129.png\"},\"logoDark\":{\"url\":\"https://s.pstatic.net/static/newsstand/up/2021/0316/nsd104012979.png\"},\"showThumbnailView\":true,\"showListView\":true,\"regDate\":\"20240228 13:50:11\",\"_id\":null,\"@type\":\"PC-NEWSSTAND-PRESS-BLOCK\",\"@code\":null,\"@template\":\"NONE\",\"@flowId\":null,\"@flowExecutionId\":null,\"@provider\":null,\"@lastModifiedAt\":null},{\"@type\":\"PC-NEWSSTAND-PRESS-BLOCK\",\"blocks\":null,\"materials\":null,\"excludeInPaging\":false,\"positionForPaging\":0,\"realtime\":false,\"pid\":\"811\",\"name\":\"한국농어촌방송\",\"logoLight\":{\"url\":\"https://s.pstatic.net/static/newsstand/up/2022/0315/nsd181452869.png\"},\"logoDark\":{\"url\":\"https://s.pstatic.net/static/newsstand/up/2022/0315/nsd18156958.png\"},\"showThumbnailView\":true,\"showListView\":true,\"regDate\":\"20240228 13:50:13\",\"_id\":null,\"@type\":\"PC-NEWSSTAND-PRESS-BLOCK\",\"@code\":null,\"@template\":\"NONE\",\"@flowId\":null,\"@flowExecutionId\":null,\"@provider\":null,\"@lastModifiedAt\":null},{\"@type\":\"PC-NEWSSTAND-PRESS-BLOCK\",\"blocks\":null,\"materials\":null,\"excludeInPaging\":false,\"positionForPaging\":0,\"realtime\":false,\"pid\":\"932\",\"name\":\"CEO스코어데일리\",\"logoLight\":{\"url\":\"https://s.pstatic.net/static/newsstand/2020/logo/light/0604/932.png\"},\"logoDark\":{\"url\":\"https://s.pstatic.net/static/newsstand/2020/logo/dark/0604/932.png\"},\"showThumbnailView\":true,\"showListView\":true,\"regDate\":\"20240228 11:11:06\",\"_id\":null,\"@type\":\"PC-NEWSSTAND-PRESS-BLOCK\",\"@code\":null,\"@template\":\"NONE\",\"@flowId\":null,\"@flowExecutionId\":null,\"@provider\":null,\"@lastModifiedAt\":null},{\"@type\":\"PC-NEWSSTAND-PRESS-BLOCK\",\"blocks\":null,\"materials\":null,\"excludeInPaging\":false,\"positionForPaging\":0,\"realtime\":false,\"pid\":\"812\",\"name\":\"데일리임팩트\",\"logoLight\":{\"url\":\"https://s.pstatic.net/static/newsstand/up/2021/0819/nsd151219656.png\"},\"logoDark\":{\"url\":\"https://s.pstatic.net/static/newsstand/up/2021/0819/nsd151254429.png\"},\"showThumbnailView\":true,\"showListView\":true,\"regDate\":\"20240228 13:50:14\",\"_id\":null,\"@type\":\"PC-NEWSSTAND-PRESS-BLOCK\",\"@code\":null,\"@template\":\"NONE\",\"@flowId\":null,\"@flowExecutionId\":null,\"@provider\":null,\"@lastModifiedAt\":null},{\"@type\":\"PC-NEWSSTAND-PRESS-BLOCK\",\"blocks\":null,\"materials\":null,\"excludeInPaging\":false,\"positionForPaging\":0,\"realtime\":false,\"pid\":\"813\",\"name\":\"이코노믹리뷰\",\"logoLight\":{\"url\":\"https://s.pstatic.net/static/newsstand/up/2022/0418/nsd164755323.png\"},\"logoDark\":{\"url\":\"https://s.pstatic.net/static/newsstand/up/2022/0418/nsd164818946.png\"},\"showThumbnailView\":true,\"showListView\":true,\"regDate\":\"20240228 13:50:15\",\"_id\":null,\"@type\":\"PC-NEWSSTAND-PRESS-BLOCK\",\"@code\":null,\"@template\":\"NONE\",\"@flowId\":null,\"@flowExecutionId\":null,\"@provider\":null,\"@lastModifiedAt\":null},{\"@type\":\"PC-NEWSSTAND-PRESS-BLOCK\",\"blocks\":null,\"materials\":null,\"excludeInPaging\":false,\"positionForPaging\":0,\"realtime\":false,\"pid\":\"934\",\"name\":\"Arirang TV\",\"logoLight\":{\"url\":\"https://s.pstatic.net/static/newsstand/2020/logo/light/0604/934.png\"},\"logoDark\":{\"url\":\"https://s.pstatic.net/static/newsstand/2020/logo/dark/0604/934.png\"},\"showThumbnailView\":true,\"showListView\":true,\"regDate\":\"20240228 10:32:31\",\"_id\":null,\"@type\":\"PC-NEWSSTAND-PRESS-BLOCK\",\"@code\":null,\"@template\":\"NONE\",\"@flowId\":null,\"@flowExecutionId\":null,\"@provider\":null,\"@lastModifiedAt\":null},{\"@type\":\"PC-NEWSSTAND-PRESS-BLOCK\",\"blocks\":null,\"materials\":null,\"excludeInPaging\":false,\"positionForPaging\":0,\"realtime\":false,\"pid\":\"814\",\"name\":\"미주한국일보\",\"logoLight\":{\"url\":\"https://s.pstatic.net/static/newsstand/2020/logo/light/0604/814.png\"},\"logoDark\":{\"url\":\"https://s.pstatic.net/static/newsstand/2020/logo/dark/0604/814.png\"},\"showThumbnailView\":true,\"showListView\":true,\"regDate\":\"20240228 12:14:21\",\"_id\":null,\"@type\":\"PC-NEWSSTAND-PRESS-BLOCK\",\"@code\":null,\"@template\":\"NONE\",\"@flowId\":null,\"@flowExecutionId\":null,\"@provider\":null,\"@lastModifiedAt\":null},{\"@type\":\"PC-NEWSSTAND-PRESS-BLOCK\",\"blocks\":null,\"materials\":null,\"excludeInPaging\":false,\"positionForPaging\":0,\"realtime\":false,\"pid\":\"935\",\"name\":\"경상일보\",\"logoLight\":{\"url\":\"https://s.pstatic.net/static/newsstand/2020/logo/light/0604/935.png\"},\"logoDark\":{\"url\":\"https://s.pstatic.net/static/newsstand/2020/logo/dark/0604/935.png\"},\"showThumbnailView\":true,\"showListView\":true,\"regDate\":\"20240228 00:32:15\",\"_id\":null,\"@type\":\"PC-NEWSSTAND-PRESS-BLOCK\",\"@code\":null,\"@template\":\"NONE\",\"@flowId\":null,\"@flowExecutionId\":null,\"@provider\":null,\"@lastModifiedAt\":null},{\"@type\":\"PC-NEWSSTAND-PRESS-BLOCK\",\"blocks\":null,\"materials\":null,\"excludeInPaging\":false,\"positionForPaging\":0,\"realtime\":false,\"pid\":\"815\",\"name\":\"법률방송뉴스\",\"logoLight\":{\"url\":\"https://s.pstatic.net/static/newsstand/2020/logo/light/0604/815.png\"},\"logoDark\":{\"url\":\"https://s.pstatic.net/static/newsstand/2020/logo/dark/0604/815.png\"},\"showThumbnailView\":true,\"showListView\":true,\"regDate\":\"20240228 13:50:14\",\"_id\":null,\"@type\":\"PC-NEWSSTAND-PRESS-BLOCK\",\"@code\":null,\"@template\":\"NONE\",\"@flowId\":null,\"@flowExecutionId\":null,\"@provider\":null,\"@lastModifiedAt\":null},{\"@type\":\"PC-NEWSSTAND-PRESS-BLOCK\",\"blocks\":null,\"materials\":null,\"excludeInPaging\":false,\"positionForPaging\":0,\"realtime\":false,\"pid\":\"936\",\"name\":\"대구일보\",\"logoLight\":{\"url\":\"https://s.pstatic.net/static/newsstand/2020/logo/light/0604/936.png\"},\"logoDark\":{\"url\":\"https://s.pstatic.net/static/newsstand/2020/logo/dark/0604/936.png\"},\"showThumbnailView\":true,\"showListView\":true,\"regDate\":\"20240227 19:58:13\",\"_id\":null,\"@type\":\"PC-NEWSSTAND-PRESS-BLOCK\",\"@code\":null,\"@template\":\"NONE\",\"@flowId\":null,\"@flowExecutionId\":null,\"@provider\":null,\"@lastModifiedAt\":null},{\"@type\":\"PC-NEWSSTAND-PRESS-BLOCK\",\"blocks\":null,\"materials\":null,\"excludeInPaging\":false,\"positionForPaging\":0,\"realtime\":false,\"pid\":\"816\",\"name\":\"시사오늘\",\"logoLight\":{\"url\":\"https://s.pstatic.net/static/newsstand/2020/logo/light/0604/816.png\"},\"logoDark\":{\"url\":\"https://s.pstatic.net/static/newsstand/2020/logo/dark/0604/816.png\"},\"showThumbnailView\":true,\"showListView\":true,\"regDate\":\"20240228 13:50:15\",\"_id\":null,\"@type\":\"PC-NEWSSTAND-PRESS-BLOCK\",\"@code\":null,\"@template\":\"NONE\",\"@flowId\":null,\"@flowExecutionId\":null,\"@provider\":null,\"@lastModifiedAt\":null},{\"@type\":\"PC-NEWSSTAND-PRESS-BLOCK\",\"blocks\":null,\"materials\":null,\"excludeInPaging\":false,\"positionForPaging\":0,\"realtime\":false,\"pid\":\"937\",\"name\":\"전북도민일보\",\"logoLight\":{\"url\":\"https://s.pstatic.net/static/newsstand/2020/logo/light/0604/937.png\"},\"logoDark\":{\"url\":\"https://s.pstatic.net/static/newsstand/2020/logo/dark/0604/937.png\"},\"showThumbnailView\":true,\"showListView\":true,\"regDate\":\"20240228 11:17:23\",\"_id\":null,\"@type\":\"PC-NEWSSTAND-PRESS-BLOCK\",\"@code\":null,\"@template\":\"NONE\",\"@flowId\":null,\"@flowExecutionId\":null,\"@provider\":null,\"@lastModifiedAt\":null},{\"@type\":\"PC-NEWSSTAND-PRESS-BLOCK\",\"blocks\":null,\"materials\":null,\"excludeInPaging\":false,\"positionForPaging\":0,\"realtime\":false,\"pid\":\"817\",\"name\":\"미디어제주\",\"logoLight\":{\"url\":\"https://s.pstatic.net/static/newsstand/2020/logo/light/0604/817.png\"},\"logoDark\":{\"url\":\"https://s.pstatic.net/static/newsstand/2020/logo/dark/0604/817.png\"},\"showThumbnailView\":true,\"showListView\":true,\"regDate\":\"20240228 13:50:16\",\"_id\":null,\"@type\":\"PC-NEWSSTAND-PRESS-BLOCK\",\"@code\":null,\"@template\":\"NONE\",\"@flowId\":null,\"@flowExecutionId\":null,\"@provider\":null,\"@lastModifiedAt\":null},{\"@type\":\"PC-NEWSSTAND-PRESS-BLOCK\",\"blocks\":null,\"materials\":null,\"excludeInPaging\":false,\"positionForPaging\":0,\"realtime\":false,\"pid\":\"938\",\"name\":\"그린포스트코리아\",\"logoLight\":{\"url\":\"https://s.pstatic.net/static/newsstand/2020/logo/light/0604/938.png\"},\"logoDark\":{\"url\":\"https://s.pstatic.net/static/newsstand/2020/logo/dark/0604/938.png\"},\"showThumbnailView\":true,\"showListView\":true,\"regDate\":\"20240228 13:50:33\",\"_id\":null,\"@type\":\"PC-NEWSSTAND-PRESS-BLOCK\",\"@code\":null,\"@template\":\"NONE\",\"@flowId\":null,\"@flowExecutionId\":null,\"@provider\":null,\"@lastModifiedAt\":null},{\"@type\":\"PC-NEWSSTAND-PRESS-BLOCK\",\"blocks\":null,\"materials\":null,\"excludeInPaging\":false,\"positionForPaging\":0,\"realtime\":false,\"pid\":\"818\",\"name\":\"IT동아\",\"logoLight\":{\"url\":\"https://s.pstatic.net/static/newsstand/2020/logo/light/0604/818.png\"},\"logoDark\":{\"url\":\"https://s.pstatic.net/static/newsstand/2020/logo/dark/0604/818.png\"},\"showThumbnailView\":true,\"showListView\":true,\"regDate\":\"20240228 12:34:09\",\"_id\":null,\"@type\":\"PC-NEWSSTAND-PRESS-BLOCK\",\"@code\":null,\"@template\":\"NONE\",\"@flowId\":null,\"@flowExecutionId\":null,\"@provider\":null,\"@lastModifiedAt\":null},{\"@type\":\"PC-NEWSSTAND-PRESS-BLOCK\",\"blocks\":null,\"materials\":null,\"excludeInPaging\":false,\"positionForPaging\":0,\"realtime\":false,\"pid\":\"819\",\"name\":\"바이라인네트워크\",\"logoLight\":{\"url\":\"https://s.pstatic.net/static/newsstand/2020/logo/light/0604/819.png\"},\"logoDark\":{\"url\":\"https://s.pstatic.net/static/newsstand/2020/logo/dark/0604/819.png\"},\"showThumbnailView\":true,\"showListView\":true,\"regDate\":\"20240228 13:42:44\",\"_id\":null,\"@type\":\"PC-NEWSSTAND-PRESS-BLOCK\",\"@code\":null,\"@template\":\"NONE\",\"@flowId\":null,\"@flowExecutionId\":null,\"@provider\":null,\"@lastModifiedAt\":null},{\"@type\":\"PC-NEWSSTAND-PRESS-BLOCK\",\"blocks\":null,\"materials\":null,\"excludeInPaging\":false,\"positionForPaging\":0,\"realtime\":false,\"pid\":\"140\",\"name\":\"씨네21\",\"logoLight\":{\"url\":\"https://s.pstatic.net/static/newsstand/2020/logo/light/0604/140.png\"},\"logoDark\":{\"url\":\"https://s.pstatic.net/static/newsstand/2020/logo/dark/0604/140.png\"},\"showThumbnailView\":true,\"showListView\":true,\"regDate\":\"20240228 13:00:00\",\"_id\":null,\"@type\":\"PC-NEWSSTAND-PRESS-BLOCK\",\"@code\":null,\"@template\":\"NONE\",\"@flowId\":null,\"@flowExecutionId\":null,\"@provider\":null,\"@lastModifiedAt\":null},{\"@type\":\"PC-NEWSSTAND-PRESS-BLOCK\",\"blocks\":null,\"materials\":null,\"excludeInPaging\":false,\"positionForPaging\":0,\"realtime\":false,\"pid\":\"020\",\"name\":\"동아일보\",\"logoLight\":{\"url\":\"https://s.pstatic.net/static/newsstand/2020/logo/light/0604/020.png\"},\"logoDark\":{\"url\":\"https://s.pstatic.net/static/newsstand/2020/logo/dark/0604/020.png\"},\"showThumbnailView\":true,\"showListView\":true,\"regDate\":\"20240228 13:55:15\",\"_id\":null,\"@type\":\"PC-NEWSSTAND-PRESS-BLOCK\",\"@code\":null,\"@template\":\"NONE\",\"@flowId\":null,\"@flowExecutionId\":null,\"@provider\":null,\"@lastModifiedAt\":null},{\"@type\":\"PC-NEWSSTAND-PRESS-BLOCK\",\"blocks\":null,\"materials\":null,\"excludeInPaging\":false,\"positionForPaging\":0,\"realtime\":false,\"pid\":\"021\",\"name\":\"문화일보\",\"logoLight\":{\"url\":\"https://s.pstatic.net/static/newsstand/2020/logo/light/0604/021.png\"},\"logoDark\":{\"url\":\"https://s.pstatic.net/static/newsstand/2020/logo/dark/0604/021.png\"},\"showThumbnailView\":true,\"showListView\":true,\"regDate\":\"20240228 13:59:36\",\"_id\":null,\"@type\":\"PC-NEWSSTAND-PRESS-BLOCK\",\"@code\":null,\"@template\":\"NONE\",\"@flowId\":null,\"@flowExecutionId\":null,\"@provider\":null,\"@lastModifiedAt\":null},{\"@type\":\"PC-NEWSSTAND-PRESS-BLOCK\",\"blocks\":null,\"materials\":null,\"excludeInPaging\":false,\"positionForPaging\":0,\"realtime\":false,\"pid\":\"384\",\"name\":\"한국대학신문\",\"logoLight\":{\"url\":\"https://s.pstatic.net/static/newsstand/2020/logo/light/0604/384.png\"},\"logoDark\":{\"url\":\"https://s.pstatic.net/static/newsstand/2020/logo/dark/0604/384.png\"},\"showThumbnailView\":true,\"showListView\":true,\"regDate\":\"20240228 13:50:05\",\"_id\":null,\"@type\":\"PC-NEWSSTAND-PRESS-BLOCK\",\"@code\":null,\"@template\":\"NONE\",\"@flowId\":null,\"@flowExecutionId\":null,\"@provider\":null,\"@lastModifiedAt\":null},{\"@type\":\"PC-NEWSSTAND-PRESS-BLOCK\",\"blocks\":null,\"materials\":null,\"excludeInPaging\":false,\"positionForPaging\":0,\"realtime\":false,\"pid\":\"022\",\"name\":\"세계일보\",\"logoLight\":{\"url\":\"https://s.pstatic.net/static/newsstand/2020/logo/light/0604/022.png\"},\"logoDark\":{\"url\":\"https://s.pstatic.net/static/newsstand/2020/logo/dark/0604/022.png\"},\"showThumbnailView\":true,\"showListView\":true,\"regDate\":\"20240228 12:53:40\",\"_id\":null,\"@type\":\"PC-NEWSSTAND-PRESS-BLOCK\",\"@code\":null,\"@template\":\"NONE\",\"@flowId\":null,\"@flowExecutionId\":null,\"@provider\":null,\"@lastModifiedAt\":null},{\"@type\":\"PC-NEWSSTAND-PRESS-BLOCK\",\"blocks\":null,\"materials\":null,\"excludeInPaging\":false,\"positionForPaging\":0,\"realtime\":false,\"pid\":\"143\",\"name\":\"쿠키뉴스\",\"logoLight\":{\"url\":\"https://s.pstatic.net/static/newsstand/up/2022/0823/nsd105911492.png\"},\"logoDark\":{\"url\":\"https://s.pstatic.net/static/newsstand/up/2022/0819/nsd181056744.png\"},\"showThumbnailView\":true,\"showListView\":true,\"regDate\":\"20240228 13:38:26\",\"_id\":null,\"@type\":\"PC-NEWSSTAND-PRESS-BLOCK\",\"@code\":null,\"@template\":\"NONE\",\"@flowId\":null,\"@flowExecutionId\":null,\"@provider\":null,\"@lastModifiedAt\":null},{\"@type\":\"PC-NEWSSTAND-PRESS-BLOCK\",\"blocks\":null,\"materials\":null,\"excludeInPaging\":false,\"positionForPaging\":0,\"realtime\":false,\"pid\":\"385\",\"name\":\"영남일보\",\"logoLight\":{\"url\":\"https://s.pstatic.net/static/newsstand/2020/logo/light/0604/385.png\"},\"logoDark\":{\"url\":\"https://s.pstatic.net/static/newsstand/2020/logo/dark/0604/385.png\"},\"showThumbnailView\":true,\"showListView\":true,\"regDate\":\"20240228 13:50:03\",\"_id\":null,\"@type\":\"PC-NEWSSTAND-PRESS-BLOCK\",\"@code\":null,\"@template\":\"NONE\",\"@flowId\":null,\"@flowExecutionId\":null,\"@provider\":null,\"@lastModifiedAt\":null},{\"@type\":\"PC-NEWSSTAND-PRESS-BLOCK\",\"blocks\":null,\"materials\":null,\"excludeInPaging\":false,\"positionForPaging\":0,\"realtime\":false,\"pid\":\"023\",\"name\":\"조선일보\",\"logoLight\":{\"url\":\"https://s.pstatic.net/static/newsstand/up/2020/0903/nsd185255316.png\"},\"logoDark\":{\"url\":\"https://s.pstatic.net/static/newsstand/up/2020/0903/nsd185246724.png\"},\"showThumbnailView\":true,\"showListView\":true,\"regDate\":\"20240228 13:44:57\",\"_id\":null,\"@type\":\"PC-NEWSSTAND-PRESS-BLOCK\",\"@code\":null,\"@template\":\"NONE\",\"@flowId\":null,\"@flowExecutionId\":null,\"@provider\":null,\"@lastModifiedAt\":null},{\"@type\":\"PC-NEWSSTAND-PRESS-BLOCK\",\"blocks\":null,\"materials\":null,\"excludeInPaging\":false,\"positionForPaging\":0,\"realtime\":false,\"pid\":\"144\",\"name\":\"스포츠경향\",\"logoLight\":{\"url\":\"https://s.pstatic.net/static/newsstand/2020/logo/light/0604/144.png\"},\"logoDark\":{\"url\":\"https://s.pstatic.net/static/newsstand/2020/logo/dark/0604/144.png\"},\"showThumbnailView\":true,\"showListView\":true,\"regDate\":\"20240228 13:38:10\",\"_id\":null,\"@type\":\"PC-NEWSSTAND-PRESS-BLOCK\",\"@code\":null,\"@template\":\"NONE\",\"@flowId\":null,\"@flowExecutionId\":null,\"@provider\":null,\"@lastModifiedAt\":null},{\"@type\":\"PC-NEWSSTAND-PRESS-BLOCK\",\"blocks\":null,\"materials\":null,\"excludeInPaging\":false,\"positionForPaging\":0,\"realtime\":false,\"pid\":\"024\",\"name\":\"매경이코노미\",\"logoLight\":{\"url\":\"https://s.pstatic.net/static/newsstand/2020/logo/light/0604/024.png\"},\"logoDark\":{\"url\":\"https://s.pstatic.net/static/newsstand/2020/logo/dark/0604/024.png\"},\"showThumbnailView\":true,\"showListView\":true,\"regDate\":\"20240228 13:54:01\",\"_id\":null,\"@type\":\"PC-NEWSSTAND-PRESS-BLOCK\",\"@code\":null,\"@template\":\"NONE\",\"@flowId\":null,\"@flowExecutionId\":null,\"@provider\":null,\"@lastModifiedAt\":null},{\"@type\":\"PC-NEWSSTAND-PRESS-BLOCK\",\"blocks\":null,\"materials\":null,\"excludeInPaging\":false,\"positionForPaging\":0,\"realtime\":false,\"pid\":\"387\",\"name\":\"인천일보\",\"logoLight\":{\"url\":\"https://s.pstatic.net/static/newsstand/up/2022/0331/nsd155937506.png\"},\"logoDark\":{\"url\":\"https://s.pstatic.net/static/newsstand/up/2022/0331/nsd15594915.png\"},\"showThumbnailView\":true,\"showListView\":true,\"regDate\":\"20240228 13:50:02\",\"_id\":null,\"@type\":\"PC-NEWSSTAND-PRESS-BLOCK\",\"@code\":null,\"@template\":\"NONE\",\"@flowId\":null,\"@flowExecutionId\":null,\"@provider\":null,\"@lastModifiedAt\":null},{\"@type\":\"PC-NEWSSTAND-PRESS-BLOCK\",\"blocks\":null,\"materials\":null,\"excludeInPaging\":false,\"positionForPaging\":0,\"realtime\":false,\"pid\":\"025\",\"name\":\"중앙일보\",\"logoLight\":{\"url\":\"https://s.pstatic.net/static/newsstand/up/2021/0824/nsd115034872.png\"},\"logoDark\":{\"url\":\"https://s.pstatic.net/static/newsstand/up/2021/0823/nsd101834185.png\"},\"showThumbnailView\":true,\"showListView\":true,\"regDate\":\"20240228 14:04:56\",\"_id\":null,\"@type\":\"PC-NEWSSTAND-PRESS-BLOCK\",\"@code\":null,\"@template\":\"NONE\",\"@flowId\":null,\"@flowExecutionId\":null,\"@provider\":null,\"@lastModifiedAt\":null},{\"@type\":\"PC-NEWSSTAND-PRESS-BLOCK\",\"blocks\":null,\"materials\":null,\"excludeInPaging\":false,\"positionForPaging\":0,\"realtime\":false,\"pid\":\"388\",\"name\":\"전남일보\",\"logoLight\":{\"url\":\"https://s.pstatic.net/static/newsstand/2020/logo/light/0604/388.png\"},\"logoDark\":{\"url\":\"https://s.pstatic.net/static/newsstand/2020/logo/dark/0604/388.png\"},\"showThumbnailView\":true,\"showListView\":true,\"regDate\":\"20240228 13:55:01\",\"_id\":null,\"@type\":\"PC-NEWSSTAND-PRESS-BLOCK\",\"@code\":null,\"@template\":\"NONE\",\"@flowId\":null,\"@flowExecutionId\":null,\"@provider\":null,\"@lastModifiedAt\":null},{\"@type\":\"PC-NEWSSTAND-PRESS-BLOCK\",\"blocks\":null,\"materials\":null,\"excludeInPaging\":false,\"positionForPaging\":0,\"realtime\":false,\"pid\":\"389\",\"name\":\"제주도민일보\",\"logoLight\":{\"url\":\"https://s.pstatic.net/static/newsstand/2020/logo/light/0604/389.png\"},\"logoDark\":{\"url\":\"https://s.pstatic.net/static/newsstand/2020/logo/dark/0604/389.png\"},\"showThumbnailView\":true,\"showListView\":true,\"regDate\":\"20240228 13:50:20\",\"_id\":null,\"@type\":\"PC-NEWSSTAND-PRESS-BLOCK\",\"@code\":null,\"@template\":\"NONE\",\"@flowId\":null,\"@flowExecutionId\":null,\"@provider\":null,\"@lastModifiedAt\":null},{\"@type\":\"PC-NEWSSTAND-PRESS-BLOCK\",\"blocks\":null,\"materials\":null,\"excludeInPaging\":false,\"positionForPaging\":0,\"realtime\":false,\"pid\":\"940\",\"name\":\"스포츠투데이\",\"logoLight\":{\"url\":\"https://s.pstatic.net/static/newsstand/up/2022/0328/nsd223244325.png\"},\"logoDark\":{\"url\":\"https://s.pstatic.net/static/newsstand/up/2022/0328/nsd223257107.png\"},\"showThumbnailView\":true,\"showListView\":true,\"regDate\":\"20240228 13:50:01\",\"_id\":null,\"@type\":\"PC-NEWSSTAND-PRESS-BLOCK\",\"@code\":null,\"@template\":\"NONE\",\"@flowId\":null,\"@flowExecutionId\":null,\"@provider\":null,\"@lastModifiedAt\":null},{\"@type\":\"PC-NEWSSTAND-PRESS-BLOCK\",\"blocks\":null,\"materials\":null,\"excludeInPaging\":false,\"positionForPaging\":0,\"realtime\":false,\"pid\":\"028\",\"name\":\"한겨레\",\"logoLight\":{\"url\":\"https://s.pstatic.net/static/newsstand/up/2024/0219/nsd145828169.png\"},\"logoDark\":{\"url\":\"https://s.pstatic.net/static/newsstand/up/2024/0219/nsd14592425.png\"},\"showThumbnailView\":true,\"showListView\":true,\"regDate\":\"20240228 14:00:08\",\"_id\":null,\"@type\":\"PC-NEWSSTAND-PRESS-BLOCK\",\"@code\":null,\"@template\":\"NONE\",\"@flowId\":null,\"@flowExecutionId\":null,\"@provider\":null,\"@lastModifiedAt\":null},{\"@type\":\"PC-NEWSSTAND-PRESS-BLOCK\",\"blocks\":null,\"materials\":null,\"excludeInPaging\":false,\"positionForPaging\":0,\"realtime\":false,\"pid\":\"820\",\"name\":\"월간노동법률\",\"logoLight\":{\"url\":\"https://s.pstatic.net/static/newsstand/up/2022/0817/nsd14480190.png\"},\"logoDark\":{\"url\":\"https://s.pstatic.net/static/newsstand/up/2022/0817/nsd144754102.png\"},\"showThumbnailView\":true,\"showListView\":true,\"regDate\":\"20240227 23:51:36\",\"_id\":null,\"@type\":\"PC-NEWSSTAND-PRESS-BLOCK\",\"@code\":null,\"@template\":\"NONE\",\"@flowId\":null,\"@flowExecutionId\":null,\"@provider\":null,\"@lastModifiedAt\":null},{\"@type\":\"PC-NEWSSTAND-PRESS-BLOCK\",\"blocks\":null,\"materials\":null,\"excludeInPaging\":false,\"positionForPaging\":0,\"realtime\":false,\"pid\":\"941\",\"name\":\"초이스경제\",\"logoLight\":{\"url\":\"https://s.pstatic.net/static/newsstand/2020/logo/light/0604/941.png\"},\"logoDark\":{\"url\":\"https://s.pstatic.net/static/newsstand/2020/logo/dark/0604/941.png\"},\"showThumbnailView\":true,\"showListView\":true,\"regDate\":\"20240228 13:25:01\",\"_id\":null,\"@type\":\"PC-NEWSSTAND-PRESS-BLOCK\",\"@code\":null,\"@template\":\"NONE\",\"@flowId\":null,\"@flowExecutionId\":null,\"@provider\":null,\"@lastModifiedAt\":null},{\"@type\":\"PC-NEWSSTAND-PRESS-BLOCK\",\"blocks\":null,\"materials\":null,\"excludeInPaging\":false,\"positionForPaging\":0,\"realtime\":false,\"pid\":\"029\",\"name\":\"디지털타임스\",\"logoLight\":{\"url\":\"https://s.pstatic.net/static/newsstand/2020/logo/light/0604/029.png\"},\"logoDark\":{\"url\":\"https://s.pstatic.net/static/newsstand/2020/logo/dark/0604/029.png\"},\"showThumbnailView\":true,\"showListView\":true,\"regDate\":\"20240228 13:36:39\",\"_id\":null,\"@type\":\"PC-NEWSSTAND-PRESS-BLOCK\",\"@code\":null,\"@template\":\"NONE\",\"@flowId\":null,\"@flowExecutionId\":null,\"@provider\":null,\"@lastModifiedAt\":null},{\"@type\":\"PC-NEWSSTAND-PRESS-BLOCK\",\"blocks\":null,\"materials\":null,\"excludeInPaging\":false,\"positionForPaging\":0,\"realtime\":false,\"pid\":\"821\",\"name\":\"경남도민일보\",\"logoLight\":{\"url\":\"https://s.pstatic.net/static/newsstand/2020/logo/light/0604/821.png\"},\"logoDark\":{\"url\":\"https://s.pstatic.net/static/newsstand/2020/logo/dark/0604/821.png\"},\"showThumbnailView\":true,\"showListView\":true,\"regDate\":\"20240228 13:50:17\",\"_id\":null,\"@type\":\"PC-NEWSSTAND-PRESS-BLOCK\",\"@code\":null,\"@template\":\"NONE\",\"@flowId\":null,\"@flowExecutionId\":null,\"@provider\":null,\"@lastModifiedAt\":null},{\"@type\":\"PC-NEWSSTAND-PRESS-BLOCK\",\"blocks\":null,\"materials\":null,\"excludeInPaging\":false,\"positionForPaging\":0,\"realtime\":false,\"pid\":\"942\",\"name\":\"비즈니스포스트\",\"logoLight\":{\"url\":\"https://s.pstatic.net/static/newsstand/2020/logo/light/0604/942.png\"},\"logoDark\":{\"url\":\"https://s.pstatic.net/static/newsstand/2020/logo/dark/0604/942.png\"},\"showThumbnailView\":true,\"showListView\":true,\"regDate\":\"20240228 09:04:09\",\"_id\":null,\"@type\":\"PC-NEWSSTAND-PRESS-BLOCK\",\"@code\":null,\"@template\":\"NONE\",\"@flowId\":null,\"@flowExecutionId\":null,\"@provider\":null,\"@lastModifiedAt\":null},{\"@type\":\"PC-NEWSSTAND-PRESS-BLOCK\",\"blocks\":null,\"materials\":null,\"excludeInPaging\":false,\"positionForPaging\":0,\"realtime\":false,\"pid\":\"822\",\"name\":\"프라임경제\",\"logoLight\":{\"url\":\"https://s.pstatic.net/static/newsstand/up/2020/0730/nsd13728808.png\"},\"logoDark\":{\"url\":\"https://s.pstatic.net/static/newsstand/up/2020/0730/nsd13719939.png\"},\"showThumbnailView\":true,\"showListView\":true,\"regDate\":\"20240228 13:45:05\",\"_id\":null,\"@type\":\"PC-NEWSSTAND-PRESS-BLOCK\",\"@code\":null,\"@template\":\"NONE\",\"@flowId\":null,\"@flowExecutionId\":null,\"@provider\":null,\"@lastModifiedAt\":null},{\"@type\":\"PC-NEWSSTAND-PRESS-BLOCK\",\"blocks\":null,\"materials\":null,\"excludeInPaging\":false,\"positionForPaging\":0,\"realtime\":false,\"pid\":\"943\",\"name\":\"비즈워치\",\"logoLight\":{\"url\":\"https://s.pstatic.net/static/newsstand/up/2023/0213/nsd17943530.png\"},\"logoDark\":{\"url\":\"https://s.pstatic.net/static/newsstand/up/2023/0213/nsd17100999.png\"},\"showThumbnailView\":true,\"showListView\":true,\"regDate\":\"20240228 13:38:49\",\"_id\":null,\"@type\":\"PC-NEWSSTAND-PRESS-BLOCK\",\"@code\":null,\"@template\":\"NONE\",\"@flowId\":null,\"@flowExecutionId\":null,\"@provider\":null,\"@lastModifiedAt\":null},{\"@type\":\"PC-NEWSSTAND-PRESS-BLOCK\",\"blocks\":null,\"materials\":null,\"excludeInPaging\":false,\"positionForPaging\":0,\"realtime\":false,\"pid\":\"823\",\"name\":\"UPI뉴스\",\"logoLight\":{\"url\":\"https://s.pstatic.net/static/newsstand/2020/logo/light/0604/823.png\"},\"logoDark\":{\"url\":\"https://s.pstatic.net/static/newsstand/2020/logo/dark/0604/823.png\"},\"showThumbnailView\":true,\"showListView\":true,\"regDate\":\"20240228 10:45:26\",\"_id\":null,\"@type\":\"PC-NEWSSTAND-PRESS-BLOCK\",\"@code\":null,\"@template\":\"NONE\",\"@flowId\":null,\"@flowExecutionId\":null,\"@provider\":null,\"@lastModifiedAt\":null},{\"@type\":\"PC-NEWSSTAND-PRESS-BLOCK\",\"blocks\":null,\"materials\":null,\"excludeInPaging\":false,\"positionForPaging\":0,\"realtime\":false,\"pid\":\"944\",\"name\":\"나우뉴스\",\"logoLight\":{\"url\":\"https://s.pstatic.net/static/newsstand/up/2022/0804/nsd1343054.png\"},\"logoDark\":{\"url\":\"https://s.pstatic.net/static/newsstand/up/2022/0804/nsd13457540.png\"},\"showThumbnailView\":true,\"showListView\":true,\"regDate\":\"20240227 17:36:23\",\"_id\":null,\"@type\":\"PC-NEWSSTAND-PRESS-BLOCK\",\"@code\":null,\"@template\":\"NONE\",\"@flowId\":null,\"@flowExecutionId\":null,\"@provider\":null,\"@lastModifiedAt\":null},{\"@type\":\"PC-NEWSSTAND-PRESS-BLOCK\",\"blocks\":null,\"materials\":null,\"excludeInPaging\":false,\"positionForPaging\":0,\"realtime\":false,\"pid\":\"824\",\"name\":\"서울파이낸스\",\"logoLight\":{\"url\":\"https://s.pstatic.net/static/newsstand/2020/logo/light/0604/824.png\"},\"logoDark\":{\"url\":\"https://s.pstatic.net/static/newsstand/2020/logo/dark/0604/824.png\"},\"showThumbnailView\":true,\"showListView\":true,\"regDate\":\"20240228 13:50:17\",\"_id\":null,\"@type\":\"PC-NEWSSTAND-PRESS-BLOCK\",\"@code\":null,\"@template\":\"NONE\",\"@flowId\":null,\"@flowExecutionId\":null,\"@provider\":null,\"@lastModifiedAt\":null},{\"@type\":\"PC-NEWSSTAND-PRESS-BLOCK\",\"blocks\":null,\"materials\":null,\"excludeInPaging\":false,\"positionForPaging\":0,\"realtime\":false,\"pid\":\"945\",\"name\":\"YTN사이언스\",\"logoLight\":{\"url\":\"https://s.pstatic.net/static/newsstand/up/2020/0922/nsd152336602.png\"},\"logoDark\":{\"url\":\"https://s.pstatic.net/static/newsstand/up/2020/0922/nsd152323211.png\"},\"showThumbnailView\":true,\"showListView\":true,\"regDate\":\"20240228 14:00:00\",\"_id\":null,\"@type\":\"PC-NEWSSTAND-PRESS-BLOCK\",\"@code\":null,\"@template\":\"NONE\",\"@flowId\":null,\"@flowExecutionId\":null,\"@provider\":null,\"@lastModifiedAt\":null},{\"@type\":\"PC-NEWSSTAND-PRESS-BLOCK\",\"blocks\":null,\"materials\":null,\"excludeInPaging\":false,\"positionForPaging\":0,\"realtime\":false,\"pid\":\"825\",\"name\":\"이로운넷\",\"logoLight\":{\"url\":\"https://s.pstatic.net/static/newsstand/2020/logo/light/0604/825.png\"},\"logoDark\":{\"url\":\"https://s.pstatic.net/static/newsstand/2020/logo/dark/0604/825.png\"},\"showThumbnailView\":true,\"showListView\":true,\"regDate\":\"20240228 13:50:18\",\"_id\":null,\"@type\":\"PC-NEWSSTAND-PRESS-BLOCK\",\"@code\":null,\"@template\":\"NONE\",\"@flowId\":null,\"@flowExecutionId\":null,\"@provider\":null,\"@lastModifiedAt\":null},{\"@type\":\"PC-NEWSSTAND-PRESS-BLOCK\",\"blocks\":null,\"materials\":null,\"excludeInPaging\":false,\"positionForPaging\":0,\"realtime\":false,\"pid\":\"946\",\"name\":\"YONHAPNEWS\",\"logoLight\":{\"url\":\"https://s.pstatic.net/static/newsstand/2020/logo/light/0604/946.png\"},\"logoDark\":{\"url\":\"https://s.pstatic.net/static/newsstand/2020/logo/dark/0604/946.png\"},\"showThumbnailView\":true,\"showListView\":true,\"regDate\":\"20240228 13:41:45\",\"_id\":null,\"@type\":\"PC-NEWSSTAND-PRESS-BLOCK\",\"@code\":null,\"@template\":\"NONE\",\"@flowId\":null,\"@flowExecutionId\":null,\"@provider\":null,\"@lastModifiedAt\":null},{\"@type\":\"PC-NEWSSTAND-PRESS-BLOCK\",\"blocks\":null,\"materials\":null,\"excludeInPaging\":false,\"positionForPaging\":0,\"realtime\":false,\"pid\":\"826\",\"name\":\"톱데일리\",\"logoLight\":{\"url\":\"https://s.pstatic.net/static/newsstand/up/2022/0817/nsd14491516.png\"},\"logoDark\":{\"url\":\"https://s.pstatic.net/static/newsstand/up/2022/0817/nsd14499446.png\"},\"showThumbnailView\":true,\"showListView\":true,\"regDate\":\"20240228 13:50:11\",\"_id\":null,\"@type\":\"PC-NEWSSTAND-PRESS-BLOCK\",\"@code\":null,\"@template\":\"NONE\",\"@flowId\":null,\"@flowExecutionId\":null,\"@provider\":null,\"@lastModifiedAt\":null},{\"@type\":\"PC-NEWSSTAND-PRESS-BLOCK\",\"blocks\":null,\"materials\":null,\"excludeInPaging\":false,\"positionForPaging\":0,\"realtime\":false,\"pid\":\"947\",\"name\":\"조이뉴스24\",\"logoLight\":{\"url\":\"https://s.pstatic.net/static/newsstand/2020/logo/light/0604/947.png\"},\"logoDark\":{\"url\":\"https://s.pstatic.net/static/newsstand/2020/logo/dark/0604/947.png\"},\"showThumbnailView\":true,\"showListView\":true,\"regDate\":\"20240228 12:05:40\",\"_id\":null,\"@type\":\"PC-NEWSSTAND-PRESS-BLOCK\",\"@code\":null,\"@template\":\"NONE\",\"@flowId\":null,\"@flowExecutionId\":null,\"@provider\":null,\"@lastModifiedAt\":null},{\"@type\":\"PC-NEWSSTAND-PRESS-BLOCK\",\"blocks\":null,\"materials\":null,\"excludeInPaging\":false,\"positionForPaging\":0,\"realtime\":false,\"pid\":\"827\",\"name\":\"베이비뉴스\",\"logoLight\":{\"url\":\"https://s.pstatic.net/static/newsstand/up/2021/0222/nsd13325188.png\"},\"logoDark\":{\"url\":\"https://s.pstatic.net/static/newsstand/up/2021/0222/nsd13338358.png\"},\"showThumbnailView\":true,\"showListView\":true,\"regDate\":\"20240228 13:50:21\",\"_id\":null,\"@type\":\"PC-NEWSSTAND-PRESS-BLOCK\",\"@code\":null,\"@template\":\"NONE\",\"@flowId\":null,\"@flowExecutionId\":null,\"@provider\":null,\"@lastModifiedAt\":null},{\"@type\":\"PC-NEWSSTAND-PRESS-BLOCK\",\"blocks\":null,\"materials\":null,\"excludeInPaging\":false,\"positionForPaging\":0,\"realtime\":false,\"pid\":\"948\",\"name\":\"한겨레21\",\"logoLight\":{\"url\":\"https://s.pstatic.net/static/newsstand/2020/logo/light/0604/948.png\"},\"logoDark\":{\"url\":\"https://s.pstatic.net/static/newsstand/2020/logo/dark/0604/948.png\"},\"showThumbnailView\":true,\"showListView\":true,\"regDate\":\"20240228 12:24:19\",\"_id\":null,\"@type\":\"PC-NEWSSTAND-PRESS-BLOCK\",\"@code\":null,\"@template\":\"NONE\",\"@flowId\":null,\"@flowExecutionId\":null,\"@provider\":null,\"@lastModifiedAt\":null},{\"@type\":\"PC-NEWSSTAND-PRESS-BLOCK\",\"blocks\":null,\"materials\":null,\"excludeInPaging\":false,\"positionForPaging\":0,\"realtime\":false,\"pid\":\"828\",\"name\":\"식품저널 foodnews\",\"logoLight\":{\"url\":\"https://s.pstatic.net/static/newsstand/up/2021/0211/nsd0427277.png\"},\"logoDark\":{\"url\":\"https://s.pstatic.net/static/newsstand/up/2021/0211/nsd0439284.png\"},\"showThumbnailView\":true,\"showListView\":true,\"regDate\":\"20240228 13:50:20\",\"_id\":null,\"@type\":\"PC-NEWSSTAND-PRESS-BLOCK\",\"@code\":null,\"@template\":\"NONE\",\"@flowId\":null,\"@flowExecutionId\":null,\"@provider\":null,\"@lastModifiedAt\":null},{\"@type\":\"PC-NEWSSTAND-PRESS-BLOCK\",\"blocks\":null,\"materials\":null,\"excludeInPaging\":false,\"positionForPaging\":0,\"realtime\":false,\"pid\":\"829\",\"name\":\"미디어스\",\"logoLight\":{\"url\":\"https://s.pstatic.net/static/newsstand/up/2021/0211/nsd01153196.png\"},\"logoDark\":{\"url\":\"https://s.pstatic.net/static/newsstand/up/2021/0211/nsd01153196.png\"},\"showThumbnailView\":true,\"showListView\":true,\"regDate\":\"20240228 13:50:28\",\"_id\":null,\"@type\":\"PC-NEWSSTAND-PRESS-BLOCK\",\"@code\":null,\"@template\":\"NONE\",\"@flowId\":null,\"@flowExecutionId\":null,\"@provider\":null,\"@lastModifiedAt\":null},{\"@type\":\"PC-NEWSSTAND-PRESS-BLOCK\",\"blocks\":null,\"materials\":null,\"excludeInPaging\":false,\"positionForPaging\":0,\"realtime\":false,\"pid\":\"391\",\"name\":\"충청일보\",\"logoLight\":{\"url\":\"https://s.pstatic.net/static/newsstand/2020/logo/light/0604/391.png\"},\"logoDark\":{\"url\":\"https://s.pstatic.net/static/newsstand/2020/logo/dark/0604/391.png\"},\"showThumbnailView\":true,\"showListView\":true,\"regDate\":\"20240227 21:02:33\",\"_id\":null,\"@type\":\"PC-NEWSSTAND-PRESS-BLOCK\",\"@code\":null,\"@template\":\"NONE\",\"@flowId\":null,\"@flowExecutionId\":null,\"@provider\":null,\"@lastModifiedAt\":null},{\"@type\":\"PC-NEWSSTAND-PRESS-BLOCK\",\"blocks\":null,\"materials\":null,\"excludeInPaging\":false,\"positionForPaging\":0,\"realtime\":false,\"pid\":\"030\",\"name\":\"전자신문\",\"logoLight\":{\"url\":\"https://s.pstatic.net/static/newsstand/2020/logo/light/0604/030.png\"},\"logoDark\":{\"url\":\"https://s.pstatic.net/static/newsstand/2020/logo/dark/0604/030.png\"},\"showThumbnailView\":true,\"showListView\":true,\"regDate\":\"20240228 14:00:18\",\"_id\":null,\"@type\":\"PC-NEWSSTAND-PRESS-BLOCK\",\"@code\":null,\"@template\":\"NONE\",\"@flowId\":null,\"@flowExecutionId\":null,\"@provider\":null,\"@lastModifiedAt\":null},{\"@type\":\"PC-NEWSSTAND-PRESS-BLOCK\",\"blocks\":null,\"materials\":null,\"excludeInPaging\":false,\"positionForPaging\":0,\"realtime\":false,\"pid\":\"031\",\"name\":\"아이뉴스24\",\"logoLight\":{\"url\":\"https://s.pstatic.net/static/newsstand/2020/logo/light/0604/031.png\"},\"logoDark\":{\"url\":\"https://s.pstatic.net/static/newsstand/2020/logo/dark/0604/031.png\"},\"showThumbnailView\":true,\"showListView\":true,\"regDate\":\"20240228 14:00:58\",\"_id\":null,\"@type\":\"PC-NEWSSTAND-PRESS-BLOCK\",\"@code\":null,\"@template\":\"NONE\",\"@flowId\":null,\"@flowExecutionId\":null,\"@provider\":null,\"@lastModifiedAt\":null},{\"@type\":\"PC-NEWSSTAND-PRESS-BLOCK\",\"blocks\":null,\"materials\":null,\"excludeInPaging\":false,\"positionForPaging\":0,\"realtime\":false,\"pid\":\"032\",\"name\":\"경향신문\",\"logoLight\":{\"url\":\"https://s.pstatic.net/static/newsstand/2020/logo/light/0604/032.png\"},\"logoDark\":{\"url\":\"https://s.pstatic.net/static/newsstand/2020/logo/dark/0604/032.png\"},\"showThumbnailView\":true,\"showListView\":true,\"regDate\":\"20240228 13:55:13\",\"_id\":null,\"@type\":\"PC-NEWSSTAND-PRESS-BLOCK\",\"@code\":null,\"@template\":\"NONE\",\"@flowId\":null,\"@flowExecutionId\":null,\"@provider\":null,\"@lastModifiedAt\":null},{\"@type\":\"PC-NEWSSTAND-PRESS-BLOCK\",\"blocks\":null,\"materials\":null,\"excludeInPaging\":false,\"positionForPaging\":0,\"realtime\":false,\"pid\":\"396\",\"name\":\"스포츠월드\",\"logoLight\":{\"url\":\"https://s.pstatic.net/static/newsstand/2020/logo/light/0604/396.png\"},\"logoDark\":{\"url\":\"https://s.pstatic.net/static/newsstand/2020/logo/dark/0604/396.png\"},\"showThumbnailView\":true,\"showListView\":true,\"regDate\":\"20240228 13:14:31\",\"_id\":null,\"@type\":\"PC-NEWSSTAND-PRESS-BLOCK\",\"@code\":null,\"@template\":\"NONE\",\"@flowId\":null,\"@flowExecutionId\":null,\"@provider\":null,\"@lastModifiedAt\":null},{\"@type\":\"PC-NEWSSTAND-PRESS-BLOCK\",\"blocks\":null,\"materials\":null,\"excludeInPaging\":false,\"positionForPaging\":0,\"realtime\":false,\"pid\":\"277\",\"name\":\"아시아경제\",\"logoLight\":{\"url\":\"https://s.pstatic.net/static/newsstand/2020/logo/light/0604/277.png\"},\"logoDark\":{\"url\":\"https://s.pstatic.net/static/newsstand/2020/logo/dark/0604/277.png\"},\"showThumbnailView\":true,\"showListView\":true,\"regDate\":\"20240228 13:58:36\",\"_id\":null,\"@type\":\"PC-NEWSSTAND-PRESS-BLOCK\",\"@code\":null,\"@template\":\"NONE\",\"@flowId\":null,\"@flowExecutionId\":null,\"@provider\":null,\"@lastModifiedAt\":null},{\"@type\":\"PC-NEWSSTAND-PRESS-BLOCK\",\"blocks\":null,\"materials\":null,\"excludeInPaging\":false,\"positionForPaging\":0,\"realtime\":false,\"pid\":\"950\",\"name\":\"월간중앙\",\"logoLight\":{\"url\":\"https://s.pstatic.net/static/newsstand/2020/logo/light/0604/950.png\"},\"logoDark\":{\"url\":\"https://s.pstatic.net/static/newsstand/2020/logo/dark/0604/950.png\"},\"showThumbnailView\":true,\"showListView\":true,\"regDate\":\"20240228 13:00:00\",\"_id\":null,\"@type\":\"PC-NEWSSTAND-PRESS-BLOCK\",\"@code\":null,\"@template\":\"NONE\",\"@flowId\":null,\"@flowExecutionId\":null,\"@provider\":null,\"@lastModifiedAt\":null},{\"@type\":\"PC-NEWSSTAND-PRESS-BLOCK\",\"blocks\":null,\"materials\":null,\"excludeInPaging\":false,\"positionForPaging\":0,\"realtime\":false,\"pid\":\"038\",\"name\":\"한국일보\",\"logoLight\":{\"url\":\"https://s.pstatic.net/static/newsstand/2020/logo/light/0604/038.png\"},\"logoDark\":{\"url\":\"https://s.pstatic.net/static/newsstand/2020/logo/dark/0604/038.png\"},\"showThumbnailView\":true,\"showListView\":true,\"regDate\":\"20240228 14:02:38\",\"_id\":null,\"@type\":\"PC-NEWSSTAND-PRESS-BLOCK\",\"@code\":null,\"@template\":\"NONE\",\"@flowId\":null,\"@flowExecutionId\":null,\"@provider\":null,\"@lastModifiedAt\":null},{\"@type\":\"PC-NEWSSTAND-PRESS-BLOCK\",\"blocks\":null,\"materials\":null,\"excludeInPaging\":false,\"positionForPaging\":0,\"realtime\":false,\"pid\":\"830\",\"name\":\"게임동아\",\"logoLight\":{\"url\":\"https://s.pstatic.net/static/newsstand/up/2021/0211/nsd02321523.png\"},\"logoDark\":{\"url\":\"https://s.pstatic.net/static/newsstand/up/2021/0211/nsd02332888.png\"},\"showThumbnailView\":true,\"showListView\":true,\"regDate\":\"20240228 13:35:38\",\"_id\":null,\"@type\":\"PC-NEWSSTAND-PRESS-BLOCK\",\"@code\":null,\"@template\":\"NONE\",\"@flowId\":null,\"@flowExecutionId\":null,\"@provider\":null,\"@lastModifiedAt\":null},{\"@type\":\"PC-NEWSSTAND-PRESS-BLOCK\",\"blocks\":null,\"materials\":null,\"excludeInPaging\":false,\"positionForPaging\":0,\"realtime\":false,\"pid\":\"951\",\"name\":\"포브스코리아\",\"logoLight\":{\"url\":\"https://s.pstatic.net/static/newsstand/2020/logo/light/0604/951.png\"},\"logoDark\":{\"url\":\"https://s.pstatic.net/static/newsstand/2020/logo/dark/0604/951.png\"},\"showThumbnailView\":true,\"showListView\":true,\"regDate\":\"20240228 13:00:00\",\"_id\":null,\"@type\":\"PC-NEWSSTAND-PRESS-BLOCK\",\"@code\":null,\"@template\":\"NONE\",\"@flowId\":null,\"@flowExecutionId\":null,\"@provider\":null,\"@lastModifiedAt\":null},{\"@type\":\"PC-NEWSSTAND-PRESS-BLOCK\",\"blocks\":null,\"materials\":null,\"excludeInPaging\":false,\"positionForPaging\":0,\"realtime\":false,\"pid\":\"952\",\"name\":\"보안뉴스\",\"logoLight\":{\"url\":\"https://s.pstatic.net/static/newsstand/2020/logo/light/0604/952.png\"},\"logoDark\":{\"url\":\"https://s.pstatic.net/static/newsstand/2020/logo/dark/0604/952.png\"},\"showThumbnailView\":true,\"showListView\":true,\"regDate\":\"20240228 09:52:00\",\"_id\":null,\"@type\":\"PC-NEWSSTAND-PRESS-BLOCK\",\"@code\":null,\"@template\":\"NONE\",\"@flowId\":null,\"@flowExecutionId\":null,\"@provider\":null,\"@lastModifiedAt\":null},{\"@type\":\"PC-NEWSSTAND-PRESS-BLOCK\",\"blocks\":null,\"materials\":null,\"excludeInPaging\":false,\"positionForPaging\":0,\"realtime\":false,\"pid\":\"953\",\"name\":\"디지털투데이\",\"logoLight\":{\"url\":\"https://s.pstatic.net/static/newsstand/2020/logo/light/0604/953.png\"},\"logoDark\":{\"url\":\"https://s.pstatic.net/static/newsstand/2020/logo/dark/0604/953.png\"},\"showThumbnailView\":true,\"showListView\":true,\"regDate\":\"20240228 13:00:03\",\"_id\":null,\"@type\":\"PC-NEWSSTAND-PRESS-BLOCK\",\"@code\":null,\"@template\":\"NONE\",\"@flowId\":null,\"@flowExecutionId\":null,\"@provider\":null,\"@lastModifiedAt\":null},{\"@type\":\"PC-NEWSSTAND-PRESS-BLOCK\",\"blocks\":null,\"materials\":null,\"excludeInPaging\":false,\"positionForPaging\":0,\"realtime\":false,\"pid\":\"954\",\"name\":\"CNB뉴스\",\"logoLight\":{\"url\":\"https://s.pstatic.net/static/newsstand/2020/logo/light/0604/954.png\"},\"logoDark\":{\"url\":\"https://s.pstatic.net/static/newsstand/2020/logo/dark/0604/954.png\"},\"showThumbnailView\":true,\"showListView\":true,\"regDate\":\"20240228 14:00:03\",\"_id\":null,\"@type\":\"PC-NEWSSTAND-PRESS-BLOCK\",\"@code\":null,\"@template\":\"NONE\",\"@flowId\":null,\"@flowExecutionId\":null,\"@provider\":null,\"@lastModifiedAt\":null},{\"@type\":\"PC-NEWSSTAND-PRESS-BLOCK\",\"blocks\":null,\"materials\":null,\"excludeInPaging\":false,\"positionForPaging\":0,\"realtime\":false,\"pid\":\"955\",\"name\":\"독서신문\",\"logoLight\":{\"url\":\"https://s.pstatic.net/static/newsstand/2020/logo/light/0604/955.png\"},\"logoDark\":{\"url\":\"https://s.pstatic.net/static/newsstand/2020/logo/dark/0604/955.png\"},\"showThumbnailView\":true,\"showListView\":true,\"regDate\":\"20240228 13:50:04\",\"_id\":null,\"@type\":\"PC-NEWSSTAND-PRESS-BLOCK\",\"@code\":null,\"@template\":\"NONE\",\"@flowId\":null,\"@flowExecutionId\":null,\"@provider\":null,\"@lastModifiedAt\":null},{\"@type\":\"PC-NEWSSTAND-PRESS-BLOCK\",\"blocks\":null,\"materials\":null,\"excludeInPaging\":false,\"positionForPaging\":0,\"realtime\":false,\"pid\":\"956\",\"name\":\"철강금속신문\",\"logoLight\":{\"url\":\"https://s.pstatic.net/static/newsstand/2020/logo/light/0604/956.png\"},\"logoDark\":{\"url\":\"https://s.pstatic.net/static/newsstand/2020/logo/dark/0604/956.png\"},\"showThumbnailView\":true,\"showListView\":true,\"regDate\":\"20240228 13:50:03\",\"_id\":null,\"@type\":\"PC-NEWSSTAND-PRESS-BLOCK\",\"@code\":null,\"@template\":\"NONE\",\"@flowId\":null,\"@flowExecutionId\":null,\"@provider\":null,\"@lastModifiedAt\":null},{\"@type\":\"PC-NEWSSTAND-PRESS-BLOCK\",\"blocks\":null,\"materials\":null,\"excludeInPaging\":false,\"positionForPaging\":0,\"realtime\":false,\"pid\":\"957\",\"name\":\"시사위크\",\"logoLight\":{\"url\":\"https://s.pstatic.net/static/newsstand/2020/logo/light/0604/957.png\"},\"logoDark\":{\"url\":\"https://s.pstatic.net/static/newsstand/2020/logo/dark/0604/957.png\"},\"showThumbnailView\":true,\"showListView\":true,\"regDate\":\"20240227 17:58:30\",\"_id\":null,\"@type\":\"PC-NEWSSTAND-PRESS-BLOCK\",\"@code\":null,\"@template\":\"NONE\",\"@flowId\":null,\"@flowExecutionId\":null,\"@provider\":null,\"@lastModifiedAt\":null},{\"@type\":\"PC-NEWSSTAND-PRESS-BLOCK\",\"blocks\":null,\"materials\":null,\"excludeInPaging\":false,\"positionForPaging\":0,\"realtime\":false,\"pid\":\"958\",\"name\":\"베리타스알파\",\"logoLight\":{\"url\":\"https://s.pstatic.net/static/newsstand/up/2023/0826/nsd0145257.png\"},\"logoDark\":{\"url\":\"https://s.pstatic.net/static/newsstand/up/2023/0826/nsd0136682.png\"},\"showThumbnailView\":true,\"showListView\":true,\"regDate\":\"20240227 18:16:36\",\"_id\":null,\"@type\":\"PC-NEWSSTAND-PRESS-BLOCK\",\"@code\":null,\"@template\":\"NONE\",\"@flowId\":null,\"@flowExecutionId\":null,\"@provider\":null,\"@lastModifiedAt\":null},{\"@type\":\"PC-NEWSSTAND-PRESS-BLOCK\",\"blocks\":null,\"materials\":null,\"excludeInPaging\":false,\"positionForPaging\":0,\"realtime\":false,\"pid\":\"959\",\"name\":\"M이코노미뉴스\",\"logoLight\":{\"url\":\"https://s.pstatic.net/static/newsstand/up/2021/1221/nsd15292271.png\"},\"logoDark\":{\"url\":\"https://s.pstatic.net/static/newsstand/up/2021/1221/nsd171157172.png\"},\"showThumbnailView\":true,\"showListView\":true,\"regDate\":\"20240228 13:50:04\",\"_id\":null,\"@type\":\"PC-NEWSSTAND-PRESS-BLOCK\",\"@code\":null,\"@template\":\"NONE\",\"@flowId\":null,\"@flowExecutionId\":null,\"@provider\":null,\"@lastModifiedAt\":null},{\"@type\":\"PC-NEWSSTAND-PRESS-BLOCK\",\"blocks\":null,\"materials\":null,\"excludeInPaging\":false,\"positionForPaging\":0,\"realtime\":false,\"pid\":\"040\",\"name\":\"코리아타임스\",\"logoLight\":{\"url\":\"https://s.pstatic.net/static/newsstand/2020/logo/light/0604/040.png\"},\"logoDark\":{\"url\":\"https://s.pstatic.net/static/newsstand/2020/logo/dark/0604/040.png\"},\"showThumbnailView\":true,\"showListView\":true,\"regDate\":\"20240228 13:55:10\",\"_id\":null,\"@type\":\"PC-NEWSSTAND-PRESS-BLOCK\",\"@code\":null,\"@template\":\"NONE\",\"@flowId\":null,\"@flowExecutionId\":null,\"@provider\":null,\"@lastModifiedAt\":null},{\"@type\":\"PC-NEWSSTAND-PRESS-BLOCK\",\"blocks\":null,\"materials\":null,\"excludeInPaging\":false,\"positionForPaging\":0,\"realtime\":false,\"pid\":\"042\",\"name\":\"데일리한국\",\"logoLight\":{\"url\":\"https://s.pstatic.net/static/newsstand/2020/logo/light/0604/042.png\"},\"logoDark\":{\"url\":\"https://s.pstatic.net/static/newsstand/2020/logo/dark/0604/042.png\"},\"showThumbnailView\":true,\"showListView\":true,\"regDate\":\"20240228 13:50:24\",\"_id\":null,\"@type\":\"PC-NEWSSTAND-PRESS-BLOCK\",\"@code\":null,\"@template\":\"NONE\",\"@flowId\":null,\"@flowExecutionId\":null,\"@provider\":null,\"@lastModifiedAt\":null},{\"@type\":\"PC-NEWSSTAND-PRESS-BLOCK\",\"blocks\":null,\"materials\":null,\"excludeInPaging\":false,\"positionForPaging\":0,\"realtime\":false,\"pid\":\"044\",\"name\":\"코리아헤럴드\",\"logoLight\":{\"url\":\"https://s.pstatic.net/static/newsstand/2020/logo/light/0604/044.png\"},\"logoDark\":{\"url\":\"https://s.pstatic.net/static/newsstand/2020/logo/dark/0604/044.png\"},\"showThumbnailView\":true,\"showListView\":true,\"regDate\":\"20240228 10:36:38\",\"_id\":null,\"@type\":\"PC-NEWSSTAND-PRESS-BLOCK\",\"@code\":null,\"@template\":\"NONE\",\"@flowId\":null,\"@flowExecutionId\":null,\"@provider\":null,\"@lastModifiedAt\":null},{\"@type\":\"PC-NEWSSTAND-PRESS-BLOCK\",\"blocks\":null,\"materials\":null,\"excludeInPaging\":false,\"positionForPaging\":0,\"realtime\":false,\"pid\":\"047\",\"name\":\"오마이뉴스\",\"logoLight\":{\"url\":\"https://s.pstatic.net/static/newsstand/2020/logo/light/0604/047.png\"},\"logoDark\":{\"url\":\"https://s.pstatic.net/static/newsstand/2020/logo/dark/0604/047.png\"},\"showThumbnailView\":true,\"showListView\":true,\"regDate\":\"20240228 13:50:53\",\"_id\":null,\"@type\":\"PC-NEWSSTAND-PRESS-BLOCK\",\"@code\":null,\"@template\":\"NONE\",\"@flowId\":null,\"@flowExecutionId\":null,\"@provider\":null,\"@lastModifiedAt\":null},{\"@type\":\"PC-NEWSSTAND-PRESS-BLOCK\",\"blocks\":null,\"materials\":null,\"excludeInPaging\":false,\"positionForPaging\":0,\"realtime\":false,\"pid\":\"960\",\"name\":\"대한경제\",\"logoLight\":{\"url\":\"https://s.pstatic.net/static/newsstand/up/2022/1115/nsd153942530.png\"},\"logoDark\":{\"url\":\"https://s.pstatic.net/static/newsstand/up/2022/1115/nsd153934427.png\"},\"showThumbnailView\":true,\"showListView\":true,\"regDate\":\"20240228 13:50:20\",\"_id\":null,\"@type\":\"PC-NEWSSTAND-PRESS-BLOCK\",\"@code\":null,\"@template\":\"NONE\",\"@flowId\":null,\"@flowExecutionId\":null,\"@provider\":null,\"@lastModifiedAt\":null},{\"@type\":\"PC-NEWSSTAND-PRESS-BLOCK\",\"blocks\":null,\"materials\":null,\"excludeInPaging\":false,\"positionForPaging\":0,\"realtime\":false,\"pid\":\"961\",\"name\":\"메트로신문\",\"logoLight\":{\"url\":\"https://s.pstatic.net/static/newsstand/2020/logo/light/0604/961.png\"},\"logoDark\":{\"url\":\"https://s.pstatic.net/static/newsstand/2020/logo/dark/0604/961.png\"},\"showThumbnailView\":true,\"showListView\":true,\"regDate\":\"20240228 13:28:43\",\"_id\":null,\"@type\":\"PC-NEWSSTAND-PRESS-BLOCK\",\"@code\":null,\"@template\":\"NONE\",\"@flowId\":null,\"@flowExecutionId\":null,\"@provider\":null,\"@lastModifiedAt\":null},{\"@type\":\"PC-NEWSSTAND-PRESS-BLOCK\",\"blocks\":null,\"materials\":null,\"excludeInPaging\":false,\"positionForPaging\":0,\"realtime\":false,\"pid\":\"962\",\"name\":\"스포츠한국\",\"logoLight\":{\"url\":\"https://s.pstatic.net/static/newsstand/2020/logo/light/0604/962.png\"},\"logoDark\":{\"url\":\"https://s.pstatic.net/static/newsstand/2020/logo/dark/0604/962.png\"},\"showThumbnailView\":true,\"showListView\":true,\"regDate\":\"20240228 13:50:27\",\"_id\":null,\"@type\":\"PC-NEWSSTAND-PRESS-BLOCK\",\"@code\":null,\"@template\":\"NONE\",\"@flowId\":null,\"@flowExecutionId\":null,\"@provider\":null,\"@lastModifiedAt\":null},{\"@type\":\"PC-NEWSSTAND-PRESS-BLOCK\",\"blocks\":null,\"materials\":null,\"excludeInPaging\":false,\"positionForPaging\":0,\"realtime\":false,\"pid\":\"963\",\"name\":\"에너지경제\",\"logoLight\":{\"url\":\"https://s.pstatic.net/static/newsstand/2020/logo/light/0604/963.png\"},\"logoDark\":{\"url\":\"https://s.pstatic.net/static/newsstand/2020/logo/dark/0604/963.png\"},\"showThumbnailView\":true,\"showListView\":true,\"regDate\":\"20240228 13:50:01\",\"_id\":null,\"@type\":\"PC-NEWSSTAND-PRESS-BLOCK\",\"@code\":null,\"@template\":\"NONE\",\"@flowId\":null,\"@flowExecutionId\":null,\"@provider\":null,\"@lastModifiedAt\":null},{\"@type\":\"PC-NEWSSTAND-PRESS-BLOCK\",\"blocks\":null,\"materials\":null,\"excludeInPaging\":false,\"positionForPaging\":0,\"realtime\":false,\"pid\":\"964\",\"name\":\"이뉴스투데이\",\"logoLight\":{\"url\":\"https://s.pstatic.net/static/newsstand/2020/logo/light/0604/964.png\"},\"logoDark\":{\"url\":\"https://s.pstatic.net/static/newsstand/2020/logo/dark/0604/964.png\"},\"showThumbnailView\":true,\"showListView\":true,\"regDate\":\"20240228 11:23:20\",\"_id\":null,\"@type\":\"PC-NEWSSTAND-PRESS-BLOCK\",\"@code\":null,\"@template\":\"NONE\",\"@flowId\":null,\"@flowExecutionId\":null,\"@provider\":null,\"@lastModifiedAt\":null},{\"@type\":\"PC-NEWSSTAND-PRESS-BLOCK\",\"blocks\":null,\"materials\":null,\"excludeInPaging\":false,\"positionForPaging\":0,\"realtime\":false,\"pid\":\"965\",\"name\":\"전기신문\",\"logoLight\":{\"url\":\"https://s.pstatic.net/static/newsstand/2020/logo/light/0604/965.png\"},\"logoDark\":{\"url\":\"https://s.pstatic.net/static/newsstand/2020/logo/dark/0604/965.png\"},\"showThumbnailView\":true,\"showListView\":true,\"regDate\":\"20240228 13:50:24\",\"_id\":null,\"@type\":\"PC-NEWSSTAND-PRESS-BLOCK\",\"@code\":null,\"@template\":\"NONE\",\"@flowId\":null,\"@flowExecutionId\":null,\"@provider\":null,\"@lastModifiedAt\":null},{\"@type\":\"PC-NEWSSTAND-PRESS-BLOCK\",\"blocks\":null,\"materials\":null,\"excludeInPaging\":false,\"positionForPaging\":0,\"realtime\":false,\"pid\":\"966\",\"name\":\"정신의학신문\",\"logoLight\":{\"url\":\"https://s.pstatic.net/static/newsstand/2020/logo/light/0604/966.png\"},\"logoDark\":{\"url\":\"https://s.pstatic.net/static/newsstand/2020/logo/dark/0604/966.png\"},\"showThumbnailView\":true,\"showListView\":true,\"regDate\":\"20240228 13:50:21\",\"_id\":null,\"@type\":\"PC-NEWSSTAND-PRESS-BLOCK\",\"@code\":null,\"@template\":\"NONE\",\"@flowId\":null,\"@flowExecutionId\":null,\"@provider\":null,\"@lastModifiedAt\":null},{\"@type\":\"PC-NEWSSTAND-PRESS-BLOCK\",\"blocks\":null,\"materials\":null,\"excludeInPaging\":false,\"positionForPaging\":0,\"realtime\":false,\"pid\":\"967\",\"name\":\"코리아쉬핑가제트\",\"logoLight\":{\"url\":\"https://s.pstatic.net/static/newsstand/2020/logo/light/0604/967.png\"},\"logoDark\":{\"url\":\"https://s.pstatic.net/static/newsstand/2020/logo/dark/0604/967.png\"},\"showThumbnailView\":true,\"showListView\":true,\"regDate\":\"20240228 13:50:02\",\"_id\":null,\"@type\":\"PC-NEWSSTAND-PRESS-BLOCK\",\"@code\":null,\"@template\":\"NONE\",\"@flowId\":null,\"@flowExecutionId\":null,\"@provider\":null,\"@lastModifiedAt\":null},{\"@type\":\"PC-NEWSSTAND-PRESS-BLOCK\",\"blocks\":null,\"materials\":null,\"excludeInPaging\":false,\"positionForPaging\":0,\"realtime\":false,\"pid\":\"968\",\"name\":\"한국금융신문\",\"logoLight\":{\"url\":\"https://s.pstatic.net/static/newsstand/2020/logo/light/0604/968.png\"},\"logoDark\":{\"url\":\"https://s.pstatic.net/static/newsstand/2020/logo/dark/0604/968.png\"},\"showThumbnailView\":true,\"showListView\":true,\"regDate\":\"20240228 13:21:44\",\"_id\":null,\"@type\":\"PC-NEWSSTAND-PRESS-BLOCK\",\"@code\":null,\"@template\":\"NONE\",\"@flowId\":null,\"@flowExecutionId\":null,\"@provider\":null,\"@lastModifiedAt\":null},{\"@type\":\"PC-NEWSSTAND-PRESS-BLOCK\",\"blocks\":null,\"materials\":null,\"excludeInPaging\":false,\"positionForPaging\":0,\"realtime\":false,\"pid\":\"969\",\"name\":\"매일노동뉴스\",\"logoLight\":{\"url\":\"https://s.pstatic.net/static/newsstand/2020/logo/light/0604/969.png\"},\"logoDark\":{\"url\":\"https://s.pstatic.net/static/newsstand/2020/logo/dark/0604/969.png\"},\"showThumbnailView\":true,\"showListView\":true,\"regDate\":\"20240228 07:40:05\",\"_id\":null,\"@type\":\"PC-NEWSSTAND-PRESS-BLOCK\",\"@code\":null,\"@template\":\"NONE\",\"@flowId\":null,\"@flowExecutionId\":null,\"@provider\":null,\"@lastModifiedAt\":null},{\"@type\":\"PC-NEWSSTAND-PRESS-BLOCK\",\"blocks\":null,\"materials\":null,\"excludeInPaging\":false,\"positionForPaging\":0,\"realtime\":false,\"pid\":\"050\",\"name\":\"한경비즈니스\",\"logoLight\":{\"url\":\"https://s.pstatic.net/static/newsstand/up/2020/0928/nsd125033437.png\"},\"logoDark\":{\"url\":\"https://s.pstatic.net/static/newsstand/up/2020/0928/nsd125026855.png\"},\"showThumbnailView\":true,\"showListView\":true,\"regDate\":\"20240228 09:47:02\",\"_id\":null,\"@type\":\"PC-NEWSSTAND-PRESS-BLOCK\",\"@code\":null,\"@template\":\"NONE\",\"@flowId\":null,\"@flowExecutionId\":null,\"@provider\":null,\"@lastModifiedAt\":null},{\"@type\":\"PC-NEWSSTAND-PRESS-BLOCK\",\"blocks\":null,\"materials\":null,\"excludeInPaging\":false,\"positionForPaging\":0,\"realtime\":false,\"pid\":\"293\",\"name\":\"블로터\",\"logoLight\":{\"url\":\"https://s.pstatic.net/static/newsstand/2020/logo/light/0604/293.png\"},\"logoDark\":{\"url\":\"https://s.pstatic.net/static/newsstand/2020/logo/dark/0604/293.png\"},\"showThumbnailView\":true,\"showListView\":true,\"regDate\":\"20240228 13:50:32\",\"_id\":null,\"@type\":\"PC-NEWSSTAND-PRESS-BLOCK\",\"@code\":null,\"@template\":\"NONE\",\"@flowId\":null,\"@flowExecutionId\":null,\"@provider\":null,\"@lastModifiedAt\":null},{\"@type\":\"PC-NEWSSTAND-PRESS-BLOCK\",\"blocks\":null,\"materials\":null,\"excludeInPaging\":false,\"positionForPaging\":0,\"realtime\":false,\"pid\":\"052\",\"name\":\"YTN\",\"logoLight\":{\"url\":\"https://s.pstatic.net/static/newsstand/2020/logo/light/0604/052.png\"},\"logoDark\":{\"url\":\"https://s.pstatic.net/static/newsstand/2020/logo/dark/0604/052.png\"},\"showThumbnailView\":true,\"showListView\":true,\"regDate\":\"20240228 13:44:18\",\"_id\":null,\"@type\":\"PC-NEWSSTAND-PRESS-BLOCK\",\"@code\":null,\"@template\":\"NONE\",\"@flowId\":null,\"@flowExecutionId\":null,\"@provider\":null,\"@lastModifiedAt\":null},{\"@type\":\"PC-NEWSSTAND-PRESS-BLOCK\",\"blocks\":null,\"materials\":null,\"excludeInPaging\":false,\"positionForPaging\":0,\"realtime\":false,\"pid\":\"296\",\"name\":\"코메디닷컴\",\"logoLight\":{\"url\":\"https://s.pstatic.net/static/newsstand/2020/logo/light/0604/296.png\"},\"logoDark\":{\"url\":\"https://s.pstatic.net/static/newsstand/2020/logo/dark/0604/296.png\"},\"showThumbnailView\":true,\"showListView\":true,\"regDate\":\"20240228 13:31:05\",\"_id\":null,\"@type\":\"PC-NEWSSTAND-PRESS-BLOCK\",\"@code\":null,\"@template\":\"NONE\",\"@flowId\":null,\"@flowExecutionId\":null,\"@provider\":null,\"@lastModifiedAt\":null},{\"@type\":\"PC-NEWSSTAND-PRESS-BLOCK\",\"blocks\":null,\"materials\":null,\"excludeInPaging\":false,\"positionForPaging\":0,\"realtime\":false,\"pid\":\"055\",\"name\":\"SBS\",\"logoLight\":{\"url\":\"https://s.pstatic.net/static/newsstand/2020/logo/light/0604/055.png\"},\"logoDark\":{\"url\":\"https://s.pstatic.net/static/newsstand/2020/logo/dark/0604/055.png\"},\"showThumbnailView\":true,\"showListView\":true,\"regDate\":\"20240228 14:05:06\",\"_id\":null,\"@type\":\"PC-NEWSSTAND-PRESS-BLOCK\",\"@code\":null,\"@template\":\"NONE\",\"@flowId\":null,\"@flowExecutionId\":null,\"@provider\":null,\"@lastModifiedAt\":null},{\"@type\":\"PC-NEWSSTAND-PRESS-BLOCK\",\"blocks\":null,\"materials\":null,\"excludeInPaging\":false,\"positionForPaging\":0,\"realtime\":false,\"pid\":\"056\",\"name\":\"KBS\",\"logoLight\":{\"url\":\"https://s.pstatic.net/static/newsstand/2020/logo/light/0604/056.png\"},\"logoDark\":{\"url\":\"https://s.pstatic.net/static/newsstand/2020/logo/dark/0604/056.png\"},\"showThumbnailView\":true,\"showListView\":true,\"regDate\":\"20240228 13:54:20\",\"_id\":null,\"@type\":\"PC-NEWSSTAND-PRESS-BLOCK\",\"@code\":null,\"@template\":\"NONE\",\"@flowId\":null,\"@flowExecutionId\":null,\"@provider\":null,\"@lastModifiedAt\":null},{\"@type\":\"PC-NEWSSTAND-PRESS-BLOCK\",\"blocks\":null,\"materials\":null,\"excludeInPaging\":false,\"positionForPaging\":0,\"realtime\":false,\"pid\":\"057\",\"name\":\"MBN\",\"logoLight\":{\"url\":\"https://s.pstatic.net/static/newsstand/2020/logo/light/0604/057.png\"},\"logoDark\":{\"url\":\"https://s.pstatic.net/static/newsstand/2020/logo/dark/0604/057.png\"},\"showThumbnailView\":true,\"showListView\":true,\"regDate\":\"20240228 14:05:01\",\"_id\":null,\"@type\":\"PC-NEWSSTAND-PRESS-BLOCK\",\"@code\":null,\"@template\":\"NONE\",\"@flowId\":null,\"@flowExecutionId\":null,\"@provider\":null,\"@lastModifiedAt\":null},{\"@type\":\"PC-NEWSSTAND-PRESS-BLOCK\",\"blocks\":null,\"materials\":null,\"excludeInPaging\":false,\"positionForPaging\":0,\"realtime\":false,\"pid\":\"970\",\"name\":\"소비자가만드는신문\",\"logoLight\":{\"url\":\"https://s.pstatic.net/static/newsstand/2020/logo/light/0604/970.png\"},\"logoDark\":{\"url\":\"https://s.pstatic.net/static/newsstand/2020/logo/dark/0604/970.png\"},\"showThumbnailView\":true,\"showListView\":true,\"regDate\":\"20240228 12:12:27\",\"_id\":null,\"@type\":\"PC-NEWSSTAND-PRESS-BLOCK\",\"@code\":null,\"@template\":\"NONE\",\"@flowId\":null,\"@flowExecutionId\":null,\"@provider\":null,\"@lastModifiedAt\":null},{\"@type\":\"PC-NEWSSTAND-PRESS-BLOCK\",\"blocks\":null,\"materials\":null,\"excludeInPaging\":false,\"positionForPaging\":0,\"realtime\":false,\"pid\":\"971\",\"name\":\"일요시사\",\"logoLight\":{\"url\":\"https://s.pstatic.net/static/newsstand/2020/logo/light/0604/971.png\"},\"logoDark\":{\"url\":\"https://s.pstatic.net/static/newsstand/2020/logo/dark/0604/971.png\"},\"showThumbnailView\":true,\"showListView\":true,\"regDate\":\"20240228 13:50:01\",\"_id\":null,\"@type\":\"PC-NEWSSTAND-PRESS-BLOCK\",\"@code\":null,\"@template\":\"NONE\",\"@flowId\":null,\"@flowExecutionId\":null,\"@provider\":null,\"@lastModifiedAt\":null},{\"@type\":\"PC-NEWSSTAND-PRESS-BLOCK\",\"blocks\":null,\"materials\":null,\"excludeInPaging\":false,\"positionForPaging\":0,\"realtime\":false,\"pid\":\"972\",\"name\":\"PD저널\",\"logoLight\":{\"url\":\"https://s.pstatic.net/static/newsstand/2020/logo/light/0604/972.png\"},\"logoDark\":{\"url\":\"https://s.pstatic.net/static/newsstand/2020/logo/dark/0604/972.png\"},\"showThumbnailView\":true,\"showListView\":true,\"regDate\":\"20240227 17:31:08\",\"_id\":null,\"@type\":\"PC-NEWSSTAND-PRESS-BLOCK\",\"@code\":null,\"@template\":\"NONE\",\"@flowId\":null,\"@flowExecutionId\":null,\"@provider\":null,\"@lastModifiedAt\":null},{\"@type\":\"PC-NEWSSTAND-PRESS-BLOCK\",\"blocks\":null,\"materials\":null,\"excludeInPaging\":false,\"positionForPaging\":0,\"realtime\":false,\"pid\":\"973\",\"name\":\"비즈한국\",\"logoLight\":{\"url\":\"https://s.pstatic.net/static/newsstand/2020/logo/light/0604/973.png\"},\"logoDark\":{\"url\":\"https://s.pstatic.net/static/newsstand/2020/logo/dark/0604/973.png\"},\"showThumbnailView\":true,\"showListView\":true,\"regDate\":\"20240228 14:01:28\",\"_id\":null,\"@type\":\"PC-NEWSSTAND-PRESS-BLOCK\",\"@code\":null,\"@template\":\"NONE\",\"@flowId\":null,\"@flowExecutionId\":null,\"@provider\":null,\"@lastModifiedAt\":null},{\"@type\":\"PC-NEWSSTAND-PRESS-BLOCK\",\"blocks\":null,\"materials\":null,\"excludeInPaging\":false,\"positionForPaging\":0,\"realtime\":false,\"pid\":\"974\",\"name\":\"BBS NEWS\",\"logoLight\":{\"url\":\"https://s.pstatic.net/static/newsstand/2020/logo/light/0604/974.png\"},\"logoDark\":{\"url\":\"https://s.pstatic.net/static/newsstand/2020/logo/dark/0604/974.png\"},\"showThumbnailView\":true,\"showListView\":true,\"regDate\":\"20240228 09:10:23\",\"_id\":null,\"@type\":\"PC-NEWSSTAND-PRESS-BLOCK\",\"@code\":null,\"@template\":\"NONE\",\"@flowId\":null,\"@flowExecutionId\":null,\"@provider\":null,\"@lastModifiedAt\":null},{\"@type\":\"PC-NEWSSTAND-PRESS-BLOCK\",\"blocks\":null,\"materials\":null,\"excludeInPaging\":false,\"positionForPaging\":0,\"realtime\":false,\"pid\":\"975\",\"name\":\"시사저널이코노미\",\"logoLight\":{\"url\":\"https://s.pstatic.net/static/newsstand/2020/logo/light/0604/975.png\"},\"logoDark\":{\"url\":\"https://s.pstatic.net/static/newsstand/2020/logo/dark/0604/975.png\"},\"showThumbnailView\":true,\"showListView\":true,\"regDate\":\"20240228 13:50:08\",\"_id\":null,\"@type\":\"PC-NEWSSTAND-PRESS-BLOCK\",\"@code\":null,\"@template\":\"NONE\",\"@flowId\":null,\"@flowExecutionId\":null,\"@provider\":null,\"@lastModifiedAt\":null},{\"@type\":\"PC-NEWSSTAND-PRESS-BLOCK\",\"blocks\":null,\"materials\":null,\"excludeInPaging\":false,\"positionForPaging\":0,\"realtime\":false,\"pid\":\"976\",\"name\":\"무등일보\",\"logoLight\":{\"url\":\"https://s.pstatic.net/static/newsstand/2020/logo/light/0604/976.png\"},\"logoDark\":{\"url\":\"https://s.pstatic.net/static/newsstand/2020/logo/dark/0604/976.png\"},\"showThumbnailView\":true,\"showListView\":true,\"regDate\":\"20240228 13:50:07\",\"_id\":null,\"@type\":\"PC-NEWSSTAND-PRESS-BLOCK\",\"@code\":null,\"@template\":\"NONE\",\"@flowId\":null,\"@flowExecutionId\":null,\"@provider\":null,\"@lastModifiedAt\":null},{\"@type\":\"PC-NEWSSTAND-PRESS-BLOCK\",\"blocks\":null,\"materials\":null,\"excludeInPaging\":false,\"positionForPaging\":0,\"realtime\":false,\"pid\":\"977\",\"name\":\"헬로디디\",\"logoLight\":{\"url\":\"https://s.pstatic.net/static/newsstand/2020/logo/light/0604/977.png\"},\"logoDark\":{\"url\":\"https://s.pstatic.net/static/newsstand/2020/logo/dark/0604/977.png\"},\"showThumbnailView\":true,\"showListView\":true,\"regDate\":\"20240228 13:50:19\",\"_id\":null,\"@type\":\"PC-NEWSSTAND-PRESS-BLOCK\",\"@code\":null,\"@template\":\"NONE\",\"@flowId\":null,\"@flowExecutionId\":null,\"@provider\":null,\"@lastModifiedAt\":null},{\"@type\":\"PC-NEWSSTAND-PRESS-BLOCK\",\"blocks\":null,\"materials\":null,\"excludeInPaging\":false,\"positionForPaging\":0,\"realtime\":false,\"pid\":\"978\",\"name\":\"경북도민일보\",\"logoLight\":{\"url\":\"https://s.pstatic.net/static/newsstand/2020/logo/light/0604/978.png\"},\"logoDark\":{\"url\":\"https://s.pstatic.net/static/newsstand/2020/logo/dark/0604/978.png\"},\"showThumbnailView\":true,\"showListView\":true,\"regDate\":\"20240227 18:55:11\",\"_id\":null,\"@type\":\"PC-NEWSSTAND-PRESS-BLOCK\",\"@code\":null,\"@template\":\"NONE\",\"@flowId\":null,\"@flowExecutionId\":null,\"@provider\":null,\"@lastModifiedAt\":null},{\"@type\":\"PC-NEWSSTAND-PRESS-BLOCK\",\"blocks\":null,\"materials\":null,\"excludeInPaging\":false,\"positionForPaging\":0,\"realtime\":false,\"pid\":\"979\",\"name\":\"약사공론\",\"logoLight\":{\"url\":\"https://s.pstatic.net/static/newsstand/2020/logo/light/0604/979.png\"},\"logoDark\":{\"url\":\"https://s.pstatic.net/static/newsstand/2020/logo/dark/0604/979.png\"},\"showThumbnailView\":true,\"showListView\":true,\"regDate\":\"20240228 12:00:55\",\"_id\":null,\"@type\":\"PC-NEWSSTAND-PRESS-BLOCK\",\"@code\":null,\"@template\":\"NONE\",\"@flowId\":null,\"@flowExecutionId\":null,\"@provider\":null,\"@lastModifiedAt\":null},{\"@type\":\"PC-NEWSSTAND-PRESS-BLOCK\",\"blocks\":null,\"materials\":null,\"excludeInPaging\":false,\"positionForPaging\":0,\"realtime\":false,\"pid\":\"980\",\"name\":\"KBC광주방송\",\"logoLight\":{\"url\":\"https://s.pstatic.net/static/newsstand/2020/logo/light/0604/980.png\"},\"logoDark\":{\"url\":\"https://s.pstatic.net/static/newsstand/2020/logo/dark/0604/980.png\"},\"showThumbnailView\":true,\"showListView\":true,\"regDate\":\"20240228 13:33:31\",\"_id\":null,\"@type\":\"PC-NEWSSTAND-PRESS-BLOCK\",\"@code\":null,\"@template\":\"NONE\",\"@flowId\":null,\"@flowExecutionId\":null,\"@provider\":null,\"@lastModifiedAt\":null},{\"@type\":\"PC-NEWSSTAND-PRESS-BLOCK\",\"blocks\":null,\"materials\":null,\"excludeInPaging\":false,\"positionForPaging\":0,\"realtime\":false,\"pid\":\"981\",\"name\":\"TBS\",\"logoLight\":{\"url\":\"https://s.pstatic.net/static/newsstand/2020/logo/light/0604/981.png\"},\"logoDark\":{\"url\":\"https://s.pstatic.net/static/newsstand/2020/logo/dark/0604/981.png\"},\"showThumbnailView\":true,\"showListView\":true,\"regDate\":\"20240228 13:55:47\",\"_id\":null,\"@type\":\"PC-NEWSSTAND-PRESS-BLOCK\",\"@code\":null,\"@template\":\"NONE\",\"@flowId\":null,\"@flowExecutionId\":null,\"@provider\":null,\"@lastModifiedAt\":null},{\"@type\":\"PC-NEWSSTAND-PRESS-BLOCK\",\"blocks\":null,\"materials\":null,\"excludeInPaging\":false,\"positionForPaging\":0,\"realtime\":false,\"pid\":\"982\",\"name\":\"이코노미조선\",\"logoLight\":{\"url\":\"https://s.pstatic.net/static/newsstand/2020/logo/light/0604/982.png\"},\"logoDark\":{\"url\":\"https://s.pstatic.net/static/newsstand/2020/logo/dark/0604/982.png\"},\"showThumbnailView\":true,\"showListView\":true,\"regDate\":\"20240226 11:30:07\",\"_id\":null,\"@type\":\"PC-NEWSSTAND-PRESS-BLOCK\",\"@code\":null,\"@template\":\"NONE\",\"@flowId\":null,\"@flowExecutionId\":null,\"@provider\":null,\"@lastModifiedAt\":null},{\"@type\":\"PC-NEWSSTAND-PRESS-BLOCK\",\"blocks\":null,\"materials\":null,\"excludeInPaging\":false,\"positionForPaging\":0,\"realtime\":false,\"pid\":\"983\",\"name\":\"중부매일\",\"logoLight\":{\"url\":\"https://s.pstatic.net/static/newsstand/2020/logo/light/0604/983.png\"},\"logoDark\":{\"url\":\"https://s.pstatic.net/static/newsstand/2020/logo/dark/0604/983.png\"},\"showThumbnailView\":true,\"showListView\":true,\"regDate\":\"20240228 12:04:04\",\"_id\":null,\"@type\":\"PC-NEWSSTAND-PRESS-BLOCK\",\"@code\":null,\"@template\":\"NONE\",\"@flowId\":null,\"@flowExecutionId\":null,\"@provider\":null,\"@lastModifiedAt\":null},{\"@type\":\"PC-NEWSSTAND-PRESS-BLOCK\",\"blocks\":null,\"materials\":null,\"excludeInPaging\":false,\"positionForPaging\":0,\"realtime\":false,\"pid\":\"984\",\"name\":\"낚시춘추\",\"logoLight\":{\"url\":\"https://s.pstatic.net/static/newsstand/2020/logo/light/0604/984.png\"},\"logoDark\":{\"url\":\"https://s.pstatic.net/static/newsstand/2020/logo/dark/0604/984.png\"},\"showThumbnailView\":true,\"showListView\":true,\"regDate\":\"20240222 13:00:00\",\"_id\":null,\"@type\":\"PC-NEWSSTAND-PRESS-BLOCK\",\"@code\":null,\"@template\":\"NONE\",\"@flowId\":null,\"@flowExecutionId\":null,\"@provider\":null,\"@lastModifiedAt\":null},{\"@type\":\"PC-NEWSSTAND-PRESS-BLOCK\",\"blocks\":null,\"materials\":null,\"excludeInPaging\":false,\"positionForPaging\":0,\"realtime\":false,\"pid\":\"986\",\"name\":\"투데이신문\",\"logoLight\":{\"url\":\"https://s.pstatic.net/static/newsstand/up/2020/1019/nsd144531857.png\"},\"logoDark\":{\"url\":\"https://s.pstatic.net/static/newsstand/up/2020/1019/nsd144525568.png\"},\"showThumbnailView\":true,\"showListView\":true,\"regDate\":\"20240228 13:50:04\",\"_id\":null,\"@type\":\"PC-NEWSSTAND-PRESS-BLOCK\",\"@code\":null,\"@template\":\"NONE\",\"@flowId\":null,\"@flowExecutionId\":null,\"@provider\":null,\"@lastModifiedAt\":null},{\"@type\":\"PC-NEWSSTAND-PRESS-BLOCK\",\"blocks\":null,\"materials\":null,\"excludeInPaging\":false,\"positionForPaging\":0,\"realtime\":false,\"pid\":\"988\",\"name\":\"이웃집과학자\",\"logoLight\":{\"url\":\"https://s.pstatic.net/static/newsstand/2020/logo/light/0604/988.png\"},\"logoDark\":{\"url\":\"https://s.pstatic.net/static/newsstand/2020/logo/dark/0604/988.png\"},\"showThumbnailView\":true,\"showListView\":true,\"regDate\":\"20240227 16:08:27\",\"_id\":null,\"@type\":\"PC-NEWSSTAND-PRESS-BLOCK\",\"@code\":null,\"@template\":\"NONE\",\"@flowId\":null,\"@flowExecutionId\":null,\"@provider\":null,\"@lastModifiedAt\":null},{\"@type\":\"PC-NEWSSTAND-PRESS-BLOCK\",\"blocks\":null,\"materials\":null,\"excludeInPaging\":false,\"positionForPaging\":0,\"realtime\":false,\"pid\":\"989\",\"name\":\"TBC\",\"logoLight\":{\"url\":\"https://s.pstatic.net/static/newsstand/2020/logo/light/0604/989.png\"},\"logoDark\":{\"url\":\"https://s.pstatic.net/static/newsstand/2020/logo/dark/0604/989.png\"},\"showThumbnailView\":true,\"showListView\":true,\"regDate\":\"20240228 10:32:46\",\"_id\":null,\"@type\":\"PC-NEWSSTAND-PRESS-BLOCK\",\"@code\":null,\"@template\":\"NONE\",\"@flowId\":null,\"@flowExecutionId\":null,\"@provider\":null,\"@lastModifiedAt\":null},{\"@type\":\"PC-NEWSSTAND-PRESS-BLOCK\",\"blocks\":null,\"materials\":null,\"excludeInPaging\":false,\"positionForPaging\":0,\"realtime\":false,\"pid\":\"073\",\"name\":\"스포츠서울\",\"logoLight\":{\"url\":\"https://s.pstatic.net/static/newsstand/up/2020/0708/nsd94830278.png\"},\"logoDark\":{\"url\":\"https://s.pstatic.net/static/newsstand/up/2020/0708/nsd94820151.png\"},\"showThumbnailView\":true,\"showListView\":true,\"regDate\":\"20240228 14:05:09\",\"_id\":null,\"@type\":\"PC-NEWSSTAND-PRESS-BLOCK\",\"@code\":null,\"@template\":\"NONE\",\"@flowId\":null,\"@flowExecutionId\":null,\"@provider\":null,\"@lastModifiedAt\":null},{\"@type\":\"PC-NEWSSTAND-PRESS-BLOCK\",\"blocks\":null,\"materials\":null,\"excludeInPaging\":false,\"positionForPaging\":0,\"realtime\":false,\"pid\":\"075\",\"name\":\"맥스무비\",\"logoLight\":{\"url\":\"https://s.pstatic.net/static/newsstand/2020/logo/light/0604/075.png\"},\"logoDark\":{\"url\":\"https://s.pstatic.net/static/newsstand/2020/logo/dark/0604/075.png\"},\"showThumbnailView\":true,\"showListView\":true,\"regDate\":\"20240228 10:27:07\",\"_id\":null,\"@type\":\"PC-NEWSSTAND-PRESS-BLOCK\",\"@code\":null,\"@template\":\"NONE\",\"@flowId\":null,\"@flowExecutionId\":null,\"@provider\":null,\"@lastModifiedAt\":null},{\"@type\":\"PC-NEWSSTAND-PRESS-BLOCK\",\"blocks\":null,\"materials\":null,\"excludeInPaging\":false,\"positionForPaging\":0,\"realtime\":false,\"pid\":\"076\",\"name\":\"스포츠조선\",\"logoLight\":{\"url\":\"https://s.pstatic.net/static/newsstand/2020/logo/light/0604/076.png\"},\"logoDark\":{\"url\":\"https://s.pstatic.net/static/newsstand/2020/logo/dark/0604/076.png\"},\"showThumbnailView\":true,\"showListView\":true,\"regDate\":\"20240228 13:57:45\",\"_id\":null,\"@type\":\"PC-NEWSSTAND-PRESS-BLOCK\",\"@code\":null,\"@template\":\"NONE\",\"@flowId\":null,\"@flowExecutionId\":null,\"@provider\":null,\"@lastModifiedAt\":null},{\"@type\":\"PC-NEWSSTAND-PRESS-BLOCK\",\"blocks\":null,\"materials\":null,\"excludeInPaging\":false,\"positionForPaging\":0,\"realtime\":false,\"pid\":\"990\",\"name\":\"주간조선\",\"logoLight\":{\"url\":\"https://s.pstatic.net/static/newsstand/2020/logo/light/0604/990.png\"},\"logoDark\":{\"url\":\"https://s.pstatic.net/static/newsstand/2020/logo/dark/0604/990.png\"},\"showThumbnailView\":true,\"showListView\":true,\"regDate\":\"20240228 13:50:28\",\"_id\":null,\"@type\":\"PC-NEWSSTAND-PRESS-BLOCK\",\"@code\":null,\"@template\":\"NONE\",\"@flowId\":null,\"@flowExecutionId\":null,\"@provider\":null,\"@lastModifiedAt\":null},{\"@type\":\"PC-NEWSSTAND-PRESS-BLOCK\",\"blocks\":null,\"materials\":null,\"excludeInPaging\":false,\"positionForPaging\":0,\"realtime\":false,\"pid\":\"991\",\"name\":\"데일리NK\",\"logoLight\":{\"url\":\"https://s.pstatic.net/static/newsstand/2020/logo/light/0604/991.png\"},\"logoDark\":{\"url\":\"https://s.pstatic.net/static/newsstand/2020/logo/dark/0604/991.png\"},\"showThumbnailView\":true,\"showListView\":true,\"regDate\":\"20240228 04:22:12\",\"_id\":null,\"@type\":\"PC-NEWSSTAND-PRESS-BLOCK\",\"@code\":null,\"@template\":\"NONE\",\"@flowId\":null,\"@flowExecutionId\":null,\"@provider\":null,\"@lastModifiedAt\":null},{\"@type\":\"PC-NEWSSTAND-PRESS-BLOCK\",\"blocks\":null,\"materials\":null,\"excludeInPaging\":false,\"positionForPaging\":0,\"realtime\":false,\"pid\":\"079\",\"name\":\"노컷뉴스\",\"logoLight\":{\"url\":\"https://s.pstatic.net/static/newsstand/2020/logo/light/0604/079.png\"},\"logoDark\":{\"url\":\"https://s.pstatic.net/static/newsstand/2020/logo/dark/0604/079.png\"},\"showThumbnailView\":true,\"showListView\":true,\"regDate\":\"20240228 13:10:42\",\"_id\":null,\"@type\":\"PC-NEWSSTAND-PRESS-BLOCK\",\"@code\":null,\"@template\":\"NONE\",\"@flowId\":null,\"@flowExecutionId\":null,\"@provider\":null,\"@lastModifiedAt\":null},{\"@type\":\"PC-NEWSSTAND-PRESS-BLOCK\",\"blocks\":null,\"materials\":null,\"excludeInPaging\":false,\"positionForPaging\":0,\"realtime\":false,\"pid\":\"993\",\"name\":\"허프포스트코리아\",\"logoLight\":{\"url\":\"https://s.pstatic.net/static/newsstand/2020/logo/light/0604/993.png\"},\"logoDark\":{\"url\":\"https://s.pstatic.net/static/newsstand/2020/logo/dark/0604/993.png\"},\"showThumbnailView\":true,\"showListView\":true,\"regDate\":\"20240228 13:50:29\",\"_id\":null,\"@type\":\"PC-NEWSSTAND-PRESS-BLOCK\",\"@code\":null,\"@template\":\"NONE\",\"@flowId\":null,\"@flowExecutionId\":null,\"@provider\":null,\"@lastModifiedAt\":null},{\"@type\":\"PC-NEWSSTAND-PRESS-BLOCK\",\"blocks\":null,\"materials\":null,\"excludeInPaging\":false,\"positionForPaging\":0,\"realtime\":false,\"pid\":\"994\",\"name\":\"AI타임스\",\"logoLight\":{\"url\":\"https://s.pstatic.net/static/newsstand/up/2021/1112/nsd102040597.png\"},\"logoDark\":{\"url\":\"https://s.pstatic.net/static/newsstand/up/2021/1112/nsd102110770.png\"},\"showThumbnailView\":true,\"showListView\":true,\"regDate\":\"20240228 13:50:22\",\"_id\":null,\"@type\":\"PC-NEWSSTAND-PRESS-BLOCK\",\"@code\":null,\"@template\":\"NONE\",\"@flowId\":null,\"@flowExecutionId\":null,\"@provider\":null,\"@lastModifiedAt\":null},{\"@type\":\"PC-NEWSSTAND-PRESS-BLOCK\",\"blocks\":null,\"materials\":null,\"excludeInPaging\":false,\"positionForPaging\":0,\"realtime\":false,\"pid\":\"995\",\"name\":\"뉴스포스트\",\"logoLight\":{\"url\":\"https://s.pstatic.net/static/newsstand/up/2021/1112/nsd10248812.png\"},\"logoDark\":{\"url\":\"https://s.pstatic.net/static/newsstand/up/2021/1112/nsd102419893.png\"},\"showThumbnailView\":true,\"showListView\":true,\"regDate\":\"20240228 13:50:23\",\"_id\":null,\"@type\":\"PC-NEWSSTAND-PRESS-BLOCK\",\"@code\":null,\"@template\":\"NONE\",\"@flowId\":null,\"@flowExecutionId\":null,\"@provider\":null,\"@lastModifiedAt\":null},{\"@type\":\"PC-NEWSSTAND-PRESS-BLOCK\",\"blocks\":null,\"materials\":null,\"excludeInPaging\":false,\"positionForPaging\":0,\"realtime\":false,\"pid\":\"996\",\"name\":\"매경헬스\",\"logoLight\":{\"url\":\"https://s.pstatic.net/static/newsstand/up/2023/0330/nsd10125746.png\"},\"logoDark\":{\"url\":\"https://s.pstatic.net/static/newsstand/up/2023/0330/nsd10148542.png\"},\"showThumbnailView\":true,\"showListView\":true,\"regDate\":\"20240228 13:50:25\",\"_id\":null,\"@type\":\"PC-NEWSSTAND-PRESS-BLOCK\",\"@code\":null,\"@template\":\"NONE\",\"@flowId\":null,\"@flowExecutionId\":null,\"@provider\":null,\"@lastModifiedAt\":null},{\"@type\":\"PC-NEWSSTAND-PRESS-BLOCK\",\"blocks\":null,\"materials\":null,\"excludeInPaging\":false,\"positionForPaging\":0,\"realtime\":false,\"pid\":\"997\",\"name\":\"뉴스펭귄\",\"logoLight\":{\"url\":\"https://s.pstatic.net/static/newsstand/up/2022/0405/nsd15024245.png\"},\"logoDark\":{\"url\":\"https://s.pstatic.net/static/newsstand/up/2022/0405/nsd15014578.png\"},\"showThumbnailView\":true,\"showListView\":true,\"regDate\":\"20240228 13:50:27\",\"_id\":null,\"@type\":\"PC-NEWSSTAND-PRESS-BLOCK\",\"@code\":null,\"@template\":\"NONE\",\"@flowId\":null,\"@flowExecutionId\":null,\"@provider\":null,\"@lastModifiedAt\":null},{\"@type\":\"PC-NEWSSTAND-PRESS-BLOCK\",\"blocks\":null,\"materials\":null,\"excludeInPaging\":false,\"positionForPaging\":0,\"realtime\":false,\"pid\":\"998\",\"name\":\"뉴스앤조이\",\"logoLight\":{\"url\":\"https://s.pstatic.net/static/newsstand/up/2022/0328/nsd22503109.png\"},\"logoDark\":{\"url\":\"https://s.pstatic.net/static/newsstand/up/2022/0328/nsd22509287.png\"},\"showThumbnailView\":true,\"showListView\":true,\"regDate\":\"20240228 13:50:26\",\"_id\":null,\"@type\":\"PC-NEWSSTAND-PRESS-BLOCK\",\"@code\":null,\"@template\":\"NONE\",\"@flowId\":null,\"@flowExecutionId\":null,\"@provider\":null,\"@lastModifiedAt\":null},{\"@type\":\"PC-NEWSSTAND-PRESS-BLOCK\",\"blocks\":null,\"materials\":null,\"excludeInPaging\":false,\"positionForPaging\":0,\"realtime\":false,\"pid\":\"081\",\"name\":\"서울신문\",\"logoLight\":{\"url\":\"https://s.pstatic.net/static/newsstand/up/2022/0208/nsd16121208.png\"},\"logoDark\":{\"url\":\"https://s.pstatic.net/static/newsstand/up/2022/0208/nsd161212576.png\"},\"showThumbnailView\":true,\"showListView\":true,\"regDate\":\"20240228 13:56:57\",\"_id\":null,\"@type\":\"PC-NEWSSTAND-PRESS-BLOCK\",\"@code\":null,\"@template\":\"NONE\",\"@flowId\":null,\"@flowExecutionId\":null,\"@provider\":null,\"@lastModifiedAt\":null},{\"@type\":\"PC-NEWSSTAND-PRESS-BLOCK\",\"blocks\":null,\"materials\":null,\"excludeInPaging\":false,\"positionForPaging\":0,\"realtime\":false,\"pid\":\"082\",\"name\":\"부산일보\",\"logoLight\":{\"url\":\"https://s.pstatic.net/static/newsstand/up/2021/0322/nsd21527882.png\"},\"logoDark\":{\"url\":\"https://s.pstatic.net/static/newsstand/up/2021/0322/nsd215225866.png\"},\"showThumbnailView\":true,\"showListView\":true,\"regDate\":\"20240228 12:59:14\",\"_id\":null,\"@type\":\"PC-NEWSSTAND-PRESS-BLOCK\",\"@code\":null,\"@template\":\"NONE\",\"@flowId\":null,\"@flowExecutionId\":null,\"@provider\":null,\"@lastModifiedAt\":null},{\"@type\":\"PC-NEWSSTAND-PRESS-BLOCK\",\"blocks\":null,\"materials\":null,\"excludeInPaging\":false,\"positionForPaging\":0,\"realtime\":false,\"pid\":\"083\",\"name\":\"광주일보\",\"logoLight\":{\"url\":\"https://s.pstatic.net/static/newsstand/up/2023/0309/nsd195548501.png\"},\"logoDark\":{\"url\":\"https://s.pstatic.net/static/newsstand/up/2023/0309/nsd1956932.png\"},\"showThumbnailView\":true,\"showListView\":true,\"regDate\":\"20240228 13:30:01\",\"_id\":null,\"@type\":\"PC-NEWSSTAND-PRESS-BLOCK\",\"@code\":null,\"@template\":\"NONE\",\"@flowId\":null,\"@flowExecutionId\":null,\"@provider\":null,\"@lastModifiedAt\":null},{\"@type\":\"PC-NEWSSTAND-PRESS-BLOCK\",\"blocks\":null,\"materials\":null,\"excludeInPaging\":false,\"positionForPaging\":0,\"realtime\":false,\"pid\":\"087\",\"name\":\"강원일보\",\"logoLight\":{\"url\":\"https://s.pstatic.net/static/newsstand/2020/logo/light/0604/087.png\"},\"logoDark\":{\"url\":\"https://s.pstatic.net/static/newsstand/2020/logo/dark/0604/087.png\"},\"showThumbnailView\":true,\"showListView\":true,\"regDate\":\"20240228 08:55:51\",\"_id\":null,\"@type\":\"PC-NEWSSTAND-PRESS-BLOCK\",\"@code\":null,\"@template\":\"NONE\",\"@flowId\":null,\"@flowExecutionId\":null,\"@provider\":null,\"@lastModifiedAt\":null},{\"@type\":\"PC-NEWSSTAND-PRESS-BLOCK\",\"blocks\":null,\"materials\":null,\"excludeInPaging\":false,\"positionForPaging\":0,\"realtime\":false,\"pid\":\"088\",\"name\":\"매일신문\",\"logoLight\":{\"url\":\"https://s.pstatic.net/static/newsstand/2020/logo/light/0604/088.png\"},\"logoDark\":{\"url\":\"https://s.pstatic.net/static/newsstand/2020/logo/dark/0604/088.png\"},\"showThumbnailView\":true,\"showListView\":true,\"regDate\":\"20240228 11:28:55\",\"_id\":null,\"@type\":\"PC-NEWSSTAND-PRESS-BLOCK\",\"@code\":null,\"@template\":\"NONE\",\"@flowId\":null,\"@flowExecutionId\":null,\"@provider\":null,\"@lastModifiedAt\":null},{\"@type\":\"PC-NEWSSTAND-PRESS-BLOCK\",\"blocks\":null,\"materials\":null,\"excludeInPaging\":false,\"positionForPaging\":0,\"realtime\":false,\"pid\":\"089\",\"name\":\"대전일보\",\"logoLight\":{\"url\":\"https://s.pstatic.net/static/newsstand/2020/logo/light/0604/089.png\"},\"logoDark\":{\"url\":\"https://s.pstatic.net/static/newsstand/2020/logo/dark/0604/089.png\"},\"showThumbnailView\":true,\"showListView\":true,\"regDate\":\"20240228 14:00:02\",\"_id\":null,\"@type\":\"PC-NEWSSTAND-PRESS-BLOCK\",\"@code\":null,\"@template\":\"NONE\",\"@flowId\":null,\"@flowExecutionId\":null,\"@provider\":null,\"@lastModifiedAt\":null},{\"@type\":\"PC-NEWSSTAND-PRESS-BLOCK\",\"blocks\":null,\"materials\":null,\"excludeInPaging\":false,\"positionForPaging\":0,\"realtime\":false,\"pid\":\"529\",\"name\":\"스포츠춘추\",\"logoLight\":{\"url\":\"https://s.pstatic.net/static/newsstand/up/2022/0116/nsd19454239.png\"},\"logoDark\":{\"url\":\"https://s.pstatic.net/static/newsstand/up/2022/0116/nsd194523259.png\"},\"showThumbnailView\":true,\"showListView\":true,\"regDate\":\"20240228 13:50:23\",\"_id\":null,\"@type\":\"PC-NEWSSTAND-PRESS-BLOCK\",\"@code\":null,\"@template\":\"NONE\",\"@flowId\":null,\"@flowExecutionId\":null,\"@provider\":null,\"@lastModifiedAt\":null},{\"@type\":\"PC-NEWSSTAND-PRESS-BLOCK\",\"blocks\":null,\"materials\":null,\"excludeInPaging\":false,\"positionForPaging\":0,\"realtime\":false,\"pid\":\"092\",\"name\":\"지디넷코리아\",\"logoLight\":{\"url\":\"https://s.pstatic.net/static/newsstand/up/2022/0905/nsd131925414.png\"},\"logoDark\":{\"url\":\"https://s.pstatic.net/static/newsstand/up/2022/0905/nsd91639628.png\"},\"showThumbnailView\":true,\"showListView\":true,\"regDate\":\"20240228 13:59:12\",\"_id\":null,\"@type\":\"PC-NEWSSTAND-PRESS-BLOCK\",\"@code\":null,\"@template\":\"NONE\",\"@flowId\":null,\"@flowExecutionId\":null,\"@provider\":null,\"@lastModifiedAt\":null},{\"@type\":\"PC-NEWSSTAND-PRESS-BLOCK\",\"blocks\":null,\"materials\":null,\"excludeInPaging\":false,\"positionForPaging\":0,\"realtime\":false,\"pid\":\"094\",\"name\":\"월간 산\",\"logoLight\":{\"url\":\"https://s.pstatic.net/static/newsstand/2020/logo/light/0604/094.png\"},\"logoDark\":{\"url\":\"https://s.pstatic.net/static/newsstand/2020/logo/dark/0604/094.png\"},\"showThumbnailView\":true,\"showListView\":true,\"regDate\":\"20240228 13:50:29\",\"_id\":null,\"@type\":\"PC-NEWSSTAND-PRESS-BLOCK\",\"@code\":null,\"@template\":\"NONE\",\"@flowId\":null,\"@flowExecutionId\":null,\"@provider\":null,\"@lastModifiedAt\":null},{\"@type\":\"PC-NEWSSTAND-PRESS-BLOCK\",\"blocks\":null,\"materials\":null,\"excludeInPaging\":false,\"positionForPaging\":0,\"realtime\":false,\"pid\":\"410\",\"name\":\"MK스포츠\",\"logoLight\":{\"url\":\"https://s.pstatic.net/static/newsstand/2020/logo/light/0604/410.png\"},\"logoDark\":{\"url\":\"https://s.pstatic.net/static/newsstand/2020/logo/dark/0604/410.png\"},\"showThumbnailView\":true,\"showListView\":true,\"regDate\":\"20240228 14:00:01\",\"_id\":null,\"@type\":\"PC-NEWSSTAND-PRESS-BLOCK\",\"@code\":null,\"@template\":\"NONE\",\"@flowId\":null,\"@flowExecutionId\":null,\"@provider\":null,\"@lastModifiedAt\":null},{\"@type\":\"PC-NEWSSTAND-PRESS-BLOCK\",\"blocks\":null,\"materials\":null,\"excludeInPaging\":false,\"positionForPaging\":0,\"realtime\":false,\"pid\":\"536\",\"name\":\"더팩트\",\"logoLight\":{\"url\":\"https://s.pstatic.net/static/newsstand/2020/logo/light/0604/536.png\"},\"logoDark\":{\"url\":\"https://s.pstatic.net/static/newsstand/2020/logo/dark/0604/536.png\"},\"showThumbnailView\":true,\"showListView\":true,\"regDate\":\"20240228 13:47:36\",\"_id\":null,\"@type\":\"PC-NEWSSTAND-PRESS-BLOCK\",\"@code\":null,\"@template\":\"NONE\",\"@flowId\":null,\"@flowExecutionId\":null,\"@provider\":null,\"@lastModifiedAt\":null},{\"@type\":\"PC-NEWSSTAND-PRESS-BLOCK\",\"blocks\":null,\"materials\":null,\"excludeInPaging\":false,\"positionForPaging\":0,\"realtime\":false,\"pid\":\"416\",\"name\":\"SBS연예뉴스\",\"logoLight\":{\"url\":\"https://s.pstatic.net/static/newsstand/up/2020/1228/nsd1681569.png\"},\"logoDark\":{\"url\":\"https://s.pstatic.net/static/newsstand/up/2020/1228/nsd1688305.png\"},\"showThumbnailView\":true,\"showListView\":true,\"regDate\":\"20240228 14:01:22\",\"_id\":null,\"@type\":\"PC-NEWSSTAND-PRESS-BLOCK\",\"@code\":null,\"@template\":\"NONE\",\"@flowId\":null,\"@flowExecutionId\":null,\"@provider\":null,\"@lastModifiedAt\":null},{\"@type\":\"PC-NEWSSTAND-PRESS-BLOCK\",\"blocks\":null,\"materials\":null,\"excludeInPaging\":false,\"positionForPaging\":0,\"realtime\":false,\"pid\":\"417\",\"name\":\"머니S\",\"logoLight\":{\"url\":\"https://s.pstatic.net/static/newsstand/2020/logo/light/0604/417.png\"},\"logoDark\":{\"url\":\"https://s.pstatic.net/static/newsstand/2020/logo/dark/0604/417.png\"},\"showThumbnailView\":true,\"showListView\":true,\"regDate\":\"20240228 13:55:33\",\"_id\":null,\"@type\":\"PC-NEWSSTAND-PRESS-BLOCK\",\"@code\":null,\"@template\":\"NONE\",\"@flowId\":null,\"@flowExecutionId\":null,\"@provider\":null,\"@lastModifiedAt\":null},{\"@type\":\"PC-NEWSSTAND-PRESS-BLOCK\",\"blocks\":null,\"materials\":null,\"excludeInPaging\":false,\"positionForPaging\":0,\"realtime\":false,\"pid\":\"539\",\"name\":\"위키트리\",\"logoLight\":{\"url\":\"https://s.pstatic.net/static/newsstand/2020/logo/light/0604/539.png\"},\"logoDark\":{\"url\":\"https://s.pstatic.net/static/newsstand/2020/logo/dark/0604/539.png\"},\"showThumbnailView\":true,\"showListView\":true,\"regDate\":\"20240228 13:55:32\",\"_id\":null,\"@type\":\"PC-NEWSSTAND-PRESS-BLOCK\",\"@code\":null,\"@template\":\"NONE\",\"@flowId\":null,\"@flowExecutionId\":null,\"@provider\":null,\"@lastModifiedAt\":null},{\"@type\":\"PC-NEWSSTAND-PRESS-BLOCK\",\"blocks\":null,\"materials\":null,\"excludeInPaging\":false,\"positionForPaging\":0,\"realtime\":false,\"pid\":\"421\",\"name\":\"뉴스1\",\"logoLight\":{\"url\":\"https://s.pstatic.net/static/newsstand/2020/logo/light/0604/421.png\"},\"logoDark\":{\"url\":\"https://s.pstatic.net/static/newsstand/2020/logo/dark/0604/421.png\"},\"showThumbnailView\":true,\"showListView\":true,\"regDate\":\"20240228 13:49:03\",\"_id\":null,\"@type\":\"PC-NEWSSTAND-PRESS-BLOCK\",\"@code\":null,\"@template\":\"NONE\",\"@flowId\":null,\"@flowExecutionId\":null,\"@provider\":null,\"@lastModifiedAt\":null},{\"@type\":\"PC-NEWSSTAND-PRESS-BLOCK\",\"blocks\":null,\"materials\":null,\"excludeInPaging\":false,\"positionForPaging\":0,\"realtime\":false,\"pid\":\"301\",\"name\":\"광주드림\",\"logoLight\":{\"url\":\"https://s.pstatic.net/static/newsstand/2020/logo/light/0604/301.png\"},\"logoDark\":{\"url\":\"https://s.pstatic.net/static/newsstand/2020/logo/dark/0604/301.png\"},\"showThumbnailView\":true,\"showListView\":true,\"regDate\":\"20240228 13:50:19\",\"_id\":null,\"@type\":\"PC-NEWSSTAND-PRESS-BLOCK\",\"@code\":null,\"@template\":\"NONE\",\"@flowId\":null,\"@flowExecutionId\":null,\"@provider\":null,\"@lastModifiedAt\":null},{\"@type\":\"PC-NEWSSTAND-PRESS-BLOCK\",\"blocks\":null,\"materials\":null,\"excludeInPaging\":false,\"positionForPaging\":0,\"realtime\":false,\"pid\":\"422\",\"name\":\"연합뉴스TV\",\"logoLight\":{\"url\":\"https://s.pstatic.net/static/newsstand/2020/logo/light/0604/422.png\"},\"logoDark\":{\"url\":\"https://s.pstatic.net/static/newsstand/2020/logo/dark/0604/422.png\"},\"showThumbnailView\":true,\"showListView\":true,\"regDate\":\"20240228 14:01:15\",\"_id\":null,\"@type\":\"PC-NEWSSTAND-PRESS-BLOCK\",\"@code\":null,\"@template\":\"NONE\",\"@flowId\":null,\"@flowExecutionId\":null,\"@provider\":null,\"@lastModifiedAt\":null},{\"@type\":\"PC-NEWSSTAND-PRESS-BLOCK\",\"blocks\":null,\"materials\":null,\"excludeInPaging\":false,\"positionForPaging\":0,\"realtime\":false,\"pid\":\"308\",\"name\":\"시사IN\",\"logoLight\":{\"url\":\"https://s.pstatic.net/static/newsstand/2020/logo/light/0604/308.png\"},\"logoDark\":{\"url\":\"https://s.pstatic.net/static/newsstand/2020/logo/dark/0604/308.png\"},\"showThumbnailView\":true,\"showListView\":true,\"regDate\":\"20240228 06:34:23\",\"_id\":null,\"@type\":\"PC-NEWSSTAND-PRESS-BLOCK\",\"@code\":null,\"@template\":\"NONE\",\"@flowId\":null,\"@flowExecutionId\":null,\"@provider\":null,\"@lastModifiedAt\":null},{\"@type\":\"PC-NEWSSTAND-PRESS-BLOCK\",\"blocks\":null,\"materials\":null,\"excludeInPaging\":false,\"positionForPaging\":0,\"realtime\":false,\"pid\":\"310\",\"name\":\"여성신문\",\"logoLight\":{\"url\":\"https://s.pstatic.net/static/newsstand/2020/logo/light/0604/310.png\"},\"logoDark\":{\"url\":\"https://s.pstatic.net/static/newsstand/2020/logo/dark/0604/310.png\"},\"showThumbnailView\":true,\"showListView\":true,\"regDate\":\"20240228 13:50:02\",\"_id\":null,\"@type\":\"PC-NEWSSTAND-PRESS-BLOCK\",\"@code\":null,\"@template\":\"NONE\",\"@flowId\":null,\"@flowExecutionId\":null,\"@provider\":null,\"@lastModifiedAt\":null},{\"@type\":\"PC-NEWSSTAND-PRESS-BLOCK\",\"blocks\":null,\"materials\":null,\"excludeInPaging\":false,\"positionForPaging\":0,\"realtime\":false,\"pid\":\"311\",\"name\":\"엑스포츠뉴스\",\"logoLight\":{\"url\":\"https://s.pstatic.net/static/newsstand/2020/logo/light/0604/311.png\"},\"logoDark\":{\"url\":\"https://s.pstatic.net/static/newsstand/2020/logo/dark/0604/311.png\"},\"showThumbnailView\":true,\"showListView\":true,\"regDate\":\"20240228 13:51:37\",\"_id\":null,\"@type\":\"PC-NEWSSTAND-PRESS-BLOCK\",\"@code\":null,\"@template\":\"NONE\",\"@flowId\":null,\"@flowExecutionId\":null,\"@provider\":null,\"@lastModifiedAt\":null},{\"@type\":\"PC-NEWSSTAND-PRESS-BLOCK\",\"blocks\":null,\"materials\":null,\"excludeInPaging\":false,\"positionForPaging\":0,\"realtime\":false,\"pid\":\"312\",\"name\":\"텐아시아\",\"logoLight\":{\"url\":\"https://s.pstatic.net/static/newsstand/2020/logo/light/0604/312.png\"},\"logoDark\":{\"url\":\"https://s.pstatic.net/static/newsstand/2020/logo/dark/0604/312.png\"},\"showThumbnailView\":true,\"showListView\":true,\"regDate\":\"20240228 07:00:57\",\"_id\":null,\"@type\":\"PC-NEWSSTAND-PRESS-BLOCK\",\"@code\":null,\"@template\":\"NONE\",\"@flowId\":null,\"@flowExecutionId\":null,\"@provider\":null,\"@lastModifiedAt\":null},{\"@type\":\"PC-NEWSSTAND-PRESS-BLOCK\",\"blocks\":null,\"materials\":null,\"excludeInPaging\":false,\"positionForPaging\":0,\"realtime\":false,\"pid\":\"314\",\"name\":\"스포츠동아\",\"logoLight\":{\"url\":\"https://s.pstatic.net/static/newsstand/2020/logo/light/0604/314.png\"},\"logoDark\":{\"url\":\"https://s.pstatic.net/static/newsstand/2020/logo/dark/0604/314.png\"},\"showThumbnailView\":true,\"showListView\":true,\"regDate\":\"20240228 10:56:56\",\"_id\":null,\"@type\":\"PC-NEWSSTAND-PRESS-BLOCK\",\"@code\":null,\"@template\":\"NONE\",\"@flowId\":null,\"@flowExecutionId\":null,\"@provider\":null,\"@lastModifiedAt\":null},{\"@type\":\"PC-NEWSSTAND-PRESS-BLOCK\",\"blocks\":null,\"materials\":null,\"excludeInPaging\":false,\"positionForPaging\":0,\"realtime\":false,\"pid\":\"681\",\"name\":\"이코노타임즈\",\"logoLight\":{\"url\":\"https://s.pstatic.net/static/newsstand/up/2022/0615/nsd7251644.png\"},\"logoDark\":{\"url\":\"https://s.pstatic.net/static/newsstand/up/2022/0615/nsd7244919.png\"},\"showThumbnailView\":true,\"showListView\":true,\"regDate\":\"20240223 10:26:27\",\"_id\":null,\"@type\":\"PC-NEWSSTAND-PRESS-BLOCK\",\"@code\":null,\"@template\":\"NONE\",\"@flowId\":null,\"@flowExecutionId\":null,\"@provider\":null,\"@lastModifiedAt\":null},{\"@type\":\"PC-NEWSSTAND-PRESS-BLOCK\",\"blocks\":null,\"materials\":null,\"excludeInPaging\":false,\"positionForPaging\":0,\"realtime\":false,\"pid\":\"440\",\"name\":\"티브이데일리\",\"logoLight\":{\"url\":\"https://s.pstatic.net/static/newsstand/2020/logo/light/0604/440.png\"},\"logoDark\":{\"url\":\"https://s.pstatic.net/static/newsstand/2020/logo/dark/0604/440.png\"},\"showThumbnailView\":true,\"showListView\":true,\"regDate\":\"20240228 13:50:01\",\"_id\":null,\"@type\":\"PC-NEWSSTAND-PRESS-BLOCK\",\"@code\":null,\"@template\":\"NONE\",\"@flowId\":null,\"@flowExecutionId\":null,\"@provider\":null,\"@lastModifiedAt\":null},{\"@type\":\"PC-NEWSSTAND-PRESS-BLOCK\",\"blocks\":null,\"materials\":null,\"excludeInPaging\":false,\"positionForPaging\":0,\"realtime\":false,\"pid\":\"682\",\"name\":\"여성경제신문\",\"logoLight\":{\"url\":\"https://s.pstatic.net/static/newsstand/up/2022/1018/nsd132851977.png\"},\"logoDark\":{\"url\":\"https://s.pstatic.net/static/newsstand/up/2022/1018/nsd132844419.png\"},\"showThumbnailView\":true,\"showListView\":true,\"regDate\":\"20240228 13:50:31\",\"_id\":null,\"@type\":\"PC-NEWSSTAND-PRESS-BLOCK\",\"@code\":null,\"@template\":\"NONE\",\"@flowId\":null,\"@flowExecutionId\":null,\"@provider\":null,\"@lastModifiedAt\":null},{\"@type\":\"PC-NEWSSTAND-PRESS-BLOCK\",\"blocks\":null,\"materials\":null,\"excludeInPaging\":false,\"positionForPaging\":0,\"realtime\":false,\"pid\":\"683\",\"name\":\"MS투데이\",\"logoLight\":{\"url\":\"https://s.pstatic.net/static/newsstand/up/2022/1017/nsd202940832.png\"},\"logoDark\":{\"url\":\"https://s.pstatic.net/static/newsstand/up/2022/1017/nsd202933363.png\"},\"showThumbnailView\":true,\"showListView\":true,\"regDate\":\"20240228 13:50:31\",\"_id\":null,\"@type\":\"PC-NEWSSTAND-PRESS-BLOCK\",\"@code\":null,\"@template\":\"NONE\",\"@flowId\":null,\"@flowExecutionId\":null,\"@provider\":null,\"@lastModifiedAt\":null},{\"@type\":\"PC-NEWSSTAND-PRESS-BLOCK\",\"blocks\":null,\"materials\":null,\"excludeInPaging\":false,\"positionForPaging\":0,\"realtime\":false,\"pid\":\"684\",\"name\":\"TJB대전방송\",\"logoLight\":{\"url\":\"https://s.pstatic.net/static/newsstand/up/2023/0103/nsd95227559.png\"},\"logoDark\":{\"url\":\"https://s.pstatic.net/static/newsstand/up/2023/0103/nsd9522095.png\"},\"showThumbnailView\":true,\"showListView\":true,\"regDate\":\"20240228 08:00:01\",\"_id\":null,\"@type\":\"PC-NEWSSTAND-PRESS-BLOCK\",\"@code\":null,\"@template\":\"NONE\",\"@flowId\":null,\"@flowExecutionId\":null,\"@provider\":null,\"@lastModifiedAt\":null},{\"@type\":\"PC-NEWSSTAND-PRESS-BLOCK\",\"blocks\":null,\"materials\":null,\"excludeInPaging\":false,\"positionForPaging\":0,\"realtime\":false,\"pid\":\"685\",\"name\":\"서울와이어\",\"logoLight\":{\"url\":\"https://s.pstatic.net/static/newsstand/up/2022/1024/nsd174430433.png\"},\"logoDark\":{\"url\":\"https://s.pstatic.net/static/newsstand/up/2022/1024/nsd174424325.png\"},\"showThumbnailView\":true,\"showListView\":true,\"regDate\":\"20240228 13:50:31\",\"_id\":null,\"@type\":\"PC-NEWSSTAND-PRESS-BLOCK\",\"@code\":null,\"@template\":\"NONE\",\"@flowId\":null,\"@flowExecutionId\":null,\"@provider\":null,\"@lastModifiedAt\":null},{\"@type\":\"PC-NEWSSTAND-PRESS-BLOCK\",\"blocks\":null,\"materials\":null,\"excludeInPaging\":false,\"positionForPaging\":0,\"realtime\":false,\"pid\":\"686\",\"name\":\"주간경향\",\"logoLight\":{\"url\":\"https://s.pstatic.net/static/newsstand/up/2022/1007/nsd161849944.png\"},\"logoDark\":{\"url\":\"https://s.pstatic.net/static/newsstand/up/2022/1007/nsd161842489.png\"},\"showThumbnailView\":true,\"showListView\":true,\"regDate\":\"20240228 06:47:56\",\"_id\":null,\"@type\":\"PC-NEWSSTAND-PRESS-BLOCK\",\"@code\":null,\"@template\":\"NONE\",\"@flowId\":null,\"@flowExecutionId\":null,\"@provider\":null,\"@lastModifiedAt\":null},{\"@type\":\"PC-NEWSSTAND-PRESS-BLOCK\",\"blocks\":null,\"materials\":null,\"excludeInPaging\":false,\"positionForPaging\":0,\"realtime\":false,\"pid\":\"687\",\"name\":\"뉴스클레임\",\"logoLight\":{\"url\":\"https://s.pstatic.net/static/newsstand/up/2022/1006/nsd205818702.png\"},\"logoDark\":{\"url\":\"https://s.pstatic.net/static/newsstand/up/2022/1006/nsd205810265.png\"},\"showThumbnailView\":true,\"showListView\":true,\"regDate\":\"20240228 13:50:30\",\"_id\":null,\"@type\":\"PC-NEWSSTAND-PRESS-BLOCK\",\"@code\":null,\"@template\":\"NONE\",\"@flowId\":null,\"@flowExecutionId\":null,\"@provider\":null,\"@lastModifiedAt\":null},{\"@type\":\"PC-NEWSSTAND-PRESS-BLOCK\",\"blocks\":null,\"materials\":null,\"excludeInPaging\":false,\"positionForPaging\":0,\"realtime\":false,\"pid\":\"688\",\"name\":\"경기신문\",\"logoLight\":{\"url\":\"https://s.pstatic.net/static/newsstand/up/2022/1017/nsd202616515.png\"},\"logoDark\":{\"url\":\"https://s.pstatic.net/static/newsstand/up/2022/1017/nsd20268714.png\"},\"showThumbnailView\":true,\"showListView\":true,\"regDate\":\"20240228 13:50:01\",\"_id\":null,\"@type\":\"PC-NEWSSTAND-PRESS-BLOCK\",\"@code\":null,\"@template\":\"NONE\",\"@flowId\":null,\"@flowExecutionId\":null,\"@provider\":null,\"@lastModifiedAt\":null},{\"@type\":\"PC-NEWSSTAND-PRESS-BLOCK\",\"blocks\":null,\"materials\":null,\"excludeInPaging\":false,\"positionForPaging\":0,\"realtime\":false,\"pid\":\"326\",\"name\":\"KBS World\",\"logoLight\":{\"url\":\"https://s.pstatic.net/static/newsstand/2020/logo/light/0604/326.png\"},\"logoDark\":{\"url\":\"https://s.pstatic.net/static/newsstand/2020/logo/dark/0604/326.png\"},\"showThumbnailView\":true,\"showListView\":true,\"regDate\":\"20240228 13:43:43\",\"_id\":null,\"@type\":\"PC-NEWSSTAND-PRESS-BLOCK\",\"@code\":null,\"@template\":\"NONE\",\"@flowId\":null,\"@flowExecutionId\":null,\"@provider\":null,\"@lastModifiedAt\":null},{\"@type\":\"PC-NEWSSTAND-PRESS-BLOCK\",\"blocks\":null,\"materials\":null,\"excludeInPaging\":false,\"positionForPaging\":0,\"realtime\":false,\"pid\":\"447\",\"name\":\"뉴스엔\",\"logoLight\":{\"url\":\"https://s.pstatic.net/static/newsstand/2020/logo/light/0604/447.png\"},\"logoDark\":{\"url\":\"https://s.pstatic.net/static/newsstand/2020/logo/dark/0604/447.png\"},\"showThumbnailView\":true,\"showListView\":true,\"regDate\":\"20240228 11:16:36\",\"_id\":null,\"@type\":\"PC-NEWSSTAND-PRESS-BLOCK\",\"@code\":null,\"@template\":\"NONE\",\"@flowId\":null,\"@flowExecutionId\":null,\"@provider\":null,\"@lastModifiedAt\":null},{\"@type\":\"PC-NEWSSTAND-PRESS-BLOCK\",\"blocks\":null,\"materials\":null,\"excludeInPaging\":false,\"positionForPaging\":0,\"realtime\":false,\"pid\":\"689\",\"name\":\"인천투데이\",\"logoLight\":{\"url\":\"https://s.pstatic.net/static/newsstand/up/2022/1107/nsd1054226.png\"},\"logoDark\":{\"url\":\"https://s.pstatic.net/static/newsstand/up/2022/1107/nsd105354391.png\"},\"showThumbnailView\":true,\"showListView\":true,\"regDate\":\"20240228 13:50:30\",\"_id\":null,\"@type\":\"PC-NEWSSTAND-PRESS-BLOCK\",\"@code\":null,\"@template\":\"NONE\",\"@flowId\":null,\"@flowExecutionId\":null,\"@provider\":null,\"@lastModifiedAt\":null},{\"@type\":\"PC-NEWSSTAND-PRESS-BLOCK\",\"blocks\":null,\"materials\":null,\"excludeInPaging\":false,\"positionForPaging\":0,\"realtime\":false,\"pid\":\"327\",\"name\":\"뉴데일리\",\"logoLight\":{\"url\":\"https://s.pstatic.net/static/newsstand/up/2024/0124/nsd95528325.png\"},\"logoDark\":{\"url\":\"https://s.pstatic.net/static/newsstand/up/2024/0124/nsd95520363.png\"},\"showThumbnailView\":true,\"showListView\":true,\"regDate\":\"20240228 13:50:11\",\"_id\":null,\"@type\":\"PC-NEWSSTAND-PRESS-BLOCK\",\"@code\":null,\"@template\":\"NONE\",\"@flowId\":null,\"@flowExecutionId\":null,\"@provider\":null,\"@lastModifiedAt\":null},{\"@type\":\"PC-NEWSSTAND-PRESS-BLOCK\",\"blocks\":null,\"materials\":null,\"excludeInPaging\":false,\"positionForPaging\":0,\"realtime\":false,\"pid\":\"328\",\"name\":\"에이블뉴스\",\"logoLight\":{\"url\":\"https://s.pstatic.net/static/newsstand/2020/logo/light/0604/328.png\"},\"logoDark\":{\"url\":\"https://s.pstatic.net/static/newsstand/2020/logo/dark/0604/328.png\"},\"showThumbnailView\":true,\"showListView\":true,\"regDate\":\"20240228 13:50:32\",\"_id\":null,\"@type\":\"PC-NEWSSTAND-PRESS-BLOCK\",\"@code\":null,\"@template\":\"NONE\",\"@flowId\":null,\"@flowExecutionId\":null,\"@provider\":null,\"@lastModifiedAt\":null},{\"@type\":\"PC-NEWSSTAND-PRESS-BLOCK\",\"blocks\":null,\"materials\":null,\"excludeInPaging\":false,\"positionForPaging\":0,\"realtime\":false,\"pid\":\"329\",\"name\":\"소년한국일보\",\"logoLight\":{\"url\":\"https://s.pstatic.net/static/newsstand/up/2021/0728/nsd1110888.png\"},\"logoDark\":{\"url\":\"https://s.pstatic.net/static/newsstand/up/2021/0728/nsd111059924.png\"},\"showThumbnailView\":true,\"showListView\":true,\"regDate\":\"20240228 13:50:21\",\"_id\":null,\"@type\":\"PC-NEWSSTAND-PRESS-BLOCK\",\"@code\":null,\"@template\":\"NONE\",\"@flowId\":null,\"@flowExecutionId\":null,\"@provider\":null,\"@lastModifiedAt\":null},{\"@type\":\"PC-NEWSSTAND-PRESS-BLOCK\",\"blocks\":null,\"materials\":null,\"excludeInPaging\":false,\"positionForPaging\":0,\"realtime\":false,\"pid\":\"690\",\"name\":\"정책브리핑\",\"logoLight\":{\"url\":\"https://s.pstatic.net/static/newsstand/up/2022/1116/nsd113848865.png\"},\"logoDark\":{\"url\":\"https://s.pstatic.net/static/newsstand/up/2022/1116/nsd113840778.png\"},\"showThumbnailView\":true,\"showListView\":true,\"regDate\":\"20240228 13:42:00\",\"_id\":null,\"@type\":\"PC-NEWSSTAND-PRESS-BLOCK\",\"@code\":null,\"@template\":\"NONE\",\"@flowId\":null,\"@flowExecutionId\":null,\"@provider\":null,\"@lastModifiedAt\":null},{\"@type\":\"PC-NEWSSTAND-PRESS-BLOCK\",\"blocks\":null,\"materials\":null,\"excludeInPaging\":false,\"positionForPaging\":0,\"realtime\":false,\"pid\":\"691\",\"name\":\"여성동아\",\"logoLight\":{\"url\":\"https://s.pstatic.net/static/newsstand/up/2023/0418/nsd124451202.png\"},\"logoDark\":{\"url\":\"https://s.pstatic.net/static/newsstand/up/2023/0418/nsd124439166.png\"},\"showThumbnailView\":true,\"showListView\":true,\"regDate\":\"20240228 09:10:52\",\"_id\":null,\"@type\":\"PC-NEWSSTAND-PRESS-BLOCK\",\"@code\":null,\"@template\":\"NONE\",\"@flowId\":null,\"@flowExecutionId\":null,\"@provider\":null,\"@lastModifiedAt\":null},{\"@type\":\"PC-NEWSSTAND-PRESS-BLOCK\",\"blocks\":null,\"materials\":null,\"excludeInPaging\":false,\"positionForPaging\":0,\"realtime\":false,\"pid\":\"330\",\"name\":\"중앙데일리\",\"logoLight\":{\"url\":\"https://s.pstatic.net/static/newsstand/2020/logo/light/0604/330.png\"},\"logoDark\":{\"url\":\"https://s.pstatic.net/static/newsstand/2020/logo/dark/0604/330.png\"},\"showThumbnailView\":true,\"showListView\":true,\"regDate\":\"20240228 11:20:50\",\"_id\":null,\"@type\":\"PC-NEWSSTAND-PRESS-BLOCK\",\"@code\":null,\"@template\":\"NONE\",\"@flowId\":null,\"@flowExecutionId\":null,\"@provider\":null,\"@lastModifiedAt\":null},{\"@type\":\"PC-NEWSSTAND-PRESS-BLOCK\",\"blocks\":null,\"materials\":null,\"excludeInPaging\":false,\"positionForPaging\":0,\"realtime\":false,\"pid\":\"331\",\"name\":\"충청투데이\",\"logoLight\":{\"url\":\"https://s.pstatic.net/static/newsstand/2020/logo/light/0604/331.png\"},\"logoDark\":{\"url\":\"https://s.pstatic.net/static/newsstand/2020/logo/dark/0604/331.png\"},\"showThumbnailView\":true,\"showListView\":true,\"regDate\":\"20240228 13:19:55\",\"_id\":null,\"@type\":\"PC-NEWSSTAND-PRESS-BLOCK\",\"@code\":null,\"@template\":\"NONE\",\"@flowId\":null,\"@flowExecutionId\":null,\"@provider\":null,\"@lastModifiedAt\":null},{\"@type\":\"PC-NEWSSTAND-PRESS-BLOCK\",\"blocks\":null,\"materials\":null,\"excludeInPaging\":false,\"positionForPaging\":0,\"realtime\":false,\"pid\":\"332\",\"name\":\"국제신문\",\"logoLight\":{\"url\":\"https://s.pstatic.net/static/newsstand/2020/logo/light/0604/332.png\"},\"logoDark\":{\"url\":\"https://s.pstatic.net/static/newsstand/2020/logo/dark/0604/332.png\"},\"showThumbnailView\":true,\"showListView\":true,\"regDate\":\"20240227 22:36:45\",\"_id\":null,\"@type\":\"PC-NEWSSTAND-PRESS-BLOCK\",\"@code\":null,\"@template\":\"NONE\",\"@flowId\":null,\"@flowExecutionId\":null,\"@provider\":null,\"@lastModifiedAt\":null},{\"@type\":\"PC-NEWSSTAND-PRESS-BLOCK\",\"blocks\":null,\"materials\":null,\"excludeInPaging\":false,\"positionForPaging\":0,\"realtime\":false,\"pid\":\"333\",\"name\":\"경남신문\",\"logoLight\":{\"url\":\"https://s.pstatic.net/static/newsstand/2020/logo/light/0604/333.png\"},\"logoDark\":{\"url\":\"https://s.pstatic.net/static/newsstand/2020/logo/dark/0604/333.png\"},\"showThumbnailView\":true,\"showListView\":true,\"regDate\":\"20240228 13:01:05\",\"_id\":null,\"@type\":\"PC-NEWSSTAND-PRESS-BLOCK\",\"@code\":null,\"@template\":\"NONE\",\"@flowId\":null,\"@flowExecutionId\":null,\"@provider\":null,\"@lastModifiedAt\":null},{\"@type\":\"PC-NEWSSTAND-PRESS-BLOCK\",\"blocks\":null,\"materials\":null,\"excludeInPaging\":false,\"positionForPaging\":0,\"realtime\":false,\"pid\":\"213\",\"name\":\"TV리포트\",\"logoLight\":{\"url\":\"https://s.pstatic.net/static/newsstand/up/2023/0714/nsd125517690.png\"},\"logoDark\":{\"url\":\"https://s.pstatic.net/static/newsstand/up/2023/0714/nsd125510155.png\"},\"showThumbnailView\":true,\"showListView\":true,\"regDate\":\"20240228 11:59:53\",\"_id\":null,\"@type\":\"PC-NEWSSTAND-PRESS-BLOCK\",\"@code\":null,\"@template\":\"NONE\",\"@flowId\":null,\"@flowExecutionId\":null,\"@provider\":null,\"@lastModifiedAt\":null},{\"@type\":\"PC-NEWSSTAND-PRESS-BLOCK\",\"blocks\":null,\"materials\":null,\"excludeInPaging\":false,\"positionForPaging\":0,\"realtime\":false,\"pid\":\"334\",\"name\":\"제주의소리\",\"logoLight\":{\"url\":\"https://s.pstatic.net/static/newsstand/2020/logo/light/0604/334.png\"},\"logoDark\":{\"url\":\"https://s.pstatic.net/static/newsstand/2020/logo/dark/0604/334.png\"},\"showThumbnailView\":true,\"showListView\":true,\"regDate\":\"20240228 11:05:42\",\"_id\":null,\"@type\":\"PC-NEWSSTAND-PRESS-BLOCK\",\"@code\":null,\"@template\":\"NONE\",\"@flowId\":null,\"@flowExecutionId\":null,\"@provider\":null,\"@lastModifiedAt\":null},{\"@type\":\"PC-NEWSSTAND-PRESS-BLOCK\",\"blocks\":null,\"materials\":null,\"excludeInPaging\":false,\"positionForPaging\":0,\"realtime\":false,\"pid\":\"214\",\"name\":\"MBC\",\"logoLight\":{\"url\":\"https://s.pstatic.net/static/newsstand/2020/logo/light/0604/214.png\"},\"logoDark\":{\"url\":\"https://s.pstatic.net/static/newsstand/2020/logo/dark/0604/214.png\"},\"showThumbnailView\":true,\"showListView\":true,\"regDate\":\"20240228 13:32:24\",\"_id\":null,\"@type\":\"PC-NEWSSTAND-PRESS-BLOCK\",\"@code\":null,\"@template\":\"NONE\",\"@flowId\":null,\"@flowExecutionId\":null,\"@provider\":null,\"@lastModifiedAt\":null},{\"@type\":\"PC-NEWSSTAND-PRESS-BLOCK\",\"blocks\":null,\"materials\":null,\"excludeInPaging\":false,\"positionForPaging\":0,\"realtime\":false,\"pid\":\"335\",\"name\":\"강원도민일보\",\"logoLight\":{\"url\":\"https://s.pstatic.net/static/newsstand/2020/logo/light/0604/335.png\"},\"logoDark\":{\"url\":\"https://s.pstatic.net/static/newsstand/2020/logo/dark/0604/335.png\"},\"showThumbnailView\":true,\"showListView\":true,\"regDate\":\"20240228 00:15:17\",\"_id\":null,\"@type\":\"PC-NEWSSTAND-PRESS-BLOCK\",\"@code\":null,\"@template\":\"NONE\",\"@flowId\":null,\"@flowExecutionId\":null,\"@provider\":null,\"@lastModifiedAt\":null},{\"@type\":\"PC-NEWSSTAND-PRESS-BLOCK\",\"blocks\":null,\"materials\":null,\"excludeInPaging\":false,\"positionForPaging\":0,\"realtime\":false,\"pid\":\"215\",\"name\":\"한국경제TV\",\"logoLight\":{\"url\":\"https://s.pstatic.net/static/newsstand/2020/logo/light/0604/215.png\"},\"logoDark\":{\"url\":\"https://s.pstatic.net/static/newsstand/2020/logo/dark/0604/215.png\"},\"showThumbnailView\":true,\"showListView\":true,\"regDate\":\"20240228 14:00:00\",\"_id\":null,\"@type\":\"PC-NEWSSTAND-PRESS-BLOCK\",\"@code\":null,\"@template\":\"NONE\",\"@flowId\":null,\"@flowExecutionId\":null,\"@provider\":null,\"@lastModifiedAt\":null},{\"@type\":\"PC-NEWSSTAND-PRESS-BLOCK\",\"blocks\":null,\"materials\":null,\"excludeInPaging\":false,\"positionForPaging\":0,\"realtime\":false,\"pid\":\"336\",\"name\":\"전북일보\",\"logoLight\":{\"url\":\"https://s.pstatic.net/static/newsstand/2020/logo/light/0604/336.png\"},\"logoDark\":{\"url\":\"https://s.pstatic.net/static/newsstand/2020/logo/dark/0604/336.png\"},\"showThumbnailView\":true,\"showListView\":true,\"regDate\":\"20240226 20:16:26\",\"_id\":null,\"@type\":\"PC-NEWSSTAND-PRESS-BLOCK\",\"@code\":null,\"@template\":\"NONE\",\"@flowId\":null,\"@flowExecutionId\":null,\"@provider\":null,\"@lastModifiedAt\":null},{\"@type\":\"PC-NEWSSTAND-PRESS-BLOCK\",\"blocks\":null,\"materials\":null,\"excludeInPaging\":false,\"positionForPaging\":0,\"realtime\":false,\"pid\":\"337\",\"name\":\"경북일보\",\"logoLight\":{\"url\":\"https://s.pstatic.net/static/newsstand/2020/logo/light/0604/337.png\"},\"logoDark\":{\"url\":\"https://s.pstatic.net/static/newsstand/2020/logo/dark/0604/337.png\"},\"showThumbnailView\":true,\"showListView\":true,\"regDate\":\"20240228 07:32:18\",\"_id\":null,\"@type\":\"PC-NEWSSTAND-PRESS-BLOCK\",\"@code\":null,\"@template\":\"NONE\",\"@flowId\":null,\"@flowExecutionId\":null,\"@provider\":null,\"@lastModifiedAt\":null},{\"@type\":\"PC-NEWSSTAND-PRESS-BLOCK\",\"blocks\":null,\"materials\":null,\"excludeInPaging\":false,\"positionForPaging\":0,\"realtime\":false,\"pid\":\"338\",\"name\":\"경인일보\",\"logoLight\":{\"url\":\"https://s.pstatic.net/static/newsstand/2020/logo/light/0604/338.png\"},\"logoDark\":{\"url\":\"https://s.pstatic.net/static/newsstand/2020/logo/dark/0604/338.png\"},\"showThumbnailView\":true,\"showListView\":true,\"regDate\":\"20240227 21:16:47\",\"_id\":null,\"@type\":\"PC-NEWSSTAND-PRESS-BLOCK\",\"@code\":null,\"@template\":\"NONE\",\"@flowId\":null,\"@flowExecutionId\":null,\"@provider\":null,\"@lastModifiedAt\":null},{\"@type\":\"PC-NEWSSTAND-PRESS-BLOCK\",\"blocks\":null,\"materials\":null,\"excludeInPaging\":false,\"positionForPaging\":0,\"realtime\":false,\"pid\":\"339\",\"name\":\"경기일보\",\"logoLight\":{\"url\":\"https://s.pstatic.net/static/newsstand/2020/logo/light/0604/339.png\"},\"logoDark\":{\"url\":\"https://s.pstatic.net/static/newsstand/2020/logo/dark/0604/339.png\"},\"showThumbnailView\":true,\"showListView\":true,\"regDate\":\"20240228 13:30:49\",\"_id\":null,\"@type\":\"PC-NEWSSTAND-PRESS-BLOCK\",\"@code\":null,\"@template\":\"NONE\",\"@flowId\":null,\"@flowExecutionId\":null,\"@provider\":null,\"@lastModifiedAt\":null},{\"@type\":\"PC-NEWSSTAND-PRESS-BLOCK\",\"blocks\":null,\"materials\":null,\"excludeInPaging\":false,\"positionForPaging\":0,\"realtime\":false,\"pid\":\"340\",\"name\":\"OBS\",\"logoLight\":{\"url\":\"https://s.pstatic.net/static/newsstand/2020/logo/light/0604/340.png\"},\"logoDark\":{\"url\":\"https://s.pstatic.net/static/newsstand/2020/logo/dark/0604/340.png\"},\"showThumbnailView\":true,\"showListView\":true,\"regDate\":\"20240228 11:08:15\",\"_id\":null,\"@type\":\"PC-NEWSSTAND-PRESS-BLOCK\",\"@code\":null,\"@template\":\"NONE\",\"@flowId\":null,\"@flowExecutionId\":null,\"@provider\":null,\"@lastModifiedAt\":null},{\"@type\":\"PC-NEWSSTAND-PRESS-BLOCK\",\"blocks\":null,\"materials\":null,\"excludeInPaging\":false,\"positionForPaging\":0,\"realtime\":false,\"pid\":\"344\",\"name\":\"EBS\",\"logoLight\":{\"url\":\"https://s.pstatic.net/static/newsstand/up/2020/0803/nsd20247547.png\"},\"logoDark\":{\"url\":\"https://s.pstatic.net/static/newsstand/up/2020/0803/nsd202358800.png\"},\"showThumbnailView\":true,\"showListView\":true,\"regDate\":\"20240228 13:25:51\",\"_id\":null,\"@type\":\"PC-NEWSSTAND-PRESS-BLOCK\",\"@code\":null,\"@template\":\"NONE\",\"@flowId\":null,\"@flowExecutionId\":null,\"@provider\":null,\"@lastModifiedAt\":null},{\"@type\":\"PC-NEWSSTAND-PRESS-BLOCK\",\"blocks\":null,\"materials\":null,\"excludeInPaging\":false,\"positionForPaging\":0,\"realtime\":false,\"pid\":\"345\",\"name\":\"디자인정글\",\"logoLight\":{\"url\":\"https://s.pstatic.net/static/newsstand/2020/logo/light/0604/345.png\"},\"logoDark\":{\"url\":\"https://s.pstatic.net/static/newsstand/2020/logo/dark/0604/345.png\"},\"showThumbnailView\":true,\"showListView\":true,\"regDate\":\"20240226 10:03:00\",\"_id\":null,\"@type\":\"PC-NEWSSTAND-PRESS-BLOCK\",\"@code\":null,\"@template\":\"NONE\",\"@flowId\":null,\"@flowExecutionId\":null,\"@provider\":null,\"@lastModifiedAt\":null},{\"@type\":\"PC-NEWSSTAND-PRESS-BLOCK\",\"blocks\":null,\"materials\":null,\"excludeInPaging\":false,\"positionForPaging\":0,\"realtime\":false,\"pid\":\"346\",\"name\":\"헬스조선\",\"logoLight\":{\"url\":\"https://s.pstatic.net/static/newsstand/2020/logo/light/0604/346.png\"},\"logoDark\":{\"url\":\"https://s.pstatic.net/static/newsstand/2020/logo/dark/0604/346.png\"},\"showThumbnailView\":true,\"showListView\":true,\"regDate\":\"20240228 14:01:03\",\"_id\":null,\"@type\":\"PC-NEWSSTAND-PRESS-BLOCK\",\"@code\":null,\"@template\":\"NONE\",\"@flowId\":null,\"@flowExecutionId\":null,\"@provider\":null,\"@lastModifiedAt\":null},{\"@type\":\"PC-NEWSSTAND-PRESS-BLOCK\",\"blocks\":null,\"materials\":null,\"excludeInPaging\":false,\"positionForPaging\":0,\"realtime\":false,\"pid\":\"108\",\"name\":\"스타뉴스\",\"logoLight\":{\"url\":\"https://s.pstatic.net/static/newsstand/2020/logo/light/0604/108.png\"},\"logoDark\":{\"url\":\"https://s.pstatic.net/static/newsstand/2020/logo/dark/0604/108.png\"},\"showThumbnailView\":true,\"showListView\":true,\"regDate\":\"20240228 14:00:14\",\"_id\":null,\"@type\":\"PC-NEWSSTAND-PRESS-BLOCK\",\"@code\":null,\"@template\":\"NONE\",\"@flowId\":null,\"@flowExecutionId\":null,\"@provider\":null,\"@lastModifiedAt\":null},{\"@type\":\"PC-NEWSSTAND-PRESS-BLOCK\",\"blocks\":null,\"materials\":null,\"excludeInPaging\":false,\"positionForPaging\":0,\"realtime\":false,\"pid\":\"109\",\"name\":\"OSEN\",\"logoLight\":{\"url\":\"https://s.pstatic.net/static/newsstand/up/2020/0610/nsd151458769.png\"},\"logoDark\":{\"url\":\"https://s.pstatic.net/static/newsstand/up/2020/0610/nsd151458769.png\"},\"showThumbnailView\":true,\"showListView\":true,\"regDate\":\"20240228 08:25:35\",\"_id\":null,\"@type\":\"PC-NEWSSTAND-PRESS-BLOCK\",\"@code\":null,\"@template\":\"NONE\",\"@flowId\":null,\"@flowExecutionId\":null,\"@provider\":null,\"@lastModifiedAt\":null},{\"@type\":\"PC-NEWSSTAND-PRESS-BLOCK\",\"blocks\":null,\"materials\":null,\"excludeInPaging\":false,\"positionForPaging\":0,\"realtime\":false,\"pid\":\"901\",\"name\":\"제민일보\",\"logoLight\":{\"url\":\"https://s.pstatic.net/static/newsstand/up/2020/1119/nsd213345745.png\"},\"logoDark\":{\"url\":\"https://s.pstatic.net/static/newsstand/up/2020/1119/nsd213339585.png\"},\"showThumbnailView\":true,\"showListView\":true,\"regDate\":\"20240227 19:29:05\",\"_id\":null,\"@type\":\"PC-NEWSSTAND-PRESS-BLOCK\",\"@code\":null,\"@template\":\"NONE\",\"@flowId\":null,\"@flowExecutionId\":null,\"@provider\":null,\"@lastModifiedAt\":null},{\"@type\":\"PC-NEWSSTAND-PRESS-BLOCK\",\"blocks\":null,\"materials\":null,\"excludeInPaging\":false,\"positionForPaging\":0,\"realtime\":false,\"pid\":\"902\",\"name\":\"TV조선\",\"logoLight\":{\"url\":\"https://s.pstatic.net/static/newsstand/2020/logo/light/0604/902.png\"},\"logoDark\":{\"url\":\"https://s.pstatic.net/static/newsstand/2020/logo/dark/0604/902.png\"},\"showThumbnailView\":true,\"showListView\":true,\"regDate\":\"20240228 13:52:27\",\"_id\":null,\"@type\":\"PC-NEWSSTAND-PRESS-BLOCK\",\"@code\":null,\"@template\":\"NONE\",\"@flowId\":null,\"@flowExecutionId\":null,\"@provider\":null,\"@lastModifiedAt\":null},{\"@type\":\"PC-NEWSSTAND-PRESS-BLOCK\",\"blocks\":null,\"materials\":null,\"excludeInPaging\":false,\"positionForPaging\":0,\"realtime\":false,\"pid\":\"903\",\"name\":\"채널A\",\"logoLight\":{\"url\":\"https://s.pstatic.net/static/newsstand/2020/logo/light/0604/903.png\"},\"logoDark\":{\"url\":\"https://s.pstatic.net/static/newsstand/2020/logo/dark/0604/903.png\"},\"showThumbnailView\":true,\"showListView\":true,\"regDate\":\"20240228 13:43:06\",\"_id\":null,\"@type\":\"PC-NEWSSTAND-PRESS-BLOCK\",\"@code\":null,\"@template\":\"NONE\",\"@flowId\":null,\"@flowExecutionId\":null,\"@provider\":null,\"@lastModifiedAt\":null},{\"@type\":\"PC-NEWSSTAND-PRESS-BLOCK\",\"blocks\":null,\"materials\":null,\"excludeInPaging\":false,\"positionForPaging\":0,\"realtime\":false,\"pid\":\"904\",\"name\":\"JTBC\",\"logoLight\":{\"url\":\"https://s.pstatic.net/static/newsstand/2020/logo/light/0604/904.png\"},\"logoDark\":{\"url\":\"https://s.pstatic.net/static/newsstand/2020/logo/dark/0604/904.png\"},\"showThumbnailView\":true,\"showListView\":true,\"regDate\":\"20240228 14:00:00\",\"_id\":null,\"@type\":\"PC-NEWSSTAND-PRESS-BLOCK\",\"@code\":null,\"@template\":\"NONE\",\"@flowId\":null,\"@flowExecutionId\":null,\"@provider\":null,\"@lastModifiedAt\":null},{\"@type\":\"PC-NEWSSTAND-PRESS-BLOCK\",\"blocks\":null,\"materials\":null,\"excludeInPaging\":false,\"positionForPaging\":0,\"realtime\":false,\"pid\":\"905\",\"name\":\"더스쿠프\",\"logoLight\":{\"url\":\"https://s.pstatic.net/static/newsstand/2020/logo/light/0604/905.png\"},\"logoDark\":{\"url\":\"https://s.pstatic.net/static/newsstand/2020/logo/dark/0604/905.png\"},\"showThumbnailView\":true,\"showListView\":true,\"regDate\":\"20240226 10:03:18\",\"_id\":null,\"@type\":\"PC-NEWSSTAND-PRESS-BLOCK\",\"@code\":null,\"@template\":\"NONE\",\"@flowId\":null,\"@flowExecutionId\":null,\"@provider\":null,\"@lastModifiedAt\":null},{\"@type\":\"PC-NEWSSTAND-PRESS-BLOCK\",\"blocks\":null,\"materials\":null,\"excludeInPaging\":false,\"positionForPaging\":0,\"realtime\":false,\"pid\":\"906\",\"name\":\"KNN\",\"logoLight\":{\"url\":\"https://s.pstatic.net/static/newsstand/2020/logo/light/0604/906.png\"},\"logoDark\":{\"url\":\"https://s.pstatic.net/static/newsstand/2020/logo/dark/0604/906.png\"},\"showThumbnailView\":true,\"showListView\":true,\"regDate\":\"20240228 11:11:02\",\"_id\":null,\"@type\":\"PC-NEWSSTAND-PRESS-BLOCK\",\"@code\":null,\"@template\":\"NONE\",\"@flowId\":null,\"@flowExecutionId\":null,\"@provider\":null,\"@lastModifiedAt\":null}],\"materials\":null,\"excludeInPaging\":false,\"positionForPaging\":0,\"realtime\":false,\"majorPidList\":[\"032\",\"005\",\"079\",\"327\",\"930\",\"003\",\"368\",\"020\",\"029\",\"117\",\"009\",\"008\",\"021\",\"006\",\"293\",\"011\",\"081\",\"022\",\"314\",\"073\",\"076\",\"139\",\"308\",\"277\",\"031\",\"422\",\"047\",\"018\",\"241\",\"030\",\"366\",\"023\",\"330\",\"025\",\"092\",\"376\",\"044\",\"014\",\"002\",\"028\",\"015\",\"215\",\"038\",\"016\",\"904\",\"056\",\"326\",\"214\",\"057\",\"109\",\"055\",\"052\"],\"minorPidList\":[\"944\",\"687\",\"913\",\"914\",\"960\",\"536\",\"804\",\"812\",\"042\",\"969\",\"417\",\"961\",\"809\",\"814\",\"942\",\"943\",\"973\",\"685\",\"824\",\"970\",\"816\",\"957\",\"975\",\"810\",\"920\",\"921\",\"963\",\"682\",\"013\",\"801\",\"539\",\"964\",\"825\",\"243\",\"922\",\"803\",\"923\",\"971\",\"925\",\"690\",\"123\",\"353\",\"941\",\"143\",\"826\",\"822\",\"968\",\"993\",\"974\",\"932\",\"954\",\"120\",\"959\",\"972\",\"823\",\"421\",\"916\",\"903\",\"934\",\"344\",\"980\",\"906\",\"340\",\"374\",\"989\",\"981\",\"684\",\"902\",\"945\",\"910\",\"138\",\"953\",\"952\",\"977\",\"994\",\"818\",\"917\",\"681\",\"040\",\"946\",\"830\",\"447\",\"108\",\"802\",\"144\",\"396\",\"529\",\"940\",\"962\",\"477\",\"311\",\"947\",\"312\",\"440\",\"410\",\"416\",\"213\",\"356\",\"908\",\"938\",\"984\",\"911\",\"998\",\"997\",\"995\",\"905\",\"991\",\"955\",\"363\",\"345\",\"915\",\"024\",\"996\",\"075\",\"806\",\"829\",\"819\",\"815\",\"122\",\"958\",\"827\",\"355\",\"808\",\"329\",\"135\",\"828\",\"140\",\"979\",\"328\",\"354\",\"691\",\"310\",\"094\",\"820\",\"950\",\"988\",\"982\",\"813\",\"924\",\"807\",\"965\",\"966\",\"686\",\"990\",\"361\",\"956\",\"928\",\"967\",\"296\",\"986\",\"951\",\"948\",\"050\",\"805\",\"811\",\"384\",\"346\",\"364\"],\"catePidList\":{\"ct7\":[\"356\",\"908\",\"938\",\"984\",\"911\",\"998\",\"997\",\"995\",\"905\",\"991\",\"955\",\"363\",\"345\",\"915\",\"024\",\"996\",\"075\",\"806\",\"829\",\"819\",\"815\",\"122\",\"958\",\"827\",\"355\",\"808\",\"329\",\"308\",\"135\",\"828\",\"140\",\"979\",\"328\",\"354\",\"691\",\"310\",\"094\",\"820\",\"950\",\"988\",\"982\",\"813\",\"924\",\"807\",\"965\",\"966\",\"686\",\"990\",\"361\",\"956\",\"928\",\"967\",\"296\",\"986\",\"951\",\"948\",\"050\",\"805\",\"811\",\"384\",\"346\",\"364\"],\"ct8\":[\"335\",\"087\",\"688\",\"339\",\"821\",\"333\",\"978\",\"907\",\"337\",\"935\",\"338\",\"301\",\"083\",\"332\",\"909\",\"936\",\"089\",\"088\",\"976\",\"817\",\"082\",\"385\",\"387\",\"689\",\"388\",\"937\",\"336\",\"901\",\"389\",\"334\",\"983\",\"926\",\"927\",\"391\",\"331\",\"683\"],\"ct5\":[\"681\",\"330\",\"040\",\"044\",\"326\",\"946\"],\"ct6\":[\"830\",\"447\",\"117\",\"108\",\"802\",\"144\",\"314\",\"073\",\"396\",\"076\",\"529\",\"940\",\"962\",\"139\",\"477\",\"311\",\"241\",\"947\",\"312\",\"440\",\"410\",\"109\",\"416\",\"213\"],\"ct3\":[\"421\",\"003\",\"916\",\"422\",\"376\",\"903\",\"215\",\"934\",\"344\",\"904\",\"980\",\"056\",\"906\",\"214\",\"057\",\"340\",\"055\",\"374\",\"989\",\"981\",\"684\",\"902\",\"052\",\"945\"],\"ct4\":[\"910\",\"138\",\"029\",\"953\",\"952\",\"293\",\"030\",\"092\",\"977\",\"994\",\"818\",\"917\"],\"ct2\":[\"032\",\"005\",\"944\",\"079\",\"327\",\"687\",\"930\",\"913\",\"914\",\"960\",\"536\",\"804\",\"368\",\"812\",\"042\",\"020\",\"009\",\"969\",\"417\",\"008\",\"961\",\"021\",\"006\",\"809\",\"814\",\"942\",\"943\",\"973\",\"011\",\"081\",\"685\",\"824\",\"022\",\"970\",\"816\",\"957\",\"975\",\"810\",\"277\",\"920\",\"031\",\"921\",\"963\",\"682\",\"013\",\"047\",\"801\",\"539\",\"964\",\"018\",\"825\",\"243\",\"922\",\"803\",\"923\",\"971\",\"925\",\"690\",\"366\",\"023\",\"123\",\"353\",\"025\",\"941\",\"143\",\"826\",\"014\",\"822\",\"002\",\"028\",\"015\",\"968\",\"038\",\"993\",\"016\",\"974\",\"932\",\"954\",\"120\",\"959\",\"972\",\"823\"]},\"targetLocalPidList\":[],\"subsPidList\":[],\"firstPressBlock\":null,\"rcode2\":\"default\",\"rcode\":\"09320107\",\"_id\":null,\"@type\":\"PC-NEWSSTAND-BLOCK\",\"@code\":\"PC-NEWSSTAND\",\"@template\":\"PC-NEWSSTAND\",\"@flowId\":null,\"@flowExecutionId\":null,\"@provider\":null,\"@lastModifiedAt\":null}],\"materials\":null,\"excludeInPaging\":false,\"positionForPaging\":0,\"realtime\":false,\"_id\":null,\"@type\":\"BLOCK\",\"@code\":\"PC-MEDIA-NEWSSTAND\",\"@template\":\"NONE\",\"@flowId\":null,\"@flowExecutionId\":null,\"@provider\":null,\"@lastModifiedAt\":null}],\"materials\":null,\"excludeInPaging\":false,\"positionForPaging\":0,\"realtime\":false,\"sportsLive\":true,\"_id\":\"643e68a5a10d3006855e268d\",\"@type\":\"PC-MEDIA-CONTENTS-BLOCK\",\"@code\":\"PC-MEDIA-WRAPPER\",\"@template\":\"PC-MEDIA-WRAPPER\",\"@flowId\":\"PC-MEDIA-WRAPPER\",\"@flowExecutionId\":\"6ef6cb05-d5f7-11ee-84a3-ff583fce0b58\",\"@provider\":\"lambda\",\"@lastModifiedAt\":[2024,2,28,5,8,44,542000000]}\\nwindow[\"EAGER-DATA\"][\"PC-NEWSSTAND-YONHAP\"] = {\"@type\":\"BLOCK\",\"blocks\":[{\"@type\":\"BLOCK\",\"blocks\":null,\"materials\":[],\"excludeInPaging\":false,\"positionForPaging\":0,\"realtime\":false,\"_id\":null,\"@type\":\"BLOCK\",\"@code\":null,\"@template\":\"NONE\",\"@flowId\":null,\"@flowExecutionId\":null,\"@provider\":null,\"@lastModifiedAt\":null}],\"materials\":[{\"@type\":\"MATERIAL-PC-NEWS-ONELINE\",\"gdid\":null,\"title\":\"마지노선 \\'D-1\\' 일부 전공의 복귀 조짐…건대병원 12명 복귀\",\"url\":\"https://news.naver.com/main/list.naver?mode=LPOD&mid=sec&sid1=001&sid2=140&oid=001&isYeonhapFlash=Y&aid=0014532906\",\"aid\":null,\"emergency\":false,\"notCompleted\":false,\"officeName\":\"연합뉴스\",\"officeId\":\"001\",\"officeHomeUrl\":null,\"officeWeight\":0,\"officeWeightRate\":0.0,\"_id\":\"643543b2caf3d87b7e0a0da6\"},{\"@type\":\"MATERIAL-PC-NEWS-ONELINE\",\"gdid\":null,\"title\":\"국민연금 작년 운용 수익 126조원…수익률 13.6% \\'역대 최고\\'\",\"url\":\"https://news.naver.com/main/list.naver?mode=LPOD&mid=sec&sid1=001&sid2=140&oid=001&isYeonhapFlash=Y&aid=0014532886\",\"aid\":null,\"emergency\":false,\"notCompleted\":false,\"officeName\":\"연합뉴스\",\"officeId\":\"001\",\"officeHomeUrl\":null,\"officeWeight\":0,\"officeWeightRate\":0.0,\"_id\":\"65692532e9bedeca62543dbb\"},{\"@type\":\"MATERIAL-PC-NEWS-ONELINE\",\"gdid\":null,\"title\":\"이재명 \\\\\"탈당도 자유…경기 질 것 같으니 안 하겠다는 것\\\\\"\",\"url\":\"https://news.naver.com/main/list.naver?mode=LPOD&mid=sec&sid1=001&sid2=140&oid=001&isYeonhapFlash=Y&aid=0014532837\",\"aid\":null,\"emergency\":false,\"notCompleted\":false,\"officeName\":\"연합뉴스\",\"officeId\":\"001\",\"officeHomeUrl\":null,\"officeWeight\":0,\"officeWeightRate\":0.0,\"_id\":\"65692532e9bedeca62543dbc\"},{\"@type\":\"MATERIAL-PC-NEWS-ONELINE\",\"gdid\":null,\"title\":\"바이든·트럼프, 미시간 경선 압승…본선 재대결 \\'카운트다운\\'\",\"url\":\"https://news.naver.com/main/list.naver?mode=LPOD&mid=sec&sid1=001&sid2=140&oid=001&isYeonhapFlash=Y&aid=0014532835\",\"aid\":null,\"emergency\":false,\"notCompleted\":false,\"officeName\":\"연합뉴스\",\"officeId\":\"001\",\"officeHomeUrl\":null,\"officeWeight\":0,\"officeWeightRate\":0.0,\"_id\":\"65692532e9bedeca62543dbd\"},{\"@type\":\"MATERIAL-PC-NEWS-ONELINE\",\"gdid\":null,\"title\":\"민주, 공천갈등 폭발…\\'임종석 뇌관\\' 터지며 줄탈당 현실화\",\"url\":\"https://news.naver.com/main/list.naver?mode=LPOD&mid=sec&sid1=001&sid2=140&oid=001&isYeonhapFlash=Y&aid=0014532673\",\"aid\":null,\"emergency\":false,\"notCompleted\":false,\"officeName\":\"연합뉴스\",\"officeId\":\"001\",\"officeHomeUrl\":null,\"officeWeight\":0,\"officeWeightRate\":0.0,\"_id\":\"65692532e9bedeca62543dbe\"},{\"@type\":\"MATERIAL-PC-NEWS-ONELINE\",\"gdid\":null,\"title\":\"\\'아내살해\\' 변호사 \\\\\"고의 없었다\\\\\"…전 국회의원 부친 증인 신청\",\"url\":\"https://news.naver.com/main/list.naver?mode=LPOD&mid=sec&sid1=001&sid2=140&oid=001&isYeonhapFlash=Y&aid=0014532671\",\"aid\":null,\"emergency\":false,\"notCompleted\":false,\"officeName\":\"연합뉴스\",\"officeId\":\"001\",\"officeHomeUrl\":null,\"officeWeight\":0,\"officeWeightRate\":0.0,\"_id\":\"65692532e9bedeca62543dbf\"},{\"@type\":\"MATERIAL-PC-NEWS-ONELINE\",\"gdid\":null,\"title\":\"文 전 사위 3차례 소환에도 진술 거부…검찰, 피의자 전환 검토\",\"url\":\"https://news.naver.com/main/list.naver?mode=LPOD&mid=sec&sid1=001&sid2=140&oid=001&isYeonhapFlash=Y&aid=0014532643\",\"aid\":null,\"emergency\":false,\"notCompleted\":false,\"officeName\":\"연합뉴스\",\"officeId\":\"001\",\"officeHomeUrl\":null,\"officeWeight\":0,\"officeWeightRate\":0.0,\"_id\":\"65692532e9bedeca62543dc0\"},{\"@type\":\"MATERIAL-PC-NEWS-ONELINE\",\"gdid\":null,\"title\":\"\\\\\"이런데 아이 낳으라고요\\\\\"…출산·양육친화적 직장문화 \\'먼길\\'\",\"url\":\"https://news.naver.com/main/list.naver?mode=LPOD&mid=sec&sid1=001&sid2=140&oid=001&isYeonhapFlash=Y&aid=0014532642\",\"aid\":null,\"emergency\":false,\"notCompleted\":false,\"officeName\":\"연합뉴스\",\"officeId\":\"001\",\"officeHomeUrl\":null,\"officeWeight\":0,\"officeWeightRate\":0.0,\"_id\":\"6573c24ecaf3d87b7e4d5269\"},{\"@type\":\"MATERIAL-PC-NEWS-ONELINE\",\"gdid\":null,\"title\":\"분기 출산율 첫 \\'0.6명대\\' 추락…작년 출생아 23만명 \\'또 최저\\'\",\"url\":\"https://news.naver.com/main/list.naver?mode=LPOD&mid=sec&sid1=001&sid2=140&oid=001&isYeonhapFlash=Y&aid=0014532610\",\"aid\":null,\"emergency\":false,\"notCompleted\":false,\"officeName\":\"연합뉴스\",\"officeId\":\"001\",\"officeHomeUrl\":null,\"officeWeight\":0,\"officeWeightRate\":0.0,\"_id\":\"65d870c28d185e7808299166\"},{\"@type\":\"MATERIAL-PC-NEWS-ONELINE\",\"gdid\":null,\"title\":\"與, 3040 \\'찔끔\\' 뽑아 험지로…\\'텃밭\\'에는 5060 현역\",\"url\":\"https://news.naver.com/main/list.naver?mode=LPOD&mid=sec&sid1=001&sid2=140&oid=001&isYeonhapFlash=Y&aid=0014532600\",\"aid\":null,\"emergency\":false,\"notCompleted\":false,\"officeName\":\"연합뉴스\",\"officeId\":\"001\",\"officeHomeUrl\":null,\"officeWeight\":0,\"officeWeightRate\":0.0,\"_id\":\"65dea64a3ddfbd16b566116f\"}],\"excludeInPaging\":false,\"positionForPaging\":0,\"realtime\":false,\"_id\":\"643543b2a10d3006850fa263\",\"@type\":\"BLOCK\",\"@code\":\"PC-NEWSSTAND-YONHAP\",\"@template\":\"PC-NEWSSTAND-YONHAP\",\"@flowId\":\"PC-YONHAP\",\"@flowExecutionId\":\"6e61ddfc-d5f7-11ee-84a3-5d192937cc8f\",\"@provider\":\"lambda\",\"@lastModifiedAt\":[2024,2,28,5,8,38,229000000]}\\nwindow[\"EAGER-DATA\"][\"CAS-MINICONTENT-PC-SEARCH-RIGHT\"] = {\"@type\":\"MINI-CONTENT-BLOCK\",\"blocks\":null,\"materials\":null,\"excludeInPaging\":false,\"positionForPaging\":0,\"realtime\":false,\"items\":[{\"content\":{\"imageDark\":\"https://s.pstatic.net/static/www/mobile/edit/20240227_1095/upload_1709016550967lYxis.png\",\"image\":\"https://s.pstatic.net/static/www/mobile/edit/20240227_1095/upload_1709016544302yh0PO.png\",\"url\":\"https://search.naver.com/search.naver?where=nexearch&sm=top_ros&fbm=0&ie=utf8&query=2.28+%EB%AF%BC%EC%A3%BC%EC%9A%B4%EB%8F%99+%EA%B8%B0%EB%85%90%EC%9D%BC\",\"alt\":\"2.28민주운동 기념일\"},\"exposure\":true,\"@miniContentId\":\"65dd85f129d2c06d4eb1cd8a\",\"@miniContentCode\":\"PC-SEARCH-RIGHT\",\"@startAt\":\"2024-02-28 00:00\",\"@endAt\":\"2024-02-28 23:59\",\"@createdAt\":\"2024-02-27T15:49:21.184\",\"@updatedAt\":\"2024-02-27T15:49:21.184\"}],\"_id\":\"6433d8a5a10d300685012682\",\"@type\":\"MINI-CONTENT-BLOCK\",\"@code\":\"CAS-MINICONTENT-PC-SEARCH-RIGHT\",\"@template\":\"NONE\",\"@flowId\":\"CAS-MINICONTENT\",\"@flowExecutionId\":\"6dcc06cf-d5f7-11ee-a0b8-5d328c6610ca\",\"@provider\":\"lambda\",\"@lastModifiedAt\":[2024,2,28,5,8,37,170000000]}\\nwindow[\"EAGER-DATA\"][\"CAS-MINICONTENT-PC-MEDIA-TAB-EVENT\"] = {\"@type\":\"MINI-CONTENT-BLOCK\",\"blocks\":null,\"materials\":null,\"excludeInPaging\":false,\"positionForPaging\":0,\"realtime\":false,\"items\":[],\"_id\":\"643687e1a10d300685630556\",\"@type\":\"MINI-CONTENT-BLOCK\",\"@code\":\"CAS-MINICONTENT-PC-MEDIA-TAB-EVENT\",\"@template\":\"NONE\",\"@flowId\":\"CAS-MINICONTENT\",\"@flowExecutionId\":\"513f5f9b-d5f7-11ee-9cec-2524b7fb1fd7\",\"@provider\":\"lambda\",\"@lastModifiedAt\":[2024,2,28,5,7,49,206000000]}\\nwindow[\"EAGER-DATA\"][\"CAS-MINICONTENT-PC-MID-BANNER\"] = {\"@type\":\"MINI-CONTENT-BLOCK\",\"blocks\":null,\"materials\":null,\"excludeInPaging\":false,\"positionForPaging\":0,\"realtime\":false,\"items\":[],\"_id\":\"648ae476a10d300685fbab10\",\"@type\":\"MINI-CONTENT-BLOCK\",\"@code\":\"CAS-MINICONTENT-PC-MID-BANNER\",\"@template\":\"NONE\",\"@flowId\":\"CAS-MINICONTENT\",\"@flowExecutionId\":\"6a3439cb-d5f7-11ee-84a3-73c1c1d07040\",\"@provider\":\"lambda\",\"@lastModifiedAt\":[2024,2,28,5,8,31,90000000]}\\nwindow[\"EAGER-DATA\"][\"CAS-MINICONTENT-PC-TAB-META\"] = {\"@type\":\"MINI-CONTENT-BLOCK\",\"blocks\":null,\"materials\":null,\"excludeInPaging\":false,\"positionForPaging\":0,\"realtime\":false,\"items\":[{\"content\":{\"area\":\"FEED\",\"tabList\":[{\"clickCode\":\"tct.mynr\",\"name\":\"추천・구독\",\"id\":\"PC-FEED-RECOMMEND\",\"contingencyEnabled\":true,\"enabled\":true,\"useFeedCasEditTemplate\":false,\"weight\":1},{\"clickCode\":\"tct.wtn\",\"name\":\"자동차\",\"id\":\"PC-FEED-CARGAME\",\"contingencyEnabled\":true,\"enabled\":true,\"useFeedCasEditTemplate\":true,\"weight\":1},{\"clickCode\":\"tct.wtn\",\"name\":\"웹툰\",\"id\":\"PC-FEED-WEBTOON\",\"contingencyEnabled\":true,\"enabled\":true,\"useFeedCasEditTemplate\":true,\"weight\":1},{\"clickCode\":\"tct.bty\",\"name\":\"패션뷰티\",\"id\":\"PC-FEED-BEAUTY\",\"contingencyEnabled\":true,\"enabled\":true,\"useFeedCasEditTemplate\":false,\"weight\":1},{\"clickCode\":\"tct.fod\",\"name\":\"레시피\",\"id\":\"PC-FEED-RECIPE\",\"contingencyEnabled\":true,\"enabled\":true,\"useFeedCasEditTemplate\":true,\"weight\":1},{\"clickCode\":\"tct.lif\",\"name\":\"리빙\",\"id\":\"PC-FEED-LIVINGHOME\",\"contingencyEnabled\":true,\"enabled\":true,\"useFeedCasEditTemplate\":true,\"weight\":1},{\"clickCode\":\"tct.bok\",\"name\":\"책방\",\"id\":\"PC-FEED-CULTURE\",\"contingencyEnabled\":true,\"enabled\":true,\"useFeedCasEditTemplate\":true,\"weight\":1},{\"clickCode\":\"tct.lec\",\"name\":\"지식+\",\"id\":\"PC-FEED-LECTURE\",\"contingencyEnabled\":true,\"enabled\":true,\"useFeedCasEditTemplate\":true,\"weight\":1},{\"clickCode\":\"tct.health\",\"name\":\"건강\",\"id\":\"PC-FEED-HEALTH\",\"contingencyEnabled\":true,\"enabled\":true,\"useFeedCasEditTemplate\":false,\"weight\":1},{\"clickCode\":\"tct.gameapp\",\"name\":\"게임\",\"id\":\"PC-FEED-GAMEAPP\",\"contingencyEnabled\":true,\"enabled\":true,\"useFeedCasEditTemplate\":false,\"weight\":1}],\"@type\":\"BLOCK-PC-TAB-META\"},\"exposure\":true,\"@miniContentId\":\"643e64d370a065058f369bac\",\"@miniContentCode\":\"PC-TAB-META\",\"@startAt\":\"2023-04-10 00:00\",\"@endAt\":\"2030-05-30 23:59\",\"@createdAt\":\"2023-04-18T18:37:23.412\",\"@updatedAt\":\"2023-11-08T11:34:03.902\"},{\"content\":{\"area\":\"MEDIA\",\"tabList\":[{\"clickCode\":\"nst.nsd\",\"name\":\"뉴스스탠드\",\"id\":\"PC-MEDIA-NEWSSTAND\",\"contingencyEnabled\":true,\"enabled\":true,\"useFeedCasEditTemplate\":false,\"weight\":1},{\"clickCode\":\"nst.nch\",\"name\":\"언론사편집\",\"id\":\"PC-MEDIA-NEWS\",\"contingencyEnabled\":true,\"enabled\":true,\"useFeedCasEditTemplate\":false,\"weight\":1},{\"clickCode\":\"nst.ent\",\"name\":\"엔터\",\"id\":\"PC-MEDIA-ENTER\",\"contingencyEnabled\":true,\"enabled\":true,\"useFeedCasEditTemplate\":false,\"weight\":1},{\"clickCode\":\"nst.spo\",\"name\":\"스포츠\",\"id\":\"PC-MEDIA-SPORTS\",\"contingencyEnabled\":true,\"enabled\":true,\"useFeedCasEditTemplate\":false,\"weight\":1},{\"clickCode\":\"nst.fin\",\"name\":\"경제\",\"id\":\"PC-MEDIA-ECONOMIC\",\"contingencyEnabled\":true,\"enabled\":true,\"useFeedCasEditTemplate\":false,\"weight\":1}],\"@type\":\"BLOCK-PC-TAB-META\"},\"exposure\":true,\"@miniContentId\":\"643e642c8793487c84743a38\",\"@miniContentCode\":\"PC-TAB-META\",\"@startAt\":\"2023-04-11 00:00\",\"@endAt\":\"2030-05-31 23:59\",\"@createdAt\":\"2023-04-18T18:34:36.648\",\"@updatedAt\":\"2023-04-18T18:34:36.648\"}],\"_id\":\"643e6299a10d3006853cc04c\",\"@type\":\"MINI-CONTENT-BLOCK\",\"@code\":\"CAS-MINICONTENT-PC-TAB-META\",\"@template\":\"NONE\",\"@flowId\":\"CAS-MINICONTENT\",\"@flowExecutionId\":\"53c03d69-d5f7-11ee-a0b8-e59e69fd38b6\",\"@provider\":\"lambda\",\"@lastModifiedAt\":[2024,2,28,5,7,53,420000000]}\\n</script> <script defer=\"defer\" src=\"https://pm.pstatic.net/resources/js/polyfill.37930f2b.js?o=www\" crossorigin=\"anonymous\"></script><script defer=\"defer\" src=\"https://pm.pstatic.net/resources/js/preload.8c808364.js?o=www\" crossorigin=\"anonymous\"></script><script defer=\"defer\" src=\"https://pm.pstatic.net/resources/js/search.e6d3b50c.js?o=www\" crossorigin=\"anonymous\"></script><script defer=\"defer\" src=\"https://pm.pstatic.net/resources/js/main.aa1ce656.js?o=www\" crossorigin=\"anonymous\"></script><link href=\"https://pm.pstatic.net/resources/css/main.1d0e74f1.css\" rel=\"stylesheet\"></head> <body> <div id=\"u_skip\"> <a href=\"#topAsideButton\"><span>상단영역 바로가기</span></a> <a href=\"#shortcutArea\"><span>서비스 메뉴 바로가기</span></a> <a href=\"#newsstand\"><span>새소식 블록 바로가기</span></a> <a href=\"#shopping\"><span>쇼핑 블록 바로가기</span></a> <a href=\"#feed\"><span>관심사 블록 바로가기</span></a> <a href=\"#account\"><span>MY 영역 바로가기</span></a> <a href=\"#widgetboard\"><span>위젯 보드 바로가기</span></a> <a href=\"#viewSetting\"><span>보기 설정 바로가기</span></a> </div>   <script type=\"text/plain\" id=\"ad-timeboard-response\" data-gfp-banner-size=\"830x130\" data-gfp-banner-type=\"full\">{\"payload\":{\"requestId\":\"89b7485af94644c4a38c7dc2539e348a\",\"head\":{\"version\":\"0.0.1\",\"description\":\"Naver SSP Waterfall List\"},\"eventTracking\":{\"ackImpressions\":[{\"url\":\"https://tivan.naver.com/sc2/1/\"}],\"activeViewImpressions\":[{\"url\":\"https://tivan.naver.com/sc2/2/\"}],\"clicks\":[{\"url\":\"https://tivan.naver.com/sc2/3/\"}],\"completions\":[{\"url\":\"https://tivan.naver.com/sc2/4/\"}],\"attached\":[{\"url\":\"https://tivan.naver.com/sc2/10/\"}],\"renderedImpressions\":[{\"url\":\"https://tivan.naver.com/sc2/11/\"}],\"viewableImpressions\":[{\"url\":\"https://tivan.naver.com/sc2/12/\"}],\"loadErrors\":[{\"url\":\"https://tivan.naver.com/sc2/91/\"}],\"startErrors\":[{\"url\":\"https://tivan.naver.com/sc2/92/\"}],\"mute\":[{\"url\":\"https://tivan.naver.com/sc2/5/\"}],\"close\":[{\"url\":\"https://tivan.naver.com/sc2/6/\"}]},\"adUnit\":\"p_main_timeboard_v1\",\"randomNumber\":40,\"adDivId\":\"ad_timeboard\",\"advertiserDomains\":[\"belabef.com\"],\"adDuplicationKeys\":[\"URL:https://belabef.com\"],\"ads\":[{\"encrypted\":\"E6BEFdYc7jAOHQuaIvHZd1mzwg__3nTurljumgm2VE9Yb7wBKzsRTbFs6Wti2jlnvdK-5tUSbFkZKBALs83vlQgbI0eUlnyU7Z2yBJN6y-EaIzfF_ElY6Zc_3t9KNiumhD2sSl_RBzdZfj4bfLg-ZMqp4CKUPrZcJgJZrMl3VsnNad2vt_U08eKN0xD8BrS6FKAzcm35tlJS4U6PIb4Vm0kTgIanvwACMZe99PA3-8-Lpp9lrz7_k2DNwE0FfLqQnAOT5E2KiahvzInya570olrIVq9ZO8vbnmw3qiQdWzviy8Gv6hWa15Cc4iEVLMkjz9CfvhZ6YAwsiUnMyyqv3BnJx4rBOcMKETo8UchexMc5wpbPKgAyR1ZCPeZxzIB5S_vvDB1C656ITnPBm0rqY7kU-K_03WCJd4dXiVxcMBTc9UivPjiSS-TvjM8vA32fixqTAjRogpoVLt_oxRvHONmAdxpLfzbbigTm7dODcC1qhnkZ35KJ20djmjRZtelSgiyTFiyKZMeulnzN8qJBjkiGQYL-zxAV9xoYqgl_AZy6uNP9gqrLLar7srg37GuCOg9T6JIGpd0e934fsfWTCzxfuClU1sBoiiWz4vozj7-MOQbU9OBi0jpPMF9GpVF88tyEYaICCFjEB2Af4AklOqUnbFofG2AI9VWHzAbLZfe-01Vq0u8FXSqrdzhMg8IEsrVV0nL06ba0vgixHxZqnXDB8xMG0NArXlsxE_Ow6mY=\",\"connectionType\":\"S2S\",\"adProviderType\":\"IN_NAVER\",\"adProviderName\":\"NDP_SF\",\"layoutType\":\"FLUID\",\"creativeType\":\"BANNER\",\"renderType\":\"SF\",\"eventTracking\":{\"ackImpressions\":[{\"url\":\"https://siape.veta.naver.com/openrtb/nurl?eu=EU10043565\\\\u0026calp=-\\\\u0026oj=cQgn6aire5OvlfSpTiT%2FgnBGhFHCMlLw%2BMUwi%2Fk7%2BGjfikt9ly4w0cBhIUSCGqN4JL1qM2Pf%2Falq42SUzWZJtPzq%2BXCI4fuVrkgHtm1JforIBWexIpibH0plqdgUSG%2BUXrQSw%2B%2FX1bbNCF9%2F110BZDp0hCNKO%2BcHo2M9jEOAPSLbaIdXv9YIFqKzdZWOwZvbdMAtSn%2B9Id4vH4MuGzFJiErLLp1Ox71Vg1K%2FFXnNMQA\\\\u0026ac=8927570\\\\u0026src=6962654\\\\u0026evtcd=BID_WIN\\\\u0026x_ti=1504\\\\u0026rk=qwN3leh3djpGfpwj3xq3Ww\\\\u0026eltts=ugAygrBZXVxv5FvhiBHcPA%3D%3D\\\\u0026brs=Y\\\\u0026\"}],\"attached\":[],\"activeViewImpressions\":[],\"renderedImpressions\":[],\"viewableImpressions\":[],\"clicks\":[],\"vimp1px\":[],\"vimp100\":[],\"vimp100p\":[],\"admute\":[],\"advmute\":[],\"like\":[],\"unlike\":[],\"close\":[],\"bounce\":[]},\"adInfo\":{\"placeId\":\"6436232db28a76002ea3f30c\",\"adomain\":[\"belabef.com\"],\"cid\":\"1484492\",\"crid\":\"2605301\",\"exp\":2938,\"adm\":\"%3Cscript%20src%3D%22https%3A%2F%2Fssl.pstatic.net%2Fmelona%2Flibs%2Fglad%2Fbridge%2Fgfp-bridge.js%22%3E%3C%2Fscript%3E%0D%0A%0D%0A%3Ca%20href%3D%22https%3A%2F%2Fsiape.veta.naver.com%2Ffxclick%3Feu%3DEU10043565%26calp%3D-%26oj%3DcQgn6aire5OvlfSpTiT%252FgnBGhFHCMlLw%252BMUwi%252Fk7%252BGjfikt9ly4w0cBhIUSCGqN4JL1qM2Pf%252Falq42SUzWZJtPzq%252BXCI4fuVrkgHtm1JforIBWexIpibH0plqdgUSG%252BUXrQSw%252B%252FX1bbNCF9%252F110BZDp0hCNKO%252BcHo2M9jEOAPSLbaIdXv9YIFqKzdZWOwZvbdMAtSn%252B9Id4vH4MuGzFJiErLLp1Ox71Vg1K%252FFXnNMQA%26ac%3D8927570%26src%3D6962654%26br%3D4456306%26evtcd%3DP901%26x_ti%3D1504%26tb%3D%26oid%3D%26sid1%3D%26sid2%3D%26rk%3DqwN3leh3djpGfpwj3xq3Ww%26eltts%3DugAygrBZXVxv5FvhiBHcPA%253D%253D%26lu%3D%26brs%3DY%26%22%20id%3D%22ac_banner_a%22%20target%3D%22_blank%22%20style%3D%22display%3Ablock%22%3E%0D%0A%20%20%20%20%3Cimg%20src%3D%22https%3A%2F%2Fssl.pstatic.net%2Fmelona%2Flibs%2F1484%2F1484492%2F3446e2ce387ba4018f36_20240228120339837.jpg%22%20width%3D%22830%22%20height%3D%22130%22%20alt%3D%22%5B%EA%B4%91%EA%B3%A0%5D%ED%95%9C%EB%B2%88%20%EC%8D%A8%EB%B3%B4%EB%A9%B4%20%EB%8B%A4%EC%8B%9C%20%EB%AA%BB%EB%8F%8C%EC%95%84%EA%B0%80%EC%9A%94%20%EC%A7%80%EA%B8%88%20%EA%B0%90%EC%82%AC%20%EB%8D%94%EB%B8%94%20%ED%8A%B9%EA%B0%80%20%EC%A7%84%ED%96%89%EC%A4%91%22%3E%0D%0A%3C%2Fa%3E%0D%0A%0D%0A%3Cscript%20type%3D%22text%2Fjavascript%22%20src%3D%22https%3A%2F%2Fssl.pstatic.net%2Fmelona%2Flibs%2Fassets%2Fjs%2Fpc%2Fmain%2Fmin%2Fpc.veta.core.min.js%3F20211105%22%3E%3C%2Fscript%3E%0D%0A%3Cscript%20type%3D%22text%2Fjavascript%22%3E%0D%0A%20%20%20%20%28function%28ns%2C%20bridge%29%20%7B%0D%0A%20%20%20%20%20%20%20%20var%20LOG%20%3D%20%7B%0D%0A%20%20%20%20%20%20%20%20%20%20%20%20VIEWABLED%3A%20%22https%3A%2F%2Fsiape.veta.naver.com%2Ffxview%3Feu%3DEU10043565%26calp%3D-%26oj%3DcQgn6aire5OvlfSpTiT%252FgnBGhFHCMlLw%252BMUwi%252Fk7%252BGjfikt9ly4w0cBhIUSCGqN4JL1qM2Pf%252Falq42SUzWZJtPzq%252BXCI4fuVrkgHtm1JforIBWexIpibH0plqdgUSG%252BUXrQSw%252B%252FX1bbNCF9%252F110BZDp0hCNKO%252BcHo2M9jEOAPSLbaIdXv9YIFqKzdZWOwZvbdMAtSn%252B9Id4vH4MuGzFJiErLLp1Ox71Vg1K%252FFXnNMQA%26ac%3D8927570%26src%3D6962654%26evtcd%3DV900%26x_ti%3D1504%26tb%3D%26oid%3D%26sid1%3D%26sid2%3D%26rk%3DqwN3leh3djpGfpwj3xq3Ww%26eltts%3DugAygrBZXVxv5FvhiBHcPA%253D%253D%26brs%3DY%26%26eid%3DV900%22%2C%0D%0A%20%20%20%20%20%20%20%20%20%20%20%20RENDERED%3A%20%22https%3A%2F%2Fsiape.veta.naver.com%2Ffxview%3Feu%3DEU10043565%26calp%3D-%26oj%3DcQgn6aire5OvlfSpTiT%252FgnBGhFHCMlLw%252BMUwi%252Fk7%252BGjfikt9ly4w0cBhIUSCGqN4JL1qM2Pf%252Falq42SUzWZJtPzq%252BXCI4fuVrkgHtm1JforIBWexIpibH0plqdgUSG%252BUXrQSw%252B%252FX1bbNCF9%252F110BZDp0hCNKO%252BcHo2M9jEOAPSLbaIdXv9YIFqKzdZWOwZvbdMAtSn%252B9Id4vH4MuGzFJiErLLp1Ox71Vg1K%252FFXnNMQA%26ac%3D8927570%26src%3D6962655%26evtcd%3DV602%26x_ti%3D1504%26tb%3D%26oid%3D%26sid1%3D%26sid2%3D%26rk%3DqwN3leh3djpGfpwj3xq3Ww%26eltts%3DugAygrBZXVxv5FvhiBHcPA%253D%253D%26brs%3DY%26%26eid%3DV810%22%0D%0A%20%20%20%20%20%20%20%20%7D%3B%0D%0A%0D%0A%20%20%20%20%20%20%20%20var%20util%20%3D%20ns.Util%20%3F%20new%20ns.Util%28%29%20%3A%20new%20NBP_CORP.Nimp%28%29%3B%0D%0A%20%20%20%20%20%20%20%20var%20gladSdkBridge%20%3D%20bridge.createSdkBridge%28%29%3B%0D%0A%20%20%20%20%20%20%20%20var%20eventList%20%3D%20%7B%7D%3B%0D%0A%0D%0A%20%20%20%20%20%20%20%20%2F%2F%20%EC%9D%91%EB%8B%B5%EB%85%B8%EC%B6%9C%0D%0A%20%20%20%20%20%20%20%20util.log%28LOG.RENDERED%29%3B%0D%0A%0D%0A%20%20%20%20%20%20%20%20%2F%2F%20%EC%9C%A0%ED%9A%A8%EB%85%B8%EC%B6%9C%0D%0A%20%20%20%20%20%20%20%20eventList%5Bbridge.EVENT.VIEWABLED%5D%20%3D%20function%28%29%20%7B%0D%0A%20%20%20%20%20%20%20%20%20%20%20%20util.log%28LOG.VIEWABLED%29%3B%0D%0A%20%20%20%20%20%20%20%20%7D%3B%0D%0A%0D%0A%20%20%20%20%20%20%20%20gladSdkBridge.setEventListeners%28eventList%29%3B%0D%0A%20%20%20%20%7D%29%28%0D%0A%20%20%20%20%20%20%20%20window.naver_corp_da%20%7C%7C%20%7B%7D%2C%0D%0A%20%20%20%20%20%20%20%20window.gladBridge%0D%0A%20%20%20%20%29%3B%0D%0A%3C%2Fscript%3E\",\"encoded\":1,\"responseSize\":{\"height\":130,\"width\":830,\"force\":0},\"template\":\"%3C%21doctype%20html%3E%3Chtml%3E%3Chead%3E%3Cmeta%20name%3D%22viewport%22%20content%3D%22width%3Ddevice-width%2C%20user-scalable%3Dno%22%2F%3E%3Cstyle%20data-gfp-role%3D%22adMarkLegacyStyle%22%3E%5Bdata-gfp-role%3D%22adMarkLegacy%22%5D%20%7Bdisplay%3A%20none%3B%7D%3C%2Fstyle%3E%3Cscript%3Ewindow.gladBridge%20%3D%20%7BRUNTIME%3A%20%22InApp%22%7D%3B%3C%2Fscript%3E%3C%2Fhead%3E%3Cbody%20style%3D%22margin%3A%200%3B%20padding%3A%200%22%3E%7B%7Badm%7D%7D%3Cscript%20src%3D%22https%3A%2F%2Fssl.pstatic.net%2Ftveta%2Flibs%2Fglad_admute%2Fprod%2Fglad-admute.js%22%3E%3C%2Fscript%3E%3Cscript%3Econst%20adMuteOptions%20%3D%20%7BmuteUrl%3A%20%22%25%25MUTE_URL%25%25%22%2C%20privacyUrl%3A%20%22%25%25PRIV_URL%25%25%22%2C%20creativeType%3A%20%22BANNER%22%2C%20runtimeType%3A%20%22InApp%22%7D%3B%20window.gladAdMute.checkAdMarkLegacyStyle%28adMuteOptions%29%3B%20const%20adMuteController%20%3D%20window.gladAdMute.createAdMuteController%28adMuteOptions%29%3B%20adMuteController.render%28%29%3B%3C%2Fscript%3E%3C%2Fbody%3E%3C%2Fhtml%3E\"}},{\"encrypted\":\"g9BBp-CjM0TAW4uWUZBcxKAxGIrRZUmp8-UUa07y_DmtQjWqm14v95Alvm-2mQKYAjYuWITtV_gzC_dWQC4EROlbHuGllxzloBmExQh9pjmH2WDFaLLl2YFd450oBOXPjb1RZSvIw6kdxvMJaDf1BmJNTBbO7ygQtDjWGH4C0LwTfVwRhnmJauaAK9_C87fX3RKkBf3dBx_O1KOW2Qpa_jI3__0_-sg8Jwn6LIm4O9ZildhsSCSF-fQNKzCQU8tLrS-Sgc51djd7hL7_6YSXdSgsa36RPMyuakKjHy69ayuFmHgj3h8fcXcoOR6RgfZhz8EdSOHqdTHHwuZYwHl0LWcsNm_o6pQ1qT0jNKIE3keWT3Tusg3tWtt6Wd3KbWHf3ADbfC7PT-SgQbNSGuwSCKLMxf46740_znzrawWRLTMiClBOJbkNmtQQSdB_tLpo0vXHDqTKBPBFyIWBmquGO2rSJAfiwri_liX3Vdlarph9CiKwwfnhbQI4f88tijGI\",\"connectionType\":\"S2S\",\"adProviderName\":\"GFP\",\"layoutType\":\"FLUID\",\"creativeType\":\"BANNER\",\"renderType\":\"EMPTY\",\"eventTracking\":{\"ackImpressions\":[],\"attached\":[],\"activeViewImpressions\":[{\"url\":\"https://siape.veta.naver.com/openrtb/nbimp?oj=cQgn6aire5OvlfSpTiT%2FgnBGhFHCMlLw%2BMUwi%2Fk7%2BGjfikt9ly4w0cBhIUSCGqN4JL1qM2Pf%2Falq42SUzWZJtPzq%2BXCI4fuVrkgHtm1JforIBWexIpibH0plqdgUSG%2BUXrQSw%2B%2FX1bbNCF9%2F110BZDp0hCNKO%2BcHo2M9jEOAPSLbaIdXv9YIFqKzdZWOwZvbdMAtSn%2B9Id4vH4MuGzFJiErLLp1Ox71Vg1K%2FFXnNMQA\\\\u0026rk=qwN3leh3djpGfpwj3xq3Ww\\\\u0026eltts=ugAygrBZXVxv5FvhiBHcPA%3D%3D\"}],\"renderedImpressions\":[],\"viewableImpressions\":[{\"url\":\"https://siape.veta.naver.com/openrtb/nbimp?oj=cQgn6aire5OvlfSpTiT%2FgnBGhFHCMlLw%2BMUwi%2Fk7%2BGjfikt9ly4w0cBhIUSCGqN4JL1qM2Pf%2Falq42SUzWZJtPzq%2BXCI4fuVrkgHtm1JforIBWexIpibH0plqdgUSG%2BUXrQSw%2B%2FX1bbNCF9%2F110BZDp0hCNKO%2BcHo2M9jEOAPSLbaIdXv9YIFqKzdZWOwZvbdMAtSn%2B9Id4vH4MuGzFJiErLLp1Ox71Vg1K%2FFXnNMQA\\\\u0026rk=qwN3leh3djpGfpwj3xq3Ww\\\\u0026eltts=ugAygrBZXVxv5FvhiBHcPA%3D%3D\"}],\"clicks\":[],\"vimp1px\":[],\"vimp100\":[],\"vimp100p\":[],\"admute\":[],\"advmute\":[],\"like\":[],\"unlike\":[],\"close\":[],\"bounce\":[]},\"adInfo\":{\"responseSize\":{\"height\":0,\"width\":0}}}],\"config\":{\"imp\":{\"ratio\":100,\"ms\":0}}},\"additionalInfo\":{\"adCount\":1,\"adDuplicate\":{\"advertiserDomains\":[\"belabef.com\"],\"adDuplicationKeys\":[\"URL:https://belabef.com\"]},\"adSize\":{\"h\":130,\"w\":830}}}\\n</script> <div id=\"wrap\"> <div id=\"header\" role=\"banner\"> <div id=\"topSearchWrap\" class=\"header_inner\"> <div id=\"special-logo\" class=\"search_special_bg\"></div> <div id=\"timeboard-ex\" class=\"ad_area\" style=\"min-width:1340px\"> </div> <div id=\"search_area\" class=\"search_area\" style=\"border-color:#fff\"> <div id=\"special-input-logo-ex\" class=\"link_search_special\" style=\"display:none\"></div> <div class=\"search_group\"> <div id=\"search\" class=\"search_group_inner\"> <h1 id=\"special-input-logo\" class=\"search_logo\"></h1> <form id=\"sform\" name=\"search\" role=\"search\" action=\"https://search.naver.com/search.naver\" method=\"get\"> <fieldset> <legend class=\"blind\">검색</legend> <input type=\"hidden\" name=\"where\" value=\"nexearch\"/> <input type=\"hidden\" id=\"sm\" name=\"sm\" value=\"top_hty\"/> <input type=\"hidden\" id=\"fbm\" name=\"fbm\" value=\"0\"/> <input type=\"hidden\" id=\"acr\" name=\"acr\" value=\"\" disabled=\"disabled\"/> <input type=\"hidden\" id=\"acq\" name=\"acq\" value=\"\" disabled=\"disabled\"/> <input type=\"hidden\" id=\"qdt\" name=\"qdt\" value=\"\" disabled=\"disabled\"/> <input type=\"hidden\" id=\"ie\" name=\"ie\" value=\"utf8\"/> <input type=\"hidden\" id=\"acir\" name=\"acir\" value=\"\" disabled=\"disabled\"/> <input type=\"hidden\" id=\"os\" name=\"os\" value=\"\" disabled=\"disabled\"/> <input type=\"hidden\" id=\"bid\" name=\"bid\" value=\"\" disabled=\"disabled\"/> <input type=\"hidden\" id=\"pkid\" name=\"pkid\" value=\"\" disabled=\"disabled\"/> <input type=\"hidden\" id=\"eid\" name=\"eid\" value=\"\" disabled=\"disabled\"/> <input type=\"hidden\" id=\"mra\" name=\"mra\" value=\"\" disabled=\"disabled\"/> <div class=\"search_input_box\"> <input id=\"query\" name=\"query\" type=\"search\" title=\"검색어를 입력해 주세요.\" placeholder=\"검색어를 입력해 주세요.\" maxlength=\"255\" autocomplete=\"off\" class=\"search_input\" data-atcmp-element/> </div> <button type=\"submit\" class=\"btn_search\" onclick=\\'window.nclk_v2(this,\"sch.action\")\\'> <span class=\"ico_btn_search_svg\"> <svg id=\"search-btn\" viewBox=\"0 0 50 50\" xmlns=\"http://www.w3.org/2000/svg\"> <path d=\"M22.13.5c11.378 0 20.632 9.256 20.632 20.63 0 4.699-1.566 9.155-4.439 12.782l10.164 10.165a2.41 2.41 0 0 1-1.706 4.115 2.412 2.412 0 0 1-1.706-.705L33.31 35.719a2.41 2.41 0 0 1 0-3.41 15.71 15.71 0 0 0 4.628-11.178c0-8.718-7.09-15.808-15.807-15.808-8.718 0-15.808 7.09-15.808 15.808 0 7.15 4.817 13.43 11.714 15.273a2.41 2.41 0 0 1 1.705 2.954 2.41 2.41 0 0 1-2.95 1.705C7.788 38.658 1.5 30.46 1.5 21.131 1.5 9.756 10.756.5 22.13.5zm4.716 34.746a3.483 3.483 0 1 1 0 6.966 3.483 3.483 0 0 1 0-6.966z\"/> </svg> </span> <span class=\"blind\">검색</span> </button> </fieldset> </form> <div class=\"search_box\"> <button id=\"ke_kbd_btn\" type=\"button\" class=\"btn_keyboard\" aria-pressed=\"false\"> <span class=\"keybord_text\"> <span class=\"blind\">입력도구</span> </span> </button> <div id=\"_nx_kbd\" style=\"display:none\"></div> <button id=\"nautocomplete\" type=\"button\" class=\"btn_arrow\" data-atcmp-element> <span class=\"blind\">자동완성/최근검색어펼치기</span> </button> </div> <div class=\"layer_atcmp\" id=\"autoFrame\" style=\"display:none\"> <div class=\"ly_atcmp\" data-atcmp-element> <div class=\"api_atcmp_wrap\"> <div class=\"atcmp_fixer _recent_layer\" style=\"display:none\"> <div class=\"atcmp_header _recent_header\"> <strong class=\"tit\">최근 검색어</strong> <div class=\"option\"> <a role=\"button\" href=\"#\" class=\"item _delAll\" aria-pressed=\"false\">전체삭제</a> </div> </div> <div class=\"atcmp_container\"> <ul class=\"kwd_lst _recent\"></ul> <div class=\"kwd_info kwd_off _offMsg\" style=\"display:none\">검색어 저장 기능이 꺼져 있습니다.<br/><span class=\"kwd_dsc\">설정이 초기화 된다면 <a href=\"https://help.naver.com/alias/search/word/word_35.naver\" class=\"kwd_help\" data-clk=\"sly.help\" target=\"_blank\">도움말</a>을 확인해주세요.</span></div> <div class=\"kwd_info kwd_none _recentNone\" style=\"display:none\">최근 검색어 내역이 없습니다.<br/><span class=\"kwd_dsc\">설정이 초기화 된다면 <a href=\"https://help.naver.com/alias/search/word/word_35.naver\" class=\"kwd_help\" data-clk=\"sly.help\" target=\"_blank\">도움말</a>을 확인해주세요.</span></div> </div> <div class=\"atcmp_footer\"> <span class=\"side_opt_area\"> <span class=\"opt_item\"> <a href=\"#\" class=\"close _keywordOnOff\">자동저장 끄기</a> </span> <span class=\"opt_item\"><a href=\"https://help.naver.com/alias/search/word/word_35.naver\" data-clk=\"sly.help\" target=\"_blank\">도움말</a></span> </span> <span class=\"rside_opt_area\"> <span class=\"opt_item\"><a href=\"#\" class=\"close _close\">닫기</a></span> </span> </div> </div> <div class=\"atcmp_fixer _atcmp_layer\" style=\"display:none\"> <div class=\"atcmp_container _words\"> <ul class=\"kwd_lst _kwd_list\"></ul> <div class=\"atcmp_cue type_line _cue_root\"> <div class=\"cue_header\"><i class=\"imgsvg ico_cue\">CUE</i>대화하듯 질문해 보세요<a href=\"#\" role=\"button\" class=\"btn_help _tg_btn\" aria-pressed=\"false\"><i class=\"imgsvg ico_alert\">이 정보가 표시된 이유</i></a> <div class=\"layer_plus\"> <p class=\"dsc\">검색어와 포함된 키워드를 기반으로 AI 기술을 활용하여 연관된 추천 질문을 제공합니다.</p> <a href=\"#\" role=\"button\" class=\"btn_close _tg_btn\"><i class=\"imgsvg ico_close\">레이어 닫기</i></a> </div> </div> <ul class=\"cue_list _ul\"></ul> </div> <div class=\"atcmp_alert _alert\"> <div class=\"dsc_election\"> <p class=\"dsc\"> <i class=\"imgsvg ico_election\"></i> <span class=\"_alert_passage\"></span> </p> <span class=\"dsc_inner\"> <span class=\"_alert_passage2\"></span> <a href=\"#\" class=\"link _alert_link\" target=\"_blank\">자세히보기</a> </span> </div> </div> <div class=\"atcmp_plus _plus\"> <div class=\"dsc_plus\"> <a href=\"https://help.naver.com/alias/search/word/word_16.naver\" class=\"link_dsc\" data-clk=\"sug.cxhelp\" target=\"_blank\">관심사를 반영한 컨텍스트 자동완성<i class=\"imgsvg ico_help\">도움말</i></a> </div> <div class=\"switch\"> <a role=\"button\" href=\"#\" class=\"bt_switch active _plus_btn\" aria-pressed=\"false\"><i class=\"imgsvg ico_option\">컨텍스트 자동완성</i></a> </div> <div class=\"layer_plus _plus_layer\"> <strong class=\"tit\">컨텍스트 자동완성</strong> <div class=\"_plus_layer_isloggedin\" style=\"display:none\"> <p class=\"dsc\">ON/OFF 설정은 해당기기(브라우저)에 저장됩니다.</p> <div class=\"btn_area\"> <a href=\"https://help.naver.com/alias/search/word/word_16.naver\" class=\"link_view\" data-clk=\"sug.cxlink\" target=\"_blank\">자세히 보기</a> </div> </div> <div class=\"_plus_layer_isnotloggedin\" style=\"display:none\"> <p class=\"dsc\">동일한 시간대・연령대・남녀별 사용자 그룹의 관심사에 맞춰 자동완성을 제공합니다. <a href=\"https://help.naver.com/support/alias/search/word/word_16.naver\" class=\"link_view\" data-clk=\"sug.cxlink\" target=\"_blank\">자세히 보기</a> </p> <div class=\"btn_area\"> <a href=\"https://nid.naver.com/nidlogin.login\" class=\"btn btn_login\" data-clk=\"sug.cxlogin\"><i class=\"imgsvg ico_naver\">네이버</i>로그인</a> </div> </div> <a href=\"#\" role=\"button\" class=\"btn_close _plus_layer_close\"><i class=\"imgsvg ico_close\">컨텍스트 자동완성 레이어 닫기</i></a> </div> </div> </div> <div class=\"atcmp_footer\"> <span class=\"side_opt_area\"> <span class=\"opt_item\"> <a href=\"#\" class=\"close _suggestOnOff\">자동완성 끄기</a> </span> <span class=\"opt_item\"><a href=\"https://help.naver.com/alias/search/word/word_17.naver\" data-clk=\"sug.help\" target=\"_blank\">도움말</a></span> <span class=\"opt_item\"><a href=\"https://help.naver.com/alias/search/word/word_18.naver\" class=\"report\" data-clk=\"sug.report\" target=\"_blank\">신고</a></span> </span> <span class=\"rside_opt_area\"> <span class=\"opt_item\"><a href=\"#\" class=\"close _close\">닫기</a></span> </span> </div> </div> </div> </div> </div> </div> </div> </div> <div id=\"search-right-banner\"></div> <div id=\"shortcutArea\" class=\"shortcut_area\" role=\"navigation\" aria-label=\"주요 서비스\"></div> <div id=\"topAsideArea\" class=\"menu_area\"></div> <div id=\"topPayArea\" class=\"pay_area\"></div> <div id=\"topTalkArea\" class=\"talk_area\"></div> <div id=\"topNotiArea\" class=\"notify_area\"></div> </div> </div> <div id=\"container\" role=\"main\"> <div id=\"root\"></div> </div> <div id=\"footer\" role=\"contentinfo\"></div> </div>      <script> window[\\'EAGER-DATA\\'] = window[\\'EAGER-DATA\\'] || {};\\n        window[\\'EAGER-DATA\\'][\\'GV\\'] = {\\n            svt: \\'20240228141100\\',  }; </script> <script>!function(){function t(t){var e=document.getElementById(\"search_area\"),n=document.getElementById(\"search-btn\");if(!t)return e&&e.removeAttribute(\"style\"),void(n&&n.setAttribute(\"style\",\"fill: #03c75a\"));e&&e.setAttribute(\"style\",\"border-color: \"+t),n&&n.setAttribute(\"class\",\"ico_btn_search type_color\"),n&&n.setAttribute(\"style\",\"fill: \"+t)}var e=window[\"EAGER-DATA\"][\"CAS-MINICONTENT-PC-SPECIAL-LOGO\"];if(!e||!e.items||e.items.length>0==!1)return void t();var n=Math.floor(Math.random()*e.items.length),i=e.items[n];e.items=[i],t(i&&i.content&&i.content.input&&i.content.input.color);const l=document.getElementById(\"search\");l&&l.classList.add(\"type_special_logo_full\"),window.addEventListener(\"header-sticky-state-change\",(()=>{var t;(t=document.getElementById(\"header\"))&&t.classList.contains(\"ani_fixed\")?l&&l.classList.remove(\"type_special_logo_full\"):l&&l.classList.add(\"type_special_logo_full\")}));var s=i&&i.content&&i.content.input&&i.content.input.placeholder;if(s){var o=document.getElementById(\"query\");o&&s&&o.setAttribute(\"title\",s),o&&s&&o.setAttribute(\"placeholder\",s)}}()</script> </body> </html> '"
      ]
     },
     "execution_count": 74,
     "metadata": {},
     "output_type": "execute_result"
    }
   ],
   "source": [
    "# 간단한 GET 요청: 웹 페이지의 내용을 가져옵니다.\n",
    "import requests\n",
    "response = requests.get(\"http://www.naver.com\")\n",
    "response.text"
   ]
  },
  {
   "cell_type": "code",
   "execution_count": 75,
   "metadata": {},
   "outputs": [
    {
     "data": {
      "text/plain": [
       "{'title': 'python', 'major': 'backend'}"
      ]
     },
     "execution_count": 75,
     "metadata": {},
     "output_type": "execute_result"
    }
   ],
   "source": [
    "data ={\"title\":\"python\",\"major\":\"backend\"}\n",
    "data"
   ]
  },
  {
   "cell_type": "code",
   "execution_count": 79,
   "metadata": {},
   "outputs": [
    {
     "name": "stdout",
     "output_type": "stream",
     "text": [
      "https://httpbin.org/get?title=python&major=backend\n"
     ]
    },
    {
     "data": {
      "text/plain": [
       "<Response [200]>"
      ]
     },
     "execution_count": 79,
     "metadata": {},
     "output_type": "execute_result"
    }
   ],
   "source": [
    "# 쿼리 파라미터를 포함한 GET 요청: URL에 쿼리 파라미터를 추가하여 요청합니다.\n",
    "import requests\n",
    "payload = {'key1': 'value1', 'key2': 'value2'}\n",
    "response = requests.get('https://httpbin.org/get', params=data)\n",
    "print(response.url)  # 요청한 URL 출력\n",
    "response"
   ]
  },
  {
   "cell_type": "code",
   "execution_count": 84,
   "metadata": {},
   "outputs": [],
   "source": [
    "# POST 요청: 데이터를 서버에 전송합니다.\n",
    "reponse = requests.post('https://httpbin.org/post', data=data) #"
   ]
  },
  {
   "cell_type": "code",
   "execution_count": 86,
   "metadata": {},
   "outputs": [
    {
     "name": "stdout",
     "output_type": "stream",
     "text": [
      "{\n",
      "  \"args\": {\n",
      "    \"major\": \"backend\", \n",
      "    \"title\": \"python\"\n",
      "  }, \n",
      "  \"headers\": {\n",
      "    \"Accept\": \"*/*\", \n",
      "    \"Accept-Encoding\": \"gzip, deflate\", \n",
      "    \"Host\": \"httpbin.org\", \n",
      "    \"User-Agent\": \"python-requests/2.31.0\", \n",
      "    \"X-Amzn-Trace-Id\": \"Root=1-65dec106-4e768ffe2a10c3a123a31a80\"\n",
      "  }, \n",
      "  \"origin\": \"119.192.57.117\", \n",
      "  \"url\": \"https://httpbin.org/get?title=python&major=backend\"\n",
      "}\n",
      "\n"
     ]
    }
   ],
   "source": [
    "print(response.text)"
   ]
  },
  {
   "cell_type": "code",
   "execution_count": null,
   "metadata": {},
   "outputs": [],
   "source": [
    "reponse[\"args\"]"
   ]
  },
  {
   "cell_type": "code",
   "execution_count": 90,
   "metadata": {},
   "outputs": [
    {
     "name": "stdout",
     "output_type": "stream",
     "text": [
      "{\"message\":\"Not Found\",\"documentation_url\":\"https://docs.github.com/rest\"}\n"
     ]
    }
   ],
   "source": [
    "# JSON 데이터를 포함한 POST 요청: JSON 형식의 데이터를 서버에 전송합니다.\n",
    "import requests\n",
    "import json\n",
    "payload = {'some': 'data'}\n",
    "response = requests.post('https://api.github.com/some/endpoint', json=payload)\n",
    "print(response.text)"
   ]
  },
  {
   "cell_type": "code",
   "execution_count": 89,
   "metadata": {},
   "outputs": [
    {
     "data": {
      "text/plain": [
       "{'args': {'major': 'backend', 'title': 'python'},\n",
       " 'headers': {'Accept': '*/*',\n",
       "  'Accept-Encoding': 'gzip, deflate',\n",
       "  'Host': 'httpbin.org',\n",
       "  'User-Agent': 'python-requests/2.31.0',\n",
       "  'X-Amzn-Trace-Id': 'Root=1-65dec106-4e768ffe2a10c3a123a31a80'},\n",
       " 'origin': '119.192.57.117',\n",
       " 'url': 'https://httpbin.org/get?title=python&major=backend'}"
      ]
     },
     "execution_count": 89,
     "metadata": {},
     "output_type": "execute_result"
    }
   ],
   "source": [
    "# 응답 내용을 JSON으로 파싱: 응답을 JSON 객체로 변환합니다.\n",
    "response_result = response.json()\n",
    "response_result"
   ]
  },
  {
   "cell_type": "code",
   "execution_count": 91,
   "metadata": {},
   "outputs": [
    {
     "name": "stdout",
     "output_type": "stream",
     "text": [
      "{'User-Agent': 'My User Agent 1.0', 'Accept-Encoding': 'gzip, deflate', 'Accept': '*/*', 'Connection': 'keep-alive'}\n"
     ]
    }
   ],
   "source": [
    "# 커스텀 헤더를 포함한 요청: 요청에 커스텀 HTTP 헤더를 추가합니다.\n",
    "import requests\n",
    "headers = {'User-Agent': 'My User Agent 1.0'}\n",
    "response = requests.get('https://api.github.com', headers=headers)\n",
    "print(response.request.headers)  # 요청에 사용된 헤더 출력"
   ]
  },
  {
   "cell_type": "code",
   "execution_count": 92,
   "metadata": {},
   "outputs": [
    {
     "name": "stdout",
     "output_type": "stream",
     "text": [
      "200\n"
     ]
    }
   ],
   "source": [
    "# 응답 상태 코드 확인: 요청에 대한 응답의 상태 코드를 확인합니다\n",
    "import requests\n",
    "response = requests.get('https://api.github.com')\n",
    "print(response.status_code)  # 응답 상태 코드 출력"
   ]
  },
  {
   "cell_type": "code",
   "execution_count": 93,
   "metadata": {},
   "outputs": [
    {
     "name": "stdout",
     "output_type": "stream",
     "text": [
      "The request timed out\n"
     ]
    }
   ],
   "source": [
    "# 타임아웃 설정: 요청에 타임아웃을 설정합니다.\n",
    "import requests\n",
    "try:\n",
    "    response = requests.get('https://api.github.com', timeout=0.001)\n",
    "except requests.exceptions.Timeout:\n",
    "    print(\"The request timed out\")"
   ]
  },
  {
   "cell_type": "code",
   "execution_count": 94,
   "metadata": {},
   "outputs": [
    {
     "name": "stdout",
     "output_type": "stream",
     "text": [
      "{\n",
      "  \"cookies\": {\n",
      "    \"sessioncookie\": \"123456789\"\n",
      "  }\n",
      "}\n",
      "\n"
     ]
    }
   ],
   "source": [
    "# 세션을 사용한 요청: 세션 객체를 사용하여 여러 요청에 걸쳐 쿠키를 유지합니다\n",
    "import requests\n",
    "with requests.Session() as session:\n",
    "    session.get('https://httpbin.org/cookies/set/sessioncookie/123456789')\n",
    "    response = session.get('https://httpbin.org/cookies')\n",
    "    print(response.text)"
   ]
  },
  {
   "attachments": {},
   "cell_type": "markdown",
   "metadata": {},
   "source": [
    "# math"
   ]
  },
  {
   "cell_type": "code",
   "execution_count": 95,
   "metadata": {},
   "outputs": [
    {
     "name": "stdout",
     "output_type": "stream",
     "text": [
      "4\n",
      "3\n",
      "3\n",
      "3\n"
     ]
    }
   ],
   "source": [
    "# 반올림: 실수 값을 가장 가까운 정수로 반올림합니다.\n",
    "import math\n",
    "print(math.ceil(2.3))  # 올림\n",
    "print(math.floor(2.7)) # 내림\n",
    "print(math.trunc(2.7)) # 소수점 이하 버림\n",
    "print(round(2.7))      # 가장 가까운 정수로 반올림"
   ]
  },
  {
   "cell_type": "code",
   "execution_count": 96,
   "metadata": {},
   "outputs": [
    {
     "name": "stdout",
     "output_type": "stream",
     "text": [
      "2.718281828459045\n",
      "0.999999327347282\n",
      "2.0\n",
      "8.0\n"
     ]
    }
   ],
   "source": [
    "# 지수와 로그: 지수 함수와 로그 함수를 계산합니다.\n",
    "import math\n",
    "print(math.exp(1))   # e^1\n",
    "print(math.log(2.71828)) # 기본적으로 자연로그\n",
    "print(math.log10(100))  # 밑이 10인 로그\n",
    "print(math.pow(2, 3))   # 2의 3승"
   ]
  },
  {
   "cell_type": "code",
   "execution_count": 98,
   "metadata": {},
   "outputs": [
    {
     "data": {
      "text/plain": [
       "3.141592653589793"
      ]
     },
     "execution_count": 98,
     "metadata": {},
     "output_type": "execute_result"
    }
   ],
   "source": [
    "math.pi"
   ]
  },
  {
   "cell_type": "code",
   "execution_count": 97,
   "metadata": {},
   "outputs": [
    {
     "name": "stdout",
     "output_type": "stream",
     "text": [
      "1.0\n",
      "1.0\n",
      "0.9999999999999999\n"
     ]
    }
   ],
   "source": [
    "# 삼각 함수: 삼각 함수 계산에 사용됩니다.\n",
    "import math\n",
    "print(math.sin(math.pi/2))\n",
    "print(math.cos(0))\n",
    "print(math.tan(math.pi/4))"
   ]
  },
  {
   "cell_type": "code",
   "execution_count": null,
   "metadata": {},
   "outputs": [],
   "source": [
    "# 하이퍼볼릭 함수: 하이퍼볼릭 삼각 함수를 계산합니다.\n",
    "import math\n",
    "print(math.sinh(0))\n",
    "print(math.cosh(0))\n",
    "print(math.tanh(1))"
   ]
  },
  {
   "cell_type": "code",
   "execution_count": 99,
   "metadata": {},
   "outputs": [
    {
     "name": "stdout",
     "output_type": "stream",
     "text": [
      "3.141592653589793\n",
      "2.718281828459045\n"
     ]
    }
   ],
   "source": [
    "# 수학적 상수: π(파이)와 e(자연로그의 밑) 같은 수학적 상수에 접근합니다.\n",
    "import math\n",
    "print(math.pi)\n",
    "print(math.e)"
   ]
  },
  {
   "cell_type": "code",
   "execution_count": 100,
   "metadata": {},
   "outputs": [
    {
     "name": "stdout",
     "output_type": "stream",
     "text": [
      "120\n",
      "12\n",
      "4.0\n"
     ]
    }
   ],
   "source": [
    "# 복잡한 수학적 계산: 팩토리얼, 최대공약수, 소수점 이하 절삭 등의 계산을 수행합니다.\n",
    "import math\n",
    "print(math.factorial(5))  # 5!\n",
    "print(math.gcd(36, 60))   # 최대공약수\n",
    "print(math.sqrt(16))      # 제곱근"
   ]
  },
  {
   "attachments": {},
   "cell_type": "markdown",
   "metadata": {},
   "source": [
    "# collections"
   ]
  },
  {
   "cell_type": "code",
   "execution_count": 101,
   "metadata": {},
   "outputs": [
    {
     "name": "stdout",
     "output_type": "stream",
     "text": [
      "Counter({'blue': 2, 'red': 2, 'yellow': 1})\n"
     ]
    }
   ],
   "source": [
    "# Counter: 요소의 개수를 셀 때 사용됩니다.\n",
    "from collections import Counter\n",
    "colors = ['blue', 'blue', 'red', 'red', 'yellow']\n",
    "count = Counter(colors)\n",
    "print(count)  # 각 요소의 개수를 세어줍니다."
   ]
  },
  {
   "cell_type": "code",
   "execution_count": 102,
   "metadata": {},
   "outputs": [
    {
     "data": {
      "text/plain": [
       "Counter({'데이터': 3,\n",
       "         'collections': 2,\n",
       "         '모듈은': 2,\n",
       "         '다양한': 2,\n",
       "         '컨테이너': 2,\n",
       "         '수': 2,\n",
       "         'Python의': 1,\n",
       "         '타입을': 1,\n",
       "         '제공합니다.': 1,\n",
       "         '이': 1,\n",
       "         '일반적인': 1,\n",
       "         '구조를': 1,\n",
       "         '효율적으로': 1,\n",
       "         '사용할': 1,\n",
       "         '있게': 1,\n",
       "         '해주며,': 1,\n",
       "         '애플리케이션에서': 1,\n",
       "         '처리를': 1,\n",
       "         '최적화할': 1,\n",
       "         '있도록': 1,\n",
       "         '돕습니다.': 1,\n",
       "         '다음은': 1,\n",
       "         '모듈의': 1,\n",
       "         '주요': 1,\n",
       "         '타입에': 1,\n",
       "         '대한': 1,\n",
       "         '활용': 1,\n",
       "         '사례와': 1,\n",
       "         '예제': 1,\n",
       "         '코드입니다.': 1})"
      ]
     },
     "execution_count": 102,
     "metadata": {},
     "output_type": "execute_result"
    }
   ],
   "source": [
    "text = \"Python의 collections 모듈은 다양한 컨테이너 데이터 타입을 제공합니다. 이 모듈은 일반적인 데이터 구조를 효율적으로 사용할 수 있게 해주며, 다양한 애플리케이션에서 데이터 처리를 최적화할 수 있도록 돕습니다. 다음은 collections 모듈의 주요 컨테이너 타입에 대한 활용 사례와 예제 코드입니다.\"\n",
    "word_list = text.split(\" \")\n",
    "count = Counter(word_list)\n",
    "count"
   ]
  },
  {
   "cell_type": "code",
   "execution_count": 1,
   "metadata": {},
   "outputs": [
    {
     "name": "stdout",
     "output_type": "stream",
     "text": [
      "파이썬: 1\n",
      "Counter: 1\n",
      "예제입니다.: 1\n",
      "Counter는: 1\n",
      "텍스트에서: 1\n",
      "단어의: 1\n",
      "빈도를: 1\n",
      "분석하는: 1\n",
      "데: 1\n",
      "유용합니다.: 1\n"
     ]
    }
   ],
   "source": [
    "from collections import Counter\n",
    "\n",
    "text = \"파이썬 Counter 예제입니다. Counter는 텍스트에서 단어의 빈도를 분석하는 데 유용합니다.\"\n",
    "\n",
    "# Counter 객체 생성\n",
    "counter = Counter(text.split())\n",
    "\n",
    "# 단어 빈도 출력\n",
    "for word, count in counter.most_common():\n",
    "    print(f\"{word}: {count}\")"
   ]
  },
  {
   "cell_type": "code",
   "execution_count": 104,
   "metadata": {},
   "outputs": [
    {
     "name": "stdout",
     "output_type": "stream",
     "text": [
      "1\n"
     ]
    }
   ],
   "source": [
    "# defaultdict: 존재하지 않는 키에 대해 기본 값을 제공하는 딕셔너리입니다.\n",
    "from collections import defaultdict\n",
    "d = defaultdict(int)\n",
    "d['a'] += 1 # d['a'] = d['a']+1\n",
    "print(d['a'])  # 존재하지 않는 키 'a'에 대해 int()를 호출하여 0을 반환한 후 1을 더합니다."
   ]
  },
  {
   "cell_type": "code",
   "execution_count": 2,
   "metadata": {},
   "outputs": [
    {
     "name": "stdout",
     "output_type": "stream",
     "text": [
      " : 2\n",
      "파: 1\n",
      "이: 1\n",
      "썬: 1\n",
      "C: 1\n",
      "o: 1\n",
      "u: 1\n",
      "n: 1\n",
      "t: 1\n",
      "e: 1\n",
      "r: 1\n",
      "예: 1\n",
      "제: 1\n",
      "입: 1\n",
      "니: 1\n",
      "다: 1\n",
      ".: 1\n"
     ]
    }
   ],
   "source": [
    "text = \"파이썬 Counter 예제입니다.\"\n",
    "\n",
    "# Counter 객체 생성\n",
    "counter = Counter(text)\n",
    "\n",
    "# 문자 빈도 출력\n",
    "for char, count in counter.most_common():\n",
    "    print(f\"{char}: {count}\")"
   ]
  },
  {
   "cell_type": "code",
   "execution_count": 103,
   "metadata": {},
   "outputs": [
    {
     "ename": "KeyError",
     "evalue": "'a'",
     "output_type": "error",
     "traceback": [
      "\u001b[1;31m---------------------------------------------------------------------------\u001b[0m",
      "\u001b[1;31mKeyError\u001b[0m                                  Traceback (most recent call last)",
      "Cell \u001b[1;32mIn[103], line 2\u001b[0m\n\u001b[0;32m      1\u001b[0m test_dict \u001b[39m=\u001b[39m {}\n\u001b[1;32m----> 2\u001b[0m test_dict[\u001b[39m'\u001b[39m\u001b[39ma\u001b[39m\u001b[39m'\u001b[39m] \u001b[39m+\u001b[39m\u001b[39m=\u001b[39m \u001b[39m1\u001b[39m\n",
      "\u001b[1;31mKeyError\u001b[0m: 'a'"
     ]
    }
   ],
   "source": [
    "test_dict = {}  # 일반딕셔너리는 기본적으로 초기값을 구성함\n",
    "test_dict['a'] += 1"
   ]
  },
  {
   "cell_type": "code",
   "execution_count": 106,
   "metadata": {},
   "outputs": [
    {
     "name": "stdout",
     "output_type": "stream",
     "text": [
      "defaultdict(<class 'list'>, {1: [(1, 2, 3, 4, 5, 6)]})\n"
     ]
    }
   ],
   "source": [
    "d = defaultdict(list)\n",
    "d[1].append((1,2,3,4,5,6))\n",
    "print(d)"
   ]
  },
  {
   "cell_type": "code",
   "execution_count": 4,
   "metadata": {},
   "outputs": [
    {
     "name": "stdout",
     "output_type": "stream",
     "text": [
      "['value1']\n",
      "['value2']\n",
      "defaultdict(<class 'list'>, {'key1': ['value1'], 'key2': ['value2']})\n"
     ]
    }
   ],
   "source": [
    "# \n",
    "from collections import defaultdict\n",
    "\n",
    "# 기본값 설정\n",
    "d = defaultdict(list)\n",
    "\n",
    "# 값 추가\n",
    "d['key1'].append('value1')\n",
    "d['key2'].append('value2')\n",
    "\n",
    "# 값 출력\n",
    "print(d['key1'])\n",
    "print(d['key2'])\n",
    "print(d)"
   ]
  },
  {
   "cell_type": "code",
   "execution_count": null,
   "metadata": {},
   "outputs": [],
   "source": [
    "d = defaultdict(lambda : 0)\n",
    "\n"
   ]
  },
  {
   "cell_type": "code",
   "execution_count": 8,
   "metadata": {},
   "outputs": [
    {
     "name": "stdout",
     "output_type": "stream",
     "text": [
      "20\n",
      "20\n"
     ]
    }
   ],
   "source": [
    "from collections import defaultdict\n",
    "\n",
    "# 기본값 설정\n",
    "# d = defaultdict(lambda: 15)\n",
    "\n",
    "# 값 추가\n",
    "d['key1'] += 1\n",
    "d['key2'] += 1\n",
    "\n",
    "d = defaultdict(lambda: 15)\n",
    "input1 = int(input(\"숫자입력: \"))\n",
    "d = defaultdict(lambda: input1)\n",
    "for i in range(input1):\n",
    "    \n",
    "    d['key1'] += 1\n",
    "    d['key2'] += 1\n",
    "# 값 출력\n",
    "print(d['key1'])\n",
    "print(d['key2'])"
   ]
  },
  {
   "cell_type": "code",
   "execution_count": 9,
   "metadata": {},
   "outputs": [
    {
     "name": "stdout",
     "output_type": "stream",
     "text": [
      "파이썬: 1\n",
      "defaultdict: 1\n",
      "예제입니다.: 1\n",
      "defaultdict는: 1\n",
      "딕셔너리에서: 1\n",
      "키가: 1\n",
      "없는: 1\n",
      "경우: 1\n",
      "기본값을: 1\n",
      "제공합니다.: 1\n"
     ]
    }
   ],
   "source": [
    "from collections import defaultdict\n",
    "\n",
    "# 텍스트 분석\n",
    "text = \"파이썬 defaultdict 예제입니다. defaultdict는 딕셔너리에서 키가 없는 경우 기본값을 제공합니다.\"\n",
    "\n",
    "# 단어 빈도 분석\n",
    "word_counts = defaultdict(int)\n",
    "for word in text.split():\n",
    "    word_counts[word] += 1\n",
    "\n",
    "# 결과 출력\n",
    "for word, count in word_counts.items():\n",
    "    print(f\"{word}: {count}\")\n"
   ]
  },
  {
   "cell_type": "code",
   "execution_count": 109,
   "metadata": {},
   "outputs": [
    {
     "name": "stdout",
     "output_type": "stream",
     "text": [
      "OrderedDict([('banana', 3), ('apple', 4), ('pear', 1)])\n"
     ]
    }
   ],
   "source": [
    "# OrderedDict: 삽입된 순서대로 키를 유지하는 딕셔너리입니다.\n",
    "from collections import OrderedDict\n",
    "d = OrderedDict()\n",
    "d['banana'] = 3\n",
    "d['apple'] = 4\n",
    "d['pear'] = 1\n",
    "print(d)  # 키가 삽입된 순서대로 출력됩니다.\n"
   ]
  },
  {
   "attachments": {},
   "cell_type": "markdown",
   "metadata": {},
   "source": [
    "#"
   ]
  },
  {
   "cell_type": "code",
   "execution_count": 111,
   "metadata": {},
   "outputs": [
    {
     "name": "stdout",
     "output_type": "stream",
     "text": [
      "0.09917717972632312\n",
      "61\n"
     ]
    }
   ],
   "source": [
    "import random\n",
    "\n",
    "# 0과 1 사이의 임의의 실수\n",
    "print(random.random())\n",
    "\n",
    "# 지정된 범위 내의 임의의 정수\n",
    "print(random.randint(1, 100))"
   ]
  },
  {
   "cell_type": "code",
   "execution_count": null,
   "metadata": {},
   "outputs": [],
   "source": []
  }
 ],
 "metadata": {
  "kernelspec": {
   "display_name": "Python 3",
   "language": "python",
   "name": "python3"
  },
  "language_info": {
   "codemirror_mode": {
    "name": "ipython",
    "version": 3
   },
   "file_extension": ".py",
   "mimetype": "text/x-python",
   "name": "python",
   "nbconvert_exporter": "python",
   "pygments_lexer": "ipython3",
   "version": "3.10.13"
  },
  "orig_nbformat": 4
 },
 "nbformat": 4,
 "nbformat_minor": 2
}
